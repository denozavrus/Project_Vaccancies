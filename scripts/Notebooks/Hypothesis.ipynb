{
 "cells": [
  {
   "cell_type": "markdown",
   "id": "9ac7cbe6",
   "metadata": {},
   "source": [
    "## Предобработка данных"
   ]
  },
  {
   "cell_type": "code",
   "execution_count": 112,
   "id": "6953874c",
   "metadata": {},
   "outputs": [],
   "source": [
    "import pandas as pd\n",
    "import os\n",
    "import re\n",
    "pd.set_option('display.max_rows', 500)\n",
    "import scipy\n",
    "from scipy.stats import skew\n",
    "from scipy.stats import kurtosis\n",
    "import math\n",
    "import matplotlib as mpl\n",
    "import matplotlib.pyplot as plt\n",
    "import seaborn as sns\n",
    "import numpy as np\n",
    "from sklearn import preprocessing\n",
    "import warnings\n",
    "warnings.filterwarnings(\"ignore\")"
   ]
  },
  {
   "cell_type": "code",
   "execution_count": 113,
   "id": "48bd5bd7",
   "metadata": {},
   "outputs": [],
   "source": [
    "df = pd.read_csv('../../data/final_data.csv')"
   ]
  },
  {
   "cell_type": "code",
   "execution_count": 114,
   "id": "42e06096",
   "metadata": {},
   "outputs": [],
   "source": [
    "df['salary_from'] = df['salary_from'].fillna(0)\n",
    "df['salary_to'] = df['salary_to'].fillna(0)\n",
    "df['salary'] = df.loc[:,'salary_from'] + df.loc[:,'salary_to']\n",
    "df.loc[(df.salary_from != 0) & (df.salary_to != 0), 'salary'] = df.salary / 2"
   ]
  },
  {
   "cell_type": "code",
   "execution_count": 115,
   "id": "44ef85c0",
   "metadata": {},
   "outputs": [],
   "source": [
    "df.loc[df.gross == False, 'salary'] = df.salary * 0.87"
   ]
  },
  {
   "cell_type": "code",
   "execution_count": 116,
   "id": "d4d4b47c",
   "metadata": {},
   "outputs": [],
   "source": [
    "df.dropna(axis = 0, subset = ['currency', 'gross'], inplace = True)"
   ]
  },
  {
   "cell_type": "code",
   "execution_count": 117,
   "id": "e5120edb",
   "metadata": {},
   "outputs": [],
   "source": [
    "df.drop(['raw', 'schedule', 'employer', 'salary_from', 'salary_to', 'gross'], axis = 1, inplace = True)"
   ]
  },
  {
   "cell_type": "code",
   "execution_count": 118,
   "id": "be170a7c",
   "metadata": {},
   "outputs": [],
   "source": [
    "df.drop('employment', axis = 1, inplace = True) "
   ]
  },
  {
   "cell_type": "code",
   "execution_count": 119,
   "id": "910b8d00",
   "metadata": {},
   "outputs": [
    {
     "data": {
      "text/plain": [
       "(30639, 11)"
      ]
     },
     "execution_count": 119,
     "metadata": {},
     "output_type": "execute_result"
    }
   ],
   "source": [
    "df.shape"
   ]
  },
  {
   "cell_type": "code",
   "execution_count": 120,
   "id": "9a25a7f6",
   "metadata": {},
   "outputs": [
    {
     "data": {
      "text/plain": [
       "premium                         0\n",
       "name                            0\n",
       "response_letter_required        0\n",
       "city                        10502\n",
       "latitude                    10367\n",
       "longtitude                  10367\n",
       "experience                      0\n",
       "skills                       5989\n",
       "has_test                        0\n",
       "currency                        0\n",
       "salary                          0\n",
       "dtype: int64"
      ]
     },
     "execution_count": 120,
     "metadata": {},
     "output_type": "execute_result"
    }
   ],
   "source": [
    "df.isna().sum()"
   ]
  },
  {
   "cell_type": "code",
   "execution_count": 121,
   "id": "7aa8fc42",
   "metadata": {},
   "outputs": [],
   "source": [
    "df = df.loc[~(df.salary == 0)]\n",
    "df = df.loc[~(df.latitude == 0)]\n",
    "df = df.loc[~(df.longtitude == 0)]\n",
    "df.loc[(df.salary < 1000) & (df.currency == 'RUR'), 'salary'] = df.loc[(df.salary < 1000) & (df.currency == 'RUR'), 'salary'] * 1000\n",
    "df.loc[df.currency == 'USD', 'salary'] = df.salary * 60\n",
    "df.loc[df.currency == 'EUR', 'salary'] = df.salary * 66\n",
    "df.loc[df.currency.isin(['EUR', 'USD']), 'currency'] = 'RUR'"
   ]
  },
  {
   "cell_type": "code",
   "execution_count": 122,
   "id": "7f275f36",
   "metadata": {},
   "outputs": [],
   "source": [
    "df.dropna(axis = 0, subset = ['latitude', 'longtitude'], inplace = True)"
   ]
  },
  {
   "cell_type": "code",
   "execution_count": 123,
   "id": "fff08dc9",
   "metadata": {
    "scrolled": true
   },
   "outputs": [
    {
     "data": {
      "text/plain": [
       "(20144, 11)"
      ]
     },
     "execution_count": 123,
     "metadata": {},
     "output_type": "execute_result"
    }
   ],
   "source": [
    "df.shape"
   ]
  },
  {
   "cell_type": "code",
   "execution_count": 124,
   "id": "3a55a427",
   "metadata": {},
   "outputs": [],
   "source": [
    "import pickle \n",
    "import matplotlib.path as mplPath"
   ]
  },
  {
   "cell_type": "code",
   "execution_count": 125,
   "id": "9777f4a8",
   "metadata": {},
   "outputs": [],
   "source": [
    "mapper = {\n",
    "\"Алтайский край\":\"Южно-Сибирский\",\n",
    "\"Республика Алтай\":\"Южно-Сибирский\",\n",
    "\"Курская область\":\"Центрально-Чернозёмный\",\n",
    "\"Тульская область\":\"Центральный\",\n",
    "\"Пермский край\":\"Волго-Камский\",\n",
    "\"Тверская область\":\"Центральный\",\n",
    "\"Липецкая область\":\"Центрально-Чернозёмный\",\n",
    "\"Орловская область\":\"Центральный\",\n",
    "\"Самарская область\":\"Волго-Уральский\",\n",
    "\"Кировская область\":\"Волго-Камский\",\n",
    "\"Брянская область\":\"Центральный\",\n",
    "\"Московская область\":\"Центральный\",\n",
    "\"Смоленская область\":\"Центральный\",\n",
    "\"Рязанская область\":\"Центральный\",\n",
    "\"Калужская область\":\"Центральный\",\n",
    "\"Тамбовская область\":\"Центрально-Чернозёмный\",\n",
    "\"Ростовская область\":\"Южный\",\n",
    "\"Республика Марий Эл\":\"Волго-Камский\",\n",
    "\"Курганская область\":\"Уральско-Сибирский\",\n",
    "\"Мурманская область\":\"Северно-Западный\",\n",
    "\"Республика агестан\":\"Северно-Кавказский\",\n",
    "\"Республика Карелия\":\"Северно-Западный\",\n",
    "\"Ивановская область\":\"Центральный\",\n",
    "\"Кемеровская область\":\"Южно-Сибирский\",\n",
    "\"Вологодская область\":\"Северно-Западный\",\n",
    "\"Магаданская область\":\"Дальневосточный\",\n",
    "\"Республика Татарстан\":\"Волго-Камский\",\n",
    "\"Воронежская область\":\"Центрально-Чернозёмный\",\n",
    "\"Белгородская область\":\"Центрально-Чернозёмный\",\n",
    "\"Ярославская область\":\"Центральный\",\n",
    "\"Ульяновская область\":\"Волго-Уральский\",\n",
    "\"Владимирская область\":\"Центральный\",\n",
    "\"Новосибирская область\":\"Южно-Сибирский\",\n",
    "\"Ленинградская область\":\"Северно-Западный\",\n",
    "\"Астраханская область\":\"Южный\",\n",
    "\"Удмуртская Республика\":\"Волго-Камский\",\n",
    "\"Архангельская область\":\"Северный\",\n",
    "\"Чувашская Республика\":\"Волго-Камский\",\n",
    "\"Республика Калмыкия\":\"Южный\",\n",
    "\"Республика Башкортостан\":\"Волго-Уральский\",\n",
    "\"Республика Саха (Якутия)\":\"Дальневосточный\",\n",
    "\"Кабардино-Балкарская Республика\":\"Северно-Кавказский\",\n",
    "\"Республика Северная Осетия-Алания\":\"Северно-Кавказский\",\n",
    "\"Республика Тыва\":\"Ангаро-Енисейский\",\n",
    "\"Карачаево-Черкесская Республика\":\"Северно-Кавказский\",\n",
    "\"Еврейская автономная область\":\"Дальневосточный\",\n",
    "\"Томская область\":\"Южно-Сибирский\",\n",
    "\"Амурская область\":\"Дальневосточный\",\n",
    "\"Пензенская область\":\"Волго-Уральский\",\n",
    "\"Республика Бурятия\":\"Дальневосточный\",\n",
    "\"Республика Хакасия\":\"Ангаро-Енисейский\",\n",
    "\"Республика Мордовия\":\"Волго-Камский\",\n",
    "\"Саратовская область\":\"Волго-Уральский\",\n",
    "\"Костромская область\":\"Центральный\",\n",
    "\"Республика Ингушетия\":\"Северно-Кавказский\",\n",
    "\"Чеченская Республика\":\"Северно-Кавказский\",\n",
    "\"Калининградская область\":\"Северно-Западный\",\n",
    "\"Псковская область\":\"Северно-Западный\",\n",
    "\"Республика Коми\":\"Северный\",\n",
    "\"Оренбургская область\":\"Волго-Уральский\",\n",
    "\"Новгородская область\":\"Северно-Западный\",\n",
    "\"Челябинская область\":\"Уральско-Сибирский\",\n",
    "\"Ставропольский край\":\"Северно-Кавказский\",\n",
    "\"Свердловская область\":\"Уральско-Сибирский\",\n",
    "\"Волгоградская область\":\"Южный\",\n",
    "\"Республика Адыгея\":\"Южный\",\n",
    "\"Ханты-Мансийский автономный округ\":\"Уральско-Сибирский\",\n",
    "\"Тюменская область\":\"Уральско-Сибирский\",\n",
    "\"Омская область\":\"Южно-Сибирский\",\n",
    "\"Приморский край\":\"Дальневосточный\",\n",
    "\"Хабаровский край\":\"Дальневосточный\",\n",
    "\"Сахалинская область\":\"Дальневосточный\",\n",
    "\"Чукотский автономный округ\":\"Дальневосточный\",\n",
    "\"Красноярский край\":\"Ангаро-Енисейский\",\n",
    "\"Иркутская область\":\"Ангаро-Енисейский\",\n",
    "\"Забайкальский край\":\"Дальневосточный\",\n",
    "\"Камчатский край\":\"Дальневосточный\",\n",
    "\"Ненецкий автономный округ\":\"Северный\",\n",
    "\"Ямало-Ненецкий автономный округ\":\"Уральско-Сибирский\",\n",
    "\"Республика Дагестан\":\"Северно-Кавказский\",\n",
    "\"Краснодарский край\":\"Южный\",\n",
    "\"Нижегородская область\":\"Волго-Камский\",\n",
    "\"Неизвестно\" : \"Неизвестно\" }"
   ]
  },
  {
   "cell_type": "code",
   "execution_count": 126,
   "id": "4b430fbe",
   "metadata": {},
   "outputs": [],
   "source": [
    "def convert_to_region(lat, long):\n",
    "    coord = np.array([lat, long])\n",
    "    for reg, area in loaded_dict.items():\n",
    "        if area.contains_point(coord):\n",
    "            return reg\n",
    "    \n",
    "    return 'Неизвестно'\n",
    "\n",
    "with open('../../data/saved_dictionary.pkl', 'rb') as f:\n",
    "    loaded_dict = pickle.load(f)\n",
    "    \n",
    "l = []\n",
    "for v in loaded_dict.values():\n",
    "    l.append(mplPath.Path(np.array(v['0'])))\n",
    "    \n",
    "loaded_dict = dict(zip(list(loaded_dict.keys()), l))\n",
    "df.loc[:, 'Region'] = df.apply(lambda x: convert_to_region(x.latitude, x.longtitude), axis = 1)\n",
    "\n",
    "df.loc[:, 'Region'] = df.loc[:, \"Region\"].map(mapper)"
   ]
  },
  {
   "cell_type": "code",
   "execution_count": 127,
   "id": "9164ce10",
   "metadata": {},
   "outputs": [],
   "source": [
    "df.loc[(df[\"city\"].isin([\"посёлок Русский\",\"Владивосток\",\"Артёмовский городской округ\",\n",
    "                        \"посёлок городского типа Забайкальск\",\"поселок городского типа Забайкальск\",\n",
    "                        \"городской округ Владивостокский\"])) & (df[\"Region\"] == 'Неизвестно'), \"Region\"] = \"Дальневосточный\"\n",
    "df.loc[(df[\"city\"].isin([\"посёлок городского типа Кореиз\",\"село Скворцово\",\"посёлок Розовый\",\n",
    "                        \"село Дубки\",\"Керчь\",\"посёлок Волна\",\"Анапа\",\"Евпатория\",\n",
    "                        \"Симферополь\", \"Ялта\", \"Севастополь\", \"Таганрог\", \n",
    "                        \"посёлок городского типа Сириус\", \"Новороссийск\",\"Дербент\",\n",
    "                        \"село Яблочное\",\"посёлок городского типа Гвардейское\",\"село Белоглинка\",\n",
    "                        \"Избербаш\",\"Махачкала\",\"Республика Крым\",\"посёлок городского типа Красногвардейское\",\n",
    "                        \"Сочи\",\"село Фонтаны\",])) & (df[\"Region\"] == 'Неизвестно'), \"Region\"] = \"Северно-Кавказский\"\n",
    "df.loc[(df[\"city\"].isin([\"Архангельск\",\"Полярный\"])) & (df[\"Region\"] == 'Неизвестно'), \"Region\"] = \"Северный\"\n",
    "df.loc[(df[\"city\"].isin([\"Санкт-Петербург\",\"Ломоносов\",\"Сосновый Бор\"]) & (df[\"Region\"] == 'Неизвестно')) , \"Region\"] = \"Северно-Западный\"\n",
    "df.loc[(df[\"city\"].isin([\"посёлок Новый\"])) & (df[\"Region\"] == 'Неизвестно'), \"Region\"] = \"Уральский\"\n",
    "\n",
    "df.loc[:, \"Region\"] = df['Region'].str.replace('^Уральский$','Северный и Уральский')\n",
    "df.loc[:, \"Region\"] = df['Region'].str.replace('^Северный$','Северный и Уральский')"
   ]
  },
  {
   "cell_type": "code",
   "execution_count": 128,
   "id": "acccb0ad",
   "metadata": {},
   "outputs": [],
   "source": [
    "skills = [i.split('_') for i in df.skills.astype(str)]"
   ]
  },
  {
   "cell_type": "code",
   "execution_count": 129,
   "id": "9ff21d48",
   "metadata": {
    "scrolled": false
   },
   "outputs": [],
   "source": [
    "skills = pd.Series([item for sublist in skills for item in sublist]).value_counts()"
   ]
  },
  {
   "cell_type": "code",
   "execution_count": 130,
   "id": "6f1a5fb4",
   "metadata": {},
   "outputs": [],
   "source": [
    "df.skills = df.skills.astype(str)"
   ]
  },
  {
   "cell_type": "code",
   "execution_count": 131,
   "id": "f5c33fa7",
   "metadata": {},
   "outputs": [],
   "source": [
    "for v in skills[1:54].index: \n",
    "    df.loc[:, v] = df.skills.str.contains(re.compile('(^|_)' + re.escape(v) + '(_|$)')).astype(int)"
   ]
  },
  {
   "cell_type": "code",
   "execution_count": 132,
   "id": "cc7a9665",
   "metadata": {},
   "outputs": [],
   "source": [
    "df.drop(['city', 'skills', 'premium', 'currency'], axis = 1, inplace = True)"
   ]
  },
  {
   "cell_type": "code",
   "execution_count": 133,
   "id": "6e2878fe",
   "metadata": {},
   "outputs": [],
   "source": [
    "df.to_csv('../../data/final_data_salary.csv', index = False)"
   ]
  },
  {
   "cell_type": "markdown",
   "id": "df35834e",
   "metadata": {},
   "source": [
    "## Анализ количественных признаков"
   ]
  },
  {
   "cell_type": "code",
   "execution_count": 134,
   "id": "f9ed3c6f",
   "metadata": {},
   "outputs": [],
   "source": [
    "df = pd.read_csv('../../data/final_data_salary.csv')"
   ]
  },
  {
   "cell_type": "code",
   "execution_count": 135,
   "id": "a1fa608d",
   "metadata": {},
   "outputs": [],
   "source": [
    "df_numeric = df.loc[:, ['latitude', 'longtitude', 'salary']]"
   ]
  },
  {
   "cell_type": "code",
   "execution_count": 136,
   "id": "6a239253",
   "metadata": {},
   "outputs": [
    {
     "data": {
      "text/html": [
       "<div>\n",
       "<style scoped>\n",
       "    .dataframe tbody tr th:only-of-type {\n",
       "        vertical-align: middle;\n",
       "    }\n",
       "\n",
       "    .dataframe tbody tr th {\n",
       "        vertical-align: top;\n",
       "    }\n",
       "\n",
       "    .dataframe thead th {\n",
       "        text-align: right;\n",
       "    }\n",
       "</style>\n",
       "<table border=\"1\" class=\"dataframe\">\n",
       "  <thead>\n",
       "    <tr style=\"text-align: right;\">\n",
       "      <th></th>\n",
       "      <th>latitude</th>\n",
       "      <th>longtitude</th>\n",
       "      <th>salary</th>\n",
       "    </tr>\n",
       "  </thead>\n",
       "  <tbody>\n",
       "    <tr>\n",
       "      <th>count</th>\n",
       "      <td>20144.000000</td>\n",
       "      <td>20144.000000</td>\n",
       "      <td>20144.000000</td>\n",
       "    </tr>\n",
       "    <tr>\n",
       "      <th>mean</th>\n",
       "      <td>55.031173</td>\n",
       "      <td>50.673507</td>\n",
       "      <td>68776.573470</td>\n",
       "    </tr>\n",
       "    <tr>\n",
       "      <th>std</th>\n",
       "      <td>4.115035</td>\n",
       "      <td>23.116306</td>\n",
       "      <td>44979.837912</td>\n",
       "    </tr>\n",
       "    <tr>\n",
       "      <th>min</th>\n",
       "      <td>23.608705</td>\n",
       "      <td>-117.780920</td>\n",
       "      <td>8700.000000</td>\n",
       "    </tr>\n",
       "    <tr>\n",
       "      <th>25%</th>\n",
       "      <td>54.197104</td>\n",
       "      <td>37.544997</td>\n",
       "      <td>40000.000000</td>\n",
       "    </tr>\n",
       "    <tr>\n",
       "      <th>50%</th>\n",
       "      <td>55.749451</td>\n",
       "      <td>39.807944</td>\n",
       "      <td>55000.000000</td>\n",
       "    </tr>\n",
       "    <tr>\n",
       "      <th>75%</th>\n",
       "      <td>56.837641</td>\n",
       "      <td>57.498475</td>\n",
       "      <td>82500.000000</td>\n",
       "    </tr>\n",
       "    <tr>\n",
       "      <th>max</th>\n",
       "      <td>69.496790</td>\n",
       "      <td>158.679625</td>\n",
       "      <td>522000.000000</td>\n",
       "    </tr>\n",
       "  </tbody>\n",
       "</table>\n",
       "</div>"
      ],
      "text/plain": [
       "           latitude    longtitude         salary\n",
       "count  20144.000000  20144.000000   20144.000000\n",
       "mean      55.031173     50.673507   68776.573470\n",
       "std        4.115035     23.116306   44979.837912\n",
       "min       23.608705   -117.780920    8700.000000\n",
       "25%       54.197104     37.544997   40000.000000\n",
       "50%       55.749451     39.807944   55000.000000\n",
       "75%       56.837641     57.498475   82500.000000\n",
       "max       69.496790    158.679625  522000.000000"
      ]
     },
     "execution_count": 136,
     "metadata": {},
     "output_type": "execute_result"
    }
   ],
   "source": [
    "df_numeric.describe()"
   ]
  },
  {
   "cell_type": "code",
   "execution_count": 137,
   "id": "e92775cc",
   "metadata": {},
   "outputs": [],
   "source": [
    "stats = []\n",
    "\n",
    "for (i, col) in enumerate(df_numeric.columns):\n",
    "    val = df_numeric[col]\n",
    "    \n",
    "    stats.append ([col, val.mean(), val.median(), val.min(), val.max(), val.std(), \n",
    "                     scipy.stats.skew(val, axis=0, bias=True), \n",
    "                     kurtosis(val, axis=0, bias=True), \n",
    "                     val.quantile(0.05), val.quantile(0.95), \n",
    "                     val.quantile(0.75) - val.quantile(0.25),\n",
    "                     0])"
   ]
  },
  {
   "cell_type": "code",
   "execution_count": 138,
   "id": "9bfcd1d5",
   "metadata": {},
   "outputs": [],
   "source": [
    "stats = pd.DataFrame(stats, columns=['Переменная', 'Среднее', 'Медиана', 'Минимум', 'Максимум', \n",
    "                                     'Ст. Отклонение', 'Асимметрия', 'Эксцесс', \n",
    "                                     '5% Проц', '95% Проц', 'Интерквартильный размах', 'Пропущенные наблюдения'])"
   ]
  },
  {
   "cell_type": "code",
   "execution_count": 139,
   "id": "777ff455",
   "metadata": {},
   "outputs": [
    {
     "data": {
      "text/html": [
       "<div>\n",
       "<style scoped>\n",
       "    .dataframe tbody tr th:only-of-type {\n",
       "        vertical-align: middle;\n",
       "    }\n",
       "\n",
       "    .dataframe tbody tr th {\n",
       "        vertical-align: top;\n",
       "    }\n",
       "\n",
       "    .dataframe thead th {\n",
       "        text-align: right;\n",
       "    }\n",
       "</style>\n",
       "<table border=\"1\" class=\"dataframe\">\n",
       "  <thead>\n",
       "    <tr style=\"text-align: right;\">\n",
       "      <th></th>\n",
       "      <th>Переменная</th>\n",
       "      <th>Среднее</th>\n",
       "      <th>Медиана</th>\n",
       "      <th>Минимум</th>\n",
       "      <th>Максимум</th>\n",
       "      <th>Ст. Отклонение</th>\n",
       "      <th>Асимметрия</th>\n",
       "      <th>Эксцесс</th>\n",
       "      <th>5% Проц</th>\n",
       "      <th>95% Проц</th>\n",
       "      <th>Интерквартильный размах</th>\n",
       "      <th>Пропущенные наблюдения</th>\n",
       "    </tr>\n",
       "  </thead>\n",
       "  <tbody>\n",
       "    <tr>\n",
       "      <th>0</th>\n",
       "      <td>latitude</td>\n",
       "      <td>55.031173</td>\n",
       "      <td>55.749451</td>\n",
       "      <td>23.608705</td>\n",
       "      <td>69.496790</td>\n",
       "      <td>4.115035</td>\n",
       "      <td>-0.999113</td>\n",
       "      <td>2.253621</td>\n",
       "      <td>45.049750</td>\n",
       "      <td>59.971695</td>\n",
       "      <td>2.640537</td>\n",
       "      <td>0</td>\n",
       "    </tr>\n",
       "    <tr>\n",
       "      <th>1</th>\n",
       "      <td>longtitude</td>\n",
       "      <td>50.673507</td>\n",
       "      <td>39.807944</td>\n",
       "      <td>-117.780920</td>\n",
       "      <td>158.679625</td>\n",
       "      <td>23.116306</td>\n",
       "      <td>1.800073</td>\n",
       "      <td>3.544598</td>\n",
       "      <td>30.307736</td>\n",
       "      <td>92.981642</td>\n",
       "      <td>19.953478</td>\n",
       "      <td>0</td>\n",
       "    </tr>\n",
       "    <tr>\n",
       "      <th>2</th>\n",
       "      <td>salary</td>\n",
       "      <td>68776.573470</td>\n",
       "      <td>55000.000000</td>\n",
       "      <td>8700.000000</td>\n",
       "      <td>522000.000000</td>\n",
       "      <td>44979.837912</td>\n",
       "      <td>2.418418</td>\n",
       "      <td>8.885286</td>\n",
       "      <td>26100.000000</td>\n",
       "      <td>156600.000000</td>\n",
       "      <td>42500.000000</td>\n",
       "      <td>0</td>\n",
       "    </tr>\n",
       "  </tbody>\n",
       "</table>\n",
       "</div>"
      ],
      "text/plain": [
       "   Переменная       Среднее       Медиана      Минимум       Максимум  \\\n",
       "0    latitude     55.031173     55.749451    23.608705      69.496790   \n",
       "1  longtitude     50.673507     39.807944  -117.780920     158.679625   \n",
       "2      salary  68776.573470  55000.000000  8700.000000  522000.000000   \n",
       "\n",
       "   Ст. Отклонение  Асимметрия   Эксцесс       5% Проц       95% Проц  \\\n",
       "0        4.115035   -0.999113  2.253621     45.049750      59.971695   \n",
       "1       23.116306    1.800073  3.544598     30.307736      92.981642   \n",
       "2    44979.837912    2.418418  8.885286  26100.000000  156600.000000   \n",
       "\n",
       "   Интерквартильный размах  Пропущенные наблюдения  \n",
       "0                 2.640537                       0  \n",
       "1                19.953478                       0  \n",
       "2             42500.000000                       0  "
      ]
     },
     "execution_count": 139,
     "metadata": {},
     "output_type": "execute_result"
    }
   ],
   "source": [
    "stats"
   ]
  },
  {
   "cell_type": "code",
   "execution_count": 140,
   "id": "7629ef4d",
   "metadata": {},
   "outputs": [
    {
     "data": {
      "image/png": "[encoded data removed]",
      "text/plain": [
       "<Figure size 864x720 with 1 Axes>"
      ]
     },
     "metadata": {
      "needs_background": "light"
     },
     "output_type": "display_data"
    }
   ],
   "source": [
    "fig, ax = plt.subplots(figsize=(12, 10))\n",
    "plt.hist(df.latitude, weights = np.ones_like(df.latitude) / len(df.latitude), bins = len(np.histogram_bin_edges(df.latitude, bins='sturges')) - 1) \n",
    "plt.ylabel('Относительная частота')\n",
    "plt.xlabel('Широта')\n",
    "ax.set_title('Распределение широты. Стерджес')\n",
    "\n",
    "plt.annotate('Выбросы', xy=(33, 0.01), xytext=(28, 0.085),\n",
    "             arrowprops={'arrowstyle':'->'}\n",
    "             ,horizontalalignment='center')\n",
    "\n",
    "plt.annotate('Ассиметрия влево', xy=(52, 0.2), xytext=(48, 0.35),\n",
    "             arrowprops={'arrowstyle':'->'}\n",
    "             ,horizontalalignment='center')\n",
    "\n",
    "ax.xaxis.set_ticks(np.arange(0, 80, 5))\n",
    "ax.yaxis.set_ticks(np.arange(0, 0.5, 0.05))\n",
    "\n",
    "ax.grid()\n",
    "plt.show()"
   ]
  },
  {
   "cell_type": "code",
   "execution_count": 141,
   "id": "ff732f32",
   "metadata": {},
   "outputs": [
    {
     "data": {
      "image/png": "[encoded data removed]",
      "text/plain": [
       "<Figure size 720x576 with 1 Axes>"
      ]
     },
     "metadata": {
      "needs_background": "light"
     },
     "output_type": "display_data"
    }
   ],
   "source": [
    "fig, ax = plt.subplots(figsize=(10, 8))\n",
    "plt.hist(df.longtitude, weights = np.ones_like(df.longtitude) / len(df.longtitude), \n",
    "         bins = len(np.histogram_bin_edges(df.longtitude, bins='sturges')) - 1) \n",
    "plt.ylabel('Относительная частота')\n",
    "plt.xlabel('Долгота')\n",
    "ax.set_title('Распределение долготы. Стерджес')\n",
    "\n",
    "plt.annotate('Выбросы', xy=(-110, 0.001), xytext=(-90, 0.08),\n",
    "             arrowprops={'arrowstyle':'->'}\n",
    "             ,horizontalalignment='center')\n",
    "\n",
    "plt.annotate('Ассиметрия влево', xy=(15, 0.20), xytext=(-50, 0.32),\n",
    "             arrowprops={'arrowstyle':'->'}\n",
    "             ,horizontalalignment='center')\n",
    "\n",
    "\n",
    "ax.yaxis.set_ticks(np.arange(0, 0.5, 0.05))\n",
    "\n",
    "ax.grid()\n",
    "plt.show()"
   ]
  },
  {
   "cell_type": "code",
   "execution_count": 142,
   "id": "c5182dac",
   "metadata": {},
   "outputs": [
    {
     "data": {
      "image/png": "[encoded data removed]",
      "text/plain": [
       "<Figure size 720x576 with 1 Axes>"
      ]
     },
     "metadata": {
      "needs_background": "light"
     },
     "output_type": "display_data"
    }
   ],
   "source": [
    "fig, ax = plt.subplots(figsize=(10, 8))\n",
    "\n",
    "plt.hist(df.salary, weights = np.ones_like(df.salary) / len(df.salary), \n",
    "         bins = len(np.histogram_bin_edges(df.salary, bins='sturges')) - 1)\n",
    "\n",
    "plt.ylabel('Относительная частота')\n",
    "plt.xlabel('Зарплата')\n",
    "ax.set_title('Распределение зарплаты. Стерджес')\n",
    "\n",
    "plt.annotate('Выбросы', xy=(320000, 0.01), xytext=(435000, 0.32),\n",
    "             arrowprops={'arrowstyle':'->'}\n",
    "             ,horizontalalignment='center')\n",
    "\n",
    "plt.annotate('', xy=(520000, 0.01), xytext=(430000, 0.315),\n",
    "             arrowprops={'arrowstyle':'->'}\n",
    "             ,horizontalalignment='center')\n",
    "\n",
    "ax.xaxis.set_ticks(np.arange(0, 550000, 50000))\n",
    "ax.yaxis.set_ticks(np.arange(0, 0.55, 0.05))\n",
    "\n",
    "ax.grid()\n",
    "plt.show()"
   ]
  },
  {
   "cell_type": "code",
   "execution_count": null,
   "id": "2e30a636",
   "metadata": {},
   "outputs": [],
   "source": []
  },
  {
   "cell_type": "code",
   "execution_count": 143,
   "id": "e154cdb5",
   "metadata": {},
   "outputs": [
    {
     "data": {
      "image/png": "[encoded data removed]",
      "text/plain": [
       "<Figure size 720x576 with 1 Axes>"
      ]
     },
     "metadata": {
      "needs_background": "light"
     },
     "output_type": "display_data"
    }
   ],
   "source": [
    "fig, ax = plt.subplots(figsize=(10, 8))\n",
    "\n",
    "plt.hist(df.salary, density=True, \n",
    "         bins = 'sturges')\n",
    "\n",
    "plt.ylabel('Плотность')\n",
    "plt.xlabel('Зарплата')\n",
    "ax.set_title('Распределение зарплаты')\n",
    "\n",
    "mean = np.mean(df.salary)\n",
    "std = np.std(df.salary)\n",
    "x = np.linspace(mean - 3*std, mean + 3*std, 100)\n",
    "plt.plot(x, 1/(std * np.sqrt(2 * np.pi)) * np.exp( - (x - mean)**2 / (2 * std**2) ), linewidth=2, color='r')\n",
    "\n",
    "ax.grid()\n",
    "plt.show()"
   ]
  },
  {
   "cell_type": "code",
   "execution_count": 144,
   "id": "e4e65121",
   "metadata": {},
   "outputs": [
    {
     "data": {
      "image/png": "[encoded data removed]",
      "text/plain": [
       "<Figure size 720x576 with 1 Axes>"
      ]
     },
     "metadata": {
      "needs_background": "light"
     },
     "output_type": "display_data"
    }
   ],
   "source": [
    "fig, ax = plt.subplots(figsize=(10, 8))\n",
    "\n",
    "plt.hist(df.latitude, density=True, \n",
    "         bins = 'sturges')\n",
    "\n",
    "plt.ylabel('Плотность')\n",
    "plt.xlabel('Широта')\n",
    "ax.set_title('Распределение широты')\n",
    "\n",
    "mean = np.mean(df.latitude)\n",
    "std = np.std(df.latitude)\n",
    "x = np.linspace(mean - 3*std, mean + 3*std, 100)\n",
    "plt.plot(x, 1/(std * np.sqrt(2 * np.pi)) * np.exp( - (x - mean)**2 / (2 * std**2) ), linewidth=2, color='r')\n",
    "\n",
    "ax.grid()\n",
    "plt.show()"
   ]
  },
  {
   "cell_type": "code",
   "execution_count": 145,
   "id": "686df557",
   "metadata": {},
   "outputs": [
    {
     "data": {
      "image/png": "[encoded data removed]",
      "text/plain": [
       "<Figure size 720x576 with 1 Axes>"
      ]
     },
     "metadata": {
      "needs_background": "light"
     },
     "output_type": "display_data"
    }
   ],
   "source": [
    "fig, ax = plt.subplots(figsize=(10, 8))\n",
    "\n",
    "plt.hist(df.longtitude, density=True, \n",
    "         bins = 'sturges')\n",
    "\n",
    "plt.ylabel('Плотность')\n",
    "plt.xlabel('Долгота')\n",
    "ax.set_title('Распределение долготы')\n",
    "\n",
    "mean = np.mean(df.longtitude)\n",
    "std = np.std(df.longtitude)\n",
    "x = np.linspace(mean - 3*std, mean + 3*std, 100)\n",
    "plt.plot(x, 1/(std * np.sqrt(2 * np.pi)) * np.exp( - (x - mean)**2 / (2 * std**2) ), linewidth=2, color='r')\n",
    "\n",
    "ax.grid()\n",
    "plt.show()"
   ]
  },
  {
   "cell_type": "markdown",
   "id": "ea412a53",
   "metadata": {},
   "source": [
    "## Анализ качественных признаков"
   ]
  },
  {
   "cell_type": "markdown",
   "id": "ffb12096",
   "metadata": {},
   "source": [
    "## Города"
   ]
  },
  {
   "cell_type": "markdown",
   "id": "d1a43347",
   "metadata": {},
   "source": [
    "В большом количестве(10 тысяч) вакансий город не указан. Такие значения мы заполним категорией \"Неизвестно\". Города, которые попадаются меньше трех раз мы объеденим в одну категорию \"Другие\", т.к. в таком случае эта категория получается не такой большой по сравнению с другими категориями. "
   ]
  },
  {
   "cell_type": "code",
   "execution_count": 146,
   "id": "1b77c4f8",
   "metadata": {},
   "outputs": [
    {
     "data": {
      "image/png": "[encoded data removed]",
      "text/plain": [
       "<Figure size 720x576 with 1 Axes>"
      ]
     },
     "metadata": {
      "needs_background": "light"
     },
     "output_type": "display_data"
    }
   ],
   "source": [
    "from matplotlib.legend_handler import HandlerBase\n",
    "from matplotlib.text import Text\n",
    "\n",
    "class TextHandler(HandlerBase):\n",
    "    def create_artists(self, legend, tup ,xdescent, ydescent,\n",
    "                        width, height, fontsize,trans):\n",
    "        tx = Text(width/2.,height/2,tup[0], fontsize=fontsize,\n",
    "                  ha=\"center\", va=\"center\", color=tup[1], fontweight=\"bold\")\n",
    "        return [tx]\n",
    "\n",
    "le = preprocessing.LabelEncoder()\n",
    "encoded = pd.Series(le.fit_transform(df.Region))\n",
    "\n",
    "df1 = encoded.value_counts(normalize=True)\n",
    "df1 = df1.rename('percent').reset_index()\n",
    "\n",
    "g = sns.catplot(x='index', y='percent', kind='bar', data=df1, palette='muted')\n",
    "\n",
    "g.ax.set_xlabel('Регион', fontsize = 15)\n",
    "g.ax.set_ylabel('Относительная частота', fontsize = 15)\n",
    "\n",
    "for rect in g.ax.patches:\n",
    "    g.ax.text (rect.get_x() + rect.get_width()  / 2, rect.get_height() + 0.01, round(rect.get_height(), 3), horizontalalignment='center', fontsize = 11)\n",
    "\n",
    "handltext = le.transform(le.classes_).astype(str)\n",
    "labels = le.classes_\n",
    "\n",
    "t = g.ax.get_xticklabels()\n",
    "labeldic = dict(zip(handltext, labels))\n",
    "labels = [labeldic[h.get_text()]  for h in t]\n",
    "handles = [(h.get_text(),c.get_fc()) for h,c in zip(t,g.ax.patches)]\n",
    "\n",
    "g.ax.legend(handles, labels, handler_map={tuple : TextHandler()})\n",
    "g.fig.set_figwidth(10)\n",
    "g.fig.set_figheight(8)\n",
    "\n",
    "plt.show()"
   ]
  },
  {
   "cell_type": "markdown",
   "id": "cd0815d1",
   "metadata": {},
   "source": [
    "## Сопроводительное письмо "
   ]
  },
  {
   "cell_type": "markdown",
   "id": "666d4288",
   "metadata": {},
   "source": [
    "Данная переменная очень сильно не сбалансирована и вакансии, для которых сопроводительное письмо обязательно для ~1% вакансий. "
   ]
  },
  {
   "cell_type": "code",
   "execution_count": 147,
   "id": "eb92151b",
   "metadata": {},
   "outputs": [
    {
     "data": {
      "text/plain": [
       "False    19914\n",
       "True       230\n",
       "Name: response_letter_required, dtype: int64"
      ]
     },
     "execution_count": 147,
     "metadata": {},
     "output_type": "execute_result"
    }
   ],
   "source": [
    "df.response_letter_required.value_counts()"
   ]
  },
  {
   "cell_type": "code",
   "execution_count": 148,
   "id": "2aad5f0d",
   "metadata": {},
   "outputs": [],
   "source": [
    "df.response_letter_required = df.response_letter_required.map({False: 0, True: 1}) "
   ]
  },
  {
   "cell_type": "code",
   "execution_count": 149,
   "id": "11bd0155",
   "metadata": {
    "scrolled": false
   },
   "outputs": [
    {
     "data": {
      "image/png": "[encoded data removed]",
      "text/plain": [
       "<Figure size 720x576 with 1 Axes>"
      ]
     },
     "metadata": {
      "needs_background": "light"
     },
     "output_type": "display_data"
    }
   ],
   "source": [
    "from matplotlib.legend_handler import HandlerBase\n",
    "from matplotlib.text import Text\n",
    "from matplotlib.pyplot import figure\n",
    "\n",
    "class TextHandler(HandlerBase):\n",
    "    def create_artists(self, legend, tup ,xdescent, ydescent,\n",
    "                        width, height, fontsize,trans):\n",
    "        tx = Text(width/2.,height/2,tup[0], fontsize=fontsize,\n",
    "                  ha=\"center\", va=\"center\", color=tup[1], fontweight=\"bold\")\n",
    "        return [tx]\n",
    "\n",
    "\n",
    "df1 = df.response_letter_required.value_counts(normalize=True)\n",
    "df1 = df1.rename('percent').reset_index()\n",
    "\n",
    "g = sns.catplot(x='index', y='percent',kind='bar', data=df1, palette='muted')\n",
    "\n",
    "g.ax.set_xlabel('Необходимость сопроводительного письма', fontsize = 15)\n",
    "g.ax.set_ylabel('Относительная частота', fontsize = 15)\n",
    "\n",
    "for rect in g.ax.patches:\n",
    "    g.ax.text (rect.get_x() + rect.get_width()  / 2, rect.get_height() + 0.01, round(rect.get_height(), 3), horizontalalignment='center', fontsize = 11)\n",
    "\n",
    "handltext = ['0', '1']\n",
    "labels = [ \"False\", \"True\"]\n",
    "\n",
    "t = g.ax.get_xticklabels()\n",
    "labeldic = dict(zip(handltext, labels))\n",
    "labels = [labeldic[h.get_text()]  for h in t]\n",
    "handles = [(h.get_text(),c.get_fc()) for h,c in zip(t,g.ax.patches)]\n",
    "\n",
    "g.ax.legend(handles, labels, handler_map={tuple : TextHandler()}) \n",
    "g.fig.set_figwidth(10)\n",
    "g.fig.set_figheight(8)\n",
    "\n",
    "plt.show()"
   ]
  },
  {
   "cell_type": "markdown",
   "id": "0fe4e591",
   "metadata": {},
   "source": [
    "## Тест"
   ]
  },
  {
   "cell_type": "markdown",
   "id": "b84d38ab",
   "metadata": {},
   "source": [
    "Лишь около 1% вакансий требуют прохождение тестового задания для отклика на вакансию, эта переменная очень не сбалансирована"
   ]
  },
  {
   "cell_type": "code",
   "execution_count": 150,
   "id": "d90443cf",
   "metadata": {},
   "outputs": [
    {
     "data": {
      "text/plain": [
       "False    19983\n",
       "True       161\n",
       "Name: has_test, dtype: int64"
      ]
     },
     "execution_count": 150,
     "metadata": {},
     "output_type": "execute_result"
    }
   ],
   "source": [
    "df.has_test.value_counts()"
   ]
  },
  {
   "cell_type": "code",
   "execution_count": 151,
   "id": "6a7b5db3",
   "metadata": {},
   "outputs": [],
   "source": [
    "df.has_test = df.has_test.map({False: 0, True: 1})"
   ]
  },
  {
   "cell_type": "code",
   "execution_count": 152,
   "id": "8fec78fe",
   "metadata": {},
   "outputs": [
    {
     "data": {
      "image/png": "[encoded data removed]",
      "text/plain": [
       "<Figure size 720x576 with 1 Axes>"
      ]
     },
     "metadata": {
      "needs_background": "light"
     },
     "output_type": "display_data"
    }
   ],
   "source": [
    "from matplotlib.legend_handler import HandlerBase\n",
    "from matplotlib.text import Text\n",
    "\n",
    "class TextHandler(HandlerBase):\n",
    "    def create_artists(self, legend, tup ,xdescent, ydescent,\n",
    "                        width, height, fontsize,trans):\n",
    "        tx = Text(width/2.,height/2,tup[0], fontsize=fontsize,\n",
    "                  ha=\"center\", va=\"center\", color=tup[1], fontweight=\"bold\")\n",
    "        return [tx]\n",
    "\n",
    "\n",
    "df1 = df.has_test.value_counts(normalize=True)\n",
    "df1 = df1.rename('percent').reset_index()\n",
    "\n",
    "g = sns.catplot(x='index', y='percent',kind='bar', data=df1, palette='muted')\n",
    "\n",
    "g.ax.set_xlabel('Необходимость прохождения тестового задания', fontsize = 15)\n",
    "g.ax.set_ylabel('Относительная частота', fontsize = 15)\n",
    "\n",
    "for rect in g.ax.patches:\n",
    "    g.ax.text (rect.get_x() + rect.get_width()  / 2, rect.get_height() + 0.01, round(rect.get_height(), 3), horizontalalignment='center', fontsize = 11)\n",
    "\n",
    "handltext = ['0', '1']\n",
    "labels = [ \"False\", \"True\"]\n",
    "\n",
    "t = g.ax.get_xticklabels()\n",
    "labeldic = dict(zip(handltext, labels))\n",
    "labels = [labeldic[h.get_text()]  for h in t]\n",
    "handles = [(h.get_text(),c.get_fc()) for h,c in zip(t,g.ax.patches)]\n",
    "\n",
    "g.ax.legend(handles, labels, handler_map={tuple : TextHandler()})\n",
    "g.fig.set_figwidth(10)\n",
    "g.fig.set_figheight(8)\n",
    "\n",
    "plt.show()"
   ]
  },
  {
   "cell_type": "markdown",
   "id": "333c9abd",
   "metadata": {},
   "source": [
    "## Опыт работы"
   ]
  },
  {
   "cell_type": "markdown",
   "id": "0265e8f2",
   "metadata": {},
   "source": [
    "Требования к опыту работы несбалансированы"
   ]
  },
  {
   "cell_type": "code",
   "execution_count": 153,
   "id": "aa796b71",
   "metadata": {
    "scrolled": false
   },
   "outputs": [
    {
     "data": {
      "image/png": "[encoded data removed]",
      "text/plain": [
       "<Figure size 720x576 with 1 Axes>"
      ]
     },
     "metadata": {
      "needs_background": "light"
     },
     "output_type": "display_data"
    }
   ],
   "source": [
    "from matplotlib.legend_handler import HandlerBase\n",
    "from matplotlib.text import Text\n",
    "\n",
    "class TextHandler(HandlerBase):\n",
    "    def create_artists(self, legend, tup ,xdescent, ydescent,\n",
    "                        width, height, fontsize,trans):\n",
    "        tx = Text(width/2.,height/2,tup[0], fontsize=fontsize,\n",
    "                  ha=\"center\", va=\"center\", color=tup[1], fontweight=\"bold\")\n",
    "        return [tx]\n",
    "\n",
    "le = preprocessing.LabelEncoder()\n",
    "encoded = pd.Series(le.fit_transform(df.experience))\n",
    "    \n",
    "df1 = encoded.value_counts(normalize=True)\n",
    "df1 = df1.rename('percent').reset_index()\n",
    "\n",
    "g = sns.catplot(x='index', y='percent',kind='bar', data=df1, palette='muted')\n",
    "\n",
    "g.ax.set_xlabel('Опыт работы', fontsize = 15)\n",
    "g.ax.set_ylabel('Относительная частота', fontsize = 15)\n",
    "\n",
    "for rect in g.ax.patches:\n",
    "    g.ax.text (rect.get_x() + rect.get_width()  / 2, rect.get_height() + 0.01, round(rect.get_height(), 3), horizontalalignment='center', fontsize = 11)\n",
    "\n",
    "handltext = le.transform(le.classes_).astype(str)\n",
    "labels = le.classes_\n",
    "\n",
    "t = g.ax.get_xticklabels()\n",
    "labeldic = dict(zip(handltext, labels))\n",
    "labels = [labeldic[h.get_text()]  for h in t]\n",
    "handles = [(h.get_text(),c.get_fc()) for h,c in zip(t,g.ax.patches)]\n",
    "\n",
    "g.ax.legend(handles, labels, handler_map={tuple : TextHandler()})\n",
    "g.fig.set_figwidth(10)\n",
    "g.fig.set_figheight(8)\n",
    "\n",
    "plt.show()"
   ]
  },
  {
   "cell_type": "markdown",
   "id": "34e9c81d",
   "metadata": {},
   "source": [
    "## Навыки"
   ]
  },
  {
   "cell_type": "code",
   "execution_count": 154,
   "id": "dce3b96a",
   "metadata": {},
   "outputs": [],
   "source": [
    "skills = df.iloc[:, 10:].sum(axis = 0)"
   ]
  },
  {
   "cell_type": "code",
   "execution_count": 155,
   "id": "9c2f3c25",
   "metadata": {},
   "outputs": [],
   "source": [
    "sums_1c = skills[skills.index.str.contains('1С')].sum()\n",
    "skills = skills.drop(skills[skills.index.str.contains('1С')].index)\n",
    "skills.loc['1С'] = sums_1c\n",
    "\n",
    "skills = skills / skills.values.sum()\n",
    "skills = skills.sort_values(ascending=False)"
   ]
  },
  {
   "cell_type": "code",
   "execution_count": 156,
   "id": "dc5e5c10",
   "metadata": {},
   "outputs": [],
   "source": [
    "skills_df = pd.DataFrame({'ind': range(skills.shape[0]), 'skills': skills.index, 'percent': skills.values})"
   ]
  },
  {
   "cell_type": "code",
   "execution_count": 157,
   "id": "cc0cab8c",
   "metadata": {
    "scrolled": true
   },
   "outputs": [
    {
     "data": {
      "text/html": [
       "<div>\n",
       "<style scoped>\n",
       "    .dataframe tbody tr th:only-of-type {\n",
       "        vertical-align: middle;\n",
       "    }\n",
       "\n",
       "    .dataframe tbody tr th {\n",
       "        vertical-align: top;\n",
       "    }\n",
       "\n",
       "    .dataframe thead th {\n",
       "        text-align: right;\n",
       "    }\n",
       "</style>\n",
       "<table border=\"1\" class=\"dataframe\">\n",
       "  <thead>\n",
       "    <tr style=\"text-align: right;\">\n",
       "      <th></th>\n",
       "      <th>ind</th>\n",
       "      <th>skills</th>\n",
       "      <th>percent</th>\n",
       "    </tr>\n",
       "  </thead>\n",
       "  <tbody>\n",
       "    <tr>\n",
       "      <th>0</th>\n",
       "      <td>0</td>\n",
       "      <td>1С</td>\n",
       "      <td>0.103215</td>\n",
       "    </tr>\n",
       "    <tr>\n",
       "      <th>1</th>\n",
       "      <td>1</td>\n",
       "      <td>Грамотная речь</td>\n",
       "      <td>0.050076</td>\n",
       "    </tr>\n",
       "    <tr>\n",
       "      <th>2</th>\n",
       "      <td>2</td>\n",
       "      <td>Техническое обслуживание</td>\n",
       "      <td>0.036694</td>\n",
       "    </tr>\n",
       "    <tr>\n",
       "      <th>3</th>\n",
       "      <td>3</td>\n",
       "      <td>Linux</td>\n",
       "      <td>0.031095</td>\n",
       "    </tr>\n",
       "    <tr>\n",
       "      <th>4</th>\n",
       "      <td>4</td>\n",
       "      <td>Работа в условиях многозадачности</td>\n",
       "      <td>0.030672</td>\n",
       "    </tr>\n",
       "    <tr>\n",
       "      <th>5</th>\n",
       "      <td>5</td>\n",
       "      <td>SQL</td>\n",
       "      <td>0.027256</td>\n",
       "    </tr>\n",
       "    <tr>\n",
       "      <th>6</th>\n",
       "      <td>6</td>\n",
       "      <td>Работа с большим объемом информации</td>\n",
       "      <td>0.027080</td>\n",
       "    </tr>\n",
       "    <tr>\n",
       "      <th>7</th>\n",
       "      <td>7</td>\n",
       "      <td>Adobe Photoshop</td>\n",
       "      <td>0.026904</td>\n",
       "    </tr>\n",
       "    <tr>\n",
       "      <th>8</th>\n",
       "      <td>8</td>\n",
       "      <td>Настройка ПК</td>\n",
       "      <td>0.026482</td>\n",
       "    </tr>\n",
       "    <tr>\n",
       "      <th>9</th>\n",
       "      <td>9</td>\n",
       "      <td>Грамотность</td>\n",
       "      <td>0.025249</td>\n",
       "    </tr>\n",
       "    <tr>\n",
       "      <th>10</th>\n",
       "      <td>10</td>\n",
       "      <td>Управление проектами</td>\n",
       "      <td>0.025249</td>\n",
       "    </tr>\n",
       "    <tr>\n",
       "      <th>11</th>\n",
       "      <td>11</td>\n",
       "      <td>Git</td>\n",
       "      <td>0.025214</td>\n",
       "    </tr>\n",
       "    <tr>\n",
       "      <th>12</th>\n",
       "      <td>12</td>\n",
       "      <td>Умение работать в команде</td>\n",
       "      <td>0.024439</td>\n",
       "    </tr>\n",
       "    <tr>\n",
       "      <th>13</th>\n",
       "      <td>13</td>\n",
       "      <td>Настройка сетевых подключений</td>\n",
       "      <td>0.023031</td>\n",
       "    </tr>\n",
       "    <tr>\n",
       "      <th>14</th>\n",
       "      <td>14</td>\n",
       "      <td>Организаторские навыки</td>\n",
       "      <td>0.022467</td>\n",
       "    </tr>\n",
       "    <tr>\n",
       "      <th>15</th>\n",
       "      <td>15</td>\n",
       "      <td>Английский язык</td>\n",
       "      <td>0.021939</td>\n",
       "    </tr>\n",
       "    <tr>\n",
       "      <th>16</th>\n",
       "      <td>16</td>\n",
       "      <td>Деловое общение</td>\n",
       "      <td>0.021728</td>\n",
       "    </tr>\n",
       "    <tr>\n",
       "      <th>17</th>\n",
       "      <td>17</td>\n",
       "      <td>Настройка ПО</td>\n",
       "      <td>0.021023</td>\n",
       "    </tr>\n",
       "    <tr>\n",
       "      <th>18</th>\n",
       "      <td>18</td>\n",
       "      <td>Деловая переписка</td>\n",
       "      <td>0.019615</td>\n",
       "    </tr>\n",
       "    <tr>\n",
       "      <th>19</th>\n",
       "      <td>19</td>\n",
       "      <td>Ремонтные работы</td>\n",
       "      <td>0.018594</td>\n",
       "    </tr>\n",
       "    <tr>\n",
       "      <th>20</th>\n",
       "      <td>20</td>\n",
       "      <td>Аналитическое мышление</td>\n",
       "      <td>0.017572</td>\n",
       "    </tr>\n",
       "    <tr>\n",
       "      <th>21</th>\n",
       "      <td>21</td>\n",
       "      <td>JavaScript</td>\n",
       "      <td>0.017537</td>\n",
       "    </tr>\n",
       "    <tr>\n",
       "      <th>22</th>\n",
       "      <td>22</td>\n",
       "      <td>Ведение переговоров</td>\n",
       "      <td>0.017502</td>\n",
       "    </tr>\n",
       "    <tr>\n",
       "      <th>23</th>\n",
       "      <td>23</td>\n",
       "      <td>Windows 7</td>\n",
       "      <td>0.016657</td>\n",
       "    </tr>\n",
       "    <tr>\n",
       "      <th>24</th>\n",
       "      <td>24</td>\n",
       "      <td>MS PowerPoint</td>\n",
       "      <td>0.016586</td>\n",
       "    </tr>\n",
       "    <tr>\n",
       "      <th>25</th>\n",
       "      <td>25</td>\n",
       "      <td>Информационные технологии</td>\n",
       "      <td>0.015882</td>\n",
       "    </tr>\n",
       "    <tr>\n",
       "      <th>26</th>\n",
       "      <td>26</td>\n",
       "      <td>Ремонт ПК</td>\n",
       "      <td>0.015741</td>\n",
       "    </tr>\n",
       "    <tr>\n",
       "      <th>27</th>\n",
       "      <td>27</td>\n",
       "      <td>Техническая поддержка</td>\n",
       "      <td>0.015600</td>\n",
       "    </tr>\n",
       "    <tr>\n",
       "      <th>28</th>\n",
       "      <td>28</td>\n",
       "      <td>HTML</td>\n",
       "      <td>0.015565</td>\n",
       "    </tr>\n",
       "    <tr>\n",
       "      <th>29</th>\n",
       "      <td>29</td>\n",
       "      <td>Точность и внимательность к деталям</td>\n",
       "      <td>0.015142</td>\n",
       "    </tr>\n",
       "    <tr>\n",
       "      <th>30</th>\n",
       "      <td>30</td>\n",
       "      <td>PHP</td>\n",
       "      <td>0.015002</td>\n",
       "    </tr>\n",
       "    <tr>\n",
       "      <th>31</th>\n",
       "      <td>31</td>\n",
       "      <td>Администрирование сетевого оборудования</td>\n",
       "      <td>0.014966</td>\n",
       "    </tr>\n",
       "    <tr>\n",
       "      <th>32</th>\n",
       "      <td>32</td>\n",
       "      <td>MySQL</td>\n",
       "      <td>0.014403</td>\n",
       "    </tr>\n",
       "    <tr>\n",
       "      <th>33</th>\n",
       "      <td>33</td>\n",
       "      <td>Adobe Illustrator</td>\n",
       "      <td>0.014192</td>\n",
       "    </tr>\n",
       "    <tr>\n",
       "      <th>34</th>\n",
       "      <td>34</td>\n",
       "      <td>CorelDRAW</td>\n",
       "      <td>0.014192</td>\n",
       "    </tr>\n",
       "    <tr>\n",
       "      <th>35</th>\n",
       "      <td>35</td>\n",
       "      <td>Чтение чертежей</td>\n",
       "      <td>0.013910</td>\n",
       "    </tr>\n",
       "    <tr>\n",
       "      <th>36</th>\n",
       "      <td>36</td>\n",
       "      <td>Python</td>\n",
       "      <td>0.013628</td>\n",
       "    </tr>\n",
       "    <tr>\n",
       "      <th>37</th>\n",
       "      <td>37</td>\n",
       "      <td>Поиск информации в интернет</td>\n",
       "      <td>0.013558</td>\n",
       "    </tr>\n",
       "    <tr>\n",
       "      <th>38</th>\n",
       "      <td>38</td>\n",
       "      <td>Креативность</td>\n",
       "      <td>0.013558</td>\n",
       "    </tr>\n",
       "    <tr>\n",
       "      <th>39</th>\n",
       "      <td>39</td>\n",
       "      <td>TCP/IP</td>\n",
       "      <td>0.013382</td>\n",
       "    </tr>\n",
       "    <tr>\n",
       "      <th>40</th>\n",
       "      <td>40</td>\n",
       "      <td>Монтаж оборудования</td>\n",
       "      <td>0.013170</td>\n",
       "    </tr>\n",
       "    <tr>\n",
       "      <th>41</th>\n",
       "      <td>41</td>\n",
       "      <td>Станки ЧПУ</td>\n",
       "      <td>0.013135</td>\n",
       "    </tr>\n",
       "    <tr>\n",
       "      <th>42</th>\n",
       "      <td>42</td>\n",
       "      <td>CSS</td>\n",
       "      <td>0.012501</td>\n",
       "    </tr>\n",
       "    <tr>\n",
       "      <th>43</th>\n",
       "      <td>43</td>\n",
       "      <td>ООП</td>\n",
       "      <td>0.012360</td>\n",
       "    </tr>\n",
       "    <tr>\n",
       "      <th>44</th>\n",
       "      <td>44</td>\n",
       "      <td>Деловая коммуникация</td>\n",
       "      <td>0.012220</td>\n",
       "    </tr>\n",
       "    <tr>\n",
       "      <th>45</th>\n",
       "      <td>45</td>\n",
       "      <td>Информационная безопасность</td>\n",
       "      <td>0.012079</td>\n",
       "    </tr>\n",
       "    <tr>\n",
       "      <th>46</th>\n",
       "      <td>46</td>\n",
       "      <td>PostgreSQL</td>\n",
       "      <td>0.011938</td>\n",
       "    </tr>\n",
       "  </tbody>\n",
       "</table>\n",
       "</div>"
      ],
      "text/plain": [
       "    ind                                   skills   percent\n",
       "0     0                                       1С  0.103215\n",
       "1     1                           Грамотная речь  0.050076\n",
       "2     2                 Техническое обслуживание  0.036694\n",
       "3     3                                    Linux  0.031095\n",
       "4     4        Работа в условиях многозадачности  0.030672\n",
       "5     5                                      SQL  0.027256\n",
       "6     6      Работа с большим объемом информации  0.027080\n",
       "7     7                          Adobe Photoshop  0.026904\n",
       "8     8                             Настройка ПК  0.026482\n",
       "9     9                              Грамотность  0.025249\n",
       "10   10                     Управление проектами  0.025249\n",
       "11   11                                      Git  0.025214\n",
       "12   12                Умение работать в команде  0.024439\n",
       "13   13            Настройка сетевых подключений  0.023031\n",
       "14   14                   Организаторские навыки  0.022467\n",
       "15   15                          Английский язык  0.021939\n",
       "16   16                          Деловое общение  0.021728\n",
       "17   17                             Настройка ПО  0.021023\n",
       "18   18                        Деловая переписка  0.019615\n",
       "19   19                         Ремонтные работы  0.018594\n",
       "20   20                   Аналитическое мышление  0.017572\n",
       "21   21                               JavaScript  0.017537\n",
       "22   22                      Ведение переговоров  0.017502\n",
       "23   23                                Windows 7  0.016657\n",
       "24   24                            MS PowerPoint  0.016586\n",
       "25   25                Информационные технологии  0.015882\n",
       "26   26                                Ремонт ПК  0.015741\n",
       "27   27                    Техническая поддержка  0.015600\n",
       "28   28                                     HTML  0.015565\n",
       "29   29      Точность и внимательность к деталям  0.015142\n",
       "30   30                                      PHP  0.015002\n",
       "31   31  Администрирование сетевого оборудования  0.014966\n",
       "32   32                                    MySQL  0.014403\n",
       "33   33                        Adobe Illustrator  0.014192\n",
       "34   34                                CorelDRAW  0.014192\n",
       "35   35                          Чтение чертежей  0.013910\n",
       "36   36                                   Python  0.013628\n",
       "37   37              Поиск информации в интернет  0.013558\n",
       "38   38                             Креативность  0.013558\n",
       "39   39                                   TCP/IP  0.013382\n",
       "40   40                      Монтаж оборудования  0.013170\n",
       "41   41                               Станки ЧПУ  0.013135\n",
       "42   42                                      CSS  0.012501\n",
       "43   43                                      ООП  0.012360\n",
       "44   44                     Деловая коммуникация  0.012220\n",
       "45   45              Информационная безопасность  0.012079\n",
       "46   46                               PostgreSQL  0.011938"
      ]
     },
     "execution_count": 157,
     "metadata": {},
     "output_type": "execute_result"
    }
   ],
   "source": [
    "skills_df"
   ]
  },
  {
   "cell_type": "code",
   "execution_count": null,
   "id": "ee4df008",
   "metadata": {},
   "outputs": [],
   "source": []
  },
  {
   "cell_type": "code",
   "execution_count": 158,
   "id": "e95313ea",
   "metadata": {},
   "outputs": [
    {
     "data": {
      "image/png": "[encoded data removed]",
      "text/plain": [
       "<Figure size 1440x1080 with 1 Axes>"
      ]
     },
     "metadata": {
      "needs_background": "light"
     },
     "output_type": "display_data"
    }
   ],
   "source": [
    "from matplotlib.legend_handler import HandlerBase\n",
    "from matplotlib.text import Text\n",
    "\n",
    "class TextHandler(HandlerBase):\n",
    "    def create_artists(self, legend, tup ,xdescent, ydescent,\n",
    "                        width, height, fontsize,trans):\n",
    "        tx = Text(width/2.,height/2,tup[0], fontsize=fontsize,\n",
    "                  ha=\"center\", va=\"center\", color=tup[1], fontweight=\"bold\")\n",
    "        return [tx]\n",
    "\n",
    "g = sns.catplot(data = skills_df, x = 'ind', y = 'percent', kind='bar', palette='muted')\n",
    "\n",
    "g.ax.set_xlabel('Навык', fontsize = 15)\n",
    "g.ax.set_ylabel('Относительная частота', fontsize = 15)\n",
    "\n",
    "handltext = skills_df.ind.astype(str).values\n",
    "labels = skills_df.skills.values\n",
    "\n",
    "t = g.ax.get_xticklabels()\n",
    "labeldic = dict(zip(handltext, labels))\n",
    "labels = [labeldic[h.get_text()]  for h in t]\n",
    "handles = [(h.get_text(),c.get_fc()) for h,c in zip(t,g.ax.patches)]\n",
    "\n",
    "g.ax.legend(handles, labels, handler_map={tuple : TextHandler()})\n",
    "\n",
    "g.fig.set_figwidth(20)\n",
    "g.fig.set_figheight(15)\n",
    "\n",
    "plt.show()"
   ]
  },
  {
   "cell_type": "markdown",
   "id": "f8262bbf",
   "metadata": {},
   "source": [
    "## Гипотезы"
   ]
  },
  {
   "cell_type": "code",
   "execution_count": 27,
   "id": "7232325c",
   "metadata": {},
   "outputs": [],
   "source": [
    "skills = [i.split('_') for i in df.skills.astype(str)]"
   ]
  },
  {
   "cell_type": "code",
   "execution_count": 29,
   "id": "24eddfd6",
   "metadata": {
    "scrolled": false
   },
   "outputs": [],
   "source": [
    "skills = pd.Series([item for sublist in skills for item in sublist]).value_counts()"
   ]
  },
  {
   "cell_type": "code",
   "execution_count": 32,
   "id": "056d972e",
   "metadata": {},
   "outputs": [],
   "source": [
    "names = df.name.value_counts()"
   ]
  },
  {
   "cell_type": "code",
   "execution_count": 44,
   "id": "a5f9946d",
   "metadata": {},
   "outputs": [
    {
     "data": {
      "text/plain": [
       "2266"
      ]
     },
     "execution_count": 44,
     "metadata": {},
     "output_type": "execute_result"
    }
   ],
   "source": [
    "names[names.index.str.contains('тока', flags=re.IGNORECASE)].sum()"
   ]
  },
  {
   "cell_type": "code",
   "execution_count": 45,
   "id": "f94194b7",
   "metadata": {},
   "outputs": [
    {
     "data": {
      "text/plain": [
       "1016"
      ]
     },
     "execution_count": 45,
     "metadata": {},
     "output_type": "execute_result"
    }
   ],
   "source": [
    "names[names.index.str.contains('фрезе', flags=re.IGNORECASE)].sum()"
   ]
  },
  {
   "cell_type": "code",
   "execution_count": 34,
   "id": "e6dba930",
   "metadata": {},
   "outputs": [],
   "source": [
    "df.skills = df.skills.astype(str)\n",
    "df.name = df.name.astype(str)"
   ]
  },
  {
   "cell_type": "code",
   "execution_count": 104,
   "id": "110d26f4",
   "metadata": {
    "scrolled": false
   },
   "outputs": [],
   "source": [
    "js_skills = df[df.skills.str.contains('Javascri', flags=re.IGNORECASE)]"
   ]
  },
  {
   "cell_type": "code",
   "execution_count": 105,
   "id": "738a75a2",
   "metadata": {},
   "outputs": [
    {
     "data": {
      "text/plain": [
       "(822, 17)"
      ]
     },
     "execution_count": 105,
     "metadata": {},
     "output_type": "execute_result"
    }
   ],
   "source": [
    "js_skills.shape"
   ]
  },
  {
   "cell_type": "code",
   "execution_count": 47,
   "id": "4c2f637b",
   "metadata": {},
   "outputs": [],
   "source": [
    "import numpy as np"
   ]
  },
  {
   "cell_type": "code",
   "execution_count": 108,
   "id": "4c64f2bf",
   "metadata": {},
   "outputs": [
    {
     "name": "stderr",
     "output_type": "stream",
     "text": [
      "C:\\Users\\Denis\\AppData\\Local\\Temp\\ipykernel_484\\3147198672.py:1: SettingWithCopyWarning: \n",
      "A value is trying to be set on a copy of a slice from a DataFrame.\n",
      "Try using .loc[row_indexer,col_indexer] = value instead\n",
      "\n",
      "See the caveats in the documentation: https://pandas.pydata.org/pandas-docs/stable/user_guide/indexing.html#returning-a-view-versus-a-copy\n",
      "  js_skills['salary_from'] = js_skills['salary_from'].fillna(0)\n",
      "C:\\Users\\Denis\\AppData\\Local\\Temp\\ipykernel_484\\3147198672.py:2: SettingWithCopyWarning: \n",
      "A value is trying to be set on a copy of a slice from a DataFrame.\n",
      "Try using .loc[row_indexer,col_indexer] = value instead\n",
      "\n",
      "See the caveats in the documentation: https://pandas.pydata.org/pandas-docs/stable/user_guide/indexing.html#returning-a-view-versus-a-copy\n",
      "  js_skills['salary_to'] = js_skills['salary_to'].fillna(0)\n",
      "C:\\Users\\Denis\\AppData\\Local\\Temp\\ipykernel_484\\3147198672.py:3: SettingWithCopyWarning: \n",
      "A value is trying to be set on a copy of a slice from a DataFrame.\n",
      "Try using .loc[row_indexer,col_indexer] = value instead\n",
      "\n",
      "See the caveats in the documentation: https://pandas.pydata.org/pandas-docs/stable/user_guide/indexing.html#returning-a-view-versus-a-copy\n",
      "  js_skills['salary'] = js_skills.loc[:,'salary_from'] + js_skills.loc[:,'salary_to']\n"
     ]
    },
    {
     "data": {
      "text/html": [
       "<div>\n",
       "<style scoped>\n",
       "    .dataframe tbody tr th:only-of-type {\n",
       "        vertical-align: middle;\n",
       "    }\n",
       "\n",
       "    .dataframe tbody tr th {\n",
       "        vertical-align: top;\n",
       "    }\n",
       "\n",
       "    .dataframe thead tr th {\n",
       "        text-align: left;\n",
       "    }\n",
       "\n",
       "    .dataframe thead tr:last-of-type th {\n",
       "        text-align: right;\n",
       "    }\n",
       "</style>\n",
       "<table border=\"1\" class=\"dataframe\">\n",
       "  <thead>\n",
       "    <tr>\n",
       "      <th></th>\n",
       "      <th colspan=\"2\" halign=\"left\">salary</th>\n",
       "    </tr>\n",
       "    <tr>\n",
       "      <th></th>\n",
       "      <th>mean</th>\n",
       "      <th>count</th>\n",
       "    </tr>\n",
       "    <tr>\n",
       "      <th>experience</th>\n",
       "      <th></th>\n",
       "      <th></th>\n",
       "    </tr>\n",
       "  </thead>\n",
       "  <tbody>\n",
       "    <tr>\n",
       "      <th>Более 6 лет</th>\n",
       "      <td>245289.0</td>\n",
       "      <td>19</td>\n",
       "    </tr>\n",
       "    <tr>\n",
       "      <th>Нет опыта</th>\n",
       "      <td>73667.0</td>\n",
       "      <td>51</td>\n",
       "    </tr>\n",
       "    <tr>\n",
       "      <th>От 1 года до 3 лет</th>\n",
       "      <td>103065.0</td>\n",
       "      <td>475</td>\n",
       "    </tr>\n",
       "    <tr>\n",
       "      <th>От 3 до 6 лет</th>\n",
       "      <td>156201.0</td>\n",
       "      <td>277</td>\n",
       "    </tr>\n",
       "  </tbody>\n",
       "</table>\n",
       "</div>"
      ],
      "text/plain": [
       "                      salary      \n",
       "                        mean count\n",
       "experience                        \n",
       "Более 6 лет         245289.0    19\n",
       "Нет опыта            73667.0    51\n",
       "От 1 года до 3 лет  103065.0   475\n",
       "От 3 до 6 лет       156201.0   277"
      ]
     },
     "execution_count": 108,
     "metadata": {},
     "output_type": "execute_result"
    }
   ],
   "source": [
    "js_skills['salary_from'] = js_skills['salary_from'].fillna(0)\n",
    "js_skills['salary_to'] = js_skills['salary_to'].fillna(0)\n",
    "js_skills['salary'] = js_skills.loc[:,'salary_from'] + js_skills.loc[:,'salary_to']\n",
    "js_skills.loc[(js_skills.salary_from != 0) & (js_skills.salary_to != 0), 'salary'] = js_skills.salary / 2\n",
    "\n",
    "js_skills.groupby(\"experience\").agg({\"salary\": [np.mean, 'count']}).round(0)"
   ]
  },
  {
   "cell_type": "code",
   "execution_count": 109,
   "id": "26f349eb",
   "metadata": {},
   "outputs": [
    {
     "data": {
      "text/plain": [
       "(822, 18)"
      ]
     },
     "execution_count": 109,
     "metadata": {},
     "output_type": "execute_result"
    }
   ],
   "source": [
    "js_skills.shape"
   ]
  },
  {
   "cell_type": "code",
   "execution_count": 116,
   "id": "46f06195",
   "metadata": {},
   "outputs": [],
   "source": [
    "ones_skills = df[df.skills.str.contains('1с', flags=re.IGNORECASE)]"
   ]
  },
  {
   "cell_type": "code",
   "execution_count": 117,
   "id": "3de969c5",
   "metadata": {
    "scrolled": true
   },
   "outputs": [
    {
     "data": {
      "text/plain": [
       "(2950, 17)"
      ]
     },
     "execution_count": 117,
     "metadata": {},
     "output_type": "execute_result"
    }
   ],
   "source": [
    "ones_skills.shape"
   ]
  },
  {
   "cell_type": "code",
   "execution_count": null,
   "id": "bbf81f8d",
   "metadata": {},
   "outputs": [],
   "source": []
  },
  {
   "cell_type": "code",
   "execution_count": 24,
   "id": "e120126b",
   "metadata": {},
   "outputs": [
    {
     "data": {
      "text/plain": [
       "93191.9803883495"
      ]
     },
     "execution_count": 24,
     "metadata": {},
     "output_type": "execute_result"
    }
   ],
   "source": [
    "df[df.skills.str.contains('английс', flags=re.IGNORECASE)]['salary'].mean()"
   ]
  },
  {
   "cell_type": "code",
   "execution_count": 25,
   "id": "3c930248",
   "metadata": {},
   "outputs": [
    {
     "data": {
      "text/plain": [
       "72110.09955325475"
      ]
     },
     "execution_count": 25,
     "metadata": {},
     "output_type": "execute_result"
    }
   ],
   "source": [
    "df[~df.skills.str.contains('английс', flags=re.IGNORECASE)]['salary'].mean()"
   ]
  },
  {
   "cell_type": "code",
   "execution_count": null,
   "id": "023d267a",
   "metadata": {},
   "outputs": [],
   "source": []
  },
  {
   "cell_type": "code",
   "execution_count": 50,
   "id": "8c3a5799",
   "metadata": {},
   "outputs": [],
   "source": [
    "tokar = df[df.name.str.contains('токар', flags=re.IGNORECASE)]"
   ]
  },
  {
   "cell_type": "code",
   "execution_count": 51,
   "id": "82e0eaef",
   "metadata": {},
   "outputs": [
    {
     "data": {
      "text/html": [
       "<div>\n",
       "<style scoped>\n",
       "    .dataframe tbody tr th:only-of-type {\n",
       "        vertical-align: middle;\n",
       "    }\n",
       "\n",
       "    .dataframe tbody tr th {\n",
       "        vertical-align: top;\n",
       "    }\n",
       "\n",
       "    .dataframe thead tr th {\n",
       "        text-align: left;\n",
       "    }\n",
       "\n",
       "    .dataframe thead tr:last-of-type th {\n",
       "        text-align: right;\n",
       "    }\n",
       "</style>\n",
       "<table border=\"1\" class=\"dataframe\">\n",
       "  <thead>\n",
       "    <tr>\n",
       "      <th></th>\n",
       "      <th colspan=\"2\" halign=\"left\">salary</th>\n",
       "    </tr>\n",
       "    <tr>\n",
       "      <th></th>\n",
       "      <th>mean</th>\n",
       "      <th>count</th>\n",
       "    </tr>\n",
       "    <tr>\n",
       "      <th>experience</th>\n",
       "      <th></th>\n",
       "      <th></th>\n",
       "    </tr>\n",
       "  </thead>\n",
       "  <tbody>\n",
       "    <tr>\n",
       "      <th>Более 6 лет</th>\n",
       "      <td>71205.0</td>\n",
       "      <td>59</td>\n",
       "    </tr>\n",
       "    <tr>\n",
       "      <th>Нет опыта</th>\n",
       "      <td>51878.0</td>\n",
       "      <td>176</td>\n",
       "    </tr>\n",
       "    <tr>\n",
       "      <th>От 1 года до 3 лет</th>\n",
       "      <td>61459.0</td>\n",
       "      <td>1347</td>\n",
       "    </tr>\n",
       "    <tr>\n",
       "      <th>От 3 до 6 лет</th>\n",
       "      <td>63702.0</td>\n",
       "      <td>684</td>\n",
       "    </tr>\n",
       "  </tbody>\n",
       "</table>\n",
       "</div>"
      ],
      "text/plain": [
       "                     salary      \n",
       "                       mean count\n",
       "experience                       \n",
       "Более 6 лет         71205.0    59\n",
       "Нет опыта           51878.0   176\n",
       "От 1 года до 3 лет  61459.0  1347\n",
       "От 3 до 6 лет       63702.0   684"
      ]
     },
     "execution_count": 51,
     "metadata": {},
     "output_type": "execute_result"
    }
   ],
   "source": [
    "tokar.groupby(\"experience\").agg({\"salary\": [np.mean, 'count']}).round(0)"
   ]
  },
  {
   "cell_type": "code",
   "execution_count": 62,
   "id": "a6ae8837",
   "metadata": {},
   "outputs": [],
   "source": [
    "freze = df[df.name.str.contains('механи', flags=re.IGNORECASE)]"
   ]
  },
  {
   "cell_type": "code",
   "execution_count": 63,
   "id": "eb678080",
   "metadata": {},
   "outputs": [
    {
     "data": {
      "text/html": [
       "<div>\n",
       "<style scoped>\n",
       "    .dataframe tbody tr th:only-of-type {\n",
       "        vertical-align: middle;\n",
       "    }\n",
       "\n",
       "    .dataframe tbody tr th {\n",
       "        vertical-align: top;\n",
       "    }\n",
       "\n",
       "    .dataframe thead tr th {\n",
       "        text-align: left;\n",
       "    }\n",
       "\n",
       "    .dataframe thead tr:last-of-type th {\n",
       "        text-align: right;\n",
       "    }\n",
       "</style>\n",
       "<table border=\"1\" class=\"dataframe\">\n",
       "  <thead>\n",
       "    <tr>\n",
       "      <th></th>\n",
       "      <th colspan=\"2\" halign=\"left\">salary</th>\n",
       "    </tr>\n",
       "    <tr>\n",
       "      <th></th>\n",
       "      <th>mean</th>\n",
       "      <th>count</th>\n",
       "    </tr>\n",
       "    <tr>\n",
       "      <th>experience</th>\n",
       "      <th></th>\n",
       "      <th></th>\n",
       "    </tr>\n",
       "  </thead>\n",
       "  <tbody>\n",
       "    <tr>\n",
       "      <th>Более 6 лет</th>\n",
       "      <td>72169.0</td>\n",
       "      <td>36</td>\n",
       "    </tr>\n",
       "    <tr>\n",
       "      <th>Нет опыта</th>\n",
       "      <td>44524.0</td>\n",
       "      <td>154</td>\n",
       "    </tr>\n",
       "    <tr>\n",
       "      <th>От 1 года до 3 лет</th>\n",
       "      <td>56255.0</td>\n",
       "      <td>1261</td>\n",
       "    </tr>\n",
       "    <tr>\n",
       "      <th>От 3 до 6 лет</th>\n",
       "      <td>69127.0</td>\n",
       "      <td>868</td>\n",
       "    </tr>\n",
       "  </tbody>\n",
       "</table>\n",
       "</div>"
      ],
      "text/plain": [
       "                     salary      \n",
       "                       mean count\n",
       "experience                       \n",
       "Более 6 лет         72169.0    36\n",
       "Нет опыта           44524.0   154\n",
       "От 1 года до 3 лет  56255.0  1261\n",
       "От 3 до 6 лет       69127.0   868"
      ]
     },
     "execution_count": 63,
     "metadata": {},
     "output_type": "execute_result"
    }
   ],
   "source": [
    "freze.groupby(\"experience\").agg({\"salary\": [np.mean, 'count']}).round(0)"
   ]
  },
  {
   "cell_type": "code",
   "execution_count": null,
   "id": "16822a72",
   "metadata": {},
   "outputs": [],
   "source": []
  },
  {
   "cell_type": "code",
   "execution_count": null,
   "id": "fdc94b66",
   "metadata": {},
   "outputs": [],
   "source": []
  }
 ],
 "metadata": {
  "kernelspec": {
   "display_name": "Python 3 (ipykernel)",
   "language": "python",
   "name": "python3"
  },
  "language_info": {
   "codemirror_mode": {
    "name": "ipython",
    "version": 3
   },
   "file_extension": ".py",
   "mimetype": "text/x-python",
   "name": "python",
   "nbconvert_exporter": "python",
   "pygments_lexer": "ipython3",
   "version": "3.9.12"
  }
 },
 "nbformat": 4,
 "nbformat_minor": 5
}
