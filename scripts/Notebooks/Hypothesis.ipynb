{
 "cells": [
  {
   "cell_type": "markdown",
   "id": "ea1bdfe8",
   "metadata": {},
   "source": [
    "## Предобработка данных"
   ]
  },
  {
   "cell_type": "code",
<<<<<<< HEAD
   "execution_count": 676,
   "id": "6953874c",
=======
   "execution_count": 106,
   "id": "9a4ff2e0",
>>>>>>> cd21851a77a182f2d44359f732377b005a91ebda
   "metadata": {},
   "outputs": [],
   "source": [
    "import pandas as pd\n",
    "import os\n",
    "import re\n",
    "pd.set_option('display.max_rows', 500)\n",
    "import scipy\n",
    "from scipy.stats import skew\n",
    "from scipy.stats import kurtosis\n",
    "import math\n",
    "import matplotlib as mpl\n",
    "import matplotlib.pyplot as plt\n",
    "import seaborn as sns\n",
    "import numpy as np\n",
    "from sklearn import preprocessing\n",
    "import warnings\n",
    "warnings.filterwarnings(\"ignore\")"
   ]
  },
  {
   "cell_type": "code",
<<<<<<< HEAD
   "execution_count": 677,
   "id": "48bd5bd7",
=======
   "execution_count": 107,
   "id": "03ed4baf",
>>>>>>> cd21851a77a182f2d44359f732377b005a91ebda
   "metadata": {},
   "outputs": [],
   "source": [
    "df = pd.read_csv('../../data/final_data.csv')"
   ]
  },
  {
   "cell_type": "code",
<<<<<<< HEAD
   "execution_count": 678,
   "id": "42e06096",
=======
   "execution_count": 108,
   "id": "1de0b5dd",
>>>>>>> cd21851a77a182f2d44359f732377b005a91ebda
   "metadata": {},
   "outputs": [],
   "source": [
    "df['salary_from'] = df['salary_from'].fillna(0)\n",
    "df['salary_to'] = df['salary_to'].fillna(0)\n",
    "df['salary'] = df.loc[:,'salary_from'] + df.loc[:,'salary_to']\n",
    "df.loc[(df.salary_from != 0) & (df.salary_to != 0), 'salary'] = df.salary / 2"
   ]
  },
  {
   "cell_type": "code",
<<<<<<< HEAD
   "execution_count": 679,
   "id": "44ef85c0",
=======
   "execution_count": 109,
   "id": "90f2292b",
>>>>>>> cd21851a77a182f2d44359f732377b005a91ebda
   "metadata": {},
   "outputs": [],
   "source": [
    "df.loc[df.gross == False, 'salary'] = df.salary * 0.87"
   ]
  },
  {
   "cell_type": "code",
<<<<<<< HEAD
   "execution_count": 680,
   "id": "d4d4b47c",
=======
   "execution_count": 110,
   "id": "da073e84",
>>>>>>> cd21851a77a182f2d44359f732377b005a91ebda
   "metadata": {},
   "outputs": [],
   "source": [
    "df.dropna(axis = 0, subset = ['currency', 'gross'], inplace = True)"
   ]
  },
  {
   "cell_type": "code",
<<<<<<< HEAD
   "execution_count": 681,
   "id": "e5120edb",
=======
   "execution_count": 111,
   "id": "f104027f",
>>>>>>> cd21851a77a182f2d44359f732377b005a91ebda
   "metadata": {},
   "outputs": [],
   "source": [
    "df.drop(['raw', 'schedule', 'employer', 'salary_from', 'salary_to', 'gross'], axis = 1, inplace = True)"
   ]
  },
  {
   "cell_type": "code",
<<<<<<< HEAD
   "execution_count": 682,
   "id": "be170a7c",
=======
   "execution_count": 112,
   "id": "e705de84",
>>>>>>> cd21851a77a182f2d44359f732377b005a91ebda
   "metadata": {},
   "outputs": [],
   "source": [
    "df.drop('employment', axis = 1, inplace = True) "
   ]
  },
  {
   "cell_type": "code",
<<<<<<< HEAD
   "execution_count": 683,
   "id": "910b8d00",
=======
   "execution_count": 113,
   "id": "1f50fb0b",
>>>>>>> cd21851a77a182f2d44359f732377b005a91ebda
   "metadata": {},
   "outputs": [
    {
     "data": {
      "text/plain": [
       "(30639, 11)"
      ]
     },
<<<<<<< HEAD
     "execution_count": 683,
=======
     "execution_count": 113,
>>>>>>> cd21851a77a182f2d44359f732377b005a91ebda
     "metadata": {},
     "output_type": "execute_result"
    }
   ],
   "source": [
    "df.shape"
   ]
  },
  {
   "cell_type": "code",
<<<<<<< HEAD
   "execution_count": 684,
   "id": "9a25a7f6",
=======
   "execution_count": 114,
   "id": "732fcea3",
>>>>>>> cd21851a77a182f2d44359f732377b005a91ebda
   "metadata": {},
   "outputs": [
    {
     "data": {
      "text/plain": [
       "premium                         0\n",
       "name                            0\n",
       "response_letter_required        0\n",
       "city                        10502\n",
       "latitude                    10367\n",
       "longtitude                  10367\n",
       "experience                      0\n",
       "skills                       5989\n",
       "has_test                        0\n",
       "currency                        0\n",
       "salary                          0\n",
       "dtype: int64"
      ]
     },
<<<<<<< HEAD
     "execution_count": 684,
=======
     "execution_count": 114,
>>>>>>> cd21851a77a182f2d44359f732377b005a91ebda
     "metadata": {},
     "output_type": "execute_result"
    }
   ],
   "source": [
    "df.isna().sum()"
   ]
  },
  {
   "cell_type": "code",
<<<<<<< HEAD
   "execution_count": 685,
   "id": "7aa8fc42",
=======
   "execution_count": 115,
   "id": "b77381ac",
>>>>>>> cd21851a77a182f2d44359f732377b005a91ebda
   "metadata": {},
   "outputs": [],
   "source": [
    "df = df.loc[~(df.salary == 0)]\n",
    "df = df.loc[~(df.latitude == 0)]\n",
    "df = df.loc[~(df.longtitude == 0)]\n",
    "df.loc[(df.salary < 1000) & (df.currency == 'RUR'), 'salary'] = df.loc[(df.salary < 1000) & (df.currency == 'RUR'), 'salary'] * 1000"
   ]
  },
  {
   "cell_type": "code",
<<<<<<< HEAD
   "execution_count": 686,
   "id": "9a27d4b1",
=======
   "execution_count": 116,
   "id": "5b72a80b",
>>>>>>> cd21851a77a182f2d44359f732377b005a91ebda
   "metadata": {},
   "outputs": [
    {
     "data": {
      "text/plain": [
       "43500.0     1575\n",
       "52200.0     1408\n",
       "34800.0     1226\n",
       "60900.0     1152\n",
       "87000.0     1103\n",
       "            ... \n",
       "31224.3        1\n",
       "176000.0       1\n",
       "20900.0        1\n",
       "45600.0        1\n",
       "184875.0       1\n",
       "Name: salary, Length: 1337, dtype: int64"
      ]
     },
<<<<<<< HEAD
     "execution_count": 686,
=======
     "execution_count": 116,
>>>>>>> cd21851a77a182f2d44359f732377b005a91ebda
     "metadata": {},
     "output_type": "execute_result"
    }
   ],
   "source": [
    "df.salary.value_counts()"
   ]
  },
  {
   "cell_type": "code",
<<<<<<< HEAD
   "execution_count": 687,
   "id": "7f275f36",
=======
   "execution_count": 117,
   "id": "07b15741",
>>>>>>> cd21851a77a182f2d44359f732377b005a91ebda
   "metadata": {},
   "outputs": [],
   "source": [
    "df.dropna(axis = 0, subset = ['latitude', 'longtitude'], inplace = True)"
   ]
  },
  {
   "cell_type": "code",
<<<<<<< HEAD
   "execution_count": 688,
   "id": "fff08dc9",
   "metadata": {
    "scrolled": true
   },
=======
   "execution_count": 118,
   "id": "f65f7d0f",
   "metadata": {},
>>>>>>> cd21851a77a182f2d44359f732377b005a91ebda
   "outputs": [
    {
     "data": {
      "text/plain": [
       "(20144, 11)"
      ]
     },
<<<<<<< HEAD
     "execution_count": 688,
=======
     "execution_count": 118,
>>>>>>> cd21851a77a182f2d44359f732377b005a91ebda
     "metadata": {},
     "output_type": "execute_result"
    }
   ],
   "source": [
    "df.shape"
   ]
  },
  {
   "cell_type": "code",
<<<<<<< HEAD
   "execution_count": 689,
   "id": "084b8d34",
=======
   "execution_count": 119,
   "id": "9b0978ce",
>>>>>>> cd21851a77a182f2d44359f732377b005a91ebda
   "metadata": {},
   "outputs": [],
   "source": [
    "skills = [i.split('_') for i in df.skills.astype(str)]"
   ]
  },
  {
<<<<<<< HEAD
   "cell_type": "code",
   "execution_count": 690,
   "id": "b44d5232",
   "metadata": {
    "scrolled": false
   },
   "outputs": [],
   "source": [
    "skills = pd.Series([item for sublist in skills for item in sublist]).value_counts()"
   ]
  },
  {
   "cell_type": "code",
   "execution_count": 691,
   "id": "64b165c7",
=======
   "cell_type": "markdown",
   "id": "157b10f9",
>>>>>>> cd21851a77a182f2d44359f732377b005a91ebda
   "metadata": {},
   "outputs": [],
   "source": [
    "df.skills = df.skills.astype(str)"
   ]
  },
  {
   "cell_type": "code",
<<<<<<< HEAD
   "execution_count": 692,
   "id": "b0c41f04",
=======
   "execution_count": 120,
   "id": "50075121",
>>>>>>> cd21851a77a182f2d44359f732377b005a91ebda
   "metadata": {},
   "outputs": [],
   "source": [
    "for v in skills[1:100].index: \n",
    "    df.loc[:, v] = df.skills.str.contains(re.compile('(^|_)' + re.escape('C/C++') + '(_|$)')).astype(int)"
   ]
  },
  {
   "cell_type": "code",
<<<<<<< HEAD
   "execution_count": 693,
   "id": "3a55a427",
=======
   "execution_count": 121,
   "id": "7f8db8da",
>>>>>>> cd21851a77a182f2d44359f732377b005a91ebda
   "metadata": {},
   "outputs": [],
   "source": [
    "import pickle \n",
    "import matplotlib.path as mplPath"
   ]
  },
  {
   "cell_type": "code",
<<<<<<< HEAD
   "execution_count": 694,
   "id": "9777f4a8",
=======
   "execution_count": 122,
   "id": "0d2a5d3e",
>>>>>>> cd21851a77a182f2d44359f732377b005a91ebda
   "metadata": {},
   "outputs": [],
   "source": [
    "mapper = {\n",
    "\"Алтайский край\":\"Южно-Сибирский\",\n",
    "\"Республика Алтай\":\"Южно-Сибирский\",\n",
    "\"Курская область\":\"Центрально-Чернозёмный\",\n",
    "\"Тульская область\":\"Центральный\",\n",
    "\"Пермский край\":\"Волго-Камский\",\n",
    "\"Тверская область\":\"Центральный\",\n",
    "\"Липецкая область\":\"Центрально-Чернозёмный\",\n",
    "\"Орловская область\":\"Центральный\",\n",
    "\"Самарская область\":\"Волго-Уральский\",\n",
    "\"Кировская область\":\"Волго-Камский\",\n",
    "\"Брянская область\":\"Центральный\",\n",
    "\"Московская область\":\"Центральный\",\n",
    "\"Смоленская область\":\"Центральный\",\n",
    "\"Рязанская область\":\"Центральный\",\n",
    "\"Калужская область\":\"Центральный\",\n",
    "\"Тамбовская область\":\"Центрально-Чернозёмный\",\n",
    "\"Ростовская область\":\"Южный\",\n",
    "\"Республика Марий Эл\":\"Волго-Камский\",\n",
    "\"Курганская область\":\"Уральско-Сибирский\",\n",
    "\"Мурманская область\":\"Северно-Западный\",\n",
    "\"Республика агестан\":\"Северно-Кавказский\",\n",
    "\"Республика Карелия\":\"Северно-Западный\",\n",
    "\"Ивановская область\":\"Центральный\",\n",
    "\"Кемеровская область\":\"Южно-Сибирский\",\n",
    "\"Вологодская область\":\"Северно-Западный\",\n",
    "\"Магаданская область\":\"Дальневосточный\",\n",
    "\"Республика Татарстан\":\"Волго-Камский\",\n",
    "\"Воронежская область\":\"Центрально-Чернозёмный\",\n",
    "\"Белгородская область\":\"Центрально-Чернозёмный\",\n",
    "\"Ярославская область\":\"Центральный\",\n",
    "\"Ульяновская область\":\"Волго-Уральский\",\n",
    "\"Владимирская область\":\"Центральный\",\n",
    "\"Новосибирская область\":\"Южно-Сибирский\",\n",
    "\"Ленинградская область\":\"Северно-Западный\",\n",
    "\"Астраханская область\":\"Южный\",\n",
    "\"Удмуртская Республика\":\"Волго-Камский\",\n",
    "\"Архангельская область\":\"Северный\",\n",
    "\"Чувашская Республика\":\"Волго-Камский\",\n",
    "\"Республика Калмыкия\":\"Южный\",\n",
    "\"Республика Башкортостан\":\"Волго-Уральский\",\n",
    "\"Республика Саха (Якутия)\":\"Дальневосточный\",\n",
    "\"Кабардино-Балкарская Республика\":\"Северно-Кавказский\",\n",
    "\"Республика Северная Осетия-Алания\":\"Северно-Кавказский\",\n",
    "\"Республика Тыва\":\"Ангаро-Енисейский\",\n",
    "\"Карачаево-Черкесская Республика\":\"Северно-Кавказский\",\n",
    "\"Еврейская автономная область\":\"Дальневосточный\",\n",
    "\"Томская область\":\"Южно-Сибирский\",\n",
    "\"Амурская область\":\"Дальневосточный\",\n",
    "\"Пензенская область\":\"Волго-Уральский\",\n",
    "\"Республика Бурятия\":\"Дальневосточный\",\n",
    "\"Республика Хакасия\":\"Ангаро-Енисейский\",\n",
    "\"Республика Мордовия\":\"Волго-Камский\",\n",
    "\"Саратовская область\":\"Волго-Уральский\",\n",
    "\"Костромская область\":\"Центральный\",\n",
    "\"Республика Ингушетия\":\"Северно-Кавказский\",\n",
    "\"Чеченская Республика\":\"Северно-Кавказский\",\n",
    "\"Калининградская область\":\"Северно-Западный\",\n",
    "\"Псковская область\":\"Северно-Западный\",\n",
    "\"Республика Коми\":\"Северный\",\n",
    "\"Оренбургская область\":\"Волго-Уральский\",\n",
    "\"Новгородская область\":\"Северно-Западный\",\n",
    "\"Челябинская область\":\"Уральско-Сибирский\",\n",
    "\"Ставропольский край\":\"Северно-Кавказский\",\n",
    "\"Свердловская область\":\"Уральско-Сибирский\",\n",
    "\"Волгоградская область\":\"Южный\",\n",
    "\"Республика Адыгея\":\"Южный\",\n",
    "\"Ханты-Мансийский автономный округ\":\"Уральско-Сибирский\",\n",
    "\"Тюменская область\":\"Уральско-Сибирский\",\n",
    "\"Омская область\":\"Южно-Сибирский\",\n",
    "\"Приморский край\":\"Дальневосточный\",\n",
    "\"Хабаровский край\":\"Дальневосточный\",\n",
    "\"Сахалинская область\":\"Дальневосточный\",\n",
    "\"Чукотский автономный округ\":\"Дальневосточный\",\n",
    "\"Красноярский край\":\"Ангаро-Енисейский\",\n",
    "\"Иркутская область\":\"Ангаро-Енисейский\",\n",
    "\"Забайкальский край\":\"Дальневосточный\",\n",
    "\"Камчатский край\":\"Дальневосточный\",\n",
    "\"Ненецкий автономный округ\":\"Северный\",\n",
    "\"Ямало-Ненецкий автономный округ\":\"Уральско-Сибирский\",\n",
    "\"Республика Дагестан\":\"Северно-Кавказский\",\n",
    "\"Краснодарский край\":\"Южный\",\n",
    "\"Нижегородская область\":\"Волго-Камский\",\n",
    "\"Неизвестно\" : \"Неизвестно\" }"
   ]
  },
  {
   "cell_type": "code",
<<<<<<< HEAD
   "execution_count": 695,
   "id": "4b430fbe",
   "metadata": {},
   "outputs": [],
=======
   "execution_count": 123,
   "id": "ac2b00f8",
   "metadata": {},
   "outputs": [
    {
     "data": {
      "text/plain": [
       "1445"
      ]
     },
     "execution_count": 123,
     "metadata": {},
     "output_type": "execute_result"
    }
   ],
>>>>>>> cd21851a77a182f2d44359f732377b005a91ebda
   "source": [
    "def convert_to_region(lat, long):\n",
    "    coord = np.array([lat, long])\n",
    "    for reg, area in loaded_dict.items():\n",
    "        if area.contains_point(coord):\n",
    "            return reg\n",
    "    \n",
    "    return 'Неизвестно'\n",
    "\n",
    "with open('../../data/saved_dictionary.pkl', 'rb') as f:\n",
    "    loaded_dict = pickle.load(f)\n",
    "    \n",
    "l = []\n",
    "for v in loaded_dict.values():\n",
    "    l.append(mplPath.Path(np.array(v['0'])))\n",
    "    \n",
    "loaded_dict = dict(zip(list(loaded_dict.keys()), l))\n",
    "df.loc[:, 'Region'] = df.apply(lambda x: convert_to_region(x.latitude, x.longtitude), axis = 1)\n",
    "\n",
    "df.loc[:, 'Region'] = df.loc[:, \"Region\"].map(mapper)"
   ]
  },
  {
   "cell_type": "code",
<<<<<<< HEAD
   "execution_count": 696,
   "id": "9164ce10",
   "metadata": {},
   "outputs": [],
=======
   "execution_count": 124,
   "id": "b2c08eae",
   "metadata": {},
   "outputs": [
    {
     "data": {
      "text/plain": [
       "719"
      ]
     },
     "execution_count": 124,
     "metadata": {},
     "output_type": "execute_result"
    }
   ],
>>>>>>> cd21851a77a182f2d44359f732377b005a91ebda
   "source": [
    "df.loc[(df[\"city\"].isin([\"посёлок Русский\",\"Владивосток\",\"Артёмовский городской округ\",\n",
    "                        \"посёлок городского типа Забайкальск\",\"поселок городского типа Забайкальск\",\n",
    "                        \"городской округ Владивостокский\"])) & (df[\"Region\"] == 'Неизвестно'), \"Region\"] = \"Дальневосточный\"\n",
    "df.loc[(df[\"city\"].isin([\"посёлок городского типа Кореиз\",\"село Скворцово\",\"посёлок Розовый\",\n",
    "                        \"село Дубки\",\"Керчь\",\"посёлок Волна\",\"Анапа\",\"Евпатория\",\n",
    "                        \"Симферополь\", \"Ялта\", \"Севастополь\", \"Таганрог\", \n",
    "                        \"посёлок городского типа Сириус\", \"Новороссийск\",\"Дербент\",\n",
    "                        \"село Яблочное\",\"посёлок городского типа Гвардейское\",\"село Белоглинка\",\n",
    "                        \"Избербаш\",\"Махачкала\",\"Республика Крым\",\"посёлок городского типа Красногвардейское\",\n",
    "                        \"Сочи\",\"село Фонтаны\",])) & (df[\"Region\"] == 'Неизвестно'), \"Region\"] = \"Северно-Кавказский\"\n",
    "df.loc[(df[\"city\"].isin([\"Архангельск\",\"Полярный\"])) & (df[\"Region\"] == 'Неизвестно'), \"Region\"] = \"Северный\"\n",
    "df.loc[(df[\"city\"].isin([\"Санкт-Петербург\",\"Ломоносов\",\"Сосновый Бор\"]) & (df[\"Region\"] == 'Неизвестно')) , \"Region\"] = \"Северно-Западный\"\n",
    "df.loc[(df[\"city\"].isin([\"посёлок Новый\"])) & (df[\"Region\"] == 'Неизвестно'), \"Region\"] = \"Уральский\"\n",
    "\n",
    "df.loc[:, \"Region\"] = df['Region'].str.replace('^Уральский$','Северный и Уральский')\n",
    "df.loc[:, \"Region\"] = df['Region'].str.replace('^Северный$','Северный и Уральский')"
   ]
  },
  {
   "cell_type": "code",
<<<<<<< HEAD
   "execution_count": 697,
   "id": "cc7a9665",
=======
   "execution_count": 125,
   "id": "c0582f98",
>>>>>>> cd21851a77a182f2d44359f732377b005a91ebda
   "metadata": {},
   "outputs": [],
   "source": [
    "df.drop(['city', 'skills'], axis = 1, inplace = True)"
   ]
  },
  {
   "cell_type": "code",
<<<<<<< HEAD
   "execution_count": 698,
   "id": "6e2878fe",
=======
   "execution_count": 126,
   "id": "917fdf6c",
>>>>>>> cd21851a77a182f2d44359f732377b005a91ebda
   "metadata": {},
   "outputs": [],
   "source": [
    "df.to_csv('../../data/final_data_salary.csv', index = False)"
   ]
  },
  {
   "cell_type": "markdown",
   "id": "df35834e",
   "metadata": {},
   "source": [
    "## Анализ количественных признаков"
   ]
  },
  {
   "cell_type": "code",
<<<<<<< HEAD
   "execution_count": 470,
   "id": "f9ed3c6f",
   "metadata": {},
   "outputs": [],
=======
   "execution_count": 127,
   "id": "d1dfa45e",
   "metadata": {},
   "outputs": [
    {
     "data": {
      "text/plain": [
       "(501, 14)"
      ]
     },
     "execution_count": 127,
     "metadata": {},
     "output_type": "execute_result"
    }
   ],
>>>>>>> cd21851a77a182f2d44359f732377b005a91ebda
   "source": [
    "df = pd.read_csv('../../data/final_data_salary.csv')"
   ]
  },
  {
   "cell_type": "code",
<<<<<<< HEAD
   "execution_count": 471,
   "id": "a1fa608d",
=======
   "execution_count": 128,
   "id": "9b3a8dd7",
>>>>>>> cd21851a77a182f2d44359f732377b005a91ebda
   "metadata": {},
   "outputs": [],
   "source": [
    "df_numeric = df.loc[:, ['latitude', 'longtitude', 'salary']]"
   ]
  },
  {
   "cell_type": "code",
<<<<<<< HEAD
   "execution_count": 472,
   "id": "6a239253",
   "metadata": {},
   "outputs": [
    {
     "data": {
      "text/html": [
       "<div>\n",
       "<style scoped>\n",
       "    .dataframe tbody tr th:only-of-type {\n",
       "        vertical-align: middle;\n",
       "    }\n",
       "\n",
       "    .dataframe tbody tr th {\n",
       "        vertical-align: top;\n",
       "    }\n",
       "\n",
       "    .dataframe thead th {\n",
       "        text-align: right;\n",
       "    }\n",
       "</style>\n",
       "<table border=\"1\" class=\"dataframe\">\n",
       "  <thead>\n",
       "    <tr style=\"text-align: right;\">\n",
       "      <th></th>\n",
       "      <th>latitude</th>\n",
       "      <th>longtitude</th>\n",
       "      <th>salary</th>\n",
       "    </tr>\n",
       "  </thead>\n",
       "  <tbody>\n",
       "    <tr>\n",
       "      <th>count</th>\n",
       "      <td>20133.000000</td>\n",
       "      <td>20133.000000</td>\n",
       "      <td>20133.000000</td>\n",
       "    </tr>\n",
       "    <tr>\n",
       "      <th>mean</th>\n",
       "      <td>55.034746</td>\n",
       "      <td>50.674378</td>\n",
       "      <td>68385.510156</td>\n",
       "    </tr>\n",
       "    <tr>\n",
       "      <th>std</th>\n",
       "      <td>4.112057</td>\n",
       "      <td>23.114345</td>\n",
       "      <td>44471.156199</td>\n",
       "    </tr>\n",
       "    <tr>\n",
       "      <th>min</th>\n",
       "      <td>23.608705</td>\n",
       "      <td>-117.780920</td>\n",
       "      <td>739.500000</td>\n",
       "    </tr>\n",
       "    <tr>\n",
       "      <th>25%</th>\n",
       "      <td>54.198566</td>\n",
       "      <td>37.544997</td>\n",
       "      <td>40000.000000</td>\n",
       "    </tr>\n",
       "    <tr>\n",
       "      <th>50%</th>\n",
       "      <td>55.749506</td>\n",
       "      <td>39.809390</td>\n",
       "      <td>55000.000000</td>\n",
       "    </tr>\n",
       "    <tr>\n",
       "      <th>75%</th>\n",
       "      <td>56.837849</td>\n",
       "      <td>57.522901</td>\n",
       "      <td>80970.000000</td>\n",
       "    </tr>\n",
       "    <tr>\n",
       "      <th>max</th>\n",
       "      <td>69.496790</td>\n",
       "      <td>158.679625</td>\n",
       "      <td>522000.000000</td>\n",
       "    </tr>\n",
       "  </tbody>\n",
       "</table>\n",
       "</div>"
      ],
      "text/plain": [
       "           latitude    longtitude         salary\n",
       "count  20133.000000  20133.000000   20133.000000\n",
       "mean      55.034746     50.674378   68385.510156\n",
       "std        4.112057     23.114345   44471.156199\n",
       "min       23.608705   -117.780920     739.500000\n",
       "25%       54.198566     37.544997   40000.000000\n",
       "50%       55.749506     39.809390   55000.000000\n",
       "75%       56.837849     57.522901   80970.000000\n",
       "max       69.496790    158.679625  522000.000000"
      ]
     },
     "execution_count": 472,
     "metadata": {},
     "output_type": "execute_result"
=======
   "execution_count": 129,
   "id": "cf5909a3",
   "metadata": {},
   "outputs": [
    {
     "ename": "KeyError",
     "evalue": "'salary_from'",
     "output_type": "error",
     "traceback": [
      "Traceback \u001b[0;36m(most recent call last)\u001b[0m:\n",
      "  File \u001b[1;32m\"/home/ivan/anaconda3/lib/python3.9/site-packages/pandas/core/indexes/base.py\"\u001b[0m, line \u001b[1;32m3629\u001b[0m, in \u001b[1;35mget_loc\u001b[0m\n    return self._engine.get_loc(casted_key)\n",
      "  File \u001b[1;32m\"pandas/_libs/index.pyx\"\u001b[0m, line \u001b[1;32m136\u001b[0m, in \u001b[1;35mpandas._libs.index.IndexEngine.get_loc\u001b[0m\n",
      "  File \u001b[1;32m\"pandas/_libs/index.pyx\"\u001b[0m, line \u001b[1;32m163\u001b[0m, in \u001b[1;35mpandas._libs.index.IndexEngine.get_loc\u001b[0m\n",
      "  File \u001b[1;32m\"pandas/_libs/hashtable_class_helper.pxi\"\u001b[0m, line \u001b[1;32m5198\u001b[0m, in \u001b[1;35mpandas._libs.hashtable.PyObjectHashTable.get_item\u001b[0m\n",
      "\u001b[0;36m  File \u001b[0;32m\"pandas/_libs/hashtable_class_helper.pxi\"\u001b[0;36m, line \u001b[0;32m5206\u001b[0;36m, in \u001b[0;35mpandas._libs.hashtable.PyObjectHashTable.get_item\u001b[0;36m\u001b[0m\n",
      "\u001b[0;31mKeyError\u001b[0m\u001b[0;31m:\u001b[0m 'salary_from'\n",
      "\nThe above exception was the direct cause of the following exception:\n",
      "Traceback \u001b[0;36m(most recent call last)\u001b[0m:\n",
      "  File \u001b[1;32m\"/tmp/ipykernel_15545/3147198672.py\"\u001b[0m, line \u001b[1;32m1\u001b[0m, in \u001b[1;35m<module>\u001b[0m\n    js_skills['salary_from'] = js_skills['salary_from'].fillna(0)\n",
      "  File \u001b[1;32m\"/home/ivan/anaconda3/lib/python3.9/site-packages/pandas/core/frame.py\"\u001b[0m, line \u001b[1;32m3505\u001b[0m, in \u001b[1;35m__getitem__\u001b[0m\n    indexer = self.columns.get_loc(key)\n",
      "\u001b[0;36m  File \u001b[0;32m\"/home/ivan/anaconda3/lib/python3.9/site-packages/pandas/core/indexes/base.py\"\u001b[0;36m, line \u001b[0;32m3631\u001b[0;36m, in \u001b[0;35mget_loc\u001b[0;36m\u001b[0m\n\u001b[0;31m    raise KeyError(key) from err\u001b[0m\n",
      "\u001b[0;31mKeyError\u001b[0m\u001b[0;31m:\u001b[0m 'salary_from'\n"
     ]
>>>>>>> cd21851a77a182f2d44359f732377b005a91ebda
    }
   ],
   "source": [
    "df_numeric.describe()"
   ]
  },
  {
   "cell_type": "code",
<<<<<<< HEAD
   "execution_count": 473,
   "id": "e92775cc",
   "metadata": {},
   "outputs": [],
=======
   "execution_count": 130,
   "id": "cdaac464",
   "metadata": {},
   "outputs": [
    {
     "data": {
      "text/plain": [
       "(501, 14)"
      ]
     },
     "execution_count": 130,
     "metadata": {},
     "output_type": "execute_result"
    }
   ],
>>>>>>> cd21851a77a182f2d44359f732377b005a91ebda
   "source": [
    "stats = []\n",
    "\n",
    "for (i, col) in enumerate(df_numeric.columns):\n",
    "    val = df_numeric[col]\n",
    "    \n",
    "    stats.append ([col, val.mean(), val.median(), val.min(), val.max(), val.std(), \n",
    "                     scipy.stats.skew(val, axis=0, bias=True), \n",
    "                     kurtosis(val, axis=0, bias=True), \n",
    "                     val.quantile(0.05), val.quantile(0.95), \n",
    "                     val.quantile(0.75) - val.quantile(0.25),\n",
    "                     0])"
   ]
  },
  {
   "cell_type": "code",
<<<<<<< HEAD
   "execution_count": 474,
   "id": "9bfcd1d5",
   "metadata": {},
   "outputs": [],
   "source": [
    "stats = pd.DataFrame(stats, columns=['Переменная', 'Среднее', 'Медиана', 'Минимум', 'Максимум', \n",
    "                                     'Ст. Отклонение', 'Асимметрия', 'Эксцесс', \n",
    "                                     '5% Проц', '95% Проц', 'Интерквартильный размах', 'Пропущенные наблюдения'])"
=======
   "execution_count": 131,
   "id": "36d5634e",
   "metadata": {},
   "outputs": [],
   "source": [
    "ones_skills = df[df.skills.str.contains('1с', flags=re.IGNORECASE)]"
   ]
  },
  {
   "cell_type": "code",
   "execution_count": 132,
   "id": "99b24ca2",
   "metadata": {
    "scrolled": true
   },
   "outputs": [
    {
     "data": {
      "text/plain": [
       "(2058, 14)"
      ]
     },
     "execution_count": 132,
     "metadata": {},
     "output_type": "execute_result"
    }
   ],
   "source": [
    "ones_skills.shape"
>>>>>>> cd21851a77a182f2d44359f732377b005a91ebda
   ]
  },
  {
   "cell_type": "code",
<<<<<<< HEAD
   "execution_count": 475,
   "id": "777ff455",
   "metadata": {},
   "outputs": [
    {
     "data": {
      "text/html": [
       "<div>\n",
       "<style scoped>\n",
       "    .dataframe tbody tr th:only-of-type {\n",
       "        vertical-align: middle;\n",
       "    }\n",
       "\n",
       "    .dataframe tbody tr th {\n",
       "        vertical-align: top;\n",
       "    }\n",
       "\n",
       "    .dataframe thead th {\n",
       "        text-align: right;\n",
       "    }\n",
       "</style>\n",
       "<table border=\"1\" class=\"dataframe\">\n",
       "  <thead>\n",
       "    <tr style=\"text-align: right;\">\n",
       "      <th></th>\n",
       "      <th>Переменная</th>\n",
       "      <th>Среднее</th>\n",
       "      <th>Медиана</th>\n",
       "      <th>Минимум</th>\n",
       "      <th>Максимум</th>\n",
       "      <th>Ст. Отклонение</th>\n",
       "      <th>Асимметрия</th>\n",
       "      <th>Эксцесс</th>\n",
       "      <th>5% Проц</th>\n",
       "      <th>95% Проц</th>\n",
       "      <th>Интерквартильный размах</th>\n",
       "      <th>Пропущенные наблюдения</th>\n",
       "    </tr>\n",
       "  </thead>\n",
       "  <tbody>\n",
       "    <tr>\n",
       "      <th>0</th>\n",
       "      <td>latitude</td>\n",
       "      <td>55.034746</td>\n",
       "      <td>55.749506</td>\n",
       "      <td>23.608705</td>\n",
       "      <td>69.496790</td>\n",
       "      <td>4.112057</td>\n",
       "      <td>-0.999656</td>\n",
       "      <td>2.263413</td>\n",
       "      <td>45.049795</td>\n",
       "      <td>59.971717</td>\n",
       "      <td>2.639283</td>\n",
       "      <td>0</td>\n",
       "    </tr>\n",
       "    <tr>\n",
       "      <th>1</th>\n",
       "      <td>longtitude</td>\n",
       "      <td>50.674378</td>\n",
       "      <td>39.809390</td>\n",
       "      <td>-117.780920</td>\n",
       "      <td>158.679625</td>\n",
       "      <td>23.114345</td>\n",
       "      <td>1.799294</td>\n",
       "      <td>3.542513</td>\n",
       "      <td>30.307716</td>\n",
       "      <td>92.981642</td>\n",
       "      <td>19.977904</td>\n",
       "      <td>0</td>\n",
       "    </tr>\n",
       "    <tr>\n",
       "      <th>2</th>\n",
       "      <td>salary</td>\n",
       "      <td>68385.510156</td>\n",
       "      <td>55000.000000</td>\n",
       "      <td>739.500000</td>\n",
       "      <td>522000.000000</td>\n",
       "      <td>44471.156199</td>\n",
       "      <td>2.368214</td>\n",
       "      <td>8.599219</td>\n",
       "      <td>26100.000000</td>\n",
       "      <td>156600.000000</td>\n",
       "      <td>40970.000000</td>\n",
       "      <td>0</td>\n",
       "    </tr>\n",
       "  </tbody>\n",
       "</table>\n",
       "</div>"
      ],
      "text/plain": [
       "   Переменная       Среднее       Медиана     Минимум       Максимум  \\\n",
       "0    latitude     55.034746     55.749506   23.608705      69.496790   \n",
       "1  longtitude     50.674378     39.809390 -117.780920     158.679625   \n",
       "2      salary  68385.510156  55000.000000  739.500000  522000.000000   \n",
       "\n",
       "   Ст. Отклонение  Асимметрия   Эксцесс       5% Проц       95% Проц  \\\n",
       "0        4.112057   -0.999656  2.263413     45.049795      59.971717   \n",
       "1       23.114345    1.799294  3.542513     30.307716      92.981642   \n",
       "2    44471.156199    2.368214  8.599219  26100.000000  156600.000000   \n",
       "\n",
       "   Интерквартильный размах  Пропущенные наблюдения  \n",
       "0                 2.639283                       0  \n",
       "1                19.977904                       0  \n",
       "2             40970.000000                       0  "
      ]
     },
     "execution_count": 475,
     "metadata": {},
     "output_type": "execute_result"
=======
   "execution_count": 133,
   "id": "7b5e7b86",
   "metadata": {},
   "outputs": [
    {
     "ename": "KeyError",
     "evalue": "'salary_from'",
     "output_type": "error",
     "traceback": [
      "Traceback \u001b[0;36m(most recent call last)\u001b[0m:\n",
      "  File \u001b[1;32m\"/home/ivan/anaconda3/lib/python3.9/site-packages/pandas/core/indexes/base.py\"\u001b[0m, line \u001b[1;32m3629\u001b[0m, in \u001b[1;35mget_loc\u001b[0m\n    return self._engine.get_loc(casted_key)\n",
      "  File \u001b[1;32m\"pandas/_libs/index.pyx\"\u001b[0m, line \u001b[1;32m136\u001b[0m, in \u001b[1;35mpandas._libs.index.IndexEngine.get_loc\u001b[0m\n",
      "  File \u001b[1;32m\"pandas/_libs/index.pyx\"\u001b[0m, line \u001b[1;32m163\u001b[0m, in \u001b[1;35mpandas._libs.index.IndexEngine.get_loc\u001b[0m\n",
      "  File \u001b[1;32m\"pandas/_libs/hashtable_class_helper.pxi\"\u001b[0m, line \u001b[1;32m5198\u001b[0m, in \u001b[1;35mpandas._libs.hashtable.PyObjectHashTable.get_item\u001b[0m\n",
      "\u001b[0;36m  File \u001b[0;32m\"pandas/_libs/hashtable_class_helper.pxi\"\u001b[0;36m, line \u001b[0;32m5206\u001b[0;36m, in \u001b[0;35mpandas._libs.hashtable.PyObjectHashTable.get_item\u001b[0;36m\u001b[0m\n",
      "\u001b[0;31mKeyError\u001b[0m\u001b[0;31m:\u001b[0m 'salary_from'\n",
      "\nThe above exception was the direct cause of the following exception:\n",
      "Traceback \u001b[0;36m(most recent call last)\u001b[0m:\n",
      "  File \u001b[1;32m\"/tmp/ipykernel_15545/2360568520.py\"\u001b[0m, line \u001b[1;32m1\u001b[0m, in \u001b[1;35m<module>\u001b[0m\n    ones_skills['salary_from'] = ones_skills['salary_from'].fillna(0)\n",
      "  File \u001b[1;32m\"/home/ivan/anaconda3/lib/python3.9/site-packages/pandas/core/frame.py\"\u001b[0m, line \u001b[1;32m3505\u001b[0m, in \u001b[1;35m__getitem__\u001b[0m\n    indexer = self.columns.get_loc(key)\n",
      "\u001b[0;36m  File \u001b[0;32m\"/home/ivan/anaconda3/lib/python3.9/site-packages/pandas/core/indexes/base.py\"\u001b[0;36m, line \u001b[0;32m3631\u001b[0;36m, in \u001b[0;35mget_loc\u001b[0;36m\u001b[0m\n\u001b[0;31m    raise KeyError(key) from err\u001b[0m\n",
      "\u001b[0;31mKeyError\u001b[0m\u001b[0;31m:\u001b[0m 'salary_from'\n"
     ]
>>>>>>> cd21851a77a182f2d44359f732377b005a91ebda
    }
   ],
   "source": [
    "stats"
   ]
  },
  {
   "cell_type": "code",
<<<<<<< HEAD
   "execution_count": 476,
   "id": "7629ef4d",
   "metadata": {},
   "outputs": [
    {
     "data": {
      "image/png": "iVBORw0KGgoAAAANSUhEUgAAAt0AAAJcCAYAAAAl2xiPAAAAOXRFWHRTb2Z0d2FyZQBNYXRwbG90bGliIHZlcnNpb24zLjUuMSwgaHR0cHM6Ly9tYXRwbG90bGliLm9yZy/YYfK9AAAACXBIWXMAAAsTAAALEwEAmpwYAABLg0lEQVR4nO3deZhcZZ3//fc3HZaQZicsw2KAQDAmEELSGRSxA+KwKYOCggwIIyIqMgo6LLJElkEQRpxHBkRE9IcGMijIAIKCNogoJIFAWIIECENYhLA3BiHJ9/mjqmPRdKerSZ+uqu7367r6StWpc059+k5BPn36PudEZiJJkiSpOENqHUCSJEka6CzdkiRJUsEs3ZIkSVLBLN2SJElSwSzdkiRJUsEs3ZIkSVLBLN2SJElSwSzdkvpERMyPiEUR0R4Rf4mIH0VEc61zafCIiE9HxMzyZ/CZiPhVROxU61ySBJZuSX3ro5nZDEwAJgEn1TiPBomIOAY4H/gPYANgM+C/gX1qGEuSlrF0S+pzmfkU8CtgLEBEHBYRD0XEaxHxWER8vnL9iNgnImZHxKsR8WhE7F5e3hYRb5SPXLaXj6TPr9hufkScEBEPRsRL5aPrq1a8vnd5vy9HxB0RsW2n9708It6s2PeCitdWiYhzI+L/ykfuL4qIYRWvj4yIrMi2JCIOL782JCKOL38vL0TE9IhYp9N2QzvlmFp+3NopxyfL6x9esexfy+P5UkTcFBHv6ervofN7RcSHO43f4RFxc8XzjIhR5ceblcfk8k77OiIini4fST6203idX37t6fLjVcqvvVweozfK49QxZgd1NR4V+1wQEa1dfW+d1lsTOA34Umb+IjNfz8y3MvN/M/PrEbFjxXu+VfF33h4Rm/U0puV8R5c/uwsj4tsRMaTi9VHL+SyMiognI+ID5eeHRsTt5cfDyp/Lf6vYV7ef2YjYNCJ+ERHPlz9X3+tpbCTVD0u3pD4XEZsCewL3lBc9B+wNrAEcBnwnIiaU120BfgJ8HVgL2BmYX7G7ozKzuXwE/aNdvN1BwD8BWwJbUz66Xt7/pcDngXWB7wPXdhTBjqjAmeV979Fpv2eX9zceGAVsDJxS8XrH/z/XLG//+4rXjgb+GfgQ8A/AS8AFXWRfrohYCTgdeKZi2T8DJwIfB0aU33dab/ddhdOBF7pYPgXYCvgIcHxEfLi8/BvAP1Iar+2AFsp/F5m5VnmMjgT+2PH3mZk/7aOsOwKrAld39WJm/rHiM/RT4JyKDP9X5ZjuC0yk9FucfYB/rXhtSPl9mjt/FjJzHrA/cEVEbNWxvFza/x9wV2Z+t7ys289sRDQB1wFPACMpfR6v6M0gSaotS7ekvnRNRLwM3A7cSulX/WTm9Zn5aJbcCvwa+GB5m88Cl2bmbzJzaWY+lZlze/Ge38vMJzPzReBM4MDy8s8B38/MOzNzSWb+GPgbpWLYYRjwZucdRkSUt/9qZr6Yma+Vv5cDKlZbGViamUu6yPR54BuZuSAz/wZMBfbr6mhuDz4P3An8udOyszLzocxcXM41vruj3e9G+ejqjsCPu3j5m+UjyXOAH/H38T4IOC0zn8vM54FvAgf3VaYerAssLI/Hu1HNmJ5d/iz8H6VpLAdWvLYqXXyOOmTmnyj9wPYrSqUe4FxgfeCYilWX95ltofQD3NfL4/9GZt7+Lr9fSTVg6ZbUl/65fFTzPZn5xcxcBBARe0TEnyLixXIp3xNYr7zNpsCjK/CeT1Y8foJSMQF4D3Bs+df0L5ffd9OK1wE2BJ7vYp8jgNWAWRXb3sjfCxPAOpSOYHflPcDVFds+BCyhNNe4w8KK1z/ZeQcRsTrw78DJXez7uxXbvkjpiP3G3WR5N84uv+9bXbzW3Xj/Q/l5V69VY2F5asdDEfEvvQlL6Yj8eu/ih5oO1Yxpd983dP85qrRbeb+nATsAuwKjKRXvyhzdfWY3BZ5YgR8sJNWYpVtSocrTOX5O6cjeBpm5FnADpVIDpTKz5Qq8xaYVjzcDnq7Y75nlHwI6vlbLzGnlXCtRmnN+bxf7XAgsAt5XsW3HNJIOW/P2I9CVngT26PTeq5bnundYr+M1YHoX+/g6MD0zn+i0/Eng8532PSwz7+gmS2/tQukHoq4yQffj/TSl0tjVa9VYLzPXBo4CLoveXfnmj8AblKb0vBvVjGl33zfA9nT9OQIgInajNDVlZ0pTSl6mVMIvpHTUvDJHd5/ZJ4HNVuAHC0k1ZumWVLSVgVUoHQlcHBF7UJoP3OGHwGERsWuUTkDcOCK26cX+vxQRm0TpRMUTgSvLy38AHBkRk6NkeETsVT6CDKW55c8CMzvvMDOXlrf/TkSsD1DO9U/lx5sC/wZc002mi4AzO6YnRMSIiOjNVTRWL+c7s5t9nxAR7yvve82I2L8X++7JVEpTGLKb10+OiNXK738Yfx/vacBJ5e91PUrTKS5/F+//EqUfyKKnFTtk5ivl97sgIv65nG+l8m9YzqliF9WM6dcjYu2Kv/sry+uuARxKN/Pqo3Ri738DX8zMN4A7gEcz8zngLErTWHYvr768z+xdlOb2f6u8fNWOkzMlNQZLt6RCledDH03pyOlLwKeBaytev4vyyZXAK5TmgvdmfvLPKM0Rf6z8dUZ5vzMpzZH9Xvl951EqR0TEQZROUtsceC0i2inNt/2HiLiovN/jytv8KSJeBW6mNB0A4CagrZy5K98tf4+/jojXgD8Bk3vxPa0B/FdmvmP6SmZeTWn6xxXlXPfzzpNAO5sfpSuiTAM2idJVQRYAXRXSezKzbTn7upXSuNwCnJuZvy4vP4PSDzD3AXOAu8vLqtWRcTpwRPlzs0yUrnTyQHcbZ+Z/UpoffRKlH/CepHTU/Jqe3rjKMf0lMAuYDVxP6YdFKH3P2wDfj/LVSyidr/C9KF0Z5STgT5l5c6f9UZ7vfySlHxaGLe8zWz534KOUTur9P2AB8KmevjdJ9SO6P5ghSfUtSpe/O7yrQtPDdocCIzNzaqflmwBnZOahfRRxwIiIkcDjwEqDbV5xRCSwVflKJJ1fm5+ZI7tYfgmlz9L84hNKagQe6ZY0GL0OvNrF8sWUTnaTqvVMN8tfpPR5kiTAI92SGti7PdKt3vNId9dHuiWpWpZuSZIkqWBOL5EkSZIKNqCu97nWWmvlqFGjah2jaq+//jrDhw+vdYxeabTMjZYXzNwfGi0vmLk/NFpeMHN/aLS8YOb+MGvWrIWZOaLnNf9uQJXuDTbYgJkz33HJ3brV1tZGa2trrWP0SqNlbrS8YOb+0Gh5wcz9odHygpn7Q6PlBTP3h4jofOOyHjm9RJIkSSqYpVuSJEkqmKVbkiRJKpilW5IkSSqYpVuSJEkqmKVbkiRJKpilW5IkSSqYpVuSJEkqmKVbkiRJKpilW5IkSSqYpVuSJEkqmKVbkiRJKpilW5IkSSqYpVuSJEkqmKVbkiRJKpilW5IkSSqYpVuSJEkqmKVbkiRJKpilW5IkSSqYpVuSJEkqmKVbkiRJKpilW5IkSSqYpVuSJEkqmKVbkiRJKtjQWgeQJEmDy8jjr++X95n/rb365X2kanikW5IkSSqYpVuSJEkqmKVbkiRJKpilW5IkSSqYpVuSJEkqmKVbkiRJKpilW5IkSSqYpVuSJEkqmKVbkiRJKpilW5IkSSqYpVuSJEkqmKVbkiRJKpilW5IkSSqYpVuSJEkqmKVbkiRJKpilW5IkSSqYpVuSJEkqmKVbkiRJKlihpTsido+IhyNiXkQcv5z1JkXEkojYr2LZ/IiYExGzI2JmkTklSZKkIg0tascR0QRcAOwGLABmRMS1mflgF+udDdzUxW6mZObCojJKkiRJ/aHII90twLzMfCwz3wSuAPbpYr0vAz8HniswiyRJklQzkZnF7Lg0VWT3zDy8/PxgYHJmHlWxzsbAz4BdgB8C12XmVeXXHgdeAhL4fmZe3M37HAEcATBixIgdpk+fXsj3U4T29naam5trHaNXGi1zo+UFM/eHRssLZu4PjZYXGjfz468s6Zf3Grfxmiu8j0YdYzMXa8qUKbMyc2JvtilsegkQXSzr3PDPB47LzCUR71j9A5n5dESsD/wmIuZm5m3v2GGpjF8MMHr06GxtbV3h4P2lra2NRsoLjZe50fKCmftDo+UFM/eHRssLjZv5vNtf75f3mn9Q6wrvo1HH2Mz1p8jSvQDYtOL5JsDTndaZCFxRLtzrAXtGxOLMvCYznwbIzOci4mpK01XeUbolSZKkelfknO4ZwFYRsXlErAwcAFxbuUJmbp6ZIzNzJHAV8MXMvCYihkfE6gARMRz4CHB/gVklSZKkwhR2pDszF0fEUZSuStIEXJqZD0TEkeXXL1rO5hsAV5ePgA8FfpaZNxaVVZIkSSpSkdNLyMwbgBs6LeuybGfmoRWPHwO2KzKbJEmS1F+8I6UkSZJUMEu3JEmSVDBLtyRJklQwS7ckSZJUMEu3JEmSVDBLtyRJklQwS7ckSZJUMEu3JEmSVDBLtyRJklQwS7ckSZJUMEu3JEmSVDBLtyRJklQwS7ckSZJUMEu3JEmSVDBLtyRJklQwS7ckSZJUMEu3JEmSVDBLtyRJklQwS7ckSZJUMEu3JEmSVDBLtyRJklQwS7ckSZJUMEu3JEmSVDBLtyRJklQwS7ckSZJUMEu3JEmSVDBLtyRJklQwS7ckSZJUMEu3JEmSVDBLtyRJklQwS7ckSZJUMEu3JEmSVDBLtyRJklQwS7ckSZJUMEu3JEmSVDBLtyRJklQwS7ckSZJUMEu3JEmSVDBLtyRJklQwS7ckSZJUMEu3JEmSVDBLtyRJklQwS7ckSZJUMEu3JEmSVDBLtyRJklQwS7ckSZJUsEJLd0TsHhEPR8S8iDh+OetNioglEbFfb7eVJEmS6l1hpTsimoALgD2AMcCBETGmm/XOBm7q7baSJElSIyjySHcLMC8zH8vMN4ErgH26WO/LwM+B597FtpIkSVLdi8wsZselqSK7Z+bh5ecHA5Mz86iKdTYGfgbsAvwQuC4zr6pm24p9HAEcATBixIgdpk+fXsj3U4T29naam5trHaNXGi1zo+UFM/eHRssLZu4PjZYXGjfz468s6Zf3Grfxmiu8j0YdYzMXa8qUKbMyc2JvthlaVBgguljWueGfDxyXmUsi3rZ6NduWFmZeDFwMMHr06Gxtbe110Fppa2ujkfJC42VutLxg5v7QaHnBzP2h0fJC42Y+7/bX++W95h/UusL7aNQxNnP9KbJ0LwA2rXi+CfB0p3UmAleUC/d6wJ4RsbjKbSVJkqSGUGTpngFsFRGbA08BBwCfrlwhMzfveBwRl1GaXnJNRAztaVtJkiSpURRWujNzcUQcRemqJE3ApZn5QEQcWX79ot5uW1RWSZIkqUhFHukmM28Abui0rMuynZmH9rStJEmS1Ii8I6UkSZJUMEu3JEmSVDBLtyRJklQwS7ckSZJUMEu3JEmSVDBLtyRJklQwS7ckSZJUMEu3JEmSVDBLtyRJklQwS7ckSZJUMEu3JEmSVDBLtyRJklQwS7ckSZJUMEu3JEmSVDBLtyRJklQwS7ckSZJUMEu3JEmSVDBLtyRJklQwS7ckSZJUMEu3JEmSVDBLtyRJklQwS7ckSZJUMEu3JEmSVDBLtyRJklQwS7ckSZJUMEu3JEmSVDBLtyRJklQwS7ckSZJUMEu3JEmSVDBLtyRJklQwS7ckSZJUMEu3JEmSVDBLtyRJklQwS7ckSZJUMEu3JEmSVDBLtyRJklQwS7ckSZJUMEu3JEmSVDBLtyRJklQwS7ckSZJUMEu3JEmSVDBLtyRJklQwS7ckqWFdffXVRARz586tdRRJWi5LtySpYU2bNo2ddtqJK664otZRJGm5LN2SpIbU3t7OH/7wB374wx++o3Sfc845jBs3ju22247jjz8egHnz5vHhD3+Y7bbbjgkTJvDoo4/S1tbG3nvvDcCrr77KmmuuybnnngtAa2srO+6447J9HnfccUTEsuff/va3mTRpEttuuy2nnnoqAF//+tcZP348G264IRtvvDHjx4/nlFNOoa2tjZ133pl9992XMWPGcOSRR7J06VIAmpubl+3zgx/84LI8L774Iq2trWy77baMHj2a1tbWd4zBjTfeyIgRI9huu+0YNWoU06ZNW/ba1KlTl2Vobm5m5syZAFx++eW0tLQwfvx4Pv/5z7NkyRIAmpqaGD9+PKNGjeLAAw8kMwH4z//8T8aOHcvYsWM5//zze/m3JKmDpVuS1JCuueYadt99d7beemvWWWcd7r77bgB+9atfcc0113DnnXdy77338u///u8AHHTQQXzpS1/i3nvv5Y477mCjjTZ62/5+9rOf8Z73vOdty5YuXcqDDz7IkiVLuPvuuxk+fDgAv/71r3nkkUe46667mD17NrNmzeK2227j29/+NrNnz+bII4/kq1/9KrNnz+a0004D4K677uK8885jzpw5PProo/ziF79423tdf/31vPLKK8ue//SnP2Xs2LHcd999/PSnP+12HD71qU9x7733ctZZZ/E///M/y5YvWbKEY489ltmzZzNx4kQAHnroIa688kr+8Ic/MHv2bJqampbte9iwYcyePZs5c+bwu9/9jpdffplZs2bxox/9iDvvvJM//elP/OAHP+Cee+6p/i9J0jKFlu6I2D0iHo6IeRFxfBev7xMR90XE7IiYGRE7Vbw2PyLmdLxWZE5JUuOZNm0aBxxwAAAHHHDAsqO8N998M4cddhirrbYaAOussw6vvfYaTz31FPvuuy8Aq6666rLXAZ566ikefPDBZa93OOyww/jRj37Er371K3bfffdly3/961/z61//mu23354JEyYwd+5cHnnkkeXmbWlpYYsttqCpqYkDDzyQ22+/fdlrmcmZZ57JiSeeuGxZU1MTr732Wo/jcOWVV7Ltttvy2c9+li984QvLli9atIhVV131bevecsstzJo1i0mTJjF+/HhuueUWHnvssWXrjx8/nk033ZS9996btddem9tvv519992X4cOH09zczMc//nF+//vf95hJ0jsNLWrHEdEEXADsBiwAZkTEtZn5YMVqtwDXZmZGxLbAdGCbitenZObCojJKkhrTCy+8wG9/+1vuv/9+IoIlS5YQEZxzzjlk5tumgQDLpkp055vf/CYHH3wwr7/++tuWT5w4kZ///Oc8+uijXHjhhcumkWQmJ5xwAp///Oerztw5U+XzadOm0drayoYbbrhs2cEHH8yvfvUrNtxwQ9Zcc813HJnv8KlPfYrvfe97PPLII+y99948/PDDADz99NPstNNOb1s3M/nMZz7DWWed9Y79dBzpXrx4Mbvttht33HFHj+MmqXpFHuluAeZl5mOZ+SZwBbBP5QqZ2Z5//y96OOB/3ZKkHl111VUccsghPPHEE8yfP58nn3ySzTffnNtvv52PfOQjXHrppfz1r38FSnOj11hjDTbZZBOuueYaAP72t78te/3RRx9l/vz5TJo0qcv32n///VlnnXXYYIMNli37p3/6Jy699FLa29uB0pHy5557brmZ77rrLh5//HGWLl3KlVdeuawQL126lO985zvLpsF0aG5uZujQofzkJz9Z7vSSDquvvjovvPACAAsXLuT3v/89kydPfts6u+66K1ddddWyrC+++CJPPPHE29YZOnQoq622GgsXLmTnnXfmmmuu4a9//Suvv/46V199NR/84Ad7zCLpnQo70g1sDDxZ8XwBMLnzShGxL3AWsD6wV8VLCfw6IhL4fmZe3NWbRMQRwBEAI0aMoK2trU/C94f29vaGyguNl7nR8oKZ+0Oj5QUzd3bhhRfy6U9/+m3733bbbTn33HP56le/ytixYxkzZgxDhw5l8uTJfO5zn+Ooo47itNNO49hjj6WpqYmpU6fy3HPPMXfuXL785S/T3t7O/PnzGTZsGG1tbcvmNI8ePZqtt96atrY2lixZQltbGyuvvPKykyihdJT4xBNPZOONNwZ4234AZs+ezXvf+17+9V//lccff5xtt92Wtddem7a2NhYtWsSECROYPXs2s2fP5oUXXqCtrY1p06axxhprsPLKKzNr1ixefvnld4znG2+8weWXX86NN97IW2+9xeGHH05bWxuHHHIIBxxwAA8//DAPP/zw276XAw88kPe///1kJk1NTXzlK19hzJgxLFq0iFGjRrF48WJGjhzJsGHDePXVV9lpp5143/veB8Bee+3FK6+8skJ/r+3t7Rw7bsm73r43+uLz5397/aMRM/dWFPWro4jYH/inzDy8/PxgoCUzv9zN+jsDp2Tmh8vP/yEzn46I9YHfAF/OzNuW956jR4/Ojl+rNYK2trYuz0avZ42WudHygpn7Q6PlBTP3hyLztrW1ce6553Ldddf1+X4baYyhlPnQG1/vecU+MP9be/W8Ug8adYzNXKyImJWZE3uzTZHTSxYAm1Y83wR4uruVy4V6y4hYr/z86fKfzwFXU5quIkmSJDWcIkv3DGCriNg8IlYGDgCurVwhIkZF+UySiJgArAy8EBHDI2L18vLhwEeA+wvMKklSYVpbW/v8KLekxlLYnO7MXBwRRwE3AU3ApZn5QEQcWX79IuATwCER8RawCPhU+UomGwBXl/v4UOBnmXljUVklSZKkIhV5IiWZeQNwQ6dlF1U8Phs4u4vtHgO2KzKbJEm1tHjxYpYuXcrKK69c6yiS+oF3pJQkqQYuueQSTjrppFrHkNRPLN2SJNXANttswx/+8Idax5DUTyzdkiTVwA477MDs2bN56623ah1FUj+wdEuSVAOrr746m2++OXPmzKl1FEn9wNItSVKNTJ48mbvuuqvWMST1A0u3JEk10tLSwp133lnrGJL6gaVbkqQaaWlp8Ui3NEhYuiVJqpGxY8fyxBNP8Oqrr9Y6iqSCWbolSaqRlVZaifHjxzNz5sxaR5FUMEu3JEk15MmU0uBg6ZYkqYY8mVIaHCzdkiTVkCdTSoODpVuSpBoaOXIkb731Fk899VSto0gqkKVbkqQaiginmEiDgKVbkqQac4qJNPBZuiVJqjGvYCINfJZuSZJqbNKkScycOZMlS5bUOoqkgli6JUmqsXXWWYcNNtiAuXPn1jqKpIJYuiVJqgNOMZEGNku3JEl1wCuYSAObpVuSpDrgkW5pYLN0S5JUB7bbbjsefvhh/vrXv9Y6iqQCWLolSaoDq666KmPGjOGee+6pdRRJBbB0S5JUJ5xiIg1clm5JkuqEJ1NKA5elW5KkOuHt4KWBy9ItSVKd2HrrrXnxxRd5/vnnax1FUh+zdEuSVCeGDBnCpEmTPNotDUCWbkmS6ognU0oDk6VbkqQ64smU0sBk6ZYkqY50nEyZmbWOIqkPWbolSaojG264IauvvjqPPvporaNI6kOWbkmS6oxTTKSBx9ItSVKd8Xrd0sBj6ZYkqc54BRNp4LF0S5JUZyZMmMB9993Hm2++WesokvqIpVuSpDrT3NzMlltuyX333VfrKJL6iKVbkqQ65BQTaWCxdEuSVIe8gok0sFi6JUmqQx7plgYWS7ckSXVozJgxLFiwgJdffrnWUST1AUu3JEl1aOjQoWy//fbMnDmz1lEk9QFLtyRJdcopJtLAYemWJKlOeTKlNHBYuiVJqlMdpTszax1F0gqydEuSVKc222wzABYsWFDjJJJWVKGlOyJ2j4iHI2JeRBzfxev7RMR9ETE7ImZGxE7VbitJ0kAXEU4xkQaIwkp3RDQBFwB7AGOAAyNiTKfVbgG2y8zxwL8Cl/RiW0mSBjxPppQGhh5Ld0SMiIhzI+KGiPhtx1cV+24B5mXmY5n5JnAFsE/lCpnZnn+fqDYcyGq3lSRpMGhpabF0SwNA9HRyRkT8GrgS+BpwJPAZ4PnMPK6H7fYDds/Mw8vPDwYmZ+ZRndbbFzgLWB/YKzP/WO225deOAI4AGDFixA7Tp0/v+buuE+3t7TQ3N9c6Rq80WuZGywtm7g+NlhfM3B/qNW97ezuf/OQn+d///V+ampre8Vo9Zl6e9vZ2Hn9lSb+817iN11zhfTTqGJu5WFOmTJmVmRN7s83QKtZZNzN/GBH/lpm3ArdGxK1VbBddLHtHw8/Mq4GrI2Jn4HTgw9VuW97+YuBigNGjR2dra2sV0epDW1sbjZQXGi9zo+UFM/eHRssLZu4P9Zx3s802Y/3112fcuHFvW17PmbvT1tbGebe/3i/vNf+g1hXeR6OOsZnrTzVzut8q//lMROwVEdsDm1Sx3QJg04rnmwBPd7dyZt4GbBkR6/V2W0mSBjJPppQaXzWl+4yIWBM4ltIUk0uAr1ax3Qxgq4jYPCJWBg4Arq1cISJGRUSUH08AVgZeqGZbSZIGC+d1S42vmuklT2fmK8ArwJRqd5yZiyPiKOAmoAm4NDMfiIgjy69fBHwCOCQi3gIWAZ8qn1jZ5ba9+cYkSRooJk+ezCWXXFLrGJJWQDWl+xJgwrvZeWbeANzQadlFFY/PBs6udltJkgajbbfdlkceeYTXX3+d4cOH1zqOpHehmuklQyNi7YhYp/Kr8GSSJAmAVVZZhbFjx3L33XfXOoqkd6ma0j0amNXpa2aRoSRJ0tt5kxypsVUzveTBzNy+8CSSJKlbLS0tXHut1xSQGlVht4GXJEl9xyPdUmOrpnTvCBARq0dE49wqSJKkAWTUqFG8+uqr/OUvf6l1FEnvQjWle1RE3APcDzwYEbMiYmzBuSRJUoWIYNKkSR7tlhpUNaX7YuCYzHxPZm5G6SY5FxcbS5IkdeYUE6lxVVO6h2fm7zqeZGYb4EVCJUnqZ94OXmpc1Vy95LGIOBn4f+Xn/wI8XlwkSZLUlZaWFmbMmMHSpUsZMsRrIUiNpJr/Yv8VGAH8ovy1HnBYkaEkSdI7rb/++qy11lrMmzev1lEk9VI1R7o/kJlHF55EkiT1qGOKydZbb13rKJJ6oZoj3acVnkKSJFWlpaXFkymlBlTNke7VImJ7ICoXZubdxUSSJEndmTx5MtOnT691DEm9VE3p3hg4j7eX7gR2KSSRJEnq1oQJE7j//vv529/+VusoknqhmtI9LzMt2JIk1YHVVluNrbfemnvvvbfWUST1QjVzul8qPIUkSaqa1+uWGk81pftjEbFsvYhoiojVCswkSZKWw5MppcZTTem+Gags2cPKyyRJUg14O3ip8VRTulfNzPaOJ+XHHumWJKlG3vve9/LMM8/w2muv1TqKpCpVU7pfj4gJHU8iYgdgUXGRJEnS8jQ1NTFhwgTmzp1b6yiSqlTN1Uu+AvxPRDxdfr4R8KnCEkmSpB5NnjzZ0i01kB6PdGfmDGAb4AvAF4H3ZuasooNJkqTutbS08NBDD9U6hqQqVXOkG2A0MAZYFdg+IsjMnxQXS5IkLU/Hke7MJCJ63kBSTfV4pDsiTgX+v/LXFOAc4GMF55IkScux8cYbM2TIEJ544olaR5FUhWpOpNwP2BV4NjMPA7YDVik0lSRJWq6IYJtttvHSgVKDqKZ0L8rMpcDiiFgDeA7YothYkiSpJ+9973st3VKDqKZ0z4yItYAfALOAuwH/C5ckqca22WYbbwcvNYgeT6TMzC+WH14UETcCa2TmfcXGkiRJPRk9ejT33HMPixcvZujQaq+NIKkWqjmRckLHF7AOMLTyZjmSJKk2mpub2WyzzXjggQdqHUVSD6r5sfi8isc7UJpiksAuhSSSJElVa2lp4c4772S77bardRRJy1HNzXGmdHwBj5YfW7glSaoDLS0tnkwpNYBqTqQEoHwy5UrFRZEkSb01efJkS7fUAHqcXhIRc8oPNwROKTaOJEnqjXHjxvHYY4/R3t5Oc3NzreNI6kY1R7r3BvYENs3MCwvOI0mSemHllVdm2223ZdasWbWOImk5qpnT/URmPpmZb/RHIEmS1DsdJ1NKql9Vz+mWJEn1yZMppfpn6ZYkqcF5MqVU/6o5kXKzrpZn5v/1fRxJktRbW2yxBa+//jrPPPMMG220Ua3jSOpCNUe65wLXAdcDD5X/vK7IUJIkqXoR4RQTqc5VU7ofzsxtM3Mc8EhmjsvMbYsOJkmSqucUE6m+VVO6h0XEyuWb42wWEZdFxKoF55IkSb3gFUyk+tbjnG7gp8CT5ccnAs8BtwAfKCqUJEnqnUmTJjFz5kyWLl3KkCFeJ0GqNz2W7sw8PSLOLz9+DSAi7i04lyRJ6oURI0aw7rrr8uc//5ltttmm1nEkdVLVj8Llsj0sIjYrX83krWJjSZKk3nKKiVS/eizdEfGxiHgEeBy4FZgP/KrgXJIkqZc8mVKqX9Uc6T4d+Efgz5m5ObAr8IdCU0mSpF7zSLdUv6op3W9l5gvAkIgYkpm/A8YXG0uSJPXW9ttvz0MPPcQbb7xR6yiSOqmmdL8cEc3AbcBPI+K7wOJqdh4Ru0fEwxExLyKO7+L1gyLivvLXHRGxXcVr8yNiTkTMjoiZ1X5DkiQNVsOGDWObbbZh9uzZtY4iqZNqSvc+wCLgq8CNwKPAR3vaKCKagAuAPYAxwIERMabTao8DHyrfbOd04OJOr0/JzPGZObGKnJIkDXpOMZHqUzWXDHy94umPe7HvFmBeZj4GEBFXUCrwD1bs+46K9f8EbNKL/UuSpE5aWlq4+eabax1DUieRmctfIeI1IIFhlI54B5CZuUYP2+0H7J6Zh5efHwxMzsyjuln/a8A2Fes/DrxUfu/vZ2bno+Ad2x0BHAEwYsSIHaZPn77c76eetLe309zcXOsYvdJomRstL5i5PzRaXjBzf2i0vNB15vnz53PSSSdx+eWX1yjV8rW3t/P4K0v65b3GbbzmCu9joHwu6l2jZZ4yZcqs3s7EqOZI9+oAEXFPZm7fi31HV7vrcsWIKcBngZ0qFn8gM5+OiPWB30TE3My8rYt8F1OeljJ69OhsbW3tRcTaamtro5HyQuNlbrS8YOb+0Gh5wcz9odHyQteZlyxZwtFHH824ceNYd911axNsOdra2jjv9td7XrEPzD+odYX3MVA+F/WuETP3Vm/uE7v8Q+LvtADYtOL5JsDTnVeKiG2BS4B9yldJKb1Z5tPlP58DrqY0XUWSJC1HU1MTEydOZMaMGbWOIqlCNTfHmRAREyjdkXL7iuc9mQFsFRGbR8TKwAHAtZ32vRnwC+DgzPxzxfLhEdFxhH048BHg/qq/K0mSBjFvkiPVnx6nlwDnlf98FvjP8uMEdlneRpm5OCKOAm4CmoBLM/OBiDiy/PpFwCnAusB/RwTA4vL8mA2Aq8vLhgI/y8wbe/ONSZI0WLW0tHDJJZfUOoakCtXM6Z7ybneemTcAN3RadlHF48OBw7vY7jFgu87LJUlSzyZPnswRRxxBZlI+gCWpxqqe0x0RoyLi8oiYXnkTG0mSVF/+4R/+gVVWWYXHH3+81lEklfXmRMoLgd8B03jnTWwkSVIdaWlpcV63VEd6U7rXzcwfZubVwJtFBZIkSSvOkyml+lLN1Us+HhEfB9aKiH0j4hPAOsVHkyRJ75a3g5fqSzVXL/lo+c9bgY+VH/ujsyRJdWyHHXbg3nvv5a233mKllVaqdRxp0Kvm6iWH9UcQSZLUd9ZYYw1GjhzJ/fffz/bb9+aG0pKK0GPpjohru1qemR/rarkkSaoPHVNMLN1S7VUzveS9dHEtbUmSVN86rmBy5JFH1jqKNOhVU7pfy8xbC08iSZL61OTJk/ne975X6xiSqO6SgdtFxMsR8WxE3B0R/19ErFd4MkmStELGjh3L/PnzefXVV2sdRRr0eizdmdlE6RKBWwKfAp4FflxwLkmStIJWWmklxo8fz6xZs2odRRr0qro5TmYuzczXM/ORzDwTuLHgXJIkqQ94vW6pPlRzc5yIiH+JiFPKzzcD/K9XkqQG4O3gpfpQzZHu/wZ2BA4sP38NuKCwRJIkqc94O3ipPlRTuidn5peANwAy8yVg5UJTSZKkPjFy5Ej+9re/8dRTT9U6ijSoVVO634qIJiABImIEsLTQVJIkqU9EhFNMpDpQTen+L+BqYP2IOBO4HfiPQlNJkqQ+4xQTqfaquWTgT4F/B84CngH+OTP/p+hgkiSpb3gFE6n2erwjZURcnJlHAHP7IY8kSepjkyZNYubMmSxZsoSmpqZax5EGpWqml0wsPIUkSSrMuuuuywYbbMDDDz9c6yjSoNXjkW5gk4j4r84LM/PoAvJIkqQCdEwxGTNmTK2jSINSNUe6FwGzuviSJEkNwpMppdqq5kj3i5n548KTSJKkwrS0tHDZZZfVOoY0aFVzpNvCLUlSgxs/fjwPP/wwixYtqnUUaVCqpnTfFhETOn8VnkySJPWZVVddlTFjxnDPPffUOoo0KFUzvWQm8AjwFBDlZQnsUlQoSZLU9zpOpnz/+99f6yjSoFPNke7dgGcpnTz5icyckpkWbkmSGoy3g5dqp5o7Ut6SmR8C/ghcHxHfiIjVio8mSZL6klcwkWqnx9IdEcdExDHASOBq4FPAYwXnkiRJfWzrrbfmhRde4Pnnn691FGnQqWZ6yeoVX8OAnwMXFhlKkiT1vSFDhjBx4kRmzJhR6yjSoNPjiZSZ+c3+CCJJkorXMcVkzz33rHUUaVCpZnrJbyJirYrna0fETYWmkiRJhei4gomk/lXN9JIRmflyx5PMfAlYv7BEkiSpMB1XMMnMWkeRBpVqSveSiNis40lEvIfSdbolSVKD2WijjRg+fDiPPvporaNIg0o1N8f5BnB7RNxafr4zcERxkSRJUpE6jnaPGjWq1lGkQaOa63TfCEwArix/7ZCZzumWJKlBeb1uqf9VM70E4P1Aa/nrH4sKI0mSiufJlFL/q+bqJd8C/g14sPz1bxFxVtHBJElSMXbYYQfuu+8+3nzzzVpHkQaNao507wnslpmXZualwO7AXsXGkiRJRWlubmbLLbdkzpw5tY4iDRrVTi9Zq+LxmgXkkCRJ/cgpJlL/qqZ0nwXcExGXRcSPgVnAfxQbS5IkFanjCiZLly7lz3/+c63jSANeNVcvmUbp5MlflL92zMwrig4mSZL63pIlS7j66quXle4bb7yRL3/5y7WOJQ141ZxIuTOwFfAy8BKwdXmZJElqQCeffDK33347Tz75JDfccAM77bRTrSNJA141N8f5evnPnYDfA0HpjpS3FRVKkiQVo6mpiWuuuYYPfOADbLHFFtx444385Cc/qXUsacDrsXRn5kcBIuKezPxY8ZEkSVKRRo0axWWXXcb+++/P4sWLmTRpUq0jSQNetVcvgdLRbUmSNADssccefPKTn2SzzTZjpZVWqnUcacDr8Uh3RBxTfrh+xWMy8z+r2HZ34LtAE3BJZn6r0+sHAceVn7YDX8jMe6vZVpIkrZhLL72UTI+pSf2hmjndq5f//EHF4x5FRBNwAbAbsACYERHXZuaDFas9DnwoM1+KiD2Ai4HJVW4rSZJWUETUOoI0KFRTumdl5nXvYt8twLzMfAwgIq4A9qF0K3kAMvOOivX/BGxS7baSJElSo4iefq0UEXdn5oRe7zhiP2D3zDy8/PxgYHJmHtXN+l8DtsnMw3uzbUQcARwBMGLEiB2mT5/e26g1097eTnNzc61j9EqjZW60vGDm/tBoecHM/aHR8kLjZn78lSX98l7jNl7xm2g36hibuVhTpkyZlZkTe7NNNUe6V4uI7SldKnCZzLy7h+26+n1Vlw0/IqYAn6V0WcJebZuZF1OalsLo0aOztbW1h1j1o62tjUbKC42XudHygpn7Q6PlBTP3h0bLC42b+bzbX++X95p/UOsK76NRx9jM9aea0r0xcB5vL8IJ7NLDdguATSuebwI83XmliNgWuATYIzNf6M22kiRJUiOopnTPy8yeCnZXZgBbRcTmwFPAAcCnK1eIiM0o3Vr+4Mz8c2+2lSRJkhpFNaX7pXez48xcHBFHATdRuuzfpZn5QEQcWX79IuAUYF3gv8tnTy/OzIndbftuckiSJEm1Vk3p3jMixlKaUvJoZr5R7c4z8wbghk7LLqp4fDhweLXbSpKk4ow8/vrC3+PYcYuprn5IA0u3d6SMiKERcQ7wJPBj4HLgyYg4JyK8dZUkSZJUpeXdBv7bwDrAFpm5Q2ZuD2wJrAWc2w/ZJEmSpAFheaV7b+Bzmflax4LMfBX4ArBn0cEkSZKkgWJ5pTuzizvnZOYSurlmtiRJkqR3Wl7pfjAiDum8MCL+BZhbXCRJkiRpYFne6cNfAn4REf8KzKJ0dHsSMAzYtx+ySZIkSQNCt6U7M58CJkfELsD7KN2R8leZeUt/hZMkSZIGgh4vlJmZvwV+2w9ZJEmSpAFpeXO6JUmSJPUBS7ckSZJUMEu3JEmSVDBLtyRJklQwS7ckSZJUMEu3JEmSVDBLtyRJklQwS7ckSZJUMEu3JEmSVDBLtyRJklQwS7ckSZJUMEu3JEmSVDBLtyRJklQwS7ckSZJUMEu3JEmSVDBLtyRJklQwS7ckSZJUMEu3JEmSVDBLtyRJklQwS7ckSZJUMEu3JEmSVDBLtyRJklQwS7ckSZJUMEu3JEmSVDBLtyRJklQwS7ckSZJUMEu3JEmSVDBLtyRJklQwS7ckSZJUMEu3JEmSVDBLtyRJklQwS7ckSZJUMEu3JEmSVDBLtyRJklQwS7ckSZJUMEu3JEmSVDBLtyRJklQwS7ckSZJUsEJLd0TsHhEPR8S8iDi+i9e3iYg/RsTfIuJrnV6bHxFzImJ2RMwsMqckSZJUpKFF7TgimoALgN2ABcCMiLg2Mx+sWO1F4Gjgn7vZzZTMXFhURkmSJKk/FHmkuwWYl5mPZeabwBXAPpUrZOZzmTkDeKvAHJIkSVJNRWYWs+OI/YDdM/Pw8vODgcmZeVQX604F2jPz3IpljwMvAQl8PzMv7uZ9jgCOABgxYsQO06dP7+tvpTDt7e00NzfXOkavNFrmRssLZu4PjZYXzNwfGi0v9H3mOU+90mf76s4Gw+Aviwp/GwDGbbzmCu/Dz0X/aLTMU6ZMmZWZE3uzTWHTS4DoYllvGv4HMvPpiFgf+E1EzM3M296xw1IZvxhg9OjR2dra+q7C1kJbWxuNlBcaL3Oj5QUz94dGywtm7g+Nlhf6PvOhx1/fZ/vqzrHjFnPenCLrx9/NP6h1hffh56J/NGLm3ipyeskCYNOK55sAT1e7cWY+Xf7zOeBqStNVJEmSpIZTZOmeAWwVEZtHxMrAAcC11WwYEcMjYvWOx8BHgPsLSypJkiQVqLDf72Tm4og4CrgJaAIuzcwHIuLI8usXRcSGwExgDWBpRHwFGAOsB1wdER0Zf5aZNxaVVZIkDTwj+2C6zLHjFi932s38b+21wu+hwaHQSVWZeQNwQ6dlF1U8fpbStJPOXgW2KzKbJEmS1F+8I6UkSZJUMEu3JEmSVDBLtyRJklQwS7ckSZJUMEu3JEmSVDBLtyRJklQwS7ckSZJUMEu3JEmSVDBLtyRJklQwS7ckSZJUMEu3JEmSVDBLtyRJklQwS7ckSZJUMEu3JEmSVDBLtyRJklQwS7ckSZJUMEu3JEmSVDBLtyRJklQwS7ckSZJUMEu3JEmSVDBLtyRJklQwS7ckSZJUMEu3JEmSVDBLtyRJklQwS7ckSZJUMEu3JEmSVDBLtyRJklQwS7ckSZJUMEu3JEmSVDBLtyRJklQwS7ckSZJUMEu3JEmSVDBLtyRJklQwS7ckSZJUMEu3JEmSVDBLtyRJklQwS7ckSZJUMEu3JEmSVDBLtyRJklQwS7ckSZJUMEu3JEmSVDBLtyRJklQwS7ckSZJUMEu3JEmSVDBLtyRJklQwS7ckSZJUsEJLd0TsHhEPR8S8iDi+i9e3iYg/RsTfIuJrvdlWkiRJahSFle6IaAIuAPYAxgAHRsSYTqu9CBwNnPsutpUkSZIaQpFHuluAeZn5WGa+CVwB7FO5QmY+l5kzgLd6u60kSZLUKCIzi9lxxH7A7pl5ePn5wcDkzDyqi3WnAu2Zee672PYI4AiAESNG7DB9+vRCvp8itLe309zcXOsYvdJomRstL5i5PzRaXjBzf2i0vND3mec89Uqf7as7GwyDvywq/G36TE95x228Zv+FqZKf5eJNmTJlVmZO7M02Q4sKA0QXy6pt+FVvm5kXAxcDjB49OltbW6t8i9pra2ujkfJC42VutLxg5v7QaHnBzP2h0fJC32c+9Pjr+2xf3Tl23GLOm1Nk/ehbPeWdf1Br/4Wpkp/l+lTk9JIFwKYVzzcBnu6HbSVJkqS6UmTpngFsFRGbR8TKwAHAtf2wrSRJklRXCvv9TmYujoijgJuAJuDSzHwgIo4sv35RRGwIzATWAJZGxFeAMZn5alfbFpVVkiRJKlKhk6oy8wbghk7LLqp4/CylqSNVbStJkiQ1Iu9IKUmSJBXM0i1JkiQVzNItSZIkFczSLanPNTU1MX78eLbbbjsmTJjAHXfcUfW2t912G3vuuSctLS3svffeBaaUJKn/NM7V6SU1jGHDhjF79mwAbrrpJk444QRuvfXWHrd78MEHOemkk7jsssvYYostCk4pSVL/8Ui3pEK9+uqrrL322kDpjmOdj14vXLiQkSNHAnDZZZcREey9996MGzeOK6+8ctl2O++8M/vuuy9jxozhyCOPZOnSpQBMmzaNcePGMXbsWI477rhl+73xxhuZMGEC2223HbvuuisAU6dO5dxzz33b+1911VUceuihRXzrkiQt45FuSX1u0aJFjB8/njfeeINnnnmG3/72t1Vt9/zzz7PyyiszZ84cFi5cyKRJk9h5550BuOuuu3jwwQd5z3vew+67784vfvEL3v/+93Pccccxa9Ys1l57bT7ykY9wzTXX8IEPfIDPfe5z3HbbbWy++ea8+OKLRX67kiT1yNItqc9VTi/54x//yCGHHML9998PwO9//3vGjx9PRPDlL3+Zj33sY8u2y0wOPPBAmpqa2GCDDfjQhz7EjBkzWGONNWhpaVk25eTAAw/k9ttvZ6WVVqK1tZURI0YAcNBBB3HbbbfR1NTEzjvvzOabbw7AOuuss+w9vvOd7zBs2DA22GADzjvvvP4YDkmSLN2SirXjjjuycOFCnn/+eQA++MEPct1117Fw4UK22WYbPvzhDy9bd4011uh2PxHxjueZ2eW6mfmO9Tt89atfZeLEiSxevJhjjjmGY445prffkiRJveacbkmFmjt3LkuWLGHdddd92/LVV1+doUOHsmTJkmXLJk+ezJVXXsmSJUt4/vnnue2222hpaQFK00sef/xxli5dypVXXslOO+3E5MmTufXWW1m4cCFLlixh2rRpfOhDH2LHHXfk1ltv5fHHHwfocnrJuuuuy5tvvlngdy5J0t95pFtSn+uY0w2lo84//vGPaWpqAuCOO+5gp5124vXXX+erX/0qq6+++rLtDjjgAO644w623XZbmpqaOOecc9hwww2ZO3cuO+64I8cffzxz5sxZdlLlkCFDOOuss5gyZQqZyZ577sk+++wDwMUXX8zHP/5xli5dyvrrr89vfvMbAC644AKam5tZaaWVOOuss3jttdf6d3AkSYOSpVtSn6s8el2ptbW1y6PO8+fPB0rX977gggu63Ha11VZbdjWTSp/+9Kf59Kc//Y7le+yxB3vsscfblk2dOpWpU6fS1tZGa2vrsuX77bdfd9+KJEl9wuklkiRJUsE80i2p7rW2tr7tyLQkSY3GI92SJElSwSzdkhrWggUL+N3vflfrGJIk9cjSLalhtbe3c8ABB3gFEklS3bN0S2pY22yzDbvtthvnn39+raNIkrRclm5JDW3q1Kl897vf5YUXXqh1FEmSumXpltTQRo0axSc+8QnOOeecWkeRJKlblm5JDe/kk0/mkksu4Zlnnql1FEmSumTpltTwNtlkEw499FDOPPPMWkeRJKlLlm5JA8Lxxx/PtGnTlt1SXpKkemLpljQgjBgxgi996Ut885vfrHUUSZLewdItacA49thjuf7665k7d26to0iS9DaWbkkDxpprrsmxxx7LKaecUusokiS9jaVb0oBy1FFHcfvtt3PPPffUOookSctYuiUNKMOHD+fEE0/kpJNOqnUUSZKWsXRLGnA+97nP8cADD/CHP/yh1lEkSQIs3ZIGoFVWWYVTTz2Vb3zjG2RmreNIkmTpljQwHXzwwTz77LPcfPPNtY4iSZKlW9LANHToUE477TROPPFEj3ZLkmrO0i1pwNpvv/1YvHgx11xzTa2jSJIGOUu3pAFryJAhnHHGGZx88sksWbKk1nEkSYOYpVvSgLbnnnuy5pprMm3atFpHkSQNYpZuSQNaRHDmmWdy6qmn8tZbb9U6jiRpkLJ0SxrwWltb2XLLLbn00ktrHUWSNEhZuiUNCmeccQann346ixYtqnUUSdIgNLTWASSpP7S0tDBp0iQuvPBCJkyYUOs4Uq+NPP76dyw7dtxiDu1iuaT645FuSYPG6aefztlnn81f//rXWkeRJA0ylm5Jg8bYsWPZbbfduOqqq2odRZI0yFi6JQ0qU6dO5ec//zkvvvhiraNIkgYRS7ekQWXUqFHsvPPOnHPOObWOIkkaRCzdkgadQw45hB/84Ac8++yztY4iSRokLN2SBp0RI0bwmc98hjPPPLPWUSRJg4SlW9KgdMIJJ/Czn/2M+fPn1zqKJGkQKLR0R8TuEfFwRMyLiOO7eD0i4r/Kr98XERMqXpsfEXMiYnZEzCwyp6TBZ8SIEXzxi1/ktNNOq3UUSdIgUNjNcSKiCbgA2A1YAMyIiGsz88GK1fYAtip/TQYuLP/ZYUpmLiwqo6TB7dhjj2WrrbZi7ty5bLPNNrWOI0kawIo80t0CzMvMxzLzTeAKYJ9O6+wD/CRL/gSsFREbFZhJkpZZa621OPbYYzn11FNrHUWSNMBFZhaz44j9gN0z8/Dy84OByZl5VMU61wHfyszby89vAY7LzJkR8TjwEpDA9zPz4m7e5wjgCIARI0bsMH369EK+nyK0t7fT3Nxc6xi90miZGy0vmLk/VOZdtGgRBx98MGeddRZbbbVVjZN1r9HGGBovc73nnfPUK+9YtsEw+MuiGoRZAY2Wuae84zZes//CVKneP8tdabTMU6ZMmZWZE3uzTWHTS4DoYlnnhr+8dT6QmU9HxPrAbyJibmbe9o6VS2X8YoDRo0dna2vrCkTuX21tbTRSXmi8zI2WF8zcHzrnPfXUU/nlL3/JddddV7tQPWi0MYbGy1zveQ89/vp3LDt23GLOm1PkP+V9r9Ey95R3/kGt/RemSvX+We5KI2burSKnlywANq14vgnwdLXrZGbHn88BV1OariJJfe6II45gzpw53HHHHbWOIkkaoIos3TOArSJi84hYGTgAuLbTOtcCh5SvYvKPwCuZ+UxEDI+I1QEiYjjwEeD+ArNKGsRWWWUVTj31VE488USKmnInSRrcCivdmbkYOAq4CXgImJ6ZD0TEkRFxZHm1G4DHgHnAD4AvlpdvANweEfcCdwHXZ+aNRWWVpEMOOYRnnnmGm2++udZRJEkDUKGTqjLzBkrFunLZRRWPE/hSF9s9BmxXZDZJqjR06FBOO+00vvGNb/DhD3+YiK5OOVGjGdnFPOjuHDtucZfzpnsy/1t79XobSYOPd6SUpLL999+fN998k1/+8pe1jiJJGmAa5/RhSSrYkCFDOOOMMzjhhBP46Ec/SlNTU60jqQH05mi6pMHLI92SVGGvvfZi9dVX54orrqh1FEnSAGLplqQKEcGZZ57JqaeeyltvvVXrOJKkAcLSLUmdTJkyhc0335wf/ehHtY4iSRogLN2S1IUzzzyT008/nTfeeKPWUSRJA4ClW5K60NLSwg477MCFF15Y6yiSpAHA0i1J3Tj99NM5++yzee2112odRZLU4CzdktSNcePGseuuu/Ld73631lEkSQ3O0i1Jy/HNb36T888/nxdffLHWUSRJDczSLUnLMWrUKD7+8Y/z7W9/u9ZRJEkNzNItST04+eSTufjii3n22WdrHUWS1KAs3ZLUg0033ZRDDjmE//iP/6h1FElSg7J0S1IVTjjhBH7605/yxBNP1DqKJKkBWbolqQrrr78+X/jCFzjttNNqHUWS1ICG1jqAJDWKr33ta2y11VY8/PDDjB49utZxJEkNxCPdklSltdZai2OOOYZTTz211lEkSQ3G0i1JvXD00Udz6623Mnv27FpHkSQ1EEu3JPXC8OHDOeGEEzj55JNrHUWS1EAs3ZLUS5///Oe57777+OMf/1jrKJKkBmHplqReWmWVVTjllFM48cQTycxax5EkNQBLtyS9C5/5zGd46qmnuOWWW2odRZLUACzdkvQuDB06lNNOO41vfOMbHu2WJPXI0i1J79InP/lJ3njjDa699tpaR5Ek1TlLtyS9S0OGDOGMM87gpJNOYunSpbWOI0mqY5ZuSVoBe++9N83NzVxxxRW1jiJJqmOWbklaARHBmWeeyamnnspbb71V6ziSpDo1tNYBJKnR7bLLLrznPe/hsssu43Of+1yt4zSEkcdfX+sIktSvPNItSX3gzDPP5LTTTuONN96odRRJUh2ydEtSH5g8eTITJkzgoosuqnUUSVIdsnRLUh85/fTT+da3vkV7ezv7778/Tz75ZK0jSZLqhKVbkvrA0qVLed/73scuu+zCd7/7XebNm8fzzz9f61iSpDph6ZakPjBjxgy22GIL9t57b77zne8wZMgQFi9eXOtYkqQ64dVLJKkPTJ48mQsvvJDPfvazbLbZZjzzzDNeQlCStIxHuiWpj+y5557cfffdNDc388wzz7Bw4cJaR5Ik1QlLtyT1oY022oi2tja+8pWvMH78+FrHkSTVCaeXSFIfGzJkCN/5zndqHUOSVEc80i1JkiQVzCPdkiRJ79LI46/vl/eZ/629+uV9VByPdEuSJEkFs3RLkiRJBbN0S5IkSQWzdEuSJEkF80RKSZKkOtebEzaPHbeYQ9/FCZ6erFksS7ckSZK8EkvBnF4iSZIkFazQ0h0Ru0fEwxExLyKO7+L1iIj/Kr9+X0RMqHZbSZIkqVEUVrojogm4ANgDGAMcGBFjOq22B7BV+esI4MJebCtJkiQ1hCLndLcA8zLzMYCIuALYB3iwYp19gJ9kZgJ/ioi1ImIjYGQV20pSXeiPeZDHjltMa+HvIkkqSpGle2PgyYrnC4DJVayzcZXbAhARR1A6Sg7wt4i4fwUy97f1gIW1DtFLjZa50fKCmftDo+XlaFjv6H9prMw02Dgf3WB5wcz9odHyQv1njrO7XFzXmbswurcbFFm6o4tlWeU61WxbWph5MXAxQETMzMyJvQlZS42WFxovc6PlBTP3h0bLC2buD42WF8zcHxotL5i5P0TEzN5uU2TpXgBsWvF8E+DpKtdZuYptJUmSpIZQ5NVLZgBbRcTmEbEycABwbad1rgUOKV/F5B+BVzLzmSq3lSRJkhpCYUe6M3NxRBwF3AQ0AZdm5gMRcWT59YuAG4A9gXnAX4HDlrdtFW97cd9/J4VqtLzQeJkbLS+YuT80Wl4wc39otLxg5v7QaHnBzP2h13mjdOEQSZIkSUXxjpSSJElSwSzdkiRJUsEGROluxFvGR8T8iJgTEbPfzWVn+kNEXBoRz1Ve+zwi1omI30TEI+U/165lxkrd5J0aEU+Vx3l2ROxZy4ydRcSmEfG7iHgoIh6IiH8rL6/LcV5O3rod54hYNSLuioh7y5m/WV5er2PcXd66HeMOEdEUEfdExHXl53U5xh26yFvXY9zVvxsNMMZdZa73cV4rIq6KiLnl/9ftWM/j3E3euh3jiBhdkWt2RLwaEV+p8zHuLnOvxrnh53RH6ZbxfwZ2o3QJwhnAgZlZ13evjIj5wMTMrNsLwUfEzkA7pbuGji0vOwd4MTO/FaUfcNbOzONqmbNDN3mnAu2ZeW4ts3UnSndg3Sgz746I1YFZwD8Dh1KH47ycvJ+kTsc5IgIYnpntEbEScDvwb8DHqc8x7i7v7tTpGHeIiGOAicAambl3Pf//ArrMO5U6HuOu/t1ogDGezzszT6W+x/nHwO8z85IoXUFtNeBE6nScu8n7Fep4jDuUO9xTlG6A+CXqdIwrdcp8GL0Y54FwpHvZ7eYz802g45bxWkGZeRvwYqfF+wA/Lj/+MaXCVRe6yVvXMvOZzLy7/Pg14CFKd2Sty3FeTt66lSXt5acrlb+S+h3j7vLWtYjYBNgLuKRicV2OMXSbtxHV7Rg3oohYA9gZ+CFAZr6ZmS9Tp+O8nLyNYlfg0cx8gjod4y5UZu6VgVC6u7uVfL1L4NcRMStKt7JvFBuUr6VO+c/1a5ynGkdFxH1Rmn5SN7+u6iwiRgLbA3fSAOPcKS/U8TiXpxHMBp4DfpOZdT3G3eSFOh5j4Hzg34GlFcvqdozpOi/U9xh39e9GPY8xdP9vXb2O8xbA88CPojT16JKIGE79jnN3eaF+x7jSAcC08uN6HePOKjNDL8Z5IJTuqm8ZX2c+kJkTgD2AL5WnRqjvXQhsCYwHngHOq2mabkREM/Bz4CuZ+Wqt8/Ski7x1Pc6ZuSQzx1O6u21LRIytcaTl6iZv3Y5xROwNPJeZs2qdpRrLyVu3Y1zWiP9udJW5nsd5KDABuDAztwdeB+r5XLHu8tbzGANQngrzMeB/ap2lWl1k7tU4D4TSXc3t5utOZj5d/vM54GpK02QawV/K83o75vc+V+M8y5WZfykXmKXAD6jDcS7P2/058NPM/EV5cd2Oc1d5G2GcAcq/dm2jND+6bse4Q2XeOh/jDwAfK8/fvQLYJSIup37HuMu8dT7G3f27Ua9jDHSduc7HeQGwoOK3S1dRKrX1Os5d5q3zMe6wB3B3Zv6l/Lxex7jS2zL3dpwHQuluuFvGR8Tw8klolH8N9BHg/uVvVTeuBT5TfvwZ4Jc1zNKjjv+Ay/alzsa5fNLcD4GHMvM/K16qy3HuLm89j3NEjIiItcqPhwEfBuZSv2PcZd56HuPMPCEzN8nMkZT+H/zbzPwX6nSMu8tbz2O8nH836nKMofvM9TzOmfks8GREjC4v2hV4kDod5+7y1vMYVziQt0/TqMsx7uRtmXs7zg1/9RKAKF2i5Xz+fsv4M2ubaPkiYgtKP/FD6VdDP6vHzBExDWgF1gP+ApwKXANMBzYD/g/YPzPr4uTFbvK2Uvq1TwLzgc93zBmrBxGxE/B7YA5/n1t6IqV50nU3zsvJeyB1Os4RsS2lk3KaKB1omJ6Zp0XEutTnGHeX9/9Rp2NcKSJaga+VrwZSl2NcqVPeuh3j7v7dqOcxXk7muh1ngIgYT+kE25WBxyhdoWII9TvO43ln3v+ivsd4NUrn422Rma+Ul9XtZxm6zdyrz/KAKN2SJElSPRsI00skSZKkumbpliRJkgpm6ZYkSZIKZumWJEmSCmbpliRJkgpm6ZakBhMR7RWPR0bE/RXPWyPiutokkyR1x9ItSZIkFczSLUkDVERMjYivlR/vGhEZERPLz9sj4ryIuDsibomIEeXl4yPiTxFxX0RcHRFrR8QHI2J2RDwYEYvKj2eX1z8lImZExP0RcXH5rqWSpE4s3ZI0OJwKzKt4Phy4OzMnALeWXwf4CXBcZm5L6c6jp2bm7zNzPLAn8Ghmji8/B/heZk7KzLHAMGDv4r8VSWo8lm5JGuAi4hPADOCpisVLgSvLjy8HdoqINYG1MvPW8vIfAzv3sPspEXFnRMwBdgHe13fJJWngsHRL0sDWBPw7cFYP62VvdxwRqwL/DeyXmeOAHwCr9jqhJA0Clm5JGtj+Bbg+Mxd2Wj4E2K/8+NPA7Zn5CvBSRHywvPxgSlNPutNRsBdGRHPF/iRJnQytdQBJUq+tFhELyo+bgPUqnq8C3Fmx7gbAd7rYx+vA+yJiFvAK8Kny8s8AF0XEasBjwGHdhcjMlyPiB5Tmfs+nNIVFktSFyOz1bxQlSQ0uItozs7nWOSRpsHB6iSRJklQwj3RLkiRJBfNItyRJklQwS7ckSZJUMEu3JEmSVDBLtyRJklQwS7ckSZJUsP8fAtXofFH0BK8AAAAASUVORK5CYII=\n",
      "text/plain": [
       "<Figure size 864x720 with 1 Axes>"
      ]
     },
     "metadata": {
      "needs_background": "light"
     },
     "output_type": "display_data"
    }
   ],
   "source": [
    "fig, ax = plt.subplots(figsize=(12, 10))\n",
    "plt.hist(df.latitude, weights = np.ones_like(df.latitude) / len(df.latitude), bins = len(np.histogram_bin_edges(df.latitude, bins='sturges')) - 1) \n",
    "plt.ylabel('Относительная частота')\n",
    "plt.xlabel('Широта')\n",
    "ax.set_title('Распределение широты. Стерджес')\n",
    "\n",
    "plt.annotate('Выбросы', xy=(33, 0.01), xytext=(28, 0.085),\n",
    "             arrowprops={'arrowstyle':'->'}\n",
    "             ,horizontalalignment='center')\n",
    "\n",
    "plt.annotate('Ассиметрия влево', xy=(52, 0.2), xytext=(48, 0.35),\n",
    "             arrowprops={'arrowstyle':'->'}\n",
    "             ,horizontalalignment='center')\n",
    "\n",
    "ax.xaxis.set_ticks(np.arange(0, 80, 5))\n",
    "ax.yaxis.set_ticks(np.arange(0, 0.5, 0.05))\n",
    "\n",
    "ax.grid()\n",
    "plt.show()"
   ]
  },
  {
   "cell_type": "code",
   "execution_count": 477,
   "id": "ff732f32",
=======
   "execution_count": null,
   "id": "60e1b587",
   "metadata": {},
   "outputs": [],
   "source": []
  },
  {
   "cell_type": "code",
   "execution_count": 134,
   "id": "8e3d025f",
>>>>>>> cd21851a77a182f2d44359f732377b005a91ebda
   "metadata": {},
   "outputs": [
    {
     "data": {
      "image/png": "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\n",
      "text/plain": [
<<<<<<< HEAD
       "<Figure size 720x576 with 1 Axes>"
      ]
     },
     "metadata": {
      "needs_background": "light"
     },
     "output_type": "display_data"
=======
       "94143.0663271605"
      ]
     },
     "execution_count": 134,
     "metadata": {},
     "output_type": "execute_result"
>>>>>>> cd21851a77a182f2d44359f732377b005a91ebda
    }
   ],
   "source": [
    "fig, ax = plt.subplots(figsize=(10, 8))\n",
    "plt.hist(df.longtitude, weights = np.ones_like(df.longtitude) / len(df.longtitude), \n",
    "         bins = len(np.histogram_bin_edges(df.longtitude, bins='sturges')) - 1) \n",
    "plt.ylabel('Относительная частота')\n",
    "plt.xlabel('Долгота')\n",
    "ax.set_title('Распределение долготы. Стерджес')\n",
    "\n",
    "plt.annotate('Выбросы', xy=(-110, 0.001), xytext=(-90, 0.08),\n",
    "             arrowprops={'arrowstyle':'->'}\n",
    "             ,horizontalalignment='center')\n",
    "\n",
    "plt.annotate('Ассиметрия влево', xy=(15, 0.20), xytext=(-50, 0.32),\n",
    "             arrowprops={'arrowstyle':'->'}\n",
    "             ,horizontalalignment='center')\n",
    "\n",
    "\n",
    "ax.yaxis.set_ticks(np.arange(0, 0.5, 0.05))\n",
    "\n",
    "ax.grid()\n",
    "plt.show()"
   ]
  },
  {
   "cell_type": "code",
<<<<<<< HEAD
   "execution_count": 478,
   "id": "c5182dac",
=======
   "execution_count": 135,
   "id": "fdeec208",
>>>>>>> cd21851a77a182f2d44359f732377b005a91ebda
   "metadata": {},
   "outputs": [
    {
     "data": {
      "image/png": "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\n",
      "text/plain": [
<<<<<<< HEAD
       "<Figure size 720x576 with 1 Axes>"
      ]
     },
     "metadata": {
      "needs_background": "light"
     },
     "output_type": "display_data"
=======
       "67528.90782653325"
      ]
     },
     "execution_count": 135,
     "metadata": {},
     "output_type": "execute_result"
>>>>>>> cd21851a77a182f2d44359f732377b005a91ebda
    }
   ],
   "source": [
    "fig, ax = plt.subplots(figsize=(10, 8))\n",
    "\n",
    "plt.hist(df.salary, weights = np.ones_like(df.salary) / len(df.salary), \n",
    "         bins = len(np.histogram_bin_edges(df.salary, bins='sturges')) - 1)\n",
    "\n",
    "plt.ylabel('Относительная частота')\n",
    "plt.xlabel('Зарплата')\n",
    "ax.set_title('Распределение зарплаты. Стерджес')\n",
    "\n",
    "plt.annotate('Выбросы', xy=(320000, 0.01), xytext=(435000, 0.32),\n",
    "             arrowprops={'arrowstyle':'->'}\n",
    "             ,horizontalalignment='center')\n",
    "\n",
    "plt.annotate('', xy=(520000, 0.01), xytext=(430000, 0.315),\n",
    "             arrowprops={'arrowstyle':'->'}\n",
    "             ,horizontalalignment='center')\n",
    "\n",
    "ax.xaxis.set_ticks(np.arange(0, 550000, 50000))\n",
    "ax.yaxis.set_ticks(np.arange(0, 0.55, 0.05))\n",
    "\n",
    "ax.grid()\n",
    "plt.show()"
   ]
  },
  {
   "cell_type": "code",
   "execution_count": null,
<<<<<<< HEAD
   "id": "2e30a636",
=======
   "id": "6217ccb4",
>>>>>>> cd21851a77a182f2d44359f732377b005a91ebda
   "metadata": {},
   "outputs": [],
   "source": []
  },
  {
   "cell_type": "code",
<<<<<<< HEAD
   "execution_count": 479,
   "id": "e154cdb5",
=======
   "execution_count": 136,
   "id": "fcb10ae1",
>>>>>>> cd21851a77a182f2d44359f732377b005a91ebda
   "metadata": {},
   "outputs": [
    {
     "data": {
      "image/png": "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\n",
      "text/plain": [
       "<Figure size 720x576 with 1 Axes>"
      ]
     },
     "metadata": {
      "needs_background": "light"
     },
     "output_type": "display_data"
    }
   ],
   "source": [
    "fig, ax = plt.subplots(figsize=(10, 8))\n",
    "\n",
    "plt.hist(df.salary, density=True, \n",
    "         bins = 'sturges')\n",
    "\n",
    "plt.ylabel('Плотность')\n",
    "plt.xlabel('Зарплата')\n",
    "ax.set_title('Распределение зарплаты')\n",
    "\n",
    "mean = np.mean(df.salary)\n",
    "std = np.std(df.salary)\n",
    "x = np.linspace(mean - 3*std, mean + 3*std, 100)\n",
    "plt.plot(x, 1/(std * np.sqrt(2 * np.pi)) * np.exp( - (x - mean)**2 / (2 * std**2) ), linewidth=2, color='r')\n",
    "\n",
    "ax.grid()\n",
    "plt.show()"
   ]
  },
  {
   "cell_type": "code",
<<<<<<< HEAD
   "execution_count": 480,
   "id": "e4e65121",
=======
   "execution_count": 137,
   "id": "bbdbb513",
>>>>>>> cd21851a77a182f2d44359f732377b005a91ebda
   "metadata": {},
   "outputs": [
    {
     "data": {
<<<<<<< HEAD
      "image/png": "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\n",
      "text/plain": [
       "<Figure size 720x576 with 1 Axes>"
      ]
     },
     "metadata": {
      "needs_background": "light"
     },
     "output_type": "display_data"
=======
      "text/html": [
       "<div>\n",
       "<style scoped>\n",
       "    .dataframe tbody tr th:only-of-type {\n",
       "        vertical-align: middle;\n",
       "    }\n",
       "\n",
       "    .dataframe tbody tr th {\n",
       "        vertical-align: top;\n",
       "    }\n",
       "\n",
       "    .dataframe thead tr th {\n",
       "        text-align: left;\n",
       "    }\n",
       "\n",
       "    .dataframe thead tr:last-of-type th {\n",
       "        text-align: right;\n",
       "    }\n",
       "</style>\n",
       "<table border=\"1\" class=\"dataframe\">\n",
       "  <thead>\n",
       "    <tr>\n",
       "      <th></th>\n",
       "      <th colspan=\"2\" halign=\"left\">salary</th>\n",
       "    </tr>\n",
       "    <tr>\n",
       "      <th></th>\n",
       "      <th>mean</th>\n",
       "      <th>count</th>\n",
       "    </tr>\n",
       "    <tr>\n",
       "      <th>experience</th>\n",
       "      <th></th>\n",
       "      <th></th>\n",
       "    </tr>\n",
       "  </thead>\n",
       "  <tbody>\n",
       "    <tr>\n",
       "      <th>Более 6 лет</th>\n",
       "      <td>68004.0</td>\n",
       "      <td>37</td>\n",
       "    </tr>\n",
       "    <tr>\n",
       "      <th>Нет опыта</th>\n",
       "      <td>44637.0</td>\n",
       "      <td>103</td>\n",
       "    </tr>\n",
       "    <tr>\n",
       "      <th>От 1 года до 3 лет</th>\n",
       "      <td>53672.0</td>\n",
       "      <td>864</td>\n",
       "    </tr>\n",
       "    <tr>\n",
       "      <th>От 3 до 6 лет</th>\n",
       "      <td>56831.0</td>\n",
       "      <td>441</td>\n",
       "    </tr>\n",
       "  </tbody>\n",
       "</table>\n",
       "</div>"
      ],
      "text/plain": [
       "                     salary      \n",
       "                       mean count\n",
       "experience                       \n",
       "Более 6 лет         68004.0    37\n",
       "Нет опыта           44637.0   103\n",
       "От 1 года до 3 лет  53672.0   864\n",
       "От 3 до 6 лет       56831.0   441"
      ]
     },
     "execution_count": 137,
     "metadata": {},
     "output_type": "execute_result"
>>>>>>> cd21851a77a182f2d44359f732377b005a91ebda
    }
   ],
   "source": [
    "fig, ax = plt.subplots(figsize=(10, 8))\n",
    "\n",
    "plt.hist(df.latitude, density=True, \n",
    "         bins = 'sturges')\n",
    "\n",
    "plt.ylabel('Плотность')\n",
    "plt.xlabel('Широта')\n",
    "ax.set_title('Распределение шароты')\n",
    "\n",
    "mean = np.mean(df.latitude)\n",
    "std = np.std(df.latitude)\n",
    "x = np.linspace(mean - 3*std, mean + 3*std, 100)\n",
    "plt.plot(x, 1/(std * np.sqrt(2 * np.pi)) * np.exp( - (x - mean)**2 / (2 * std**2) ), linewidth=2, color='r')\n",
    "\n",
    "ax.grid()\n",
    "plt.show()"
   ]
  },
  {
   "cell_type": "code",
<<<<<<< HEAD
   "execution_count": 481,
   "id": "686df557",
=======
   "execution_count": 138,
   "id": "177e31d7",
>>>>>>> cd21851a77a182f2d44359f732377b005a91ebda
   "metadata": {},
   "outputs": [
    {
     "data": {
      "image/png": "iVBORw0KGgoAAAANSUhEUgAAAm4AAAHwCAYAAAAfLOO9AAAAOXRFWHRTb2Z0d2FyZQBNYXRwbG90bGliIHZlcnNpb24zLjUuMSwgaHR0cHM6Ly9tYXRwbG90bGliLm9yZy/YYfK9AAAACXBIWXMAAAsTAAALEwEAmpwYAABDmklEQVR4nO3de7xVdZ3/8deHc7gJclEREFC84B1FRRCvmFZeU0vLxjKtfpqjU01OM9ZvpqmpJqfG6ddtNJtKzcq0y2RpWV5AU1EUAUU0UUG5KJggchE453x/f6y95XQ8cA5w9ll77f16Ph77sfZZe621P3ud4/bN97JWpJSQJElS9euRdwGSJEnqHIObJElSQRjcJEmSCsLgJkmSVBAGN0mSpIIwuEmSJBWEwU2SJKkgDG6SAIiI+RGxNiJWRcTLEfHDiOifd12SpI0MbpJaOz2l1B84FDgc+Oec65EktWJwk/QWKaVFwO+AAwEi4sKImBsRr0fEcxFxcevtI+KMiJgZESsj4tmIOKm0fkpEvFFqxVtVatGb32q/+RHxmYh4MiKWl1r5+rR6/bTScVdExAMRcVCb970xIta3OvbCVq/1joj/jIgXSi2I10RE31avj46I1Kq25oj4aOm1HhFxRemz/CUibo6IHdrs19imjs+Xnk9uU8d7S9t/tNW6D5fO5/KIuCMidtvc7yMiFrZqDV0fETe2em2/0nleERFzIuJdbfb9fERsKO27unXtbVpZV0XEA63O3f+LiMWlx/+LiN6l11aUtn2jdM7K+57X3rlp8xkmb+5zSuqYwU3SW0TEKOAU4LHSqqXAacAA4ELg6xFxaGnbCcANwKeBQcCxwPxWh7sspdS/1JJ3ejtvdx7wTmBPYG9KrXyl4/8AuBjYEfgucGs5QJRLBb5cOvbJbY77H6XjjQP2AkYAn2v1evn7b2Bp//tavfZx4EzgOGAXYDnwnXZq36yI6Al8EVjSat2ZwGeBdwNDSu/7044OBZxUqvPf2xz/N8AfgJ2BvwN+HBH7tNq3B3BTad8D2jn26eXfT0rpyNK6/wscQXbuDgYmUPq9pJQGlY71MeDBVvv+uIPPIKkLGNwktfa/EbEC+BMwlVJISCndllJ6NmWmkgWFY0r7fAT4QUrpjymllpTSopTSU1vwnt9OKb2YUnoV+DLw/tL6/wN8N6X0UEqpOaV0PbCOLFCU9QXWtz1gRERp/79PKb2aUnq99FnObbVZL6AlpdTcTk0XA/83pbQwpbQO+DxwdnstSR24GHgI+HObdV9JKc1NKTWV6hrXQatbu5+T7Fz0B65MKa1PKd0N/JaN5xCyz9nevptzHvBvKaWlKaVlwBeAD27hMSRVgMFNUmtnllpUdksp/W1KaS1ARJwcEdMi4tVSsDsF2Km0zyjg2W14zxdbPV9A1sIFsBtwealrbkXpfUe1eh1gGLCsnWMOAbYDHm217+9L68t2IGtJa89uwK9a7TsXaAaGttrmlVavv7ftASJie+AfgX9p59jfaLXvq2QtaiPaK6TUwjhoE59zF+DFlFJLq3UL2hxrc59zU3YpHaf1MXfZxLbteaXUDTw3Ij6whe8taTMMbpI2qxQcfgH8JzA0pTQIuJ0sbEAWvPbchrcY1er5rsDiVsf9cilIlh/bpZR+WqqrJ9kYvFntHPMVYC1wQKt9y12iZXvz1y1hrb0InNzmvfuUxv6V7VR+Dbi5nWN8Grg5pbSgzfoXgYvbHLtvSumBTdQyDngdeL6d1xYDoyKi9Xf5rkDrOjf3OTdlMVnAbH3MxZvYtj07pZQGA5cB14Wzk6UuY3CT1JFeQG+yFp+miDgZeEer178PXBgRJ5QG9Y+IiH234PiXRsTI0uD/zwI/K63/HvCxiJgYmX4RcWqpJQuysXYvAY+0PWCpBep7ZGPxdgYo1fXO0vNRwCeA/91ETdcAXy53X0bEkIg4Yws+0/al+r68iWN/JiIOKB17YESc095BSoHs74BbNtGl+xCwGvjHiOhZGvx/OnBT6ZydAYwnm2iyJX4K/HPpc+9ENjbwxg72ac9ysoAfHW0oqXMMbpI2qzQ+7ONkrUrLgb8Bbm31+sOUJiwAr5GNjdvsLMk2fkI2Zu650uNLpeM+QjZO7dul950HXAAQEeeRTVbYHXg9IlaRhZNdIuKa0nH/qbTPtIhYCdwJlAft3wFMKdXcnm+UPuMfIuJ1YBowcQs+0wDgmymlt3RRppR+RTZx4qZSXU/w1okVZdeQjTf7QHn2Jlm4fV9EnJdSWg+8q7T/K8B/A+eXxhieRHYuz0spvdj+4TfpS2SBeDbwODCjtK6z5kc2s/Zm4KLS35CkLhAppbxrkFSnIrs0yEdTSndu4X4XAKNTSp9vs34k8KWU0gVdVGKuIuI64LqU0pQ26z8ANKaUrsuhLEk52tIZUpJUDVYDK9tZ30Q22L9WvEo2k7at1fj9LdUlW9wk5WZrW9wkqV4Z3CRJkgrCyQmSJEkFYXCTJEkqiLoY3LrTTjul0aNH511Gxa1evZp+/frlXUbd8Hx3H8919/J8dy/Pd/cqwvl+9NFHX0kpDWnvtboIbqNHj+aRR95yjc6aM2XKFCZPnpx3GXXD8919PNfdy/PdvTzf3asI5zsi2t5x5U12lUqSJBWEwU2SJKkgDG6SJEkFYXCTJEkqCIObJElSQRjcJEmSCsLgJkmSVBAGN0mSpIIwuEmSJBWEwU2SJKkgDG6SJEkFYXCTJEkqCIObJElSQRjcJEmSCsLgJkmSVBAGN0mSpIIwuEmSJBWEwU2SJKkgDG6SJEkF0Zh3AZJUVKOvuC3X959/5am5vr+k7meLmyRJUkEY3CRJkgrC4CZJklQQBjdJkqSCMLhJkiQVhMFNkiSpIAxukiRJBWFwkyRJKgiDmyRJUkEY3CRJkgrC4CZJklQQBjdJkqSCMLhJkiQVhMFNkiSpIAxukiRJBWFwkyRJKgiDmyRJUkEY3CRJkgrC4CZJklQQBjdJkqSCMLhJkiQVhMFNkiSpIAxukiRJBWFwkyRJKgiDmyRJUkEY3CRJkgrC4CZJklQQFQ1uEXFSRDwdEfMi4op2Xo+I+Gbp9dkRcWhp/aiIuCci5kbEnIj4RKt9doiIP0bEM6Xl4Ep+BkmSpGpRseAWEQ3Ad4CTgf2B90fE/m02OxkYU3pcBFxdWt8EXJ5S2g84Ari01b5XAHellMYAd5V+liRJqnmVbHGbAMxLKT2XUloP3ASc0WabM4AbUmYaMCgihqeUlqSUZgCklF4H5gIjWu1zfen59cCZFfwMkiRJVaOSwW0E8GKrnxeyMXx1epuIGA0cAjxUWjU0pbQEoLTcuetKliRJql6NFTx2tLMubck2EdEf+AXwyZTSyi1684iLyLpfGTp0KFOmTNmS3Qtp1apVdfE5q4Xnu/tU67m+fGxTru9fqXNSree7Vnm+u1fRz3clg9tCYFSrn0cCizu7TUT0JAttP04p/bLVNi+Xu1MjYjiwtL03TyldC1wLMH78+DR58uRt+CjFMGXKFOrhc1YLz3f3qdZzfcEVt+X6/vPPm1yR41br+a5Vnu/uVfTzXcmu0unAmIjYPSJ6AecCt7bZ5lbg/NLs0iOA10qBLIDvA3NTSv/Vzj4fKj3/EPDryn0ESZKk6lGxFreUUlNEXAbcATQAP0gpzYmIj5Vevwa4HTgFmAesAS4s7X4U8EHg8YiYWVr32ZTS7cCVwM0R8RHgBeCcSn0GSZKkalLJrlJKQev2NuuuafU8AZe2s9+faH/8GymlvwAndG2lkiRJ1c87J0iSJBWEwU2SJKkgDG6SJEkFYXCTJEkqCIObJElSQRjcJEmSCsLgJkmSVBAGN0mSpIIwuEmSJBWEwU2SJKkgDG6SJEkFUdF7lUqSKmf0FbdV5LiXj23igg6OPf/KUyvy3pI2zxY3SZKkgjC4SZIkFYTBTZIkqSAMbpIkSQVhcJMkSSoIg5skSVJBGNwkSZIKwuAmSZJUEAY3SZKkgjC4SZIkFYTBTZIkqSAMbpIkSQVhcJMkSSoIg5skSVJBGNwkSZIKwuAmSZJUEAY3SZKkgjC4SZIkFYTBTZIkqSAMbpIkSQVhcJMkSSoIg5skSVJBGNwkSZIKwuAmSZJUEAY3SZKkgjC4SZIkFYTBTZIkqSAMbpIkSQVhcJMkSSoIg5skSVJBGNwkSZIKwuAmSZJUEAY3SZKkgjC4SZIkFURj3gVIkqpEShy5YBaHLHiGi17qQUsED+w2jieH7pF3ZZJKDG6SVO9S4pSn7+eSabcw9uVnATi61ctTdz+U70x6Lw+POjCf+iS9yeAmSXWsoaWZr/7uG7znibsBWLbdIBYfdSTTXuvDwDdWcfrceznu+Rkc9/wM/uO4D3H1EefkXLFU3wxuklSnejet59u//g/ePu8hVvfsw1cmX8gtY0/kskMbuOrx7H8PV06+gI9M/zWXPngz/zT1ega+sYorj7sg38KlOmZwk6Q61NDSzPd+8UWOnf8YK/r054JzvsDMXfYpvdr05nYr+g7gqmM/yDM77cpVt/0XH3voF/RsbgJOy6Vuqd45q1SS6tDH77+JY+c/xrJ+g3jv31zZKrS179b9j+Oid/8z6xoa+cgjv4Zf/rKbKpXUmsFNkurM4S8+wWUP/owWgo+f/o/8ecjoTu13z56H8+/HfyT74aMfhRdfrFyRktplcJOkOjLgjVX8v99cRUNq4eojzubB3Q7aov2vP/Q07t5jPCxfDh/8IDQ3V6hSSe0xuElSHfnsPT9gxOvLmDl8b75+9HlbfoAIPn3KJ2HoUJg6Fa6+ustrlLRpBjdJqhN7L5vPOY/fyYYeDXzq1E/R1LB189P+0m/QxsD2hS/AypVdV6SkzTK4SVKd+Kep19OQWvjJuJN4bseR23awM8+Eo4+GV16Br361S+qT1DGDmyTVgUkLZnPCs9N5vVdfvnnk+7f9gBHwta9lz//rv2DRom0/pqQOGdwkqcZFauGKKT8E4JqJZ2ddnV3hiCPg7LNh7Vr43Oe65piSNsvgJkk1bvJzj3LwS8/wcv8d+MH4M7r24P/+79DYCNddB/Pnd+2xJb2FwU2SatxHp/8KgP8ZfyZre/Xp2oOPGQPnngstLfCtb3XtsSW9hcFNkmrY/i8/x1ELZrOqV19+dvA7KvMmf//32fJ733OGqVRhBjdJqmEffuTXANw89u2s7NO/Mm9y6KEweTK8/jp8//uVeQ9JgMFNkmrWkFWv8q4np9IcPfjh+HdV9s3KrW7f+AY0NW1+W0lbzeAmSTXq/Bm30auliTvGHMGLg4ZV9s1OOw322gsWLPAG9FIFGdwkqQY1tDTzvtl/AKh8axtAjx7wiU9kz6+9tvLvJ9Upg5sk1aDjnnuUnVcv59kdRjJ95AHd86bnnQe9e8Pdd2ctb5K6nMFNkmrQOY/fCcDPx56Q3eWgOwweDGedBSnBDTd0z3tKdcbgJkk1ZvCa1zhh3sM0Rw9+ccDbuvfNL7wwW153XXZtN0ldyuAmSTXmzCen0KuliXt3P4Sl2+/YvW9+wgkwciQ89xzcd1/3vrdUBwxuklRjyt2kt4x9e/e/eUMDfOhD2fMf/rD731+qcQY3Saoh+7/8HPsvfZ7lfbbnzr0m5lPEBRdky1tugVWr8qlBqlEGN0mqIac9dS8Av93vGNY39syniL32giOPhDVr4Lbb8qlBqlEGN0mqFSlxylP3A3DbvkfnW8t735stb7kl3zqkGmNwk6QaccDS5xi9YgnL+g3i4e66dtumvOc92fK22+wulbqQwU2SasQpT/0JgN/vfSQtPRryLWbkyKy79I037C6VupDBTZJqQUqc8nQW3G7fJ+du0rJzzsmWdpdKXcbgJkk1YP+lz7P78iUs224QD43KuZu07Oyzs+Xtt8Pq1fnWItUIg5sk1YBya9sde0/Kv5u0bORImDQJ1q61u1TqIgY3SaoBJz/9AFAFs0nbKneX/vzn+dYh1QiDmyQV3O6vLmLPVxeyok9/Hh51YN7l/LWzzsqWv/89rF+fby1SDTC4SVLBvW3ewwBM2eMwmqulm7Rs9Gg44AB4/XXvXSp1AYObJBXcCc9OB+CuPSfkXMkmnH56tvztb/OtQ6oBBjdJKrABb6zi8IVzaIoeTN3jsLzLad9pp2XL3/wGUsq3FqngDG6SVGDHPj+Dni3NTB91ACv79M+7nPYdcQTsuCM8+yw8/XTe1UiFZnCTpAI7oTS+7a49D8+5ks1oaIBTTsme/+Y3+dYiFZzBTZIKqqGlmcnPPQrAXXtNzLmaDjjOTeoSFQ1uEXFSRDwdEfMi4op2Xo+I+Gbp9dkRcWir134QEUsj4ok2+3w+IhZFxMzS45RKfgZJqlaHLprL4Dde57nBu/D8DiPyLmfz3vEOaGyE+++HV1/NuxqpsCoW3CKiAfgOcDKwP/D+iNi/zWYnA2NKj4uAq1u9dh1w0iYO//WU0rjS4/YuLVySCqLc2nZ3NXeTlg0cCMceC83N8Ic/5F2NVFiVbHGbAMxLKT2XUloP3ASc0WabM4AbUmYaMCgihgOklO4F/GeZJG3Csc/PAKje2aRtnVT6t/gf/5hvHVKBVTK4jQBebPXzwtK6Ld2mPZeVulZ/EBGDt61MSSqeHda8xtiXn2VdQ08eHlklN5XvyDvekS3vuMPLgkhbqbGCx4521rX9L7Uz27R1NfDF0nZfBK4CPvyWN4+4iKz7laFDhzJlypQODlt8q1atqovPWS08392nWs/15WObcnvvMQ9k3aQv77c/lx3aAHRdLUP7dvzZtur30dLCkYMH02vRIh6+/nrWjB69VfXVmmr9+65VRT/flQxuC4FRrX4eCSzeim3+Skrp5fLziPge0O4UpZTStcC1AOPHj0+TJ0/ubN2FNWXKFOrhc1YLz3f3qdZzfcEVt+X23l+7dzYAP9rpML73eNd+lV8+tomrOjjm/PMmb93BTz0VbryRCStWQBX+TvNQrX/ftaro57uSXaXTgTERsXtE9ALOBW5ts82twPml2aVHAK+llJZs7qDlMXAlZwFPbGpbSapJKXHM/Gx82717HNrBxlWm3F3qBAVpq1SsxS2l1BQRlwF3AA3AD1JKcyLiY6XXrwFuB04B5gFrgAvL+0fET4HJwE4RsRD415TS94GvRsQ4sq7S+cDFlfoMklSN9n5lAcNWvcrSfoN5eqfd8i5ny5x4YracMgXWrYPevXMtRyqaSnaVUrpUx+1t1l3T6nkCLt3Evu/fxPoPdmWNklQ0xzz/GAD37X4IRHtDhavY8OFw0EEwe3Z2Tbe3vS3viqRC8c4JklQwx87Pgtu9ow/JuZKtZHeptNUMbpJUIL2b1jPxxWxo7/2jx+VbzNYyuElbzeAmSQVyyOKn6NO0nrlDRvNKv4JexvLoo6FXL5g509tfSVvI4CZJBTJpweMAPLjrQTlXsg369oVJk7KL8E6dmnc1UqEY3CSpQCa9MAuAB3crcHADOP74bHn33fnWIRWMwU2SCqLPhjcYt/jPNEcPHhp1YN7lbJvybNJ77sm3DqlgDG6SVBDjF86lV0sTc4buwco+/fMuZ9tMmJB1mc6ZAy+/3PH2kgCDmyQVxpGlbtIHijy+rax372ySAmQX45XUKQY3SSqI8sSEabUQ3GDjODe7S6VOM7hJUgH0X7eGsS89Q1P0YPrI/fMup2sY3KQtZnCTpAI4fOEcGlMLs4bvzere2+VdTtcYPx623x7+/GdYtCjvaqRCMLhJUgFMWjAbqIHLgLTW2AjHHJM9t9VN6hSDmyQVwISF2W2uCn8ZkLYmT86W996baxlSURjcJKnK9Vu3hgNfepam6MGjI/bLu5yudeyx2dLgJnWKwU2Sqtyhi5+iMbXwxLA9WdOrb97ldK1DD4XttoOnn/Z6blInGNwkqcod/uIcAB4eWWPdpAA9e2b3LQX405/yrUUqAIObJFW5iQtLwa3WxreV2V0qdZrBTZKqWO+m9Yxb/DQAj4yssfFtZQY3qdMMbpJUxQ5a8md6N2/gqZ12Y0XfAXmXUxkTJ2ZdprNmwYoVeVcjVTWDmyRVsQkv1ng3KWQ3m58wAVKC++/PuxqpqhncJKmKTXhzfNsBOVdSYeXu0vvuy7cOqcoZ3CSpSjW0NHPYorkAPDyyxoNb+Q4KjnOTNsvgJklVar+lz9N//VoWDBrG0u13zLucyjrqKOjRA6ZPhzVr8q5GqloGN0mqUuMXPgnAIyP3z7mSbjBgAIwdC01NWXiT1C6DmyRVqfGlbtLpI+oguEHW6gZOUJA2w+AmSdUoJcaXJibURYsbGNykTjC4SVIVGrlyKcNWvcqKPv15dseReZfTPcrB7YEHoKUl31qkKmVwk6QqdFhpfNujI/YjRZ18Ve+6K4wYkV2Ed+7cvKuRqlKdfBtIUrGUx7c9OqJGb3PVngi7S6UOGNwkqQrV1YzS1o4+Olsa3KR2Gdwkqcpsv241+yxbwPoejcwaNibvcrqXLW7SZhncJKnKHLLoKXqQmDN0T9b17J13Od3roIOgXz949ll46aW8q5GqjsFNkqpM+TZX0+utmxSgsRGOOCJ7bqub9BYGN0mqMofV48SE1lpfFkTSXzG4SVIV6dHSzLglfwZgRr0Gt0mTsuWDD+Zbh1SFDG6SVEX2fuUF+q9fy4sDh7Ks/+C8y8nHxInZ8tFHYd26fGuRqozBTZKqSLmbdMYu++ZcSY4GD4b994f162HGjLyrkaqKwU2Sqsihi58CYMaIOg5uYHeptAlbFNwiYkJE3B8RD0fEiZUqSpLq1SGLSsGtnlvcwOAmbULjFm5/FfA54FXge8D4Lq9IkurU4DWvscfyxaxt7M3cnXfPu5x8Gdykdm1pV2m/lNJdKaXHgDWVKEiS6tUhi58GYPawvWhq2NJ/V9eYffeFQYNg0SJ48cW8q5GqRqe+GSLiU6WnO5eeBzCiYlVJUh0qj297rN7HtwH06JHNLr3jjqzVbdSovCuSqkJnW9y2Lz2+V1r2B26oVFGSVI8OdXzbX7O7VHqLzrbFP5pS+m1FK5GkOtbQ0szBb1541+AGGNykdnS2xe3fKlqFJNW5fZYtoN+GN3hh4FBe6VenF95ta+JEiMiu5fbGG3lXI1WFzga37SLikIg4tPWjopVJUh05xOu3vdXAgdmFeDdsgMcey7saqSp0tqt0BNmlQKLVugS8rcsrkqQ6VJ5R+pjj2/7aEUfAnDkwbdrGrlOpjnU2uM1LKRnSJKlCxr0Z3PbJuZIqc8QR8P3vw0MP5V2JVBU621W6vKJVSFIdG/DGKvZ6dSHrGnp64d22jjgiW06blm8dUpXobHB7V0S8uW1ENETEdhWqSZLqSrm17Ymhe7KhoWfO1VSZ/faD/v1hwQJ46aW8q5Fy19ngdifQOqj1La2TJG2jQ+wm3bSGBpgwIXtud6nU6eDWJ6W0qvxD6bktbpLUBcYtcWLCZtldKr2ps8FtdevLf0TEYcDaypQkSXUkpY0tbiNscWuXwU16U2dnlX4SuCUiFpd+Hg68ryIVSVId2X35Yga9sYql/QazePsheZdTnSZOzJbTp0Nzc9Z9KtWpTgW3lNL0iNgX2IfsWm5PpZQ2VLQySaoD5QvvPrbLPtldAvRWO+8Mu+8Ozz+fXdPtoIPyrkjKTae6SiOiJ3AJ8HngX4GLS+skSdtg3OLs/qSOb+uA3aUS0PkxblcDhwH/XXocVlonSdoG5Ra3mbvsnXMlVa7cXWpwU53r7Bi3w1NKB7f6+e6ImFWJgiSpXvTesI79lj5Pc/Rg9rAxeZdT3crB7eGH861DyllnW9yaI2LP8g8RsQfQXJmSJKk+HPjyszSmFv68066s6dU373Kq27hx0LMnPPkkrFyZdzVSbjob3D4N3BMRUyJiKnA3cHnlypKk2le+Y8LM4XaTdqhPnyy8pQSPPJJ3NVJuOhXcUkp3AWOAj5ce+6SU7qlkYZJU6w5Zkk1MmOkdEzqn3F3qHRRUxzo1xi0izm+z6uCIIKV0QwVqkqS68GaLm8GtcyZOhG9/2+CmutbpyQml5XuBm0vPE2Bwk6StsNPq5YxcuZRVvfryzI6j8i6nGFq3uKXkde9Ulzp7Ad6/A4iIo8vPJUlb7+BSN+njw/aipYd3AuiUvfaCwYPhpZdg4UIYZeBV/ens5ISyVJEqJKnOlC+8O8uJCZ0XARMmZM/tLlWd6uydE74VEd8ERkbEN8uPCtcmSTWrPL7tseGOb9siTlBQnevsGLfy3OtHK1WIJNWLSC1vdpV6x4QtZHBTnetscOudUrq2opVIUp3Y4y+LGLB+DUv678jL2++UdznFUu4qffRRaGqCxs7+b0yqDZ0d4/axilYhSXVknNdv23o77QR77glr1sATT+RdjdTtOvtPlUER8e62K1NKv+zieiSp5o1bko1vc2LCVpo4EZ59Nrtv6bhxeVcjdavOtrgNBE4DTm/1OK1SRUlSLXN82zYqd5d6w3nVoc62uL2QUvpwRSuRpDrQe8M69lv6PM3Rg9nDxuRdTjE5QUF1rLMtbnMqWoUk1YkDlj5Hz5ZmntlxFGt69c27nGIaNy6blDBnDrz+et7VSN2qszeZ/0BEDI2I00qPnStdmCTVonI3qePbtkGfPnDwwdltr2bMyLsaqVt19gK85wAPA+eQ3a/0oYg4u5KFSVItKt8xwRml28juUtWpznaV/jNweErpQyml84EJwL9UrixJqk22uHURJyioTnU2uPVIKS1t9fNftmBfSRIweM1rjF6xhLWNvXl6yG55l1NstripTnV2VunvI+IO4Keln98H/K4yJUlSbTp4yTMAPD5sT5p7NORcTcHtvTcMGAALF8LixbDLLnlXJHWLzk5O+DTwXeAg4GDg2pTSP1ayMEmqNXaTdqEePeDww7Pn06fnW4vUjTo7OWEHYArwJeCLwNTSOklSJ5XvmDBzuBMTuoTdpapDne0qXQIsavVzAAnYo8srkqRalNKbXaWzvGNC1yhPUDC4qY50Nrg9mVI6pKKVSFIN23XFS+ywdiWvbDeQhQO8FGaXKLe4PfIItLRk3adSjev0vUoj4oyIOCkiDoqIzgY+SRIwrnx/0uF7Q0TO1dSIYcNg1ChYuRKefjrvaqRu0dngNhV4D/AR4GpgfkScXLGqJKnGODGhQryem+pMZ2eVXphSOj+ldE5K6ShgMvC1ilYmSTVk3OLSxATvmNC1nKCgOrNVAwJSSvOAt3dxLZJUkxqbmzjw5WcBW9y6nC1uqjObHasWEd/sYP+Pd7D/ScA3gAbgf1JKV7Z5PUqvnwKsAS5IKc0ovfYD4DRgaUrpwFb77AD8DBgNzAfem1Ja3kGdkpSbfZfNp3fzBp7dYQQr+/TPu5zacthh2aSEWbNg7Vro2zfviqSK6qjF7Qzg0c08NikiGoDvACcD+wPvj4j922x2MjCm9LiIbPxc2XXASe0c+grgrpTSGOCu0s+SVLXGOb6tcvr3hwMOgKYmmDkz72qkiutoduirKaXrt/LYE4B5KaXnACLiJrIg+GSrbc4AbkgpJWBaRAyKiOEppSUppXsjYnQ7xz2DbIwdwPVkFwb+p62sUZIq7s3xbQa3ypg4ER5/PBvnNmlS3tVIFdVRi1vahmOPAF5s9fPC0rot3aatoSmlJQClpRdEklTVnFFaYY5zUx2p5PXY2rtQUdsg2Jlttu7NIy4i635l6NChTJkypSsOW9VWrVpVF5+zWni+u0+1nuvLxzZ1uE2vNavZ69WFNDc28o637cqJPTveJ29D+3b82arp99EvgsOBtVOn8lAV1dVZ1fr3XauKfr47Cm4HR8TKdtYHkFJKAzaz70JgVKufRwKLt2Kbtl4ud6dGxHBgaXsbpZSuBa4FGD9+fJo8eXIHhy2+KVOmUA+fs1p4vrtPtZ7rC664rcNtjpz/PBenxOND9uBrTxVj4PzlY5u46vHN/+9h/nmTu6eYzjj6aPjEJ+i7eDGTDzwQdtop74q2SLX+fdeqop/vzXaVppQaUkoD2nls30FoA5gOjImI3SOiF3AucGubbW4Fzo/MEcBr5W7QzbgV+FDp+YeAX3ewvSTl5q/umKDKaGzMZpeC3aWqeRW7sVtKqQm4DLgDmAvcnFKaExEfi4iPlTa7HXgOmAd8D/jb8v4R8VPgQWCfiFgYER8pvXQl8PaIeIbsWnJ/dYkRSaomzijtJuUL8RrcVOMqes/RlNLtZOGs9bprWj1PwKWb2Pf9m1j/F+CELixTkiojJe+Y0F3KExS8g4JqXMVa3CSp3u3y+jJ2Xr2cFX368/zgXfIup7a1bnFLXTLHTapKBjdJqpBxi1t1k0Z7k+jVZUaNgmHD4NVXYd68vKuRKsbgJkkVcvCbExPsJq24CMe5qS4Y3CSpQjaOb3NiQrdwnJvqgMFNkiqgoaWZsS9nXXbOKO0m5RY3g5tqmMFNkipgn2UL2G7DOhYMGsar2w3Mu5z6cPjhWZfpzJmwbl3e1UgVYXCTpAoYt6R8Y3nHt3WbAQNgv/1g/fosvEk1yOAmSRVwcGlGqePbupkTFFTjDG6SVAHlFjfHt3UzJyioxhncJKmL9Vu3hjGvvMj6Ho3MGbpn3uXUFycoqMYZ3CSpix300jP0IDF3591Z19gr73Lqy9ix0LdvdhHev/wl72qkLmdwk6Qudkjp+m2PeX/S7tfYCOPHZ89tdVMNMrhJUhc7xBvL58vuUtUwg5skdaWU3rxjgi1uOTniiGw5bVq+dUgVYHCTpC40cuVShqxZwat9B7Bg0PC8y6lPrS8J0tKSby1SFzO4SVIXOmTRUwDMHL53dhV/db+RI2HECFixAv7857yrkbqUwU2SupATE6qE3aWqUQY3SepCb97qyuCWLycoqEYZ3CSpi/Rq2sABLz8LeMeE3NniphplcJOkLrLf0ufo3dzEvB1GsrJP/7zLqW+HHQYNDfD447B6dd7VSF3G4CZJXWTj+LZ9c65EbLcdHHQQNDfDo4/mXY3UZQxuktRFNl54127SqlAe52Z3qWqIwU2Susghi7NLgdjiViUc56YaZHCTpC6w0+rl7Pray6zu2Yenh+yWdzkCmDQpWz74IKSUby1SFzG4SVIXKHeTzhq+N809GnKuRgCMGQM77AAvvQQLFuRdjdQlDG6S1AUOXVTuJvX6bVUjwu5S1RyDmyR1gUNL49tmjHB8W1Vp3V0q1QCDmyRto4aWZg5a8gzgxISqU25xM7ipRhjcJGkb7bv0efo2reP5wcN5dbuBeZej1iZMyLpMH3sM1q7NuxppmxncJGkbeeHdKjZgABx4IDQ1wYwZeVcjbTODmyRtozfHtxncqpPj3FRDDG6StI3enFHqxITq5Dg31RCDmyRtgx3WvMboFUtY07M3Tw0ZnXc5ao8X4lUNMbhJ0jYo3+Zq9rAxXni3Wu29NwweDEuWwAsv5F2NtE0MbpK0DQ5bNBeAR0bun3Ml2qQePRznppphcJOkbXDYwiy4PTpiv5wr0WYdeWS2vP/+fOuQtpHBTZK2Us/mDRz8UvnCu97qqqqVg9sDD+Rbh7SNDG6StJX2f/k5+jStZ94OI1nRd0De5WhzJkyAhgaYNQtWrcq7GmmrGdwkaSsdVroMiN2kBdCvH4wbB83NMH163tVIW83gJklb6bBFTwLwyEiDWyE4zk01wOAmSVsjpTdnlM6wxa0YHOemGmBwk6St8cILDFv1Ksv7bM9zO4zIuxp1xlFHZcsHH4SWlnxrkbaSwU2Stkap1WbGiH1J4VdpIYwaBSNHwooVMHdu3tVIW6Ux7wIkqZBK46TqdWLC6Ctuy/X951956tbteOSRcPPNWfA+4ICuLUrqBv4zUZK2RqnFrV6DW2GVu0udoKCCMrhJ0pZauRJmzWJDjwZmDR+TdzXaEgY3FZzBTZK21LRp0NLCE0P34o2effKuRlvi4IOza7rNmwcvvZR3NdIWM7hJ0pb6058AmO6N5YunsXHjDedtdVMBGdwkaUuVgtsjBrdiOvrobFn6PUpFYnCTpC2xYUPWVYrBrbAMbiowg5skbYnHHoO1a2HffXl1u4F5V6OtMXFidsP5xx7zhvMqHIObJG2JcitNudVGxdO/PxxySHbD+YceyrsaaYsY3CRpSxjcaoPdpSoog5skdVZKBrdaccwx2fK++/KtQ9pCBjdJ6qw//xmWLYNhw2CPPfKuRtuifCHeadOyCSdSQRjcJKmzyq1txxwDEfnWom0zdCiMGQOrV8PMmXlXI3WawU2SOuvee7Ol3aS1we5SFZDBTZI6a+rUbHnccfnWoa5x7LHZsvx7lQrA4CZJnbFgQfYYNAjGjs27GnWFcgC/7z5oacm3FqmTDG6S1BnlbtJjjoEefnXWhN12g1GjYPlyeOKJvKuROsVvH0nqDLtJa0/Ext+n3aUqCIObJHVGucWtPC5KtaH8+yz/fqUqZ3CTpI4sWQLPPLPxVkmqHeUWt3vvzS6wLFU5g5skdaTcGnPUUdDYmG8t6lpjxmTXdFu6FJ5+Ou9qpA4Z3CSpI+XxT3aT1h7HualgDG6S1JFyi5sTE2pT6+5SqcoZ3CRpc5YtgzlzoE8fGD8+72pUCeWW1ClTHOemqmdwk6TNmTIlWx51FPTunWspqpADDoAhQ2Dx4mwSilTFDG6StDl3350tjz8+3zpUOREweXL2vPz7lqqUwU2SNueee7Ll296Wbx2qrHIwL/++pSplcJOkTVm8OLtERL9+jm+rdeVg7jg3VTmDmyRtSnl82zHHQM+euZaiCtt7bxg+PLue25NP5l2NtEkGN0nalPJ4J7tJa1/Exu5Sx7mpihncJGlTyuOdnJhQHxznpgIwuElSe154AZ57DgYO9P6k9aIc3KZOhZaWfGuRNsHgJkntKbe6HHssNDTkW4u6xx57wKhR8OqrMHt23tVI7TK4SVJ77rorW9pNWj8iNo5nLP/+pSpjcJOktlKCO+/Mnr/97fnWou514onZsvz7l6qMwU2S2nrySViyBIYNy26HpPpxwgnZcupUWLcu31qkdhjcJKmtcmvLiSdm3WeqH8OHw4EHwtq18OCDeVcjvYXBTZLa+uMfs6XdpPWp/Hsv/x1IVcTgJkmtbdiw8Y4J5W4z1RfHuamKNeZdgCRVlWnTYPVq2H9/GDEi72q0CaOvuK1ix95u/Vpm9mikYfojHPLJn7GyT/+3bDP/ylMr9v7S5tjiJkmttR7fprq0pldfHhuxLw2phUkLvJ6bqovBTZJac3ybgPtGjwPgmPmP5VuI1IbBTZLKXnsNHn4YGhvhuOPyrkY5+tPo7DZnR8+fmW8hUhsGN0kqu+suaG6GSZNg++3zrkY5enzYXqzo05/RK5aw2/LFeZcjvamiwS0iToqIpyNiXkRc0c7rERHfLL0+OyIO7WjfiPh8RCyKiJmlxymV/AyS6sjvf58tTz453zqUu+YeDW+2uh37/Iycq5E2qlhwi4gG4DvAycD+wPsjYv82m50MjCk9LgKu7uS+X08pjSs9bq/UZ5BUR1KC3/0ue37SSfnWoqowdfesLWHyc4/mXIm0USVb3CYA81JKz6WU1gM3AWe02eYM4IaUmQYMiojhndxXkrrOk0/CwoUwdCgcfHDe1agKlIPbpBdm07tpfc7VSJlKXsdtBPBiq58XAhM7sc2ITux7WUScDzwCXJ5SWt72zSPiIrJWPIYOHcqU8gU1a9iqVavq4nNWC8939+mOcz3qZz9jT+ClceN46t57O7XP5WObKlpTXob2rd3PtmUGsuy3oxnywnz+o3E2L44d9+YrXfn36HdJ9yr6+a5kcGvvBn+pk9tsbt+rgS+Wfv4icBXw4bdsnNK1wLUA48ePT5MnT+5U0UU2ZcoU6uFzVgvPd/fplnP9pS8BMOyCCxjWyfe6oIIXgc3T5WObuOpxr88O0Dh8PJe8MJ9ld8/kKsa/uX7+eZO77D38LuleRT/flewqXQiMavXzSKDt1JxNbbPJfVNKL6eUmlNKLcD3yLpVJWnrrVoF990HPXp4/Tb9lSl7HAbAcc85QUHVoZLBbTowJiJ2j4hewLnArW22uRU4vzS79AjgtZTSks3tWxoDV3YW8EQFP4OkenDPPbB+PUyYADvumHc1qiIzRuzL6736svdfXmCXlUvzLkeqXHBLKTUBlwF3AHOBm1NKcyLiYxHxsdJmtwPPAfPIWs/+dnP7lvb5akQ8HhGzgeOBv6/UZ5BUJ8qXAXE2qdrY0NCTB3bLJqs4u1TVoKKDGEqX6ri9zbprWj1PwKWd3be0/oNdXKakepYS/Pa32XOv36Z23LPHeN75zDSOf3Y6Pxnn34jy5Z0TJNW3xx+HF16AYcNg/PiOt1fduXvPwwE4ev4sem9Yl3M1qncGN0n17Te/yZannppNTpDaWLr9jswethd9m9Zx1IJZeZejOue3lKT6Vg5up5+ebx2qanftmV3A4MR5D+dcieqdwU1S/Xr5ZXj4YejdG048Me9qVMXu3CsLbm979uFsXKSUE4ObpPp1223Z/4Tf9jbo1y/valTF5gzdkyX9d2TYqlc58OVn8y5HdczgJql+lWeT2k2qjkRw917ZJIUT7C5VjgxukurTG2/AH/6QPT/ttHxrUSHcuVd2y+wTnjW4KT8GN0n16Z57YPVqGDcORo3qcHPpgV0PYm1jbw56aR4sXJh3OapTBjdJ9emXv8yWZ56ZaxkqjnU9ezN1j0OzH/73f3OtRfXL4Cap/jQ3b/wf77vfnWspKpbf731k9uRXv8q3ENUtg5uk+vOnP8Err8Bee8GBB+ZdjQrk7j0PZ0OPBpg6NfsbkrqZwU1S/Sl3k7773RCRby0qlJV9+mc3nW9u3njxZqkbGdwk1ZeU/jq4SVvojr0nZU/Kf0dSNzK4SaovjzySzQgcMQIOPzzvalRAf9zriKyl9g9/gNdfz7sc1RmDm6T6Um4lOessbyqvrbKs/2A46ihYvx5uvz3vclRn/NaSVD9Sgl/8Int+1ln51qJiK3ez//zn+dahumNwk1Q/Zs6EZ56BnXeGY4/NuxoV2Xveky1vuw1Wrcq3FtUVg5uk+nHTTdnynHOgsTHfWlRsu+6adZeuXevsUnUrg5uk+pDSxuB27rn51qLaUP47Kv9dSd3A4CapPkybBi+8kM0mPfLIvKtRLTj77GyCy+9+B8uX512N6oTBTVJ9KLeKvO99ziZV1xg2DI4/HjZs8N6l6jZ+e0mqfc3NcPPN2XO7SdWV7C5VNzO4Sap9994LL70Ee+wB48fnXY1qybvfnU10uesuWLo072pUBwxukmrfj36ULc8913uTqmvtsAO8851Zq66tbuoGBjdJtW3NGrjlluz5+efnW4tqU/nv6oYb8q1DdcHgJqm2/epX2QVSJ06EffbJuxrVone9CwYOhEcfhTlz8q5GNc7gJqm2XX99tvzQh/KtQ7WrT59stjJs/HuTKsTgJql2LVoEd94JvXpt/B+rVAnlfxjceGM23k2qEIObpNp1443ZHRNOPz0bRC5VyqRJsNdesGRJ9o8FqUIMbpJqU0p2k6r7RGycpHDddbmWotpmcJNUmx58EObOhZ13hpNOyrsa1YPzz88C3K9+BX/5S97VqEYZ3CTVpu9+N1t++MPQs2e+tag+7LZbdk23deu8NIgqxuAmqfYsX77xFlcf/Wi+tai+XHRRtrz22qy7XupiBjdJtefGG+GNN+DEE2HPPfOuRvXktNNg+HB46in405/yrkY1yOAmqbaktLGb9OKL861F9adnz6x7Hjb+HUpdyOAmqbY8+GB29fqdd86uaC91t49+NJuk8POfO0lBXc7gJqm2/Pd/Z8sLL8wuvCt1t9GjN05S+OEP865GNcbgJql2LF6cTUro0QMuuSTvalTPLrssW37729DUlG8tqikGN0m14+qrYcMGOOus7NIMUl5OPhnGjIEFC+DXv867GtUQg5uk2vDGG3DNNdnzT3wi31qkHj3g4x/Pnn/jG/nWoppicJNUG37yE3jlFTj0UDj66LyrkbJbrQ0YAPfdBzNm5F2NaoTBTVLxpbSxVeMTn8hm9El52377jReAttVNXcTgJqn4/vhHmD0bhg6F970v72qkjS67LOs2/elPYeHCvKtRDTC4SSq+r3wlW37yk9C7d66lSH9l993hnHOySTNXXZV3NaoBBjdJxfbAAzBlCgwc6CVAVJ0+85lsee21sGxZvrWo8Axukoqt3Np22WVZeJOqzcEHw6mnwpo18M1v5l2NCs7gJqm4Zs+G3/4W+vb1EiCqbp/9bLb81rdg5cp8a1GhGdwkFdeXv5wtL7oIhgzJtxZpc448Eo47Dl57Db7znbyrUYEZ3CQV06xZ2e2teveGf/iHvKuROvbP/5wtv/pVWLEi11JUXAY3ScVU/p/gJZfAyJH51iJ1xgknwPHHZ6HNGabaSgY3ScXz4IPZ2LZ+/TbO2JOqXcTG7v2vfx2WLs23HhWSwU1SsaS0caD3Jz8JO++caznSFpk0CU47DVav3jgjWtoCjXkXIElb5I47suu2DRrk2DblZvQVt231vvsNeQe/47es+9a3OWHtgbzvmJ24YAuON//KU7f6vVV8trhJKo4NG+Dv/z57/tnPZuFNKpi5O+/Br/afTO/mJj4z5Yd5l6OCMbhJKo6rr4annoI994SPfzzvaqSt9h/HXcCanr059en72WXuE3mXowIxuEkqhldegX/91+z5f/2X9yRVob00YCeumXg2AMf+6H/o0dKcc0UqCoObpGL43Oeyyyi8/e1w+ul5VyNts2snnMXCAUMY8sJ83jf7j3mXo4IwuEmqegOefBKuuQYaGrLLKETkXZK0zd7o2YevTP4wAP809Tp2Wr0854pUBAY3SdVt/Xr2/s//zC4D8g//AAcckHdFUpe5bd+jWTD2EAa9sYp/vfPavMtRARjcJFW3r32N/s8/n01IKI9xk2pFBPd8+GOs6dmb05+6j7fNezjvilTlDG6SqtfTT8MXv5g9/+53oW/ffOuRKuD1IUO56pgPAvClP/w3/detybkiVTMvwCupOq1fD+edB+vWseSkkxh+wgl5VyRVzA8PO53T505l3JJn+MKd13D5qZ/Ku6RN2paLD3eFer8AsS1ukqrT5z8Pjz4Ku+3GvEsvzbsaqaJaejRw+amfYm1jb97zxN2cNvfevEtSlTK4Sao+994LV14JPXrAj35Ec//+eVckVdyzO47iS2/7CABfvuM7DF+5LOeKVI0MbpKqy7Jl8IEPbLyZ/DHH5F2R1G1+PO5k/rjXBAauW803fvM1Gpub8i5JVcbgJql6NDXBuefCiy/CpEnZRXelehLBFSd9nJf678CEhU/yf+/5ft4VqcoY3CRVjyuugLvvhqFD4ec/h549865I6nZ/6TeIvz3zM6zv0ciFj/6GM+fck3dJqiIGN0nV4cc/hquugsbGLLTtskveFUm5mTFiPz7/9osBuPL332LskmdyrkjVwuAmKX933w0XXpg9//rX4eij861HqgI/OfgkfnrQO+jTtJ4f/PwL7Lp8Sd4lqQoY3CTla9YsOOss2LABPvlJuOyyvCuSqkMEn3vHJdw7+hCGrFnB9bd8jh3WvJZ3VcqZwU1Sfp55Bk4+GVauhPe+N+sqlfSmDQ09ueTMz/DE0D3ZffkSfnjL52HFirzLUo4MbpLy8cwzcPzxsGQJTJ4M11+fXbdN0l9Z3Xs7Ljz787wwcCgHv/QMvOMdhrc65rekpO5XDm2LFsGxx8JvfgN9+uRdlVS1lvUfzLl/8xVeGDgUpk/Pwtvy5XmXpRwY3CR1r4cfhqOO2hjabr8dvDOC1KHFA3bm3L/5Cuy+exbejjkGXngh77LUzQxukrrPrbdm3aLLlsE735mFtn798q5KKozFA3aGqVNhv/1gzpzsQtWzZuVdlrqRwU1S5bW0ZPcePessWLsWPvzhrHvU0CZtuVGj4P77sxbrxYuzy+fcckveVambGNwkVdaKFVlg+8xnsgD3hS/A//yPd0WQtsXgwfCHP8Df/A2sWpXNyv7Up7LL6qimGdwkVc7dd8O4cVkX6aBB8NvfZvcfjci7Mqn4eveGG2+Eb34zu+PI17+ejR+dOzfvylRBBjdJXe/11+Hv/g5OOAEWLIDx42HGDDj11Lwrk2pLRPbf2tSpWRfq9OlwyCHwn/8JTU15V6cKMLhJ6jopwU9+AvvsA9/+dtYK8G//Bg88kM2Ek1QZRx4Jjz+ejR9dtw4+/Wk49NAs0KmmGNwkdY0pU7JB0uedl11U9/DDs0t//Mu/OJ5N6g4DB8L3v58NSdh99yzITZ4MZ58NTz6Zd3XqIgY3SVsvpWwc24knZhfUfeABGDIk+5/HtGlZl42k7nXqqdmlQr7whezC1r/4BRx4IHzgAzB7dt7VaRsZ3CRtudWr4brrsmB2wglw113Zv/b/7d9g3rysu8bbV0n56ds3mwg0bx787d9mwxZ+/GM4+GB4+9uzy/E4Bq6QGvMuQFJBNDdn14668Ua46aZsAgLAzjvDpZdmA6QHD863RqkOjL7iti3bYftTGPGR8Xx0+q947+w/0u/OO+HOO3m5/w788oC3cev+xzJ3yO7O9i4Ig5ukTXv9dbjnnuwOB//7v/DyyxtfO+IIuOgieP/7vc+oVOUWDdyZL5x4MV8/+jzOnXUH75v9B/Z8dRGXPPRzLnno5zw/eDh3jJnE1D3G88jI/djQ4LjUamVwk/RWLS1w8slZaGt9Qc899oBzzoEPfSi75Y6kQlnZpz/XTnwP1054N4cueor3zLmLd/75QXZfvoSPPfxLPvbwL1nVqy+3jD2RL5x4cd7lqh0VDW4RcRLwDaAB+J+U0pVtXo/S66cAa4ALUkozNrdvROwA/AwYDcwH3ptSWl7JzyHVnR494I03su7RSZPgpJPg9NOzi+nanSIVXwQzRu7HjJH78S9vv4QJC+dw/LOPcNxzj7LvKwvyrk6bUbHgFhENwHeAtwMLgekRcWtKqfWc5JOBMaXHROBqYGIH+14B3JVSujIirij9/E+V+hxS3frud7PxazvskHclkiqopUcD03Y9iGm7HsRXjv8ww1a+Qg9a8i5rk7Z4jF8bl49t4oJtOMb8K/O9kHglp31NAOallJ5LKa0HbgLOaLPNGcANKTMNGBQRwzvY9wzg+tLz64EzK/gZpPq1776GNqkOvTRgJxYP2DnvMrQJlewqHQG82OrnhWStah1tM6KDfYemlJYApJSWRIR/XVKd2tZ/eUtS0VQyuLU3ECZ1cpvO7Lv5N4+4CLio9OOqiHh6S/YvqJ2AV/Iuoo54vruP57obfdzz3a08391rW893/EcXFrNpu23qhUoGt4XAqFY/jwQWd3KbXpvZ9+WIGF5qbRsOLG3vzVNK1wLXbn35xRMRj6SUxuddR73wfHcfz3X38nx3L8939yr6+a7kGLfpwJiI2D0iegHnAre22eZW4PzIHAG8VuoG3dy+twIfKj3/EPDrCn4GSZKkqlGxFreUUlNEXAbcQXZJjx+klOZExMdKr18D3E52KZB5ZJcDuXBz+5YOfSVwc0R8BHgBOKdSn0GSJKmaVPQ6biml28nCWet117R6noBLO7tvaf1fgBO6ttKaUVddw1XA8919PNfdy/PdvTzf3avQ5zuy7CRJkqRqV8kxbpIkSepCBrcCiohzImJORLRExPg2r30mIuZFxNMR8c5W6w+LiMdLr32zdLsxbaGI+HxELIqImaXHKa1ea/fca9tExEmlczqvdLcUdbGImF/6fpgZEY+U1u0QEX+MiGdKy8F511lEEfGDiFgaEU+0WrfJc+v3yLbZxPmuqe9tg1sxPQG8G7i39cqI2J9sBu4BwEnAf5duHwbZ7cQuYuMtxk7qtmprz9dTSuNKj9uhw3OvrdTq9ncnA/sD7y+da3W940t/0+V/DJZvLzgGuKv0s7bcdbz1+7bdc+v3SJe4jvb//1Yz39sGtwJKKc1NKbV3QeEzgJtSSutSSs+TzdadULre3YCU0oOlCSE34K3Culq75z7nmmpBZ26dp8rw9oJdIKV0L/Bqm9WbOrd+j2yjTZzvTSnk+Ta41ZbN3UJsYTvrtXUui4jZpSb5chfHps69to3ntXsk4A8R8WjprjPQ5vaCgLcX7DqbOrf+vVdOzXxvG9yqVETcGRFPtPPYXGtDxW4hVk86OPdXA3sC44AlwFXl3do5lOd423leu8dRKaVDybqkL42IY/MuqE75914ZNfW9XdHruGnrpZRO3IrdNnULsYWl523Xqx2dPfcR8T3gt6UfO3OLN205z2s3SCktLi2XRsSvyLqLOnV7QW2VTZ1b/94rIKX0cvl5LXxv2+JWW24Fzo2I3hGxO9kkhIdLTfGvR8QRpdmk5+OtwrZK6Uu27CyyiSKwiXPf3fXVoM7cOk/bICL6RcT25efAO8j+rr29YOVs6tz6PVIBtfa9bYtbAUXEWcC3gCHAbRExM6X0ztItxW4GngSagEtTSs2l3S4hm23TF/hd6aEt99WIGEfWnD4fuBigg3OvrdTB7e/UNYYCvypdIagR+ElK6fcRMR1vL7jNIuKnwGRgp4hYCPwrm7h1o98j224T53tyLX1ve+cESZKkgrCrVJIkqSAMbpIkSQVhcJMkSSoIg5skSVJBGNwkSZIKwuAmqa6U7oLxZETMjIhFEfH5vGuSpM4yuEmqRyenlMYBX8+7EEnaEgY3SfWmJ7Cu9YrIfK3UGvd4RLyv1WuTI+K1UgvdSxHxD6X180vbziw9ekXEbhFxV+lm1ndFxK4RsWerbZpbPd8lIv5PREyPiFkR8YuI2K6bz4WkgjG4Sao32wOvt1n3brIbUB8MnAh8rdVtchqAqaUWumva7Hd8Smlc6bEe+DZwQ0rpIODHwDdTSs+WtwHWttp+MfDLlNLhKaWDgbnAR7r800qqKQY3SXUjIhqA7VNKq9u8dDTw05RSc+mG1FOBw0uv9QXe6ORbTAJ+Unr+o9JxN+fAiLgvIh4HzgMO6OT7SKpTBjdJ9WQP4M/trI/N7LMLsHgr36+jewpeB1yWUhoLfAHos5XvI6lOGNwk1ZP3Ag+2s/5e4H0R0RARQ4BjgYdLLXTvBu7v5PEfAM4tPT8P+FMH228PLImInqXtJWmzGvMuQJK6Q0RcAnwReCEiyl2YQ8jGsF0MzAZmkbWS/WNK6aWI+AnwDPCLTr7Nx4EfRMSngWXAhR1s/y/AQ8AC4HGyICdJmxQpddSSL0nFV7pe2/yU0nWdWS9J1ciuUkmSpIKwxU1SXYiIRiCllJo7s16SqpHBTZIkqSDsKpUkSSoIg5skSVJBGNwkSZIKwuAmSZJUEAY3SZKkgvj/5Fr8T/gyhy0AAAAASUVORK5CYII=\n",
      "text/plain": [
       "<Figure size 720x576 with 1 Axes>"
      ]
     },
     "metadata": {
      "needs_background": "light"
     },
     "output_type": "display_data"
    }
   ],
   "source": [
    "fig, ax = plt.subplots(figsize=(10, 8))\n",
    "\n",
    "plt.hist(df.longtitude, density=True, \n",
    "         bins = 'sturges')\n",
    "\n",
    "plt.ylabel('Плотность')\n",
    "plt.xlabel('Долгота')\n",
    "ax.set_title('Распределение долготы')\n",
    "\n",
    "mean = np.mean(df.longtitude)\n",
    "std = np.std(df.longtitude)\n",
    "x = np.linspace(mean - 3*std, mean + 3*std, 100)\n",
    "plt.plot(x, 1/(std * np.sqrt(2 * np.pi)) * np.exp( - (x - mean)**2 / (2 * std**2) ), linewidth=2, color='r')\n",
    "\n",
    "ax.grid()\n",
    "plt.show()"
   ]
  },
  {
<<<<<<< HEAD
   "cell_type": "markdown",
   "id": "ea412a53",
   "metadata": {},
   "source": [
    "## Анализ качественных признаков"
   ]
  },
  {
   "cell_type": "markdown",
   "id": "ffb12096",
=======
   "cell_type": "code",
   "execution_count": 139,
   "id": "764d26f8",
   "metadata": {},
   "outputs": [
    {
     "data": {
      "text/html": [
       "<div>\n",
       "<style scoped>\n",
       "    .dataframe tbody tr th:only-of-type {\n",
       "        vertical-align: middle;\n",
       "    }\n",
       "\n",
       "    .dataframe tbody tr th {\n",
       "        vertical-align: top;\n",
       "    }\n",
       "\n",
       "    .dataframe thead tr th {\n",
       "        text-align: left;\n",
       "    }\n",
       "\n",
       "    .dataframe thead tr:last-of-type th {\n",
       "        text-align: right;\n",
       "    }\n",
       "</style>\n",
       "<table border=\"1\" class=\"dataframe\">\n",
       "  <thead>\n",
       "    <tr>\n",
       "      <th></th>\n",
       "      <th colspan=\"2\" halign=\"left\">salary</th>\n",
       "    </tr>\n",
       "    <tr>\n",
       "      <th></th>\n",
       "      <th>mean</th>\n",
       "      <th>count</th>\n",
       "    </tr>\n",
       "    <tr>\n",
       "      <th>experience</th>\n",
       "      <th></th>\n",
       "      <th></th>\n",
       "    </tr>\n",
       "  </thead>\n",
       "  <tbody>\n",
       "    <tr>\n",
       "      <th>Более 6 лет</th>\n",
       "      <td>60343.0</td>\n",
       "      <td>25</td>\n",
       "    </tr>\n",
       "    <tr>\n",
       "      <th>Нет опыта</th>\n",
       "      <td>46230.0</td>\n",
       "      <td>102</td>\n",
       "    </tr>\n",
       "    <tr>\n",
       "      <th>От 1 года до 3 лет</th>\n",
       "      <td>52849.0</td>\n",
       "      <td>767</td>\n",
       "    </tr>\n",
       "    <tr>\n",
       "      <th>От 3 до 6 лет</th>\n",
       "      <td>64523.0</td>\n",
       "      <td>506</td>\n",
       "    </tr>\n",
       "  </tbody>\n",
       "</table>\n",
       "</div>"
      ],
      "text/plain": [
       "                     salary      \n",
       "                       mean count\n",
       "experience                       \n",
       "Более 6 лет         60343.0    25\n",
       "Нет опыта           46230.0   102\n",
       "От 1 года до 3 лет  52849.0   767\n",
       "От 3 до 6 лет       64523.0   506"
      ]
     },
     "execution_count": 139,
     "metadata": {},
     "output_type": "execute_result"
    }
   ],
   "source": [
    "freze.groupby(\"experience\").agg({\"salary\": [np.mean, 'count']}).round(0)"
   ]
  },
  {
   "cell_type": "markdown",
   "id": "d9a7c7b0",
   "metadata": {},
   "source": [
    "## Анализ количественных признаков"
   ]
  },
  {
   "cell_type": "code",
   "execution_count": 140,
   "id": "bf290725",
   "metadata": {},
   "outputs": [],
   "source": [
    "df = pd.read_csv('../../data/final_data_salary.csv')"
   ]
  },
  {
   "cell_type": "code",
   "execution_count": 141,
   "id": "50940f27",
   "metadata": {},
   "outputs": [],
   "source": [
    "df_numeric = df.loc[:, ['latitude', 'longtitude', 'salary']]"
   ]
  },
  {
   "cell_type": "code",
   "execution_count": 142,
   "id": "7b07c0f1",
   "metadata": {},
   "outputs": [
    {
     "data": {
      "text/html": [
       "<div>\n",
       "<style scoped>\n",
       "    .dataframe tbody tr th:only-of-type {\n",
       "        vertical-align: middle;\n",
       "    }\n",
       "\n",
       "    .dataframe tbody tr th {\n",
       "        vertical-align: top;\n",
       "    }\n",
       "\n",
       "    .dataframe thead th {\n",
       "        text-align: right;\n",
       "    }\n",
       "</style>\n",
       "<table border=\"1\" class=\"dataframe\">\n",
       "  <thead>\n",
       "    <tr style=\"text-align: right;\">\n",
       "      <th></th>\n",
       "      <th>latitude</th>\n",
       "      <th>longtitude</th>\n",
       "      <th>salary</th>\n",
       "    </tr>\n",
       "  </thead>\n",
       "  <tbody>\n",
       "    <tr>\n",
       "      <th>count</th>\n",
       "      <td>20133.000000</td>\n",
       "      <td>20133.000000</td>\n",
       "      <td>20133.000000</td>\n",
       "    </tr>\n",
       "    <tr>\n",
       "      <th>mean</th>\n",
       "      <td>55.034746</td>\n",
       "      <td>50.674378</td>\n",
       "      <td>68385.510156</td>\n",
       "    </tr>\n",
       "    <tr>\n",
       "      <th>std</th>\n",
       "      <td>4.112057</td>\n",
       "      <td>23.114345</td>\n",
       "      <td>44471.156199</td>\n",
       "    </tr>\n",
       "    <tr>\n",
       "      <th>min</th>\n",
       "      <td>23.608705</td>\n",
       "      <td>-117.780920</td>\n",
       "      <td>739.500000</td>\n",
       "    </tr>\n",
       "    <tr>\n",
       "      <th>25%</th>\n",
       "      <td>54.198566</td>\n",
       "      <td>37.544997</td>\n",
       "      <td>40000.000000</td>\n",
       "    </tr>\n",
       "    <tr>\n",
       "      <th>50%</th>\n",
       "      <td>55.749506</td>\n",
       "      <td>39.809390</td>\n",
       "      <td>55000.000000</td>\n",
       "    </tr>\n",
       "    <tr>\n",
       "      <th>75%</th>\n",
       "      <td>56.837849</td>\n",
       "      <td>57.522901</td>\n",
       "      <td>80970.000000</td>\n",
       "    </tr>\n",
       "    <tr>\n",
       "      <th>max</th>\n",
       "      <td>69.496790</td>\n",
       "      <td>158.679625</td>\n",
       "      <td>522000.000000</td>\n",
       "    </tr>\n",
       "  </tbody>\n",
       "</table>\n",
       "</div>"
      ],
      "text/plain": [
       "           latitude    longtitude         salary\n",
       "count  20133.000000  20133.000000   20133.000000\n",
       "mean      55.034746     50.674378   68385.510156\n",
       "std        4.112057     23.114345   44471.156199\n",
       "min       23.608705   -117.780920     739.500000\n",
       "25%       54.198566     37.544997   40000.000000\n",
       "50%       55.749506     39.809390   55000.000000\n",
       "75%       56.837849     57.522901   80970.000000\n",
       "max       69.496790    158.679625  522000.000000"
      ]
     },
     "execution_count": 142,
     "metadata": {},
     "output_type": "execute_result"
    }
   ],
   "source": [
    "df_numeric.describe()"
   ]
  },
  {
   "cell_type": "code",
   "execution_count": 143,
   "id": "9706ffc8",
   "metadata": {},
   "outputs": [],
   "source": [
    "stats = []\n",
    "\n",
    "for (i, col) in enumerate(df_numeric.columns):\n",
    "    val = df_numeric[col]\n",
    "    \n",
    "    stats.append ([col, val.mean(), val.median(), val.min(), val.max(), val.std(), \n",
    "                     scipy.stats.skew(val, axis=0, bias=True), \n",
    "                     kurtosis(val, axis=0, bias=True), \n",
    "                     val.quantile(0.05), val.quantile(0.95), \n",
    "                     val.quantile(0.75) - val.quantile(0.25),\n",
    "                     0])"
   ]
  },
  {
   "cell_type": "code",
   "execution_count": 144,
   "id": "ce2f107d",
   "metadata": {},
   "outputs": [],
   "source": [
    "stats = pd.DataFrame(stats, columns=['Переменная', 'Среднее', 'Медиана', 'Минимум', 'Максимум', \n",
    "                                     'Ст. Отклонение', 'Асимметрия', 'Эксцесс', \n",
    "                                     '5% Проц', '95% Проц', 'Интерквартильный размах', 'Пропущенные наблюдения'])"
   ]
  },
  {
   "cell_type": "code",
   "execution_count": 145,
   "id": "934c9999",
   "metadata": {},
   "outputs": [
    {
     "data": {
      "text/html": [
       "<div>\n",
       "<style scoped>\n",
       "    .dataframe tbody tr th:only-of-type {\n",
       "        vertical-align: middle;\n",
       "    }\n",
       "\n",
       "    .dataframe tbody tr th {\n",
       "        vertical-align: top;\n",
       "    }\n",
       "\n",
       "    .dataframe thead th {\n",
       "        text-align: right;\n",
       "    }\n",
       "</style>\n",
       "<table border=\"1\" class=\"dataframe\">\n",
       "  <thead>\n",
       "    <tr style=\"text-align: right;\">\n",
       "      <th></th>\n",
       "      <th>Переменная</th>\n",
       "      <th>Среднее</th>\n",
       "      <th>Медиана</th>\n",
       "      <th>Минимум</th>\n",
       "      <th>Максимум</th>\n",
       "      <th>Ст. Отклонение</th>\n",
       "      <th>Асимметрия</th>\n",
       "      <th>Эксцесс</th>\n",
       "      <th>5% Проц</th>\n",
       "      <th>95% Проц</th>\n",
       "      <th>Интерквартильный размах</th>\n",
       "      <th>Пропущенные наблюдения</th>\n",
       "    </tr>\n",
       "  </thead>\n",
       "  <tbody>\n",
       "    <tr>\n",
       "      <th>0</th>\n",
       "      <td>latitude</td>\n",
       "      <td>55.034746</td>\n",
       "      <td>55.749506</td>\n",
       "      <td>23.608705</td>\n",
       "      <td>69.496790</td>\n",
       "      <td>4.112057</td>\n",
       "      <td>-0.999656</td>\n",
       "      <td>2.263413</td>\n",
       "      <td>45.049795</td>\n",
       "      <td>59.971717</td>\n",
       "      <td>2.639283</td>\n",
       "      <td>0</td>\n",
       "    </tr>\n",
       "    <tr>\n",
       "      <th>1</th>\n",
       "      <td>longtitude</td>\n",
       "      <td>50.674378</td>\n",
       "      <td>39.809390</td>\n",
       "      <td>-117.780920</td>\n",
       "      <td>158.679625</td>\n",
       "      <td>23.114345</td>\n",
       "      <td>1.799294</td>\n",
       "      <td>3.542513</td>\n",
       "      <td>30.307716</td>\n",
       "      <td>92.981642</td>\n",
       "      <td>19.977904</td>\n",
       "      <td>0</td>\n",
       "    </tr>\n",
       "    <tr>\n",
       "      <th>2</th>\n",
       "      <td>salary</td>\n",
       "      <td>68385.510156</td>\n",
       "      <td>55000.000000</td>\n",
       "      <td>739.500000</td>\n",
       "      <td>522000.000000</td>\n",
       "      <td>44471.156199</td>\n",
       "      <td>2.368214</td>\n",
       "      <td>8.599219</td>\n",
       "      <td>26100.000000</td>\n",
       "      <td>156600.000000</td>\n",
       "      <td>40970.000000</td>\n",
       "      <td>0</td>\n",
       "    </tr>\n",
       "  </tbody>\n",
       "</table>\n",
       "</div>"
      ],
      "text/plain": [
       "   Переменная       Среднее  ...  Интерквартильный размах  Пропущенные наблюдения\n",
       "0    latitude     55.034746  ...                 2.639283                       0\n",
       "1  longtitude     50.674378  ...                19.977904                       0\n",
       "2      salary  68385.510156  ...             40970.000000                       0\n",
       "\n",
       "[3 rows x 12 columns]"
      ]
     },
     "execution_count": 145,
     "metadata": {},
     "output_type": "execute_result"
    }
   ],
   "source": [
    "stats"
   ]
  },
  {
   "cell_type": "code",
   "execution_count": 146,
   "id": "d1cc5a14",
   "metadata": {},
   "outputs": [
    {
     "data": {
      "image/png": "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\n",
      "text/plain": [
       "<Figure size 864x720 with 1 Axes>"
      ]
     },
     "metadata": {},
     "output_type": "display_data"
    }
   ],
   "source": [
    "fig, ax = plt.subplots(figsize=(12, 10))\n",
    "plt.hist(df.latitude, weights = np.ones_like(df.latitude) / len(df.latitude), bins = len(np.histogram_bin_edges(df.latitude, bins='sturges')) - 1) \n",
    "plt.ylabel('Относительная частота')\n",
    "plt.xlabel('Широта')\n",
    "ax.set_title('Распределение широты. Стерджес')\n",
    "\n",
    "plt.annotate('Выбросы', xy=(33, 0.01), xytext=(28, 0.085),\n",
    "             arrowprops={'arrowstyle':'->'}\n",
    "             ,horizontalalignment='center')\n",
    "\n",
    "plt.annotate('Ассиметрия влево', xy=(52, 0.2), xytext=(48, 0.35),\n",
    "             arrowprops={'arrowstyle':'->'}\n",
    "             ,horizontalalignment='center')\n",
    "\n",
    "ax.xaxis.set_ticks(np.arange(0, 80, 5))\n",
    "ax.yaxis.set_ticks(np.arange(0, 0.5, 0.05))\n",
    "\n",
    "ax.grid()\n",
    "plt.show()"
   ]
  },
  {
   "cell_type": "code",
   "execution_count": 147,
   "id": "18e1d605",
   "metadata": {},
   "outputs": [
    {
     "data": {
      "image/png": "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\n",
      "text/plain": [
       "<Figure size 720x576 with 1 Axes>"
      ]
     },
     "metadata": {},
     "output_type": "display_data"
    }
   ],
   "source": [
    "fig, ax = plt.subplots(figsize=(10, 8))\n",
    "plt.hist(df.longtitude, weights = np.ones_like(df.longtitude) / len(df.longtitude), \n",
    "         bins = len(np.histogram_bin_edges(df.longtitude, bins='sturges')) - 1) \n",
    "plt.ylabel('Относительная частота')\n",
    "plt.xlabel('Долгота')\n",
    "ax.set_title('Распределение долготы. Стерджес')\n",
    "\n",
    "plt.annotate('Выбросы', xy=(-110, 0.001), xytext=(-90, 0.08),\n",
    "             arrowprops={'arrowstyle':'->'}\n",
    "             ,horizontalalignment='center')\n",
    "\n",
    "plt.annotate('Ассиметрия влево', xy=(15, 0.20), xytext=(-50, 0.32),\n",
    "             arrowprops={'arrowstyle':'->'}\n",
    "             ,horizontalalignment='center')\n",
    "\n",
    "\n",
    "ax.yaxis.set_ticks(np.arange(0, 0.5, 0.05))\n",
    "\n",
    "ax.grid()\n",
    "plt.show()"
   ]
  },
  {
   "cell_type": "code",
   "execution_count": 148,
   "id": "863301e0",
   "metadata": {},
   "outputs": [
    {
     "data": {
      "image/png": "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\n",
      "text/plain": [
       "<Figure size 720x576 with 1 Axes>"
      ]
     },
     "metadata": {},
     "output_type": "display_data"
    }
   ],
   "source": [
    "fig, ax = plt.subplots(figsize=(10, 8))\n",
    "\n",
    "plt.hist(df.salary, weights = np.ones_like(df.salary) / len(df.salary), \n",
    "         bins = len(np.histogram_bin_edges(df.salary, bins='sturges')) - 1)\n",
    "\n",
    "plt.ylabel('Относительная частота')\n",
    "plt.xlabel('Зарплата')\n",
    "ax.set_title('Распределение зарплаты. Стерджес')\n",
    "\n",
    "plt.annotate('Выбросы', xy=(320000, 0.01), xytext=(435000, 0.32),\n",
    "             arrowprops={'arrowstyle':'->'}\n",
    "             ,horizontalalignment='center')\n",
    "\n",
    "plt.annotate('', xy=(520000, 0.01), xytext=(430000, 0.315),\n",
    "             arrowprops={'arrowstyle':'->'}\n",
    "             ,horizontalalignment='center')\n",
    "\n",
    "ax.xaxis.set_ticks(np.arange(0, 550000, 50000))\n",
    "ax.yaxis.set_ticks(np.arange(0, 0.55, 0.05))\n",
    "\n",
    "ax.grid()\n",
    "plt.show()"
   ]
  },
  {
   "cell_type": "code",
   "execution_count": null,
   "id": "05abc327",
   "metadata": {},
   "outputs": [],
   "source": []
  },
  {
   "cell_type": "markdown",
   "id": "c5c32c3d",
   "metadata": {},
   "source": [
    "## Анализ качественных признаков"
   ]
  },
  {
   "cell_type": "code",
   "execution_count": 149,
   "id": "26465d09",
   "metadata": {
    "scrolled": true
   },
   "outputs": [
    {
     "data": {
      "text/plain": [
       "premium                        0\n",
       "name                           0\n",
       "response_letter_required       0\n",
       "city                           0\n",
       "latitude                       0\n",
       "longtitude                     0\n",
       "raw                            0\n",
       "experience                     0\n",
       "schedule                       0\n",
       "skills                      3934\n",
       "has_test                       0\n",
       "employer                       0\n",
       "currency                       0\n",
       "salary                         0\n",
       "dtype: int64"
      ]
     },
     "execution_count": 149,
     "metadata": {},
     "output_type": "execute_result"
    }
   ],
   "source": [
    "df.isna().sum()"
   ]
  },
  {
   "cell_type": "code",
   "execution_count": 150,
   "id": "d53bfc64",
   "metadata": {},
   "outputs": [
    {
     "data": {
      "text/html": [
       "<div>\n",
       "<style scoped>\n",
       "    .dataframe tbody tr th:only-of-type {\n",
       "        vertical-align: middle;\n",
       "    }\n",
       "\n",
       "    .dataframe tbody tr th {\n",
       "        vertical-align: top;\n",
       "    }\n",
       "\n",
       "    .dataframe thead th {\n",
       "        text-align: right;\n",
       "    }\n",
       "</style>\n",
       "<table border=\"1\" class=\"dataframe\">\n",
       "  <thead>\n",
       "    <tr style=\"text-align: right;\">\n",
       "      <th></th>\n",
       "      <th>latitude</th>\n",
       "      <th>longtitude</th>\n",
       "      <th>salary</th>\n",
       "    </tr>\n",
       "  </thead>\n",
       "  <tbody>\n",
       "    <tr>\n",
       "      <th>count</th>\n",
       "      <td>20133.000000</td>\n",
       "      <td>20133.000000</td>\n",
       "      <td>20133.000000</td>\n",
       "    </tr>\n",
       "    <tr>\n",
       "      <th>mean</th>\n",
       "      <td>55.034746</td>\n",
       "      <td>50.674378</td>\n",
       "      <td>68385.510156</td>\n",
       "    </tr>\n",
       "    <tr>\n",
       "      <th>std</th>\n",
       "      <td>4.112057</td>\n",
       "      <td>23.114345</td>\n",
       "      <td>44471.156199</td>\n",
       "    </tr>\n",
       "    <tr>\n",
       "      <th>min</th>\n",
       "      <td>23.608705</td>\n",
       "      <td>-117.780920</td>\n",
       "      <td>739.500000</td>\n",
       "    </tr>\n",
       "    <tr>\n",
       "      <th>25%</th>\n",
       "      <td>54.198566</td>\n",
       "      <td>37.544997</td>\n",
       "      <td>40000.000000</td>\n",
       "    </tr>\n",
       "    <tr>\n",
       "      <th>50%</th>\n",
       "      <td>55.749506</td>\n",
       "      <td>39.809390</td>\n",
       "      <td>55000.000000</td>\n",
       "    </tr>\n",
       "    <tr>\n",
       "      <th>75%</th>\n",
       "      <td>56.837849</td>\n",
       "      <td>57.522901</td>\n",
       "      <td>80970.000000</td>\n",
       "    </tr>\n",
       "    <tr>\n",
       "      <th>max</th>\n",
       "      <td>69.496790</td>\n",
       "      <td>158.679625</td>\n",
       "      <td>522000.000000</td>\n",
       "    </tr>\n",
       "  </tbody>\n",
       "</table>\n",
       "</div>"
      ],
      "text/plain": [
       "           latitude    longtitude         salary\n",
       "count  20133.000000  20133.000000   20133.000000\n",
       "mean      55.034746     50.674378   68385.510156\n",
       "std        4.112057     23.114345   44471.156199\n",
       "min       23.608705   -117.780920     739.500000\n",
       "25%       54.198566     37.544997   40000.000000\n",
       "50%       55.749506     39.809390   55000.000000\n",
       "75%       56.837849     57.522901   80970.000000\n",
       "max       69.496790    158.679625  522000.000000"
      ]
     },
     "execution_count": 150,
     "metadata": {},
     "output_type": "execute_result"
    }
   ],
   "source": [
    "df.describe()"
   ]
  },
  {
   "cell_type": "markdown",
   "id": "2e2298a7",
   "metadata": {},
   "source": [
    "## Города"
   ]
  },
  {
   "cell_type": "markdown",
   "id": "cdf37efd",
   "metadata": {},
   "source": [
    "В большом количестве(10 тысяч) вакансий город не указан. Такие значения мы заполним категорией \"Неизвестно\". Города, которые попадаются меньше трех раз мы объеденим в одну категорию \"Другие\", т.к. в таком случае эта категория получается не такой большой по сравнению с другими категориями. "
   ]
  },
  {
   "cell_type": "code",
   "execution_count": 151,
   "id": "9b46d5d6",
   "metadata": {},
   "outputs": [],
   "source": [
    "import pickle \n",
    "import matplotlib.path as mplPath"
   ]
  },
  {
   "cell_type": "code",
   "execution_count": 152,
   "id": "c6069488",
   "metadata": {},
   "outputs": [],
   "source": [
    "mapper = {\n",
    "\"Алтайский край\":\"Южно-Сибирский\",\n",
    "\"Республика Алтай\":\"Южно-Сибирский\",\n",
    "\"Курская область\":\"Центрально-Чернозёмный\",\n",
    "\"Тульская область\":\"Центральный\",\n",
    "\"Пермский край\":\"Волго-Камский\",\n",
    "\"Тверская область\":\"Центральный\",\n",
    "\"Липецкая область\":\"Центрально-Чернозёмный\",\n",
    "\"Орловская область\":\"Центральный\",\n",
    "\"Самарская область\":\"Волго-Уральский\",\n",
    "\"Кировская область\":\"Волго-Камский\",\n",
    "\"Брянская область\":\"Центральный\",\n",
    "\"Московская область\":\"Центральный\",\n",
    "\"Смоленская область\":\"Центральный\",\n",
    "\"Рязанская область\":\"Центральный\",\n",
    "\"Калужская область\":\"Центральный\",\n",
    "\"Тамбовская область\":\"Центрально-Чернозёмный\",\n",
    "\"Ростовская область\":\"Южный\",\n",
    "\"Республика Марий Эл\":\"Волго-Камский\",\n",
    "\"Курганская область\":\"Уральско-Сибирский\",\n",
    "\"Мурманская область\":\"Северно-Западный\",\n",
    "\"Республика агестан\":\"Северно-Кавказский\",\n",
    "\"Республика Карелия\":\"Северно-Западный\",\n",
    "\"Ивановская область\":\"Центральный\",\n",
    "\"Кемеровская область\":\"Южно-Сибирский\",\n",
    "\"Вологодская область\":\"Северно-Западный\",\n",
    "\"Магаданская область\":\"Дальневосточный\",\n",
    "\"Республика Татарстан\":\"Волго-Камский\",\n",
    "\"Воронежская область\":\"Центрально-Чернозёмный\",\n",
    "\"Белгородская область\":\"Центрально-Чернозёмный\",\n",
    "\"Ярославская область\":\"Центральный\",\n",
    "\"Ульяновская область\":\"Волго-Уральский\",\n",
    "\"Владимирская область\":\"Центральный\",\n",
    "\"Новосибирская область\":\"Южно-Сибирский\",\n",
    "\"Ленинградская область\":\"Северно-Западный\",\n",
    "\"Астраханская область\":\"Южный\",\n",
    "\"Удмуртская Республика\":\"Волго-Камский\",\n",
    "\"Архангельская область\":\"Северный\",\n",
    "\"Чувашская Республика\":\"Волго-Камский\",\n",
    "\"Республика Калмыкия\":\"Южный\",\n",
    "\"Республика Башкортостан\":\"Волго-Уральский\",\n",
    "\"Республика Саха (Якутия)\":\"Дальневосточный\",\n",
    "\"Кабардино-Балкарская Республика\":\"Северно-Кавказский\",\n",
    "\"Республика Северная Осетия-Алания\":\"Северно-Кавказский\",\n",
    "\"Республика Тыва\":\"Ангаро-Енисейский\",\n",
    "\"Карачаево-Черкесская Республика\":\"Северно-Кавказский\",\n",
    "\"Еврейская автономная область\":\"Дальневосточный\",\n",
    "\"Томская область\":\"Южно-Сибирский\",\n",
    "\"Амурская область\":\"Дальневосточный\",\n",
    "\"Пензенская область\":\"Волго-Уральский\",\n",
    "\"Республика Бурятия\":\"Дальневосточный\",\n",
    "\"Республика Хакасия\":\"Ангаро-Енисейский\",\n",
    "\"Республика Мордовия\":\"Волго-Камский\",\n",
    "\"Саратовская область\":\"Волго-Уральский\",\n",
    "\"Костромская область\":\"Центральный\",\n",
    "\"Республика Ингушетия\":\"Северно-Кавказский\",\n",
    "\"Чеченская Республика\":\"Северно-Кавказский\",\n",
    "\"Калининградская область\":\"Северно-Западный\",\n",
    "\"Псковская область\":\"Северно-Западный\",\n",
    "\"Республика Коми\":\"Северный\",\n",
    "\"Оренбургская область\":\"Волго-Уральский\",\n",
    "\"Новгородская область\":\"Северно-Западный\",\n",
    "\"Челябинская область\":\"Уральско-Сибирский\",\n",
    "\"Ставропольский край\":\"Северно-Кавказский\",\n",
    "\"Свердловская область\":\"Уральско-Сибирский\",\n",
    "\"Волгоградская область\":\"Южный\",\n",
    "\"Республика Адыгея\":\"Южный\",\n",
    "\"Ханты-Мансийский автономный округ\":\"Уральско-Сибирский\",\n",
    "\"Тюменская область\":\"Уральско-Сибирский\",\n",
    "\"Омская область\":\"Южно-Сибирский\",\n",
    "\"Приморский край\":\"Дальневосточный\",\n",
    "\"Хабаровский край\":\"Дальневосточный\",\n",
    "\"Сахалинская область\":\"Дальневосточный\",\n",
    "\"Чукотский автономный округ\":\"Дальневосточный\",\n",
    "\"Красноярский край\":\"Ангаро-Енисейский\",\n",
    "\"Иркутская область\":\"Ангаро-Енисейский\",\n",
    "\"Забайкальский край\":\"Дальневосточный\",\n",
    "\"Камчатский край\":\"Дальневосточный\",\n",
    "\"Ненецкий автономный округ\":\"Северный\",\n",
    "\"Ямало-Ненецкий автономный округ\":\"Уральско-Сибирский\",\n",
    "\"Краснодарский край\":\"Южный\",\n",
    "\"Нижегородская область\":\"Волго-Камский\",\n",
    "\"Unknown\" : \"Unknown\" }"
   ]
  },
  {
   "cell_type": "code",
   "execution_count": 153,
   "id": "82129256",
>>>>>>> cd21851a77a182f2d44359f732377b005a91ebda
   "metadata": {},
   "source": [
    "## Города"
   ]
  },
  {
<<<<<<< HEAD
   "cell_type": "markdown",
   "id": "d1a43347",
   "metadata": {},
   "source": [
    "В большом количестве(10 тысяч) вакансий город не указан. Такие значения мы заполним категорией \"Неизвестно\". Города, которые попадаются меньше трех раз мы объеденим в одну категорию \"Другие\", т.к. в таком случае эта категория получается не такой большой по сравнению с другими категориями. "
=======
   "cell_type": "code",
   "execution_count": 154,
   "id": "57459722",
   "metadata": {},
   "outputs": [],
   "source": [
    "unknown = df[(df['Region']=='Unknown')]"
   ]
  },
  {
   "cell_type": "code",
   "execution_count": 155,
   "id": "7a0d5080",
   "metadata": {},
   "outputs": [
    {
     "data": {
      "text/plain": [
       "5                                      Владивосток\n",
       "29                                     Симферополь\n",
       "212                               регион Аль-Дарфа\n",
       "225                                   Новороссийск\n",
       "267                                    Архангельск\n",
       "286                                       Таганрог\n",
       "360                                    Владивосток\n",
       "368                                    Севастополь\n",
       "376                                    Севастополь\n",
       "380                                      Ломоносов\n",
       "474                                       Таганрог\n",
       "487                                         Батуми\n",
       "488                                    Архангельск\n",
       "490                                    Владивосток\n",
       "533                                    Севастополь\n",
       "550                    Артёмовский городской округ\n",
       "604                                    Архангельск\n",
       "624                                  посёлок Волна\n",
       "790                                    Симферополь\n",
       "794                    Артёмовский городской округ\n",
       "820                                    Архангельск\n",
       "879                                    Владивосток\n",
       "911                                    Владивосток\n",
       "959                                           Ялта\n",
       "984                                    Архангельск\n",
       "1178                               посёлок Русский\n",
       "1204                                   Севастополь\n",
       "1227                                   Симферополь\n",
       "1266                                   Владивосток\n",
       "1292                                   Симферополь\n",
       "1301                                       Ташкент\n",
       "1337                                     Подгорица\n",
       "1391                                   Владивосток\n",
       "1424                                   Архангельск\n",
       "1494                                   Симферополь\n",
       "1508                                   Владивосток\n",
       "1564                                   Севастополь\n",
       "1584                                   Владивосток\n",
       "1667                                   Севастополь\n",
       "1746                                   Владивосток\n",
       "1754                                   Севастополь\n",
       "1929                                   Симферополь\n",
       "2031                                   Симферополь\n",
       "2045                                   Симферополь\n",
       "2059                                  Новороссийск\n",
       "2104                                      Таганрог\n",
       "2106                                 посёлок Новый\n",
       "2110                                   Архангельск\n",
       "2122                                         Керчь\n",
       "2262                               Санкт-Петербург\n",
       "2299                                      Таганрог\n",
       "2339                                         София\n",
       "2364                               Санкт-Петербург\n",
       "2371                                   Симферополь\n",
       "2428                                   Владивосток\n",
       "2510                                        Гродно\n",
       "2516                                   Симферополь\n",
       "2565                                   Севастополь\n",
       "2582                               посёлок Русский\n",
       "2605                                   Владивосток\n",
       "2615                                      Таганрог\n",
       "2637                                   Симферополь\n",
       "2710                                      Таганрог\n",
       "2901                                   Владивосток\n",
       "2958                                   Владивосток\n",
       "3030                                      Таганрог\n",
       "3082                                   Архангельск\n",
       "3150                                   Владивосток\n",
       "3174                                   Севастополь\n",
       "3192                                   Севастополь\n",
       "3193                                   Севастополь\n",
       "3194                                   Владивосток\n",
       "3279                                   Архангельск\n",
       "3360                                      Таганрог\n",
       "3459                                   Владивосток\n",
       "3484                                   Владивосток\n",
       "3579                                   Владивосток\n",
       "3619                                      Лимассол\n",
       "3638                                   Владивосток\n",
       "3676                                   Симферополь\n",
       "3704                                   Симферополь\n",
       "3718                                   Владивосток\n",
       "3807                                    село Дубки\n",
       "3834                                   Владивосток\n",
       "3849                                   Владивосток\n",
       "3866                посёлок городского типа Кореиз\n",
       "4089                                   Владивосток\n",
       "4096                                   Симферополь\n",
       "4180                                   Владивосток\n",
       "4209                посёлок городского типа Сириус\n",
       "4506                                   Севастополь\n",
       "4515                                      Таганрог\n",
       "4633                                   Владивосток\n",
       "4661                                   Владивосток\n",
       "4690                                   Владивосток\n",
       "4698                                   Севастополь\n",
       "4796                                  Новороссийск\n",
       "4855                                   Симферополь\n",
       "4865                                       Дербент\n",
       "4902                                   Севастополь\n",
       "5003                                   Архангельск\n",
       "5058                                   Архангельск\n",
       "5069                                 село Яблочное\n",
       "5085                                   Севастополь\n",
       "5106                                   Владивосток\n",
       "5109                                   Владивосток\n",
       "5117                                   Севастополь\n",
       "5149                                   Симферополь\n",
       "5177                                     Евпатория\n",
       "5185                                   Архангельск\n",
       "5202                                   Симферополь\n",
       "5206                                   Владивосток\n",
       "5262                                   Архангельск\n",
       "5283                                   Симферополь\n",
       "5413                                   Владивосток\n",
       "5447                                   Симферополь\n",
       "5546                                   Архангельск\n",
       "5581                                   Владивосток\n",
       "5622                                     Подгорица\n",
       "5713           посёлок городского типа Гвардейское\n",
       "5780                                   Владивосток\n",
       "5790                                   Владивосток\n",
       "5862                                        Батуми\n",
       "5875                                   Севастополь\n",
       "5935                                   Владивосток\n",
       "5991                                   Владивосток\n",
       "6046           посёлок городского типа Забайкальск\n",
       "6107                                   Севастополь\n",
       "6179                                   Севастополь\n",
       "6199                                   Симферополь\n",
       "6299                                   Архангельск\n",
       "6302                               село Белоглинка\n",
       "6395                                   Владивосток\n",
       "6401                                   Симферополь\n",
       "6414                                   Владивосток\n",
       "6425                                   Владивосток\n",
       "6429                                      Лимассол\n",
       "6531                                   Владивосток\n",
       "6580                                   Архангельск\n",
       "6694                                   Владивосток\n",
       "6697                                   Симферополь\n",
       "6737                                   Архангельск\n",
       "6739                                      Таганрог\n",
       "6768                                   Владивосток\n",
       "6795                                     Евпатория\n",
       "6864                                   Симферополь\n",
       "6876                                  Новороссийск\n",
       "6961                                   Севастополь\n",
       "6999                                      Таганрог\n",
       "7020                                 город Лимасол\n",
       "7021                                   Симферополь\n",
       "7029               городской округ Владивостокский\n",
       "7058                                   Владивосток\n",
       "7061                                   Севастополь\n",
       "7076                                   Владивосток\n",
       "7086                                          Ялта\n",
       "7120                                   Симферополь\n",
       "7125                                 посёлок Новый\n",
       "7180                                      Лимассол\n",
       "7181                                   Владивосток\n",
       "7202                посёлок городского типа Сириус\n",
       "7232                                   Симферополь\n",
       "7262                                   Севастополь\n",
       "7304                                  Новороссийск\n",
       "7359                                   Архангельск\n",
       "7403                                   Архангельск\n",
       "7432                                        Гродно\n",
       "7475                                   Архангельск\n",
       "7510                                   Владивосток\n",
       "7574                                   Симферополь\n",
       "7606                                   Симферополь\n",
       "7607                                   Владивосток\n",
       "7630                                   Симферополь\n",
       "7643                                   Архангельск\n",
       "7676                                   Владивосток\n",
       "7687                                   Владивосток\n",
       "7706                               посёлок Русский\n",
       "7771                                   Владивосток\n",
       "7791                                   Владивосток\n",
       "7796                                   Симферополь\n",
       "7888                                       Ташкент\n",
       "7982                                      Таганрог\n",
       "7997                                      Таганрог\n",
       "8023                                         Анапа\n",
       "8081                                   Архангельск\n",
       "8165                                   Владивосток\n",
       "8196                                   Севастополь\n",
       "8322                                   Владивосток\n",
       "8333                                   Симферополь\n",
       "8557                                   Владивосток\n",
       "8586                                   Владивосток\n",
       "8650                                      Таганрог\n",
       "8658                                      Таганрог\n",
       "8691                                  Новороссийск\n",
       "8730                                      Лимассол\n",
       "8755                                   Севастополь\n",
       "8758                                   Владивосток\n",
       "8788                                   Владивосток\n",
       "8805                                         София\n",
       "8830                               Санкт-Петербург\n",
       "8950                                   Архангельск\n",
       "9215                                     Евпатория\n",
       "9260                   Артёмовский городской округ\n",
       "9307                                   Владивосток\n",
       "9309                                   Архангельск\n",
       "9313                                   Владивосток\n",
       "9413                                   Владивосток\n",
       "9419                                   Симферополь\n",
       "9445                                   Владивосток\n",
       "9552                                      Таганрог\n",
       "9562                                      Избербаш\n",
       "9646                                         София\n",
       "9736                                   Владивосток\n",
       "9868                                   Владивосток\n",
       "9893                                  Новороссийск\n",
       "9921                                   Архангельск\n",
       "9976                               посёлок Русский\n",
       "9980                                   Симферополь\n",
       "10003                                    Евпатория\n",
       "10079                                  Владивосток\n",
       "10083                                  Владивосток\n",
       "10087                                     Нью-Йорк\n",
       "10104                                 Сосновый Бор\n",
       "10125                                  Севастополь\n",
       "10165                                        Керчь\n",
       "10362                                  Симферополь\n",
       "10681                                    Ломоносов\n",
       "10700                                      Дербент\n",
       "10733                                  Владивосток\n",
       "10754                             регион Аль-Дарфа\n",
       "10794          посёлок городского типа Забайкальск\n",
       "10806                                  Владивосток\n",
       "10810          посёлок городского типа Гвардейское\n",
       "10832                                  Владивосток\n",
       "10937                                  Владивосток\n",
       "10956                                  Симферополь\n",
       "10976                                  Севастополь\n",
       "11004                                  Владивосток\n",
       "11017                                     Таганрог\n",
       "11043                                     Таганрог\n",
       "11076                                  Симферополь\n",
       "11144                                  Севастополь\n",
       "11293              городской округ Владивостокский\n",
       "11295                                  Владивосток\n",
       "11351                                  Архангельск\n",
       "11482                                  Владивосток\n",
       "11485                                     Лимассол\n",
       "11536                                     Таганрог\n",
       "11537                                         Ялта\n",
       "11542                                  Владивосток\n",
       "11594          посёлок городского типа Забайкальск\n",
       "11627                                  Симферополь\n",
       "11649                                  Владивосток\n",
       "11657                                  Владивосток\n",
       "11690                                посёлок Новый\n",
       "11720                                 Новороссийск\n",
       "11727                                  Симферополь\n",
       "11757                                  Владивосток\n",
       "11805                                  Симферополь\n",
       "11855                                  Владивосток\n",
       "11939                                  Симферополь\n",
       "11958                                  Владивосток\n",
       "11975                                  Владивосток\n",
       "12041                                  Владивосток\n",
       "12064                                  Симферополь\n",
       "12124                                  Симферополь\n",
       "12129                                  Симферополь\n",
       "12153                                  Владивосток\n",
       "12246               посёлок городского типа Сириус\n",
       "12297                                  Севастополь\n",
       "12395                                         Ялта\n",
       "12466                                  Владивосток\n",
       "12491                                  Севастополь\n",
       "12492                                  Владивосток\n",
       "12521                                     Таганрог\n",
       "12577                                  Владивосток\n",
       "12593                                  Симферополь\n",
       "12608                                  Владивосток\n",
       "12642                                  Севастополь\n",
       "12666                                  Симферополь\n",
       "12674                                  Владивосток\n",
       "12829                                        Керчь\n",
       "12831                                     Таганрог\n",
       "12876                                  Владивосток\n",
       "12997                                      Ташкент\n",
       "13018                                  Владивосток\n",
       "13046                                  Владивосток\n",
       "13052                                  Владивосток\n",
       "13239                                  Владивосток\n",
       "13300                                город Лимасол\n",
       "13320                                  Симферополь\n",
       "13410                                  Владивосток\n",
       "13453                                  Архангельск\n",
       "13456                                    Махачкала\n",
       "13644                                     Таганрог\n",
       "13706                                  Симферополь\n",
       "13792                              Республика Крым\n",
       "13894                                  Симферополь\n",
       "13935                                  Севастополь\n",
       "13949                                  Владивосток\n",
       "13953                                     Таганрог\n",
       "13968                                 Новороссийск\n",
       "13972                                  Симферополь\n",
       "14012                                  Севастополь\n",
       "14072                                  Севастополь\n",
       "14124                                  Симферополь\n",
       "14142                                  Владивосток\n",
       "14179                                  Севастополь\n",
       "14205                                  Архангельск\n",
       "14274    посёлок городского типа Красногвардейское\n",
       "14295                                        Керчь\n",
       "14310                                  Владивосток\n",
       "14324                                         Сочи\n",
       "14341                                 село Фонтаны\n",
       "14372                                     Таганрог\n",
       "14373                                  Владивосток\n",
       "14425                                  Архангельск\n",
       "14567                                  Владивосток\n",
       "14584                                     Таганрог\n",
       "14611                                  Севастополь\n",
       "14659                                  Владивосток\n",
       "14690                              посёлок Русский\n",
       "14699                                  Владивосток\n",
       "14720                                  Симферополь\n",
       "14732                                  Владивосток\n",
       "14733                                  Севастополь\n",
       "14838               посёлок городского типа Сириус\n",
       "14872                                  Владивосток\n",
       "14873                                 Новороссийск\n",
       "14978               посёлок городского типа Сириус\n",
       "15008                                        София\n",
       "15016                                     Таганрог\n",
       "15153                                         Сочи\n",
       "15154                                  Владивосток\n",
       "15177                                         Ялта\n",
       "15188                                  Архангельск\n",
       "15209                                     Таганрог\n",
       "15373                                  Владивосток\n",
       "15453                                  Севастополь\n",
       "15459                                  Владивосток\n",
       "15524                                  Владивосток\n",
       "15596                                 штат Делавэр\n",
       "15635                                     Таганрог\n",
       "15650                                  Владивосток\n",
       "15692                                  Симферополь\n",
       "15752                                  Владивосток\n",
       "15851                                     Полярный\n",
       "15955          посёлок городского типа Забайкальск\n",
       "15991                                  Владивосток\n",
       "16031                                  Владивосток\n",
       "16109                                  Симферополь\n",
       "16128                                  Севастополь\n",
       "16247                                  Владивосток\n",
       "16340                                посёлок Новый\n",
       "16460                                  Симферополь\n",
       "16574                                  Архангельск\n",
       "16576                                    Ломоносов\n",
       "16662                                 Сосновый Бор\n",
       "16750                                  Владивосток\n",
       "16772                                  Севастополь\n",
       "16849                                  Севастополь\n",
       "16938                                  Симферополь\n",
       "16964                                  Владивосток\n",
       "16995                                  Владивосток\n",
       "17061                                 Новороссийск\n",
       "17104                               село Скворцово\n",
       "17358                                  Архангельск\n",
       "17454                                  Архангельск\n",
       "17467               посёлок городского типа Сириус\n",
       "17513                                   село Дубки\n",
       "17518                                  Владивосток\n",
       "17647                                  Севастополь\n",
       "17777                                  Севастополь\n",
       "17842                                    Ломоносов\n",
       "17876                                  Севастополь\n",
       "17881                                    Евпатория\n",
       "17908                                  Владивосток\n",
       "17921                              Санкт-Петербург\n",
       "17962                                  Севастополь\n",
       "17972                                  Владивосток\n",
       "18074                                  Владивосток\n",
       "18104                                  Владивосток\n",
       "18110                                  Архангельск\n",
       "18149                                        Анапа\n",
       "18168                                     Таганрог\n",
       "18172                                     Таганрог\n",
       "18196                                  Симферополь\n",
       "18245                              посёлок Розовый\n",
       "18361           Вольный и ганзейский город Гамбург\n",
       "18374                                  Симферополь\n",
       "18416                                  Симферополь\n",
       "18445                                  Севастополь\n",
       "18483                                  Владивосток\n",
       "18496                                     Таганрог\n",
       "18569                                  Владивосток\n",
       "18626                                  Симферополь\n",
       "18659                                  Симферополь\n",
       "18744                                     Таганрог\n",
       "18839                                  Владивосток\n",
       "18848                                        София\n",
       "18912                                  Севастополь\n",
       "18940                                  Симферополь\n",
       "18962                                  Владивосток\n",
       "19056                                  Архангельск\n",
       "19060                                  Владивосток\n",
       "19105                                         Ялта\n",
       "19373                                  Симферополь\n",
       "19388                                       Гродно\n",
       "19407                                  Симферополь\n",
       "19415                                  Архангельск\n",
       "19443                                     Лимассол\n",
       "19495                                  Владивосток\n",
       "19541          поселок городского типа Забайкальск\n",
       "19625                                  Владивосток\n",
       "19629                                  Севастополь\n",
       "19672                                  Симферополь\n",
       "19707                                     Таганрог\n",
       "19733                                     Таганрог\n",
       "19755                                  Владивосток\n",
       "19765                                  Владивосток\n",
       "19767                                  Владивосток\n",
       "19769                                  Владивосток\n",
       "19776                                  Симферополь\n",
       "19783                                  Владивосток\n",
       "19785                                       Батуми\n",
       "19868                                  Владивосток\n",
       "19941                                       Ирвайн\n",
       "19995                                 Сосновый Бор\n",
       "Name: city, dtype: object"
      ]
     },
     "execution_count": 155,
     "metadata": {},
     "output_type": "execute_result"
    }
   ],
   "source": [
    "unknown['city']"
>>>>>>> cd21851a77a182f2d44359f732377b005a91ebda
   ]
  },
  {
   "cell_type": "code",
<<<<<<< HEAD
   "execution_count": 482,
   "id": "1b77c4f8",
=======
   "execution_count": 225,
   "id": "d6c8ae2a",
   "metadata": {},
   "outputs": [],
   "source": [
    "df.loc[df[\"city\"].isin([\"посёлок Русский\",\"Владивосток\",\"Артёмовский городской округ\",\"посёлок городского типа Забайкальск\",\"поселок городского типа Забайкальск\",\"городской округ Владивостокский\"]), \"Region\"] = \"Дальневосточный\"\n",
    "df.loc[df[\"city\"].isin([\"посёлок городского типа Кореиз\",\"село Скворцово\",\"посёлок Розовый\",\"село Дубки\",\"Керчь\",\"посёлок Волна\",\"Анапа\",\"Евпатория\",\"Симферополь\", \"Ялта\", \"Севастополь\", \"Таганрог\", \"посёлок городского типа Сириус\", \"Новороссийск\",\"Дербент\",\"село Яблочное\",\"посёлок городского типа Гвардейское\",\"село Белоглинка\",\"Избербаш\",\"Махачкала\",\"Республика Крым\",\"посёлок городского типа Красногвардейское\",\"Сочи\",\"село Фонтаны\",]), \"Region\"] = \"Северо-Кавказский\"\n",
    "df.loc[df[\"city\"].isin([\"Архангельск\",\"Полярный\"]), \"Region\"] = \"Северный\"\n",
    "df.loc[df[\"city\"].isin([\"Санкт-Петербург\",\"Ломоносов\",\"Сосновый Бор\"]), \"Region\"] = \"Северно-Западный\"\n",
    "df.loc[df[\"city\"].isin([\"посёлок Новый\"]), \"Region\"] = \"Уральский\""
   ]
  },
  {
   "cell_type": "code",
   "execution_count": 226,
   "id": "f585fd1a",
>>>>>>> cd21851a77a182f2d44359f732377b005a91ebda
   "metadata": {},
   "outputs": [
    {
     "data": {
<<<<<<< HEAD
      "image/png": "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\n",
=======
      "text/html": [
       "<div>\n",
       "<style scoped>\n",
       "    .dataframe tbody tr th:only-of-type {\n",
       "        vertical-align: middle;\n",
       "    }\n",
       "\n",
       "    .dataframe tbody tr th {\n",
       "        vertical-align: top;\n",
       "    }\n",
       "\n",
       "    .dataframe thead th {\n",
       "        text-align: right;\n",
       "    }\n",
       "</style>\n",
       "<table border=\"1\" class=\"dataframe\">\n",
       "  <thead>\n",
       "    <tr style=\"text-align: right;\">\n",
       "      <th></th>\n",
       "      <th>premium</th>\n",
       "      <th>name</th>\n",
       "      <th>response_letter_required</th>\n",
       "      <th>city</th>\n",
       "      <th>latitude</th>\n",
       "      <th>longtitude</th>\n",
       "      <th>raw</th>\n",
       "      <th>experience</th>\n",
       "      <th>schedule</th>\n",
       "      <th>skills</th>\n",
       "      <th>has_test</th>\n",
       "      <th>employer</th>\n",
       "      <th>currency</th>\n",
       "      <th>salary</th>\n",
       "      <th>Region</th>\n",
       "    </tr>\n",
       "  </thead>\n",
       "  <tbody>\n",
       "    <tr>\n",
       "      <th>212</th>\n",
       "      <td>False</td>\n",
       "      <td>Blockchain System Analyst</td>\n",
       "      <td>False</td>\n",
       "      <td>регион Аль-Дарфа</td>\n",
       "      <td>23.608705</td>\n",
       "      <td>53.434111</td>\n",
       "      <td>регион Аль-Дарфа</td>\n",
       "      <td>От 1 года до 3 лет</td>\n",
       "      <td>Полный день</td>\n",
       "      <td>Blockchain_Teamplayer_GitHub_web3_Bash_etheriu...</td>\n",
       "      <td>False</td>\n",
       "      <td>IslamicCoin</td>\n",
       "      <td>USD</td>\n",
       "      <td>3480.0</td>\n",
       "      <td>Unknown</td>\n",
       "    </tr>\n",
       "    <tr>\n",
       "      <th>487</th>\n",
       "      <td>False</td>\n",
       "      <td>Producer</td>\n",
       "      <td>True</td>\n",
       "      <td>Батуми</td>\n",
       "      <td>41.638333</td>\n",
       "      <td>41.622594</td>\n",
       "      <td>Батуми, улица Пармен Лориа, 8</td>\n",
       "      <td>От 3 до 6 лет</td>\n",
       "      <td>Полный день</td>\n",
       "      <td>Английский язык_Грамотная речь_Работа в команд...</td>\n",
       "      <td>False</td>\n",
       "      <td>Равенэйдж</td>\n",
       "      <td>RUR</td>\n",
       "      <td>143550.0</td>\n",
       "      <td>Unknown</td>\n",
       "    </tr>\n",
       "    <tr>\n",
       "      <th>1301</th>\n",
       "      <td>False</td>\n",
       "      <td>Системный инженер</td>\n",
       "      <td>False</td>\n",
       "      <td>Ташкент</td>\n",
       "      <td>41.239647</td>\n",
       "      <td>69.181173</td>\n",
       "      <td>Ташкент, 1-й проезд Чорбог, 7</td>\n",
       "      <td>От 3 до 6 лет</td>\n",
       "      <td>Полный день</td>\n",
       "      <td>Active Directory_TCP/IP_Администрирование серв...</td>\n",
       "      <td>False</td>\n",
       "      <td>Tarleplast</td>\n",
       "      <td>USD</td>\n",
       "      <td>1522.5</td>\n",
       "      <td>Unknown</td>\n",
       "    </tr>\n",
       "    <tr>\n",
       "      <th>1337</th>\n",
       "      <td>False</td>\n",
       "      <td>Middle+/Senior Frontend-разработчик Vue (Черно...</td>\n",
       "      <td>False</td>\n",
       "      <td>Подгорица</td>\n",
       "      <td>42.435426</td>\n",
       "      <td>19.263895</td>\n",
       "      <td>Подгорица</td>\n",
       "      <td>От 3 до 6 лет</td>\n",
       "      <td>Полный день</td>\n",
       "      <td>TypeScript_Redux_JavaScript_Node.js_MobX</td>\n",
       "      <td>False</td>\n",
       "      <td>AMarkets</td>\n",
       "      <td>RUR</td>\n",
       "      <td>250000.0</td>\n",
       "      <td>Unknown</td>\n",
       "    </tr>\n",
       "    <tr>\n",
       "      <th>2339</th>\n",
       "      <td>False</td>\n",
       "      <td>Data Engineer (Senior) Cloud Data Warehouse - ...</td>\n",
       "      <td>False</td>\n",
       "      <td>София</td>\n",
       "      <td>42.640895</td>\n",
       "      <td>23.373032</td>\n",
       "      <td>София, бульвар Александр Малинов</td>\n",
       "      <td>Более 6 лет</td>\n",
       "      <td>Полный день</td>\n",
       "      <td>Python_SQL_SCALA_Data Analysis_Azure_Snowflake...</td>\n",
       "      <td>False</td>\n",
       "      <td>NobleHire</td>\n",
       "      <td>EUR</td>\n",
       "      <td>4132.5</td>\n",
       "      <td>Unknown</td>\n",
       "    </tr>\n",
       "    <tr>\n",
       "      <th>2510</th>\n",
       "      <td>False</td>\n",
       "      <td>Дессинатор-программист STOLL</td>\n",
       "      <td>False</td>\n",
       "      <td>Гродно</td>\n",
       "      <td>53.663063</td>\n",
       "      <td>23.795905</td>\n",
       "      <td>Гродно, улица Лизы Чайкиной, 4</td>\n",
       "      <td>От 3 до 6 лет</td>\n",
       "      <td>Полный день</td>\n",
       "      <td>Массовое производство_Готовность к командировк...</td>\n",
       "      <td>False</td>\n",
       "      <td>Текстильная Мануфактура</td>\n",
       "      <td>RUR</td>\n",
       "      <td>100000.0</td>\n",
       "      <td>Unknown</td>\n",
       "    </tr>\n",
       "    <tr>\n",
       "      <th>3619</th>\n",
       "      <td>False</td>\n",
       "      <td>Старший С++ разработчик (Лимасcол, Кипр)</td>\n",
       "      <td>False</td>\n",
       "      <td>Лимассол</td>\n",
       "      <td>34.687526</td>\n",
       "      <td>33.042165</td>\n",
       "      <td>Лимассол</td>\n",
       "      <td>От 3 до 6 лет</td>\n",
       "      <td>Полный день</td>\n",
       "      <td>C++_MQL5_IPC_multiprocessing_TCP_asynchronious...</td>\n",
       "      <td>False</td>\n",
       "      <td>MetaQuotes Software Corp.</td>\n",
       "      <td>EUR</td>\n",
       "      <td>6250.0</td>\n",
       "      <td>Unknown</td>\n",
       "    </tr>\n",
       "    <tr>\n",
       "      <th>5622</th>\n",
       "      <td>False</td>\n",
       "      <td>Middle+/Senior Frontend-разработчик Vue (Черно...</td>\n",
       "      <td>False</td>\n",
       "      <td>Подгорица</td>\n",
       "      <td>42.435426</td>\n",
       "      <td>19.263895</td>\n",
       "      <td>Подгорица</td>\n",
       "      <td>От 3 до 6 лет</td>\n",
       "      <td>Полный день</td>\n",
       "      <td>TypeScript_Redux_JavaScript_Node.js_MobX</td>\n",
       "      <td>False</td>\n",
       "      <td>AMarkets</td>\n",
       "      <td>RUR</td>\n",
       "      <td>250000.0</td>\n",
       "      <td>Unknown</td>\n",
       "    </tr>\n",
       "    <tr>\n",
       "      <th>5862</th>\n",
       "      <td>False</td>\n",
       "      <td>Системный администратор / DevOps специалист в ...</td>\n",
       "      <td>True</td>\n",
       "      <td>Батуми</td>\n",
       "      <td>41.638333</td>\n",
       "      <td>41.622594</td>\n",
       "      <td>Батуми, улица Пармен Лориа, 8</td>\n",
       "      <td>От 1 года до 3 лет</td>\n",
       "      <td>Полный день</td>\n",
       "      <td>Английский язык_Грамотная речь_Atlassian Jira_...</td>\n",
       "      <td>False</td>\n",
       "      <td>Равенэйдж</td>\n",
       "      <td>USD</td>\n",
       "      <td>1740.0</td>\n",
       "      <td>Unknown</td>\n",
       "    </tr>\n",
       "    <tr>\n",
       "      <th>6429</th>\n",
       "      <td>False</td>\n",
       "      <td>Project manager / Tech lead</td>\n",
       "      <td>False</td>\n",
       "      <td>Лимассол</td>\n",
       "      <td>34.686305</td>\n",
       "      <td>33.033773</td>\n",
       "      <td>Лимассол</td>\n",
       "      <td>От 3 до 6 лет</td>\n",
       "      <td>Полный день</td>\n",
       "      <td>Git_Agile Project Management_Английский язык_A...</td>\n",
       "      <td>False</td>\n",
       "      <td>Wisebits</td>\n",
       "      <td>EUR</td>\n",
       "      <td>3045.0</td>\n",
       "      <td>Unknown</td>\n",
       "    </tr>\n",
       "    <tr>\n",
       "      <th>7020</th>\n",
       "      <td>False</td>\n",
       "      <td>Senior Software Engineer (Full-stack, Python/JS)</td>\n",
       "      <td>False</td>\n",
       "      <td>город Лимасол</td>\n",
       "      <td>34.670703</td>\n",
       "      <td>33.039246</td>\n",
       "      <td>город Лимасол, Limassol, Limassol Marina</td>\n",
       "      <td>От 3 до 6 лет</td>\n",
       "      <td>Полный день</td>\n",
       "      <td>JavaScript_Python_Django Framework_Английский ...</td>\n",
       "      <td>False</td>\n",
       "      <td>EXNESS Global Limited</td>\n",
       "      <td>EUR</td>\n",
       "      <td>4350.0</td>\n",
       "      <td>Unknown</td>\n",
       "    </tr>\n",
       "    <tr>\n",
       "      <th>7180</th>\n",
       "      <td>False</td>\n",
       "      <td>Android и С++ разработчик (Лимассол, Кипр)</td>\n",
       "      <td>False</td>\n",
       "      <td>Лимассол</td>\n",
       "      <td>34.687526</td>\n",
       "      <td>33.042165</td>\n",
       "      <td>Лимассол</td>\n",
       "      <td>Более 6 лет</td>\n",
       "      <td>Полный день</td>\n",
       "      <td>OpenGL_NDK_JNI_Android SDK_Java_C++_Google Play</td>\n",
       "      <td>False</td>\n",
       "      <td>MetaQuotes Software Corp.</td>\n",
       "      <td>EUR</td>\n",
       "      <td>6250.0</td>\n",
       "      <td>Unknown</td>\n",
       "    </tr>\n",
       "    <tr>\n",
       "      <th>7432</th>\n",
       "      <td>False</td>\n",
       "      <td>Дессинатор-программист STOLL</td>\n",
       "      <td>False</td>\n",
       "      <td>Гродно</td>\n",
       "      <td>53.663063</td>\n",
       "      <td>23.795905</td>\n",
       "      <td>Гродно, улица Лизы Чайкиной, 4</td>\n",
       "      <td>От 3 до 6 лет</td>\n",
       "      <td>Полный день</td>\n",
       "      <td>Массовое производство_Готовность к командировк...</td>\n",
       "      <td>False</td>\n",
       "      <td>Текстильная Мануфактура</td>\n",
       "      <td>RUR</td>\n",
       "      <td>100000.0</td>\n",
       "      <td>Unknown</td>\n",
       "    </tr>\n",
       "    <tr>\n",
       "      <th>7888</th>\n",
       "      <td>False</td>\n",
       "      <td>Системный инженер</td>\n",
       "      <td>False</td>\n",
       "      <td>Ташкент</td>\n",
       "      <td>41.239647</td>\n",
       "      <td>69.181173</td>\n",
       "      <td>Ташкент, 1-й проезд Чорбог, 7</td>\n",
       "      <td>От 3 до 6 лет</td>\n",
       "      <td>Полный день</td>\n",
       "      <td>Active Directory_TCP/IP_Администрирование серв...</td>\n",
       "      <td>False</td>\n",
       "      <td>Tarleplast</td>\n",
       "      <td>USD</td>\n",
       "      <td>1522.5</td>\n",
       "      <td>Unknown</td>\n",
       "    </tr>\n",
       "    <tr>\n",
       "      <th>8730</th>\n",
       "      <td>False</td>\n",
       "      <td>Middle+ DevOps Engineer (to Cyprus)</td>\n",
       "      <td>False</td>\n",
       "      <td>Лимассол</td>\n",
       "      <td>34.686305</td>\n",
       "      <td>33.033773</td>\n",
       "      <td>Лимассол</td>\n",
       "      <td>От 3 до 6 лет</td>\n",
       "      <td>Полный день</td>\n",
       "      <td>Kubernetes_Terraform_Ansible</td>\n",
       "      <td>False</td>\n",
       "      <td>Wisebits</td>\n",
       "      <td>EUR</td>\n",
       "      <td>3915.0</td>\n",
       "      <td>Unknown</td>\n",
       "    </tr>\n",
       "    <tr>\n",
       "      <th>8805</th>\n",
       "      <td>False</td>\n",
       "      <td>Senior PHP/JS Developer (Modules Team)</td>\n",
       "      <td>False</td>\n",
       "      <td>София</td>\n",
       "      <td>42.697839</td>\n",
       "      <td>23.314498</td>\n",
       "      <td>София</td>\n",
       "      <td>От 3 до 6 лет</td>\n",
       "      <td>Полный день</td>\n",
       "      <td>Git_JavaScript_Linux_PHP_Docker</td>\n",
       "      <td>False</td>\n",
       "      <td>Plesk</td>\n",
       "      <td>EUR</td>\n",
       "      <td>4900.0</td>\n",
       "      <td>Unknown</td>\n",
       "    </tr>\n",
       "    <tr>\n",
       "      <th>9646</th>\n",
       "      <td>False</td>\n",
       "      <td>Senior PHP/JS Developer (Modules Team)</td>\n",
       "      <td>False</td>\n",
       "      <td>София</td>\n",
       "      <td>42.697839</td>\n",
       "      <td>23.314498</td>\n",
       "      <td>София</td>\n",
       "      <td>От 3 до 6 лет</td>\n",
       "      <td>Полный день</td>\n",
       "      <td>Git_JavaScript_Linux_PHP_Docker</td>\n",
       "      <td>False</td>\n",
       "      <td>Plesk</td>\n",
       "      <td>EUR</td>\n",
       "      <td>4900.0</td>\n",
       "      <td>Unknown</td>\n",
       "    </tr>\n",
       "    <tr>\n",
       "      <th>10087</th>\n",
       "      <td>False</td>\n",
       "      <td>Senior Backend Engineer for a Fintech startup:...</td>\n",
       "      <td>False</td>\n",
       "      <td>Нью-Йорк</td>\n",
       "      <td>40.714606</td>\n",
       "      <td>-74.002800</td>\n",
       "      <td>Нью-Йорк</td>\n",
       "      <td>От 3 до 6 лет</td>\n",
       "      <td>Полный день</td>\n",
       "      <td>Software Development_Haskell_SCALA_Kotlin_Rust...</td>\n",
       "      <td>False</td>\n",
       "      <td>Gauss Money</td>\n",
       "      <td>USD</td>\n",
       "      <td>6250.0</td>\n",
       "      <td>Unknown</td>\n",
       "    </tr>\n",
       "    <tr>\n",
       "      <th>10754</th>\n",
       "      <td>False</td>\n",
       "      <td>Blockchain System Analyst</td>\n",
       "      <td>False</td>\n",
       "      <td>регион Аль-Дарфа</td>\n",
       "      <td>23.608705</td>\n",
       "      <td>53.434111</td>\n",
       "      <td>регион Аль-Дарфа</td>\n",
       "      <td>От 1 года до 3 лет</td>\n",
       "      <td>Полный день</td>\n",
       "      <td>Blockchain_Teamplayer_GitHub_web3_Bash_etheriu...</td>\n",
       "      <td>False</td>\n",
       "      <td>IslamicCoin</td>\n",
       "      <td>USD</td>\n",
       "      <td>3480.0</td>\n",
       "      <td>Unknown</td>\n",
       "    </tr>\n",
       "    <tr>\n",
       "      <th>11485</th>\n",
       "      <td>False</td>\n",
       "      <td>Middle+ DevOps Engineer (to Cyprus)</td>\n",
       "      <td>False</td>\n",
       "      <td>Лимассол</td>\n",
       "      <td>34.686305</td>\n",
       "      <td>33.033773</td>\n",
       "      <td>Лимассол</td>\n",
       "      <td>От 3 до 6 лет</td>\n",
       "      <td>Полный день</td>\n",
       "      <td>Kubernetes_Terraform_Ansible</td>\n",
       "      <td>False</td>\n",
       "      <td>Wisebits</td>\n",
       "      <td>EUR</td>\n",
       "      <td>3915.0</td>\n",
       "      <td>Unknown</td>\n",
       "    </tr>\n",
       "    <tr>\n",
       "      <th>12997</th>\n",
       "      <td>False</td>\n",
       "      <td>Системный инженер</td>\n",
       "      <td>False</td>\n",
       "      <td>Ташкент</td>\n",
       "      <td>41.239647</td>\n",
       "      <td>69.181173</td>\n",
       "      <td>Ташкент, 1-й проезд Чорбог, 7</td>\n",
       "      <td>От 3 до 6 лет</td>\n",
       "      <td>Полный день</td>\n",
       "      <td>Active Directory_TCP/IP_Администрирование серв...</td>\n",
       "      <td>False</td>\n",
       "      <td>Tarleplast</td>\n",
       "      <td>USD</td>\n",
       "      <td>1522.5</td>\n",
       "      <td>Unknown</td>\n",
       "    </tr>\n",
       "    <tr>\n",
       "      <th>13300</th>\n",
       "      <td>False</td>\n",
       "      <td>Senior Software Engineer (Golang)</td>\n",
       "      <td>False</td>\n",
       "      <td>город Лимасол</td>\n",
       "      <td>34.670703</td>\n",
       "      <td>33.039246</td>\n",
       "      <td>город Лимасол, Limassol, Limassol Marina</td>\n",
       "      <td>От 3 до 6 лет</td>\n",
       "      <td>Полный день</td>\n",
       "      <td>Python_Git_Redis_PostgreSQL_Golang_REST_Англий...</td>\n",
       "      <td>False</td>\n",
       "      <td>EXNESS Global Limited</td>\n",
       "      <td>EUR</td>\n",
       "      <td>4785.0</td>\n",
       "      <td>Unknown</td>\n",
       "    </tr>\n",
       "    <tr>\n",
       "      <th>15008</th>\n",
       "      <td>False</td>\n",
       "      <td>Senior Java Developer</td>\n",
       "      <td>False</td>\n",
       "      <td>София</td>\n",
       "      <td>42.697839</td>\n",
       "      <td>23.314498</td>\n",
       "      <td>София</td>\n",
       "      <td>От 3 до 6 лет</td>\n",
       "      <td>Полный день</td>\n",
       "      <td>Java_SQL_Kotlin</td>\n",
       "      <td>False</td>\n",
       "      <td>Plesk</td>\n",
       "      <td>EUR</td>\n",
       "      <td>4600.0</td>\n",
       "      <td>Unknown</td>\n",
       "    </tr>\n",
       "    <tr>\n",
       "      <th>15596</th>\n",
       "      <td>False</td>\n",
       "      <td>Twitch streamers support specialist (RU region)</td>\n",
       "      <td>False</td>\n",
       "      <td>штат Делавэр</td>\n",
       "      <td>39.145150</td>\n",
       "      <td>-75.578867</td>\n",
       "      <td>штат Делавэр</td>\n",
       "      <td>От 1 года до 3 лет</td>\n",
       "      <td>Полный день</td>\n",
       "      <td>Английский язык_Fluent English_Customer Suppor...</td>\n",
       "      <td>False</td>\n",
       "      <td>Uplify</td>\n",
       "      <td>RUR</td>\n",
       "      <td>34800.0</td>\n",
       "      <td>Unknown</td>\n",
       "    </tr>\n",
       "    <tr>\n",
       "      <th>18361</th>\n",
       "      <td>False</td>\n",
       "      <td>Senior Research Engineer (ML/TextToSpeech)</td>\n",
       "      <td>False</td>\n",
       "      <td>Вольный и ганзейский город Гамбург</td>\n",
       "      <td>53.736707</td>\n",
       "      <td>5.538392</td>\n",
       "      <td>Вольный и ганзейский город Гамбург, город Гамб...</td>\n",
       "      <td>От 3 до 6 лет</td>\n",
       "      <td>Полный день</td>\n",
       "      <td>Обязательность_Pytorch_TTS</td>\n",
       "      <td>False</td>\n",
       "      <td>BotTalk</td>\n",
       "      <td>EUR</td>\n",
       "      <td>4132.5</td>\n",
       "      <td>Unknown</td>\n",
       "    </tr>\n",
       "    <tr>\n",
       "      <th>18848</th>\n",
       "      <td>False</td>\n",
       "      <td>Senior PHP/JS Developer (Modules Team)</td>\n",
       "      <td>False</td>\n",
       "      <td>София</td>\n",
       "      <td>42.697839</td>\n",
       "      <td>23.314498</td>\n",
       "      <td>София</td>\n",
       "      <td>От 3 до 6 лет</td>\n",
       "      <td>Полный день</td>\n",
       "      <td>Git_JavaScript_Linux_PHP_Docker</td>\n",
       "      <td>False</td>\n",
       "      <td>Plesk</td>\n",
       "      <td>EUR</td>\n",
       "      <td>4900.0</td>\n",
       "      <td>Unknown</td>\n",
       "    </tr>\n",
       "    <tr>\n",
       "      <th>19388</th>\n",
       "      <td>False</td>\n",
       "      <td>Дессинатор-программист STOLL</td>\n",
       "      <td>False</td>\n",
       "      <td>Гродно</td>\n",
       "      <td>53.663063</td>\n",
       "      <td>23.795905</td>\n",
       "      <td>Гродно, улица Лизы Чайкиной, 4</td>\n",
       "      <td>От 3 до 6 лет</td>\n",
       "      <td>Полный день</td>\n",
       "      <td>Массовое производство_Готовность к командировк...</td>\n",
       "      <td>False</td>\n",
       "      <td>Текстильная Мануфактура</td>\n",
       "      <td>RUR</td>\n",
       "      <td>100000.0</td>\n",
       "      <td>Unknown</td>\n",
       "    </tr>\n",
       "    <tr>\n",
       "      <th>19443</th>\n",
       "      <td>False</td>\n",
       "      <td>Head of DevOps</td>\n",
       "      <td>False</td>\n",
       "      <td>Лимассол</td>\n",
       "      <td>34.686305</td>\n",
       "      <td>33.033773</td>\n",
       "      <td>Лимассол</td>\n",
       "      <td>Более 6 лет</td>\n",
       "      <td>Полный день</td>\n",
       "      <td>Python_Linux_Английский язык_Team management_T...</td>\n",
       "      <td>False</td>\n",
       "      <td>Wisebits</td>\n",
       "      <td>EUR</td>\n",
       "      <td>5220.0</td>\n",
       "      <td>Unknown</td>\n",
       "    </tr>\n",
       "    <tr>\n",
       "      <th>19785</th>\n",
       "      <td>False</td>\n",
       "      <td>Marketing designer в Грузию</td>\n",
       "      <td>True</td>\n",
       "      <td>Батуми</td>\n",
       "      <td>41.638333</td>\n",
       "      <td>41.622594</td>\n",
       "      <td>Батуми, улица Пармен Лориа, 8</td>\n",
       "      <td>От 3 до 6 лет</td>\n",
       "      <td>Полный день</td>\n",
       "      <td>Английский язык_Грамотная речь_Работа в команд...</td>\n",
       "      <td>False</td>\n",
       "      <td>Равенэйдж</td>\n",
       "      <td>RUR</td>\n",
       "      <td>87000.0</td>\n",
       "      <td>Unknown</td>\n",
       "    </tr>\n",
       "    <tr>\n",
       "      <th>19941</th>\n",
       "      <td>False</td>\n",
       "      <td>PHP-разработчик (middle, проект для маркетинга)</td>\n",
       "      <td>False</td>\n",
       "      <td>Ирвайн</td>\n",
       "      <td>33.670575</td>\n",
       "      <td>-117.780920</td>\n",
       "      <td>Ирвайн</td>\n",
       "      <td>От 3 до 6 лет</td>\n",
       "      <td>Полный день</td>\n",
       "      <td>MySQL_Git_PHP_Atlassian Jira_Английский язык_M...</td>\n",
       "      <td>False</td>\n",
       "      <td>Americor Funding Inc</td>\n",
       "      <td>USD</td>\n",
       "      <td>3045.0</td>\n",
       "      <td>Unknown</td>\n",
       "    </tr>\n",
       "  </tbody>\n",
       "</table>\n",
       "</div>"
      ],
>>>>>>> cd21851a77a182f2d44359f732377b005a91ebda
      "text/plain": [
       "       premium  ...   Region\n",
       "212      False  ...  Unknown\n",
       "487      False  ...  Unknown\n",
       "1301     False  ...  Unknown\n",
       "1337     False  ...  Unknown\n",
       "2339     False  ...  Unknown\n",
       "2510     False  ...  Unknown\n",
       "3619     False  ...  Unknown\n",
       "5622     False  ...  Unknown\n",
       "5862     False  ...  Unknown\n",
       "6429     False  ...  Unknown\n",
       "7020     False  ...  Unknown\n",
       "7180     False  ...  Unknown\n",
       "7432     False  ...  Unknown\n",
       "7888     False  ...  Unknown\n",
       "8730     False  ...  Unknown\n",
       "8805     False  ...  Unknown\n",
       "9646     False  ...  Unknown\n",
       "10087    False  ...  Unknown\n",
       "10754    False  ...  Unknown\n",
       "11485    False  ...  Unknown\n",
       "12997    False  ...  Unknown\n",
       "13300    False  ...  Unknown\n",
       "15008    False  ...  Unknown\n",
       "15596    False  ...  Unknown\n",
       "18361    False  ...  Unknown\n",
       "18848    False  ...  Unknown\n",
       "19388    False  ...  Unknown\n",
       "19443    False  ...  Unknown\n",
       "19785    False  ...  Unknown\n",
       "19941    False  ...  Unknown\n",
       "\n",
       "[30 rows x 15 columns]"
      ]
     },
     "execution_count": 226,
     "metadata": {},
     "output_type": "execute_result"
    }
   ],
   "source": [
    "unknown = df[(df['Region']=='Unknown')]\n",
    "unknown"
   ]
  },
  {
   "cell_type": "code",
   "execution_count": null,
   "id": "6ba2d9b2",
   "metadata": {},
   "outputs": [],
   "source": [
    "df.Region.value_counts()"
   ]
  },
  {
   "cell_type": "code",
   "execution_count": null,
   "id": "0bdde588",
   "metadata": {},
   "outputs": [],
   "source": [
    "from matplotlib.legend_handler import HandlerBase\n",
    "from matplotlib.text import Text\n",
    "\n",
    "class TextHandler(HandlerBase):\n",
    "    def create_artists(self, legend, tup ,xdescent, ydescent,\n",
    "                        width, height, fontsize,trans):\n",
    "        tx = Text(width/2.,height/2,tup[0], fontsize=fontsize,\n",
    "                  ha=\"center\", va=\"center\", color=tup[1], fontweight=\"bold\")\n",
    "        return [tx]\n",
    "\n",
    "le = preprocessing.LabelEncoder()\n",
    "encoded = pd.Series(le.fit_transform(df.Region))\n",
    "\n",
    "df1 = encoded.value_counts(normalize=True)\n",
    "df1 = df1.rename('percent').reset_index()\n",
    "\n",
    "g = sns.catplot(x='index', y='percent', kind='bar', data=df1, palette='muted')\n",
    "\n",
    "g.ax.set_xlabel('Регион', fontsize = 15)\n",
    "g.ax.set_ylabel('Относительная частота', fontsize = 15)\n",
    "\n",
    "for rect in g.ax.patches:\n",
    "    g.ax.text (rect.get_x() + rect.get_width()  / 2, rect.get_height() + 0.01, round(rect.get_height(), 3), horizontalalignment='center', fontsize = 11)\n",
    "\n",
    "handltext = le.transform(le.classes_).astype(str)\n",
    "labels = le.classes_\n",
    "\n",
    "t = g.ax.get_xticklabels()\n",
    "labeldic = dict(zip(handltext, labels))\n",
    "labels = [labeldic[h.get_text()]  for h in t]\n",
    "handles = [(h.get_text(),c.get_fc()) for h,c in zip(t,g.ax.patches)]\n",
    "\n",
    "g.ax.legend(handles, labels, handler_map={tuple : TextHandler()})\n",
    "g.fig.set_figwidth(10)\n",
    "g.fig.set_figheight(8)\n",
    "\n",
    "plt.show()"
   ]
  },
  {
   "cell_type": "markdown",
<<<<<<< HEAD
   "id": "cd0815d1",
=======
   "id": "ac4fa214",
>>>>>>> cd21851a77a182f2d44359f732377b005a91ebda
   "metadata": {},
   "source": [
    "## Сопроводительное письмо "
   ]
  },
  {
   "cell_type": "markdown",
<<<<<<< HEAD
   "id": "666d4288",
=======
   "id": "07db0695",
>>>>>>> cd21851a77a182f2d44359f732377b005a91ebda
   "metadata": {},
   "source": [
    "Данная переменная очень сильно не сбалансирована и вакансии, для которых сопроводительное письмо обязательно для ~1% вакансий. "
   ]
  },
  {
   "cell_type": "code",
<<<<<<< HEAD
   "execution_count": 448,
   "id": "eb92151b",
   "metadata": {},
   "outputs": [
    {
     "data": {
      "text/plain": [
       "False    19903\n",
       "True       230\n",
       "Name: response_letter_required, dtype: int64"
      ]
     },
     "execution_count": 448,
     "metadata": {},
     "output_type": "execute_result"
    }
   ],
=======
   "execution_count": null,
   "id": "6f844256",
   "metadata": {},
   "outputs": [],
>>>>>>> cd21851a77a182f2d44359f732377b005a91ebda
   "source": [
    "df.response_letter_required.value_counts()"
   ]
  },
  {
   "cell_type": "code",
<<<<<<< HEAD
   "execution_count": 449,
   "id": "2aad5f0d",
=======
   "execution_count": null,
   "id": "202ad45c",
>>>>>>> cd21851a77a182f2d44359f732377b005a91ebda
   "metadata": {},
   "outputs": [],
   "source": [
    "df.response_letter_required = df.response_letter_required.map({False: 0, True: 1}) "
   ]
  },
  {
   "cell_type": "code",
<<<<<<< HEAD
   "execution_count": 450,
   "id": "11bd0155",
   "metadata": {
    "scrolled": false
   },
   "outputs": [
    {
     "data": {
      "image/png": "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\n",
      "text/plain": [
       "<Figure size 720x576 with 1 Axes>"
      ]
     },
     "metadata": {
      "needs_background": "light"
     },
     "output_type": "display_data"
    }
   ],
=======
   "execution_count": null,
   "id": "03d7612e",
   "metadata": {},
   "outputs": [],
>>>>>>> cd21851a77a182f2d44359f732377b005a91ebda
   "source": [
    "from matplotlib.legend_handler import HandlerBase\n",
    "from matplotlib.text import Text\n",
    "from matplotlib.pyplot import figure\n",
    "\n",
    "class TextHandler(HandlerBase):\n",
    "    def create_artists(self, legend, tup ,xdescent, ydescent,\n",
    "                        width, height, fontsize,trans):\n",
    "        tx = Text(width/2.,height/2,tup[0], fontsize=fontsize,\n",
    "                  ha=\"center\", va=\"center\", color=tup[1], fontweight=\"bold\")\n",
    "        return [tx]\n",
    "\n",
    "\n",
    "df1 = df.response_letter_required.value_counts(normalize=True)\n",
    "df1 = df1.rename('percent').reset_index()\n",
    "\n",
    "g = sns.catplot(x='index', y='percent',kind='bar', data=df1, palette='muted')\n",
    "\n",
    "g.ax.set_xlabel('Необходимость сопроводительного письма', fontsize = 15)\n",
    "g.ax.set_ylabel('Относительная частота', fontsize = 15)\n",
    "\n",
    "for rect in g.ax.patches:\n",
    "    g.ax.text (rect.get_x() + rect.get_width()  / 2, rect.get_height() + 0.01, round(rect.get_height(), 3), horizontalalignment='center', fontsize = 11)\n",
    "\n",
    "handltext = ['0', '1']\n",
    "labels = [ \"False\", \"True\"]\n",
    "\n",
    "t = g.ax.get_xticklabels()\n",
    "labeldic = dict(zip(handltext, labels))\n",
    "labels = [labeldic[h.get_text()]  for h in t]\n",
    "handles = [(h.get_text(),c.get_fc()) for h,c in zip(t,g.ax.patches)]\n",
    "\n",
    "g.ax.legend(handles, labels, handler_map={tuple : TextHandler()}) \n",
    "g.fig.set_figwidth(10)\n",
    "g.fig.set_figheight(8)\n",
    "\n",
    "plt.show()"
   ]
  },
  {
   "cell_type": "markdown",
<<<<<<< HEAD
   "id": "0fe4e591",
=======
   "id": "1a5bd0eb",
>>>>>>> cd21851a77a182f2d44359f732377b005a91ebda
   "metadata": {},
   "source": [
    "## Тест"
   ]
  },
  {
   "cell_type": "markdown",
<<<<<<< HEAD
   "id": "b84d38ab",
=======
   "id": "40b48ef2",
>>>>>>> cd21851a77a182f2d44359f732377b005a91ebda
   "metadata": {},
   "source": [
    "Лишь около 1% вакансий требуют прохождение тестового задания для отклика на вакансию, эта переменная очень не сбалансирована"
   ]
  },
  {
   "cell_type": "code",
<<<<<<< HEAD
   "execution_count": 394,
   "id": "d90443cf",
   "metadata": {},
   "outputs": [
    {
     "data": {
      "text/plain": [
       "False    30316\n",
       "True       323\n",
       "Name: has_test, dtype: int64"
      ]
     },
     "execution_count": 394,
     "metadata": {},
     "output_type": "execute_result"
    }
   ],
=======
   "execution_count": null,
   "id": "ae9b9e7f",
   "metadata": {},
   "outputs": [],
>>>>>>> cd21851a77a182f2d44359f732377b005a91ebda
   "source": [
    "df.has_test.value_counts()"
   ]
  },
  {
   "cell_type": "code",
   "execution_count": 395,
   "id": "6a7b5db3",
   "metadata": {},
   "outputs": [],
   "source": [
    "df.has_test = df.has_test.map({False: 0, True: 1})"
   ]
  },
  {
   "cell_type": "code",
<<<<<<< HEAD
   "execution_count": 477,
   "id": "8fec78fe",
   "metadata": {},
   "outputs": [
    {
     "data": {
      "image/png": "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\n",
      "text/plain": [
       "<Figure size 720x576 with 1 Axes>"
      ]
     },
     "metadata": {},
     "output_type": "display_data"
    }
   ],
=======
   "execution_count": null,
   "id": "31e1b44d",
   "metadata": {},
   "outputs": [],
>>>>>>> cd21851a77a182f2d44359f732377b005a91ebda
   "source": [
    "from matplotlib.legend_handler import HandlerBase\n",
    "from matplotlib.text import Text\n",
    "\n",
    "class TextHandler(HandlerBase):\n",
    "    def create_artists(self, legend, tup ,xdescent, ydescent,\n",
    "                        width, height, fontsize,trans):\n",
    "        tx = Text(width/2.,height/2,tup[0], fontsize=fontsize,\n",
    "                  ha=\"center\", va=\"center\", color=tup[1], fontweight=\"bold\")\n",
    "        return [tx]\n",
    "\n",
    "\n",
    "df1 = df.has_test.value_counts(normalize=True)\n",
    "df1 = df1.rename('percent').reset_index()\n",
    "\n",
    "g = sns.catplot(x='index', y='percent',kind='bar', data=df1, palette='muted')\n",
    "\n",
    "g.ax.set_xlabel('Необходимость прохождения тестового задания', fontsize = 15)\n",
    "g.ax.set_ylabel('Относительная частота', fontsize = 15)\n",
    "\n",
    "for rect in g.ax.patches:\n",
    "    g.ax.text (rect.get_x() + rect.get_width()  / 2, rect.get_height() + 0.01, round(rect.get_height(), 3), horizontalalignment='center', fontsize = 11)\n",
    "\n",
    "handltext = ['0', '1']\n",
    "labels = [ \"False\", \"True\"]\n",
    "\n",
    "t = g.ax.get_xticklabels()\n",
    "labeldic = dict(zip(handltext, labels))\n",
    "labels = [labeldic[h.get_text()]  for h in t]\n",
    "handles = [(h.get_text(),c.get_fc()) for h,c in zip(t,g.ax.patches)]\n",
    "\n",
    "g.ax.legend(handles, labels, handler_map={tuple : TextHandler()})\n",
    "g.fig.set_figwidth(10)\n",
    "g.fig.set_figheight(8)\n",
    "\n",
    "plt.show()"
   ]
  },
  {
<<<<<<< HEAD
   "cell_type": "markdown",
   "id": "333c9abd",
=======
   "cell_type": "code",
   "execution_count": null,
   "id": "dcaa6a9d",
>>>>>>> cd21851a77a182f2d44359f732377b005a91ebda
   "metadata": {},
   "source": [
    "## Опыт работы"
   ]
  },
  {
<<<<<<< HEAD
   "cell_type": "markdown",
   "id": "0265e8f2",
   "metadata": {},
   "source": [
    "Требования к опыту работы несбалансированы"
   ]
  },
  {
   "cell_type": "code",
   "execution_count": 110,
   "id": "aa796b71",
   "metadata": {
    "scrolled": false
   },
   "outputs": [
    {
     "data": {
      "image/png": "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\n",
      "text/plain": [
       "<Figure size 720x576 with 1 Axes>"
      ]
     },
     "metadata": {
      "needs_background": "light"
     },
     "output_type": "display_data"
    }
   ],
=======
   "cell_type": "code",
   "execution_count": null,
   "id": "70d028e9",
   "metadata": {},
   "outputs": [],
>>>>>>> cd21851a77a182f2d44359f732377b005a91ebda
   "source": [
    "from matplotlib.legend_handler import HandlerBase\n",
    "from matplotlib.text import Text\n",
    "\n",
    "class TextHandler(HandlerBase):\n",
    "    def create_artists(self, legend, tup ,xdescent, ydescent,\n",
    "                        width, height, fontsize,trans):\n",
    "        tx = Text(width/2.,height/2,tup[0], fontsize=fontsize,\n",
    "                  ha=\"center\", va=\"center\", color=tup[1], fontweight=\"bold\")\n",
    "        return [tx]\n",
    "\n",
    "le = preprocessing.LabelEncoder()\n",
    "encoded = pd.Series(le.fit_transform(df.experience))\n",
    "    \n",
    "df1 = encoded.value_counts(normalize=True)\n",
    "df1 = df1.rename('percent').reset_index()\n",
    "\n",
    "g = sns.catplot(x='index', y='percent',kind='bar', data=df1, palette='muted')\n",
    "\n",
    "g.ax.set_xlabel('Опыт работы', fontsize = 15)\n",
    "g.ax.set_ylabel('Относительная частота', fontsize = 15)\n",
    "\n",
    "for rect in g.ax.patches:\n",
    "    g.ax.text (rect.get_x() + rect.get_width()  / 2, rect.get_height() + 0.01, round(rect.get_height(), 3), horizontalalignment='center', fontsize = 11)\n",
    "\n",
    "handltext = le.transform(le.classes_).astype(str)\n",
    "labels = le.classes_\n",
    "\n",
    "t = g.ax.get_xticklabels()\n",
    "labeldic = dict(zip(handltext, labels))\n",
    "labels = [labeldic[h.get_text()]  for h in t]\n",
    "handles = [(h.get_text(),c.get_fc()) for h,c in zip(t,g.ax.patches)]\n",
    "\n",
    "g.ax.legend(handles, labels, handler_map={tuple : TextHandler()})\n",
    "g.fig.set_figwidth(10)\n",
    "g.fig.set_figheight(8)\n",
    "\n",
    "plt.show()"
   ]
  },
  {
   "cell_type": "code",
   "execution_count": null,
   "id": "9ab402a5",
   "metadata": {},
   "outputs": [],
   "source": []
  },
  {
   "cell_type": "markdown",
<<<<<<< HEAD
   "id": "f8262bbf",
=======
   "id": "8e12644f",
>>>>>>> cd21851a77a182f2d44359f732377b005a91ebda
   "metadata": {},
   "source": [
    "## Гипотезы"
   ]
  },
  {
<<<<<<< HEAD
   "cell_type": "code",
   "execution_count": 27,
   "id": "7232325c",
   "metadata": {},
   "outputs": [],
   "source": [
    "skills = [i.split('_') for i in df.skills.astype(str)]"
   ]
  },
  {
   "cell_type": "code",
   "execution_count": 29,
   "id": "24eddfd6",
   "metadata": {
    "scrolled": false
   },
   "outputs": [],
   "source": [
    "skills = pd.Series([item for sublist in skills for item in sublist]).value_counts()"
   ]
  },
  {
   "cell_type": "code",
   "execution_count": 32,
   "id": "056d972e",
=======
   "cell_type": "markdown",
   "id": "2321d8b4",
>>>>>>> cd21851a77a182f2d44359f732377b005a91ebda
   "metadata": {},
   "outputs": [],
   "source": [
    "names = df.name.value_counts()"
   ]
  },
  {
   "cell_type": "code",
<<<<<<< HEAD
   "execution_count": 44,
   "id": "a5f9946d",
   "metadata": {},
   "outputs": [
    {
     "data": {
      "text/plain": [
       "2266"
      ]
     },
     "execution_count": 44,
     "metadata": {},
     "output_type": "execute_result"
    }
   ],
=======
   "execution_count": null,
   "id": "6731514e",
   "metadata": {},
   "outputs": [],
>>>>>>> cd21851a77a182f2d44359f732377b005a91ebda
   "source": [
    "names[names.index.str.contains('тока', flags=re.IGNORECASE)].sum()"
   ]
  },
  {
   "cell_type": "code",
<<<<<<< HEAD
   "execution_count": 45,
   "id": "f94194b7",
   "metadata": {},
   "outputs": [
    {
     "data": {
      "text/plain": [
       "1016"
      ]
     },
     "execution_count": 45,
     "metadata": {},
     "output_type": "execute_result"
    }
   ],
   "source": [
    "names[names.index.str.contains('фрезе', flags=re.IGNORECASE)].sum()"
=======
   "execution_count": null,
   "id": "1450f95b",
   "metadata": {},
   "outputs": [],
   "source": [
    "from matplotlib.legend_handler import HandlerBase\n",
    "from matplotlib.text import Text\n",
    "\n",
    "class TextHandler(HandlerBase):\n",
    "    def create_artists(self, legend, tup ,xdescent, ydescent,\n",
    "                        width, height, fontsize,trans):\n",
    "        tx = Text(width/2.,height/2,tup[0], fontsize=fontsize,\n",
    "                  ha=\"center\", va=\"center\", color=tup[1], fontweight=\"bold\")\n",
    "        return [tx]\n",
    "\n",
    "\n",
    "df1 = df.schedule.value_counts(normalize=True)\n",
    "df1 = df1.rename('percent').reset_index()\n",
    "\n",
    "g = sns.catplot(x='index', y='percent',kind='bar', data=df1, palette='muted')\n",
    "\n",
    "g.ax.set_xlabel('График работы', fontsize = 15)\n",
    "g.ax.set_ylabel('Относительная частота', fontsize = 15)\n",
    "\n",
    "for rect in g.ax.patches:\n",
    "    g.ax.text (rect.get_x() + rect.get_width()  / 2, rect.get_height() + 0.01, round(rect.get_height(), 3), horizontalalignment='center', fontsize = 11)\n",
    "\n",
    "g.fig.set_figwidth(10)\n",
    "g.fig.set_figheight(8)\n",
    "\n",
    "plt.show()"
   ]
  },
  {
   "cell_type": "markdown",
   "id": "ad4b508b",
   "metadata": {},
   "source": [
    "## Работодатель"
>>>>>>> cd21851a77a182f2d44359f732377b005a91ebda
   ]
  },
  {
   "cell_type": "code",
<<<<<<< HEAD
   "execution_count": 34,
   "id": "e6dba930",
=======
   "execution_count": null,
   "id": "b3babd66",
>>>>>>> cd21851a77a182f2d44359f732377b005a91ebda
   "metadata": {},
   "outputs": [],
   "source": [
    "df.skills = df.skills.astype(str)\n",
    "df.name = df.name.astype(str)"
   ]
  },
  {
   "cell_type": "code",
<<<<<<< HEAD
   "execution_count": 104,
   "id": "110d26f4",
   "metadata": {
    "scrolled": false
   },
=======
   "execution_count": null,
   "id": "2e92e94f",
   "metadata": {},
>>>>>>> cd21851a77a182f2d44359f732377b005a91ebda
   "outputs": [],
   "source": [
    "js_skills = df[df.skills.str.contains('Javascri', flags=re.IGNORECASE)]"
   ]
  },
  {
   "cell_type": "code",
<<<<<<< HEAD
   "execution_count": 105,
   "id": "738a75a2",
   "metadata": {},
   "outputs": [
    {
     "data": {
      "text/plain": [
       "(822, 17)"
      ]
     },
     "execution_count": 105,
     "metadata": {},
     "output_type": "execute_result"
    }
   ],
=======
   "execution_count": null,
   "id": "49c117c1",
   "metadata": {},
   "outputs": [],
>>>>>>> cd21851a77a182f2d44359f732377b005a91ebda
   "source": [
    "js_skills.shape"
   ]
  },
  {
   "cell_type": "code",
<<<<<<< HEAD
   "execution_count": 47,
   "id": "4c2f637b",
=======
   "execution_count": null,
   "id": "fd5b54f9",
>>>>>>> cd21851a77a182f2d44359f732377b005a91ebda
   "metadata": {},
   "outputs": [],
   "source": [
    "import numpy as np"
   ]
  },
  {
   "cell_type": "code",
<<<<<<< HEAD
   "execution_count": 108,
   "id": "4c64f2bf",
   "metadata": {},
   "outputs": [
    {
     "name": "stderr",
     "output_type": "stream",
     "text": [
      "C:\\Users\\Denis\\AppData\\Local\\Temp\\ipykernel_484\\3147198672.py:1: SettingWithCopyWarning: \n",
      "A value is trying to be set on a copy of a slice from a DataFrame.\n",
      "Try using .loc[row_indexer,col_indexer] = value instead\n",
      "\n",
      "See the caveats in the documentation: https://pandas.pydata.org/pandas-docs/stable/user_guide/indexing.html#returning-a-view-versus-a-copy\n",
      "  js_skills['salary_from'] = js_skills['salary_from'].fillna(0)\n",
      "C:\\Users\\Denis\\AppData\\Local\\Temp\\ipykernel_484\\3147198672.py:2: SettingWithCopyWarning: \n",
      "A value is trying to be set on a copy of a slice from a DataFrame.\n",
      "Try using .loc[row_indexer,col_indexer] = value instead\n",
      "\n",
      "See the caveats in the documentation: https://pandas.pydata.org/pandas-docs/stable/user_guide/indexing.html#returning-a-view-versus-a-copy\n",
      "  js_skills['salary_to'] = js_skills['salary_to'].fillna(0)\n",
      "C:\\Users\\Denis\\AppData\\Local\\Temp\\ipykernel_484\\3147198672.py:3: SettingWithCopyWarning: \n",
      "A value is trying to be set on a copy of a slice from a DataFrame.\n",
      "Try using .loc[row_indexer,col_indexer] = value instead\n",
      "\n",
      "See the caveats in the documentation: https://pandas.pydata.org/pandas-docs/stable/user_guide/indexing.html#returning-a-view-versus-a-copy\n",
      "  js_skills['salary'] = js_skills.loc[:,'salary_from'] + js_skills.loc[:,'salary_to']\n"
     ]
    },
    {
     "data": {
      "text/html": [
       "<div>\n",
       "<style scoped>\n",
       "    .dataframe tbody tr th:only-of-type {\n",
       "        vertical-align: middle;\n",
       "    }\n",
       "\n",
       "    .dataframe tbody tr th {\n",
       "        vertical-align: top;\n",
       "    }\n",
       "\n",
       "    .dataframe thead tr th {\n",
       "        text-align: left;\n",
       "    }\n",
       "\n",
       "    .dataframe thead tr:last-of-type th {\n",
       "        text-align: right;\n",
       "    }\n",
       "</style>\n",
       "<table border=\"1\" class=\"dataframe\">\n",
       "  <thead>\n",
       "    <tr>\n",
       "      <th></th>\n",
       "      <th colspan=\"2\" halign=\"left\">salary</th>\n",
       "    </tr>\n",
       "    <tr>\n",
       "      <th></th>\n",
       "      <th>mean</th>\n",
       "      <th>count</th>\n",
       "    </tr>\n",
       "    <tr>\n",
       "      <th>experience</th>\n",
       "      <th></th>\n",
       "      <th></th>\n",
       "    </tr>\n",
       "  </thead>\n",
       "  <tbody>\n",
       "    <tr>\n",
       "      <th>Более 6 лет</th>\n",
       "      <td>245289.0</td>\n",
       "      <td>19</td>\n",
       "    </tr>\n",
       "    <tr>\n",
       "      <th>Нет опыта</th>\n",
       "      <td>73667.0</td>\n",
       "      <td>51</td>\n",
       "    </tr>\n",
       "    <tr>\n",
       "      <th>От 1 года до 3 лет</th>\n",
       "      <td>103065.0</td>\n",
       "      <td>475</td>\n",
       "    </tr>\n",
       "    <tr>\n",
       "      <th>От 3 до 6 лет</th>\n",
       "      <td>156201.0</td>\n",
       "      <td>277</td>\n",
       "    </tr>\n",
       "  </tbody>\n",
       "</table>\n",
       "</div>"
      ],
      "text/plain": [
       "                      salary      \n",
       "                        mean count\n",
       "experience                        \n",
       "Более 6 лет         245289.0    19\n",
       "Нет опыта            73667.0    51\n",
       "От 1 года до 3 лет  103065.0   475\n",
       "От 3 до 6 лет       156201.0   277"
      ]
     },
     "execution_count": 108,
     "metadata": {},
     "output_type": "execute_result"
    }
   ],
   "source": [
    "js_skills['salary_from'] = js_skills['salary_from'].fillna(0)\n",
    "js_skills['salary_to'] = js_skills['salary_to'].fillna(0)\n",
    "js_skills['salary'] = js_skills.loc[:,'salary_from'] + js_skills.loc[:,'salary_to']\n",
    "js_skills.loc[(js_skills.salary_from != 0) & (js_skills.salary_to != 0), 'salary'] = js_skills.salary / 2\n",
    "\n",
    "js_skills.groupby(\"experience\").agg({\"salary\": [np.mean, 'count']}).round(0)"
=======
   "execution_count": null,
   "id": "11d82bdb",
   "metadata": {},
   "outputs": [],
   "source": [
    "df.employer.value_counts()"
   ]
  },
  {
   "cell_type": "markdown",
   "id": "f7538577",
   "metadata": {},
   "source": [
    "## Тест"
   ]
  },
  {
   "cell_type": "markdown",
   "id": "67985247",
   "metadata": {},
   "source": [
    "Лишь около 1% вакансий требуют прохождение тестового задания для отклика на вакансию, эта переменная очень не сбалансирована"
>>>>>>> cd21851a77a182f2d44359f732377b005a91ebda
   ]
  },
  {
   "cell_type": "code",
<<<<<<< HEAD
   "execution_count": 109,
   "id": "26f349eb",
   "metadata": {},
   "outputs": [
    {
     "data": {
      "text/plain": [
       "(822, 18)"
      ]
     },
     "execution_count": 109,
     "metadata": {},
     "output_type": "execute_result"
    }
   ],
=======
   "execution_count": null,
   "id": "0299edc9",
   "metadata": {},
   "outputs": [],
>>>>>>> cd21851a77a182f2d44359f732377b005a91ebda
   "source": [
    "js_skills.shape"
   ]
  },
  {
   "cell_type": "code",
<<<<<<< HEAD
   "execution_count": 116,
   "id": "46f06195",
=======
   "execution_count": null,
   "id": "c52a0e70",
>>>>>>> cd21851a77a182f2d44359f732377b005a91ebda
   "metadata": {},
   "outputs": [],
   "source": [
    "ones_skills = df[df.skills.str.contains('1с', flags=re.IGNORECASE)]"
   ]
  },
  {
   "cell_type": "code",
<<<<<<< HEAD
   "execution_count": 117,
   "id": "3de969c5",
   "metadata": {
    "scrolled": true
   },
   "outputs": [
    {
     "data": {
      "text/plain": [
       "(2950, 17)"
      ]
     },
     "execution_count": 117,
     "metadata": {},
     "output_type": "execute_result"
    }
   ],
=======
   "execution_count": null,
   "id": "57a8491c",
   "metadata": {},
   "outputs": [],
>>>>>>> cd21851a77a182f2d44359f732377b005a91ebda
   "source": [
    "ones_skills.shape"
   ]
  },
  {
<<<<<<< HEAD
   "cell_type": "code",
   "execution_count": null,
   "id": "bbf81f8d",
=======
   "cell_type": "markdown",
   "id": "752e7e67",
>>>>>>> cd21851a77a182f2d44359f732377b005a91ebda
   "metadata": {},
   "outputs": [],
   "source": []
  },
  {
<<<<<<< HEAD
   "cell_type": "code",
   "execution_count": 24,
   "id": "e120126b",
=======
   "cell_type": "markdown",
   "id": "ef547e75",
>>>>>>> cd21851a77a182f2d44359f732377b005a91ebda
   "metadata": {},
   "outputs": [
    {
     "data": {
      "text/plain": [
       "93191.9803883495"
      ]
     },
     "execution_count": 24,
     "metadata": {},
     "output_type": "execute_result"
    }
   ],
   "source": [
    "df[df.skills.str.contains('английс', flags=re.IGNORECASE)]['salary'].mean()"
   ]
  },
  {
   "cell_type": "code",
<<<<<<< HEAD
   "execution_count": 25,
   "id": "3c930248",
   "metadata": {},
   "outputs": [
    {
     "data": {
      "text/plain": [
       "72110.09955325475"
      ]
     },
     "execution_count": 25,
     "metadata": {},
     "output_type": "execute_result"
    }
   ],
=======
   "execution_count": null,
   "id": "916601a7",
   "metadata": {},
   "outputs": [],
>>>>>>> cd21851a77a182f2d44359f732377b005a91ebda
   "source": [
    "df[~df.skills.str.contains('английс', flags=re.IGNORECASE)]['salary'].mean()"
   ]
  },
  {
   "cell_type": "code",
   "execution_count": null,
<<<<<<< HEAD
   "id": "023d267a",
   "metadata": {},
   "outputs": [],
   "source": []
  },
  {
   "cell_type": "code",
   "execution_count": 50,
   "id": "8c3a5799",
=======
   "id": "560684bb",
>>>>>>> cd21851a77a182f2d44359f732377b005a91ebda
   "metadata": {},
   "outputs": [],
   "source": [
    "tokar = df[df.name.str.contains('токар', flags=re.IGNORECASE)]"
   ]
  },
  {
   "cell_type": "code",
   "execution_count": 51,
   "id": "82e0eaef",
   "metadata": {},
   "outputs": [
    {
     "data": {
      "text/html": [
       "<div>\n",
       "<style scoped>\n",
       "    .dataframe tbody tr th:only-of-type {\n",
       "        vertical-align: middle;\n",
       "    }\n",
       "\n",
       "    .dataframe tbody tr th {\n",
       "        vertical-align: top;\n",
       "    }\n",
       "\n",
       "    .dataframe thead tr th {\n",
       "        text-align: left;\n",
       "    }\n",
       "\n",
       "    .dataframe thead tr:last-of-type th {\n",
       "        text-align: right;\n",
       "    }\n",
       "</style>\n",
       "<table border=\"1\" class=\"dataframe\">\n",
       "  <thead>\n",
       "    <tr>\n",
       "      <th></th>\n",
       "      <th colspan=\"2\" halign=\"left\">salary</th>\n",
       "    </tr>\n",
       "    <tr>\n",
       "      <th></th>\n",
       "      <th>mean</th>\n",
       "      <th>count</th>\n",
       "    </tr>\n",
       "    <tr>\n",
       "      <th>experience</th>\n",
       "      <th></th>\n",
       "      <th></th>\n",
       "    </tr>\n",
       "  </thead>\n",
       "  <tbody>\n",
       "    <tr>\n",
       "      <th>Более 6 лет</th>\n",
       "      <td>71205.0</td>\n",
       "      <td>59</td>\n",
       "    </tr>\n",
       "    <tr>\n",
       "      <th>Нет опыта</th>\n",
       "      <td>51878.0</td>\n",
       "      <td>176</td>\n",
       "    </tr>\n",
       "    <tr>\n",
       "      <th>От 1 года до 3 лет</th>\n",
       "      <td>61459.0</td>\n",
       "      <td>1347</td>\n",
       "    </tr>\n",
       "    <tr>\n",
       "      <th>От 3 до 6 лет</th>\n",
       "      <td>63702.0</td>\n",
       "      <td>684</td>\n",
       "    </tr>\n",
       "  </tbody>\n",
       "</table>\n",
       "</div>"
      ],
      "text/plain": [
       "                     salary      \n",
       "                       mean count\n",
       "experience                       \n",
       "Более 6 лет         71205.0    59\n",
       "Нет опыта           51878.0   176\n",
       "От 1 года до 3 лет  61459.0  1347\n",
       "От 3 до 6 лет       63702.0   684"
      ]
     },
     "execution_count": 51,
     "metadata": {},
     "output_type": "execute_result"
    }
   ],
   "source": [
    "tokar.groupby(\"experience\").agg({\"salary\": [np.mean, 'count']}).round(0)"
   ]
  },
  {
   "cell_type": "code",
<<<<<<< HEAD
   "execution_count": 62,
   "id": "a6ae8837",
=======
   "execution_count": null,
   "id": "20ef9bc4",
>>>>>>> cd21851a77a182f2d44359f732377b005a91ebda
   "metadata": {},
   "outputs": [],
   "source": [
    "freze = df[df.name.str.contains('механи', flags=re.IGNORECASE)]"
   ]
  },
  {
   "cell_type": "code",
<<<<<<< HEAD
   "execution_count": 63,
   "id": "eb678080",
   "metadata": {},
   "outputs": [
    {
     "data": {
      "text/html": [
       "<div>\n",
       "<style scoped>\n",
       "    .dataframe tbody tr th:only-of-type {\n",
       "        vertical-align: middle;\n",
       "    }\n",
       "\n",
       "    .dataframe tbody tr th {\n",
       "        vertical-align: top;\n",
       "    }\n",
       "\n",
       "    .dataframe thead tr th {\n",
       "        text-align: left;\n",
       "    }\n",
       "\n",
       "    .dataframe thead tr:last-of-type th {\n",
       "        text-align: right;\n",
       "    }\n",
       "</style>\n",
       "<table border=\"1\" class=\"dataframe\">\n",
       "  <thead>\n",
       "    <tr>\n",
       "      <th></th>\n",
       "      <th colspan=\"2\" halign=\"left\">salary</th>\n",
       "    </tr>\n",
       "    <tr>\n",
       "      <th></th>\n",
       "      <th>mean</th>\n",
       "      <th>count</th>\n",
       "    </tr>\n",
       "    <tr>\n",
       "      <th>experience</th>\n",
       "      <th></th>\n",
       "      <th></th>\n",
       "    </tr>\n",
       "  </thead>\n",
       "  <tbody>\n",
       "    <tr>\n",
       "      <th>Более 6 лет</th>\n",
       "      <td>72169.0</td>\n",
       "      <td>36</td>\n",
       "    </tr>\n",
       "    <tr>\n",
       "      <th>Нет опыта</th>\n",
       "      <td>44524.0</td>\n",
       "      <td>154</td>\n",
       "    </tr>\n",
       "    <tr>\n",
       "      <th>От 1 года до 3 лет</th>\n",
       "      <td>56255.0</td>\n",
       "      <td>1261</td>\n",
       "    </tr>\n",
       "    <tr>\n",
       "      <th>От 3 до 6 лет</th>\n",
       "      <td>69127.0</td>\n",
       "      <td>868</td>\n",
       "    </tr>\n",
       "  </tbody>\n",
       "</table>\n",
       "</div>"
      ],
      "text/plain": [
       "                     salary      \n",
       "                       mean count\n",
       "experience                       \n",
       "Более 6 лет         72169.0    36\n",
       "Нет опыта           44524.0   154\n",
       "От 1 года до 3 лет  56255.0  1261\n",
       "От 3 до 6 лет       69127.0   868"
      ]
     },
     "execution_count": 63,
     "metadata": {},
     "output_type": "execute_result"
    }
   ],
=======
   "execution_count": null,
   "id": "e24b9c5b",
   "metadata": {},
   "outputs": [],
>>>>>>> cd21851a77a182f2d44359f732377b005a91ebda
   "source": [
    "freze.groupby(\"experience\").agg({\"salary\": [np.mean, 'count']}).round(0)"
   ]
  },
  {
   "cell_type": "code",
   "execution_count": null,
   "id": "abce0791",
   "metadata": {},
   "outputs": [],
   "source": []
  },
  {
   "cell_type": "code",
   "execution_count": null,
   "id": "9e55d0a7",
   "metadata": {},
   "outputs": [],
   "source": []
  }
 ],
 "metadata": {
  "kernelspec": {
   "display_name": "Python 3 (Spyder)",
   "language": "python3",
   "name": "python3"
  },
  "language_info": {
   "codemirror_mode": {
    "name": "ipython",
    "version": 3
   },
   "file_extension": ".py",
   "mimetype": "text/x-python",
   "name": "python",
   "nbconvert_exporter": "python",
   "pygments_lexer": "ipython3",
   "version": "3.9.13"
  }
 },
 "nbformat": 4,
 "nbformat_minor": 5
}
