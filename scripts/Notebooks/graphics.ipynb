{
 "cells": [
  {
   "cell_type": "markdown",
   "id": "dc7807f2",
   "metadata": {},
   "source": [
    "## Предобработка данных"
   ]
  },
  {
   "cell_type": "code",
   "execution_count": 1,
   "id": "2b56b6b4",
   "metadata": {},
   "outputs": [],
   "source": [
    "import pandas as pd\n",
    "import os\n",
    "import re\n",
    "import matplotlib.font_manager\n",
    "pd.set_option('display.max_rows', 500)\n",
    "import scipy\n",
    "from scipy.stats import skew\n",
    "from scipy.stats import kurtosis\n",
    "import math\n",
    "import matplotlib as mpl\n",
    "import matplotlib.pyplot as plt\n",
    "import matplotlib as mpl\n",
    "from matplotlib.backends.backend_pgf import FigureCanvasPgf\n",
    "mpl.backend_bases.register_backend('pdf', FigureCanvasPgf)\n",
    "from matplotlib import rc\n",
    "rc('text.latex',preamble=r'\\usepackage[utf8]{inputenc}')\n",
    "rc('text.latex',preamble=r'\\usepackage[russian]{babel}')\n",
    "plt.rcParams.update({\n",
    "    \"text.usetex\": True,\n",
    "    \"font.family\": \"serif\"\n",
    "})\n",
    "\n",
    "import seaborn as sns\n",
    "import numpy as np\n",
    "from sklearn import preprocessing\n",
    "import warnings\n",
    "warnings.filterwarnings(\"ignore\")"
   ]
  },
  {
   "cell_type": "code",
   "execution_count": 2,
   "id": "c378f483",
   "metadata": {},
   "outputs": [],
   "source": [
    "df = pd.read_csv('../../data/final_data.csv')"
   ]
  },
  {
   "cell_type": "code",
   "execution_count": 3,
   "id": "f8f7481e",
   "metadata": {},
   "outputs": [],
   "source": [
    "df['salary_from'] = df['salary_from'].fillna(0)\n",
    "df['salary_to'] = df['salary_to'].fillna(0)\n",
    "df['salary'] = df.loc[:,'salary_from'] + df.loc[:,'salary_to']\n",
    "df.loc[(df.salary_from != 0) & (df.salary_to != 0), 'salary'] = df.salary / 2"
   ]
  },
  {
   "cell_type": "code",
   "execution_count": 4,
   "id": "c8ba78bc",
   "metadata": {},
   "outputs": [],
   "source": [
    "df.loc[df.gross == False, 'salary'] = df.salary * 0.87"
   ]
  },
  {
   "cell_type": "code",
   "execution_count": 5,
   "id": "e45c9a93",
   "metadata": {},
   "outputs": [],
   "source": [
    "df.dropna(axis = 0, subset = ['currency', 'gross'], inplace = True)"
   ]
  },
  {
   "cell_type": "code",
   "execution_count": 6,
   "id": "c3b813b8",
   "metadata": {},
   "outputs": [],
   "source": [
    "df.drop(['raw', 'schedule', 'employer', 'salary_from', 'salary_to', 'gross'], axis = 1, inplace = True)"
   ]
  },
  {
   "cell_type": "code",
   "execution_count": 7,
   "id": "54a59a14",
   "metadata": {},
   "outputs": [],
   "source": [
    "df.drop('employment', axis = 1, inplace = True) "
   ]
  },
  {
   "cell_type": "code",
   "execution_count": 8,
   "id": "9fe8b6e0",
   "metadata": {},
   "outputs": [
    {
     "data": {
      "text/plain": [
       "(30639, 11)"
      ]
     },
     "execution_count": 8,
     "metadata": {},
     "output_type": "execute_result"
    }
   ],
   "source": [
    "df.shape"
   ]
  },
  {
   "cell_type": "code",
   "execution_count": 9,
   "id": "62beb9a6",
   "metadata": {},
   "outputs": [
    {
     "data": {
      "text/plain": [
       "premium                         0\n",
       "name                            0\n",
       "response_letter_required        0\n",
       "city                        10502\n",
       "latitude                    10367\n",
       "longtitude                  10367\n",
       "experience                      0\n",
       "skills                       5989\n",
       "has_test                        0\n",
       "currency                        0\n",
       "salary                          0\n",
       "dtype: int64"
      ]
     },
     "execution_count": 9,
     "metadata": {},
     "output_type": "execute_result"
    }
   ],
   "source": [
    "df.isna().sum()"
   ]
  },
  {
   "cell_type": "code",
   "execution_count": 10,
   "id": "e8ab4afa",
   "metadata": {},
   "outputs": [],
   "source": [
    "df = df.loc[~(df.salary == 0)]\n",
    "df = df.loc[~(df.latitude == 0)]\n",
    "df = df.loc[~(df.longtitude == 0)]\n",
    "df.loc[(df.salary < 1000) & (df.currency == 'RUR'), 'salary'] = df.loc[(df.salary < 1000) & (df.currency == 'RUR'), 'salary'] * 1000"
   ]
  },
  {
   "cell_type": "code",
   "execution_count": 11,
   "id": "e543dc66",
   "metadata": {},
   "outputs": [
    {
     "data": {
      "text/plain": [
       "43500.0     1575\n",
       "52200.0     1408\n",
       "34800.0     1226\n",
       "60900.0     1152\n",
       "87000.0     1103\n",
       "            ... \n",
       "31224.3        1\n",
       "176000.0       1\n",
       "20900.0        1\n",
       "45600.0        1\n",
       "184875.0       1\n",
       "Name: salary, Length: 1337, dtype: int64"
      ]
     },
     "execution_count": 11,
     "metadata": {},
     "output_type": "execute_result"
    }
   ],
   "source": [
    "df.salary.value_counts()"
   ]
  },
  {
   "cell_type": "code",
   "execution_count": 12,
   "id": "de3dba48",
   "metadata": {},
   "outputs": [],
   "source": [
    "df.dropna(axis = 0, subset = ['latitude', 'longtitude'], inplace = True)"
   ]
  },
  {
   "cell_type": "code",
   "execution_count": 13,
   "id": "a0476bcd",
   "metadata": {
    "scrolled": true
   },
   "outputs": [
    {
     "data": {
      "text/plain": [
       "(20144, 11)"
      ]
     },
     "execution_count": 13,
     "metadata": {},
     "output_type": "execute_result"
    }
   ],
   "source": [
    "df.shape"
   ]
  },
  {
   "cell_type": "code",
   "execution_count": 14,
   "id": "de4c1096",
   "metadata": {},
   "outputs": [],
   "source": [
    "import pickle \n",
    "import matplotlib.path as mplPath"
   ]
  },
  {
   "cell_type": "code",
   "execution_count": 15,
   "id": "b5a76838",
   "metadata": {},
   "outputs": [],
   "source": [
    "mapper = {\n",
    "\"Алтайский край\":\"Южно-Сибирский\",\n",
    "\"Республика Алтай\":\"Южно-Сибирский\",\n",
    "\"Курская область\":\"Центрально-Чернозёмный\",\n",
    "\"Тульская область\":\"Центральный\",\n",
    "\"Пермский край\":\"Волго-Камский\",\n",
    "\"Тверская область\":\"Центральный\",\n",
    "\"Липецкая область\":\"Центрально-Чернозёмный\",\n",
    "\"Орловская область\":\"Центральный\",\n",
    "\"Самарская область\":\"Волго-Уральский\",\n",
    "\"Кировская область\":\"Волго-Камский\",\n",
    "\"Брянская область\":\"Центральный\",\n",
    "\"Московская область\":\"Центральный\",\n",
    "\"Смоленская область\":\"Центральный\",\n",
    "\"Рязанская область\":\"Центральный\",\n",
    "\"Калужская область\":\"Центральный\",\n",
    "\"Тамбовская область\":\"Центрально-Чернозёмный\",\n",
    "\"Ростовская область\":\"Южный\",\n",
    "\"Республика Марий Эл\":\"Волго-Камский\",\n",
    "\"Курганская область\":\"Уральско-Сибирский\",\n",
    "\"Мурманская область\":\"Северно-Западный\",\n",
    "\"Республика агестан\":\"Северно-Кавказский\",\n",
    "\"Республика Карелия\":\"Северно-Западный\",\n",
    "\"Ивановская область\":\"Центральный\",\n",
    "\"Кемеровская область\":\"Южно-Сибирский\",\n",
    "\"Вологодская область\":\"Северно-Западный\",\n",
    "\"Магаданская область\":\"Дальневосточный\",\n",
    "\"Республика Татарстан\":\"Волго-Камский\",\n",
    "\"Воронежская область\":\"Центрально-Чернозёмный\",\n",
    "\"Белгородская область\":\"Центрально-Чернозёмный\",\n",
    "\"Ярославская область\":\"Центральный\",\n",
    "\"Ульяновская область\":\"Волго-Уральский\",\n",
    "\"Владимирская область\":\"Центральный\",\n",
    "\"Новосибирская область\":\"Южно-Сибирский\",\n",
    "\"Ленинградская область\":\"Северно-Западный\",\n",
    "\"Астраханская область\":\"Южный\",\n",
    "\"Удмуртская Республика\":\"Волго-Камский\",\n",
    "\"Архангельская область\":\"Северный\",\n",
    "\"Чувашская Республика\":\"Волго-Камский\",\n",
    "\"Республика Калмыкия\":\"Южный\",\n",
    "\"Республика Башкортостан\":\"Волго-Уральский\",\n",
    "\"Республика Саха (Якутия)\":\"Дальневосточный\",\n",
    "\"Кабардино-Балкарская Республика\":\"Северно-Кавказский\",\n",
    "\"Республика Северная Осетия-Алания\":\"Северно-Кавказский\",\n",
    "\"Республика Тыва\":\"Ангаро-Енисейский\",\n",
    "\"Карачаево-Черкесская Республика\":\"Северно-Кавказский\",\n",
    "\"Еврейская автономная область\":\"Дальневосточный\",\n",
    "\"Томская область\":\"Южно-Сибирский\",\n",
    "\"Амурская область\":\"Дальневосточный\",\n",
    "\"Пензенская область\":\"Волго-Уральский\",\n",
    "\"Республика Бурятия\":\"Дальневосточный\",\n",
    "\"Республика Хакасия\":\"Ангаро-Енисейский\",\n",
    "\"Республика Мордовия\":\"Волго-Камский\",\n",
    "\"Саратовская область\":\"Волго-Уральский\",\n",
    "\"Костромская область\":\"Центральный\",\n",
    "\"Республика Ингушетия\":\"Северно-Кавказский\",\n",
    "\"Чеченская Республика\":\"Северно-Кавказский\",\n",
    "\"Калининградская область\":\"Северно-Западный\",\n",
    "\"Псковская область\":\"Северно-Западный\",\n",
    "\"Республика Коми\":\"Северный\",\n",
    "\"Оренбургская область\":\"Волго-Уральский\",\n",
    "\"Новгородская область\":\"Северно-Западный\",\n",
    "\"Челябинская область\":\"Уральско-Сибирский\",\n",
    "\"Ставропольский край\":\"Северно-Кавказский\",\n",
    "\"Свердловская область\":\"Уральско-Сибирский\",\n",
    "\"Волгоградская область\":\"Южный\",\n",
    "\"Республика Адыгея\":\"Южный\",\n",
    "\"Ханты-Мансийский автономный округ\":\"Уральско-Сибирский\",\n",
    "\"Тюменская область\":\"Уральско-Сибирский\",\n",
    "\"Омская область\":\"Южно-Сибирский\",\n",
    "\"Приморский край\":\"Дальневосточный\",\n",
    "\"Хабаровский край\":\"Дальневосточный\",\n",
    "\"Сахалинская область\":\"Дальневосточный\",\n",
    "\"Чукотский автономный округ\":\"Дальневосточный\",\n",
    "\"Красноярский край\":\"Ангаро-Енисейский\",\n",
    "\"Иркутская область\":\"Ангаро-Енисейский\",\n",
    "\"Забайкальский край\":\"Дальневосточный\",\n",
    "\"Камчатский край\":\"Дальневосточный\",\n",
    "\"Ненецкий автономный округ\":\"Северный\",\n",
    "\"Ямало-Ненецкий автономный округ\":\"Уральско-Сибирский\",\n",
    "\"Республика Дагестан\":\"Северно-Кавказский\",\n",
    "\"Краснодарский край\":\"Южный\",\n",
    "\"Нижегородская область\":\"Волго-Камский\",\n",
    "\"Неизвестно\" : \"Неизвестно\" }"
   ]
  },
  {
   "cell_type": "code",
   "execution_count": 16,
   "id": "7f415115",
   "metadata": {},
   "outputs": [],
   "source": [
    "def convert_to_region(lat, long):\n",
    "    coord = np.array([lat, long])\n",
    "    for reg, area in loaded_dict.items():\n",
    "        if area.contains_point(coord):\n",
    "            return reg\n",
    "    \n",
    "    return 'Неизвестно'\n",
    "\n",
    "with open('../../data/saved_dictionary.pkl', 'rb') as f:\n",
    "    loaded_dict = pickle.load(f)\n",
    "    \n",
    "l = []\n",
    "for v in loaded_dict.values():\n",
    "    l.append(mplPath.Path(np.array(v['0'])))\n",
    "    \n",
    "loaded_dict = dict(zip(list(loaded_dict.keys()), l))\n",
    "df.loc[:, 'Region'] = df.apply(lambda x: convert_to_region(x.latitude, x.longtitude), axis = 1)\n",
    "\n",
    "df.loc[:, 'Region'] = df.loc[:, \"Region\"].map(mapper)"
   ]
  },
  {
   "cell_type": "code",
   "execution_count": 17,
   "id": "ff94bf4a",
   "metadata": {},
   "outputs": [],
   "source": [
    "df.loc[(df[\"city\"].isin([\"посёлок Русский\",\"Владивосток\",\"Артёмовский городской округ\",\n",
    "                        \"посёлок городского типа Забайкальск\",\"поселок городского типа Забайкальск\",\n",
    "                        \"городской округ Владивостокский\"])) & (df[\"Region\"] == 'Неизвестно'), \"Region\"] = \"Дальневосточный\"\n",
    "df.loc[(df[\"city\"].isin([\"посёлок городского типа Кореиз\",\"село Скворцово\",\"посёлок Розовый\",\n",
    "                        \"село Дубки\",\"Керчь\",\"посёлок Волна\",\"Анапа\",\"Евпатория\",\n",
    "                        \"Симферополь\", \"Ялта\", \"Севастополь\", \"Таганрог\", \n",
    "                        \"посёлок городского типа Сириус\", \"Новороссийск\",\"Дербент\",\n",
    "                        \"село Яблочное\",\"посёлок городского типа Гвардейское\",\"село Белоглинка\",\n",
    "                        \"Избербаш\",\"Махачкала\",\"Республика Крым\",\"посёлок городского типа Красногвардейское\",\n",
    "                        \"Сочи\",\"село Фонтаны\",])) & (df[\"Region\"] == 'Неизвестно'), \"Region\"] = \"Северно-Кавказский\"\n",
    "df.loc[(df[\"city\"].isin([\"Архангельск\",\"Полярный\"])) & (df[\"Region\"] == 'Неизвестно'), \"Region\"] = \"Северный\"\n",
    "df.loc[(df[\"city\"].isin([\"Санкт-Петербург\",\"Ломоносов\",\"Сосновый Бор\"]) & (df[\"Region\"] == 'Неизвестно')) , \"Region\"] = \"Северно-Западный\"\n",
    "df.loc[(df[\"city\"].isin([\"посёлок Новый\"])) & (df[\"Region\"] == 'Неизвестно'), \"Region\"] = \"Уральский\"\n",
    "\n",
    "df.loc[:, \"Region\"] = df['Region'].str.replace('^Уральский$','Северный и Уральский')\n",
    "df.loc[:, \"Region\"] = df['Region'].str.replace('^Северный$','Северный и Уральский')"
   ]
  },
  {
   "cell_type": "code",
   "execution_count": 18,
   "id": "ecf82b81",
   "metadata": {},
   "outputs": [],
   "source": [
    "skills = [i.split('_') for i in df.skills.astype(str)]"
   ]
  },
  {
   "cell_type": "code",
   "execution_count": 19,
   "id": "5302d836",
   "metadata": {},
   "outputs": [],
   "source": [
    "skills = pd.Series([item for sublist in skills for item in sublist]).value_counts()"
   ]
  },
  {
   "cell_type": "code",
   "execution_count": 20,
   "id": "ed51fec8",
   "metadata": {},
   "outputs": [],
   "source": [
    "df.skills = df.skills.astype(str)"
   ]
  },
  {
   "cell_type": "code",
   "execution_count": 21,
   "id": "e7ca8cd7",
   "metadata": {},
   "outputs": [],
   "source": [
    "for v in skills[1:54].index: \n",
    "    df.loc[:, v] = df.skills.str.contains(re.compile('(^|_)' + re.escape(v) + '(_|$)')).astype(int)"
   ]
  },
  {
   "cell_type": "code",
   "execution_count": 22,
   "id": "6a3b81da",
   "metadata": {},
   "outputs": [],
   "source": [
    "df.drop(['city', 'skills'], axis = 1, inplace = True)"
   ]
  },
  {
   "cell_type": "code",
   "execution_count": 23,
   "id": "02045514",
   "metadata": {},
   "outputs": [],
   "source": [
    "df.to_csv('../../data/final_data_salary.csv', index = False)"
   ]
  },
  {
   "cell_type": "markdown",
   "id": "00730705",
   "metadata": {},
   "source": [
    "## Анализ количественных признаков"
   ]
  },
  {
   "cell_type": "code",
   "execution_count": 24,
   "id": "5fc3fecc",
   "metadata": {},
   "outputs": [],
   "source": [
    "df = pd.read_csv('../../data/final_data_salary.csv')"
   ]
  },
  {
   "cell_type": "code",
   "execution_count": 25,
   "id": "766e66ce",
   "metadata": {},
   "outputs": [],
   "source": [
    "df_numeric = df.loc[:, ['latitude', 'longtitude', 'salary']]"
   ]
  },
  {
   "cell_type": "code",
   "execution_count": 26,
   "id": "9a159eb8",
   "metadata": {},
   "outputs": [
    {
     "data": {
      "text/html": [
       "<div>\n",
       "<style scoped>\n",
       "    .dataframe tbody tr th:only-of-type {\n",
       "        vertical-align: middle;\n",
       "    }\n",
       "\n",
       "    .dataframe tbody tr th {\n",
       "        vertical-align: top;\n",
       "    }\n",
       "\n",
       "    .dataframe thead th {\n",
       "        text-align: right;\n",
       "    }\n",
       "</style>\n",
       "<table border=\"1\" class=\"dataframe\">\n",
       "  <thead>\n",
       "    <tr style=\"text-align: right;\">\n",
       "      <th></th>\n",
       "      <th>latitude</th>\n",
       "      <th>longtitude</th>\n",
       "      <th>salary</th>\n",
       "    </tr>\n",
       "  </thead>\n",
       "  <tbody>\n",
       "    <tr>\n",
       "      <th>count</th>\n",
       "      <td>20144.000000</td>\n",
       "      <td>20144.000000</td>\n",
       "      <td>20144.000000</td>\n",
       "    </tr>\n",
       "    <tr>\n",
       "      <th>mean</th>\n",
       "      <td>55.031173</td>\n",
       "      <td>50.673507</td>\n",
       "      <td>68379.876190</td>\n",
       "    </tr>\n",
       "    <tr>\n",
       "      <th>std</th>\n",
       "      <td>4.115035</td>\n",
       "      <td>23.116306</td>\n",
       "      <td>44461.268023</td>\n",
       "    </tr>\n",
       "    <tr>\n",
       "      <th>min</th>\n",
       "      <td>23.608705</td>\n",
       "      <td>-117.780920</td>\n",
       "      <td>739.500000</td>\n",
       "    </tr>\n",
       "    <tr>\n",
       "      <th>25%</th>\n",
       "      <td>54.197104</td>\n",
       "      <td>37.544997</td>\n",
       "      <td>40000.000000</td>\n",
       "    </tr>\n",
       "    <tr>\n",
       "      <th>50%</th>\n",
       "      <td>55.749451</td>\n",
       "      <td>39.807944</td>\n",
       "      <td>55000.000000</td>\n",
       "    </tr>\n",
       "    <tr>\n",
       "      <th>75%</th>\n",
       "      <td>56.837641</td>\n",
       "      <td>57.498475</td>\n",
       "      <td>80805.000000</td>\n",
       "    </tr>\n",
       "    <tr>\n",
       "      <th>max</th>\n",
       "      <td>69.496790</td>\n",
       "      <td>158.679625</td>\n",
       "      <td>522000.000000</td>\n",
       "    </tr>\n",
       "  </tbody>\n",
       "</table>\n",
       "</div>"
      ],
      "text/plain": [
       "           latitude    longtitude         salary\n",
       "count  20144.000000  20144.000000   20144.000000\n",
       "mean      55.031173     50.673507   68379.876190\n",
       "std        4.115035     23.116306   44461.268023\n",
       "min       23.608705   -117.780920     739.500000\n",
       "25%       54.197104     37.544997   40000.000000\n",
       "50%       55.749451     39.807944   55000.000000\n",
       "75%       56.837641     57.498475   80805.000000\n",
       "max       69.496790    158.679625  522000.000000"
      ]
     },
     "execution_count": 26,
     "metadata": {},
     "output_type": "execute_result"
    }
   ],
   "source": [
    "df_numeric.describe()"
   ]
  },
  {
   "cell_type": "code",
   "execution_count": 27,
   "id": "afef5b46",
   "metadata": {},
   "outputs": [],
   "source": [
    "stats = []\n",
    "\n",
    "for (i, col) in enumerate(df_numeric.columns):\n",
    "    val = df_numeric[col]\n",
    "    \n",
    "    stats.append ([col, val.mean(), val.median(), val.min(), val.max(), val.std(), \n",
    "                     scipy.stats.skew(val, axis=0, bias=True), \n",
    "                     kurtosis(val, axis=0, bias=True), \n",
    "                     val.quantile(0.05), val.quantile(0.95), \n",
    "                     val.quantile(0.75) - val.quantile(0.25),\n",
    "                     0])"
   ]
  },
  {
   "cell_type": "code",
   "execution_count": 28,
   "id": "d835bc61",
   "metadata": {},
   "outputs": [],
   "source": [
    "stats = pd.DataFrame(stats, columns=['Переменная', 'Среднее', 'Медиана', 'Минимум', 'Максимум', \n",
    "                                     'Ст. Отклонение', 'Асимметрия', 'Эксцесс', \n",
    "                                     '5% Проц', '95% Проц', 'Интерквартильный размах', 'Пропущенные наблюдения'])"
   ]
  },
  {
   "cell_type": "code",
   "execution_count": 29,
   "id": "53518e2b",
   "metadata": {},
   "outputs": [
    {
     "data": {
      "text/html": [
       "<div>\n",
       "<style scoped>\n",
       "    .dataframe tbody tr th:only-of-type {\n",
       "        vertical-align: middle;\n",
       "    }\n",
       "\n",
       "    .dataframe tbody tr th {\n",
       "        vertical-align: top;\n",
       "    }\n",
       "\n",
       "    .dataframe thead th {\n",
       "        text-align: right;\n",
       "    }\n",
       "</style>\n",
       "<table border=\"1\" class=\"dataframe\">\n",
       "  <thead>\n",
       "    <tr style=\"text-align: right;\">\n",
       "      <th></th>\n",
       "      <th>Переменная</th>\n",
       "      <th>Среднее</th>\n",
       "      <th>Медиана</th>\n",
       "      <th>Минимум</th>\n",
       "      <th>Максимум</th>\n",
       "      <th>Ст. Отклонение</th>\n",
       "      <th>Асимметрия</th>\n",
       "      <th>Эксцесс</th>\n",
       "      <th>5% Проц</th>\n",
       "      <th>95% Проц</th>\n",
       "      <th>Интерквартильный размах</th>\n",
       "      <th>Пропущенные наблюдения</th>\n",
       "    </tr>\n",
       "  </thead>\n",
       "  <tbody>\n",
       "    <tr>\n",
       "      <th>0</th>\n",
       "      <td>latitude</td>\n",
       "      <td>55.031173</td>\n",
       "      <td>55.749451</td>\n",
       "      <td>23.608705</td>\n",
       "      <td>69.496790</td>\n",
       "      <td>4.115035</td>\n",
       "      <td>-0.999113</td>\n",
       "      <td>2.253621</td>\n",
       "      <td>45.049750</td>\n",
       "      <td>59.971695</td>\n",
       "      <td>2.640537</td>\n",
       "      <td>0</td>\n",
       "    </tr>\n",
       "    <tr>\n",
       "      <th>1</th>\n",
       "      <td>longtitude</td>\n",
       "      <td>50.673507</td>\n",
       "      <td>39.807944</td>\n",
       "      <td>-117.780920</td>\n",
       "      <td>158.679625</td>\n",
       "      <td>23.116306</td>\n",
       "      <td>1.800073</td>\n",
       "      <td>3.544598</td>\n",
       "      <td>30.307736</td>\n",
       "      <td>92.981642</td>\n",
       "      <td>19.953478</td>\n",
       "      <td>0</td>\n",
       "    </tr>\n",
       "    <tr>\n",
       "      <th>2</th>\n",
       "      <td>salary</td>\n",
       "      <td>68379.876190</td>\n",
       "      <td>55000.000000</td>\n",
       "      <td>739.500000</td>\n",
       "      <td>522000.000000</td>\n",
       "      <td>44461.268023</td>\n",
       "      <td>2.368829</td>\n",
       "      <td>8.604440</td>\n",
       "      <td>26100.000000</td>\n",
       "      <td>156600.000000</td>\n",
       "      <td>40805.000000</td>\n",
       "      <td>0</td>\n",
       "    </tr>\n",
       "  </tbody>\n",
       "</table>\n",
       "</div>"
      ],
      "text/plain": [
       "   Переменная       Среднее  ...  Интерквартильный размах  Пропущенные наблюдения\n",
       "0    latitude     55.031173  ...                 2.640537                       0\n",
       "1  longtitude     50.673507  ...                19.953478                       0\n",
       "2      salary  68379.876190  ...             40805.000000                       0\n",
       "\n",
       "[3 rows x 12 columns]"
      ]
     },
     "execution_count": 29,
     "metadata": {},
     "output_type": "execute_result"
    }
   ],
   "source": [
    "stats"
   ]
  },
  {
   "cell_type": "code",
   "execution_count": 30,
   "id": "eaafbb24",
   "metadata": {},
   "outputs": [
    {
     "data": {
      "image/png": "[encoded data removed]",
      "text/plain": [
       "<Figure size 864x720 with 1 Axes>"
      ]
     },
     "metadata": {},
     "output_type": "display_data"
    }
   ],
   "source": [
    "fig, ax = plt.subplots(figsize=(12, 10))\n",
    "plt.hist(df.latitude, weights = np.ones_like(df.latitude) / len(df.latitude), bins = len(np.histogram_bin_edges(df.latitude, bins='sturges')) - 1) \n",
    "plt.ylabel('Относительная частота')\n",
    "plt.xlabel('Широта')\n",
    "ax.set_title('Распределение широты. Стерджес')\n",
    "\n",
    "plt.annotate('Выбросы', xy=(33, 0.01), xytext=(28, 0.085),\n",
    "             arrowprops={'arrowstyle':'->'}\n",
    "             ,horizontalalignment='center')\n",
    "\n",
    "plt.annotate('Ассиметрия влево', xy=(52, 0.2), xytext=(48, 0.35),\n",
    "             arrowprops={'arrowstyle':'->'}\n",
    "             ,horizontalalignment='center')\n",
    "\n",
    "ax.xaxis.set_ticks(np.arange(0, 80, 5))\n",
    "ax.yaxis.set_ticks(np.arange(0, 0.5, 0.05))\n",
    "\n",
    "ax.grid()\n",
    "plt.savefig(\"sig.pdf\")\n",
    "plt.show()\n"
   ]
  },
  {
   "cell_type": "code",
   "execution_count": 31,
   "id": "70b07238",
   "metadata": {},
   "outputs": [
    {
     "data": {
      "image/png": "[encoded data removed]",
      "text/plain": [
       "<Figure size 720x576 with 1 Axes>"
      ]
     },
     "metadata": {},
     "output_type": "display_data"
    }
   ],
   "source": [
    "fig, ax = plt.subplots(figsize=(10, 8))\n",
    "plt.hist(df.longtitude, weights = np.ones_like(df.longtitude) / len(df.longtitude), \n",
    "         bins = len(np.histogram_bin_edges(df.longtitude, bins='sturges')) - 1) \n",
    "plt.ylabel('Относительная частота')\n",
    "plt.xlabel('Долгота')\n",
    "ax.set_title('Распределение долготы. Стерджес')\n",
    "\n",
    "plt.annotate('Выбросы', xy=(-110, 0.001), xytext=(-90, 0.08),\n",
    "             arrowprops={'arrowstyle':'->'}\n",
    "             ,horizontalalignment='center')\n",
    "\n",
    "plt.annotate('Ассиметрия влево', xy=(15, 0.20), xytext=(-50, 0.32),\n",
    "             arrowprops={'arrowstyle':'->'}\n",
    "             ,horizontalalignment='center')\n",
    "\n",
    "\n",
    "ax.yaxis.set_ticks(np.arange(0, 0.5, 0.05))\n",
    "\n",
    "ax.grid()\n",
    "plt.savefig(\"sig.pdf\")\n",
    "plt.show()"
   ]
  },
  {
   "cell_type": "code",
   "execution_count": 32,
   "id": "e1cd15c4",
   "metadata": {},
   "outputs": [
    {
     "data": {
      "image/png": "[encoded data removed]",
      "text/plain": [
       "<Figure size 720x576 with 1 Axes>"
      ]
     },
     "metadata": {},
     "output_type": "display_data"
    }
   ],
   "source": [
    "fig, ax = plt.subplots(figsize=(10, 8))\n",
    "\n",
    "plt.hist(df.salary, weights = np.ones_like(df.salary) / len(df.salary), \n",
    "         bins = len(np.histogram_bin_edges(df.salary, bins='sturges')) - 1)\n",
    "\n",
    "plt.ylabel('Относительная частота')\n",
    "plt.xlabel('Зарплата')\n",
    "ax.set_title('Распределение зарплаты. Стерджес')\n",
    "\n",
    "plt.annotate('Выбросы', xy=(320000, 0.01), xytext=(435000, 0.32),\n",
    "             arrowprops={'arrowstyle':'->'}\n",
    "             ,horizontalalignment='center')\n",
    "\n",
    "plt.annotate('', xy=(520000, 0.01), xytext=(430000, 0.315),\n",
    "             arrowprops={'arrowstyle':'->'}\n",
    "             ,horizontalalignment='center')\n",
    "\n",
    "ax.xaxis.set_ticks(np.arange(0, 550000, 50000))\n",
    "ax.yaxis.set_ticks(np.arange(0, 0.55, 0.05))\n",
    "\n",
    "ax.grid()\n",
    "plt.show()"
   ]
  },
  {
   "cell_type": "code",
   "execution_count": null,
   "id": "8a5a047a",
   "metadata": {},
   "outputs": [],
   "source": []
  },
  {
   "cell_type": "code",
   "execution_count": 33,
   "id": "858270b0",
   "metadata": {},
   "outputs": [
    {
     "data": {
      "image/png": "[encoded data removed]",
      "text/plain": [
       "<Figure size 720x576 with 1 Axes>"
      ]
     },
     "metadata": {},
     "output_type": "display_data"
    }
   ],
   "source": [
    "fig, ax = plt.subplots(figsize=(10, 8))\n",
    "\n",
    "plt.hist(df.salary, density=True, \n",
    "         bins = 'sturges')\n",
    "\n",
    "plt.ylabel('Плотность')\n",
    "plt.xlabel('Зарплата')\n",
    "ax.set_title('Распределение зарплаты')\n",
    "\n",
    "mean = np.mean(df.salary)\n",
    "std = np.std(df.salary)\n",
    "x = np.linspace(mean - 3*std, mean + 3*std, 100)\n",
    "plt.plot(x, 1/(std * np.sqrt(2 * np.pi)) * np.exp( - (x - mean)**2 / (2 * std**2) ), linewidth=2, color='r')\n",
    "\n",
    "ax.grid()\n",
    "plt.show()"
   ]
  },
  {
   "cell_type": "code",
   "execution_count": 34,
   "id": "89c6eb1e",
   "metadata": {},
   "outputs": [
    {
     "data": {
      "image/png": "[encoded data removed]",
      "text/plain": [
       "<Figure size 720x576 with 1 Axes>"
      ]
     },
     "metadata": {},
     "output_type": "display_data"
    }
   ],
   "source": [
    "fig, ax = plt.subplots(figsize=(10, 8))\n",
    "\n",
    "plt.hist(df.latitude, density=True, \n",
    "         bins = 'sturges')\n",
    "\n",
    "plt.ylabel('Плотность')\n",
    "plt.xlabel('Широта')\n",
    "ax.set_title('Распределение шмроты')\n",
    "\n",
    "mean = np.mean(df.latitude)\n",
    "std = np.std(df.latitude)\n",
    "x = np.linspace(mean - 3*std, mean + 3*std, 100)\n",
    "plt.plot(x, 1/(std * np.sqrt(2 * np.pi)) * np.exp( - (x - mean)**2 / (2 * std**2) ), linewidth=2, color='r')\n",
    "\n",
    "ax.grid()\n",
    "plt.show()"
   ]
  },
  {
   "cell_type": "code",
   "execution_count": 35,
   "id": "fda70e32",
   "metadata": {},
   "outputs": [
    {
     "data": {
      "image/png": "[encoded data removed]",
      "text/plain": [
       "<Figure size 720x576 with 1 Axes>"
      ]
     },
     "metadata": {},
     "output_type": "display_data"
    }
   ],
   "source": [
    "fig, ax = plt.subplots(figsize=(10, 8))\n",
    "\n",
    "plt.hist(df.longtitude, density=True, \n",
    "         bins = 'sturges')\n",
    "\n",
    "plt.ylabel('Плотность')\n",
    "plt.xlabel('Долгота')\n",
    "ax.set_title('Распределение долготы')\n",
    "\n",
    "mean = np.mean(df.longtitude)\n",
    "std = np.std(df.longtitude)\n",
    "x = np.linspace(mean - 3*std, mean + 3*std, 100)\n",
    "plt.plot(x, 1/(std * np.sqrt(2 * np.pi)) * np.exp( - (x - mean)**2 / (2 * std**2) ), linewidth=2, color='r')\n",
    "\n",
    "ax.grid()\n",
    "plt.show()"
   ]
  },
  {
   "cell_type": "markdown",
   "id": "7ed9470a",
   "metadata": {},
   "source": [
    "## Анализ качественных признаков"
   ]
  },
  {
   "cell_type": "markdown",
   "id": "4fba9608",
   "metadata": {},
   "source": [
    "## Города"
   ]
  },
  {
   "cell_type": "markdown",
   "id": "45574e83",
   "metadata": {},
   "source": [
    "В большом количестве(10 тысяч) вакансий город не указан. Такие значения мы заполним категорией \"Неизвестно\". Города, которые попадаются меньше трех раз мы объеденим в одну категорию \"Другие\", т.к. в таком случае эта категория получается не такой большой по сравнению с другими категориями. "
   ]
  },
  {
   "cell_type": "code",
   "execution_count": 36,
   "id": "1e78ae80",
   "metadata": {},
   "outputs": [
    {
     "data": {
      "image/png": "[encoded data removed]",
      "text/plain": [
       "<Figure size 720x576 with 1 Axes>"
      ]
     },
     "metadata": {},
     "output_type": "display_data"
    }
   ],
   "source": [
    "from matplotlib.legend_handler import HandlerBase\n",
    "from matplotlib.text import Text\n",
    "\n",
    "class TextHandler(HandlerBase):\n",
    "    def create_artists(self, legend, tup ,xdescent, ydescent,\n",
    "                        width, height, fontsize,trans):\n",
    "        tx = Text(width/2.,height/2,tup[0], fontsize=fontsize,\n",
    "                  ha=\"center\", va=\"center\", color=tup[1], fontweight=\"bold\")\n",
    "        return [tx]\n",
    "\n",
    "le = preprocessing.LabelEncoder()\n",
    "encoded = pd.Series(le.fit_transform(df.Region))\n",
    "\n",
    "df1 = encoded.value_counts(normalize=True)\n",
    "df1 = df1.rename('percent').reset_index()\n",
    "\n",
    "g = sns.catplot(x='index', y='percent', kind='bar', data=df1, palette='muted')\n",
    "\n",
    "g.ax.set_xlabel('Регион', fontsize = 15)\n",
    "g.ax.set_ylabel('Относительная частота', fontsize = 15)\n",
    "\n",
    "for rect in g.ax.patches:\n",
    "    g.ax.text (rect.get_x() + rect.get_width()  / 2, rect.get_height() + 0.01, round(rect.get_height(), 3), horizontalalignment='center', fontsize = 11)\n",
    "\n",
    "handltext = le.transform(le.classes_).astype(str)\n",
    "labels = le.classes_\n",
    "\n",
    "t = g.ax.get_xticklabels()\n",
    "labeldic = dict(zip(handltext, labels))\n",
    "labels = [labeldic[h.get_text()]  for h in t]\n",
    "handles = [(h.get_text(),c.get_fc()) for h,c in zip(t,g.ax.patches)]\n",
    "\n",
    "g.ax.legend(handles, labels, handler_map={tuple : TextHandler()})\n",
    "g.fig.set_figwidth(10)\n",
    "g.fig.set_figheight(8)\n",
    "# tikzplotlib.get_tikz_code(strict=True)\n",
    "# tikzplotlib.save(\"../../notes/cities.tex\")\n",
    "plt.show()"
   ]
  },
  {
   "cell_type": "markdown",
   "id": "3f1730e7",
   "metadata": {},
   "source": [
    "## Сопроводительное письмо "
   ]
  },
  {
   "cell_type": "markdown",
   "id": "48f7241f",
   "metadata": {},
   "source": [
    "Данная переменная очень сильно не сбалансирована и вакансии, для которых сопроводительное письмо обязательно для ~1% вакансий. "
   ]
  },
  {
   "cell_type": "code",
   "execution_count": 37,
   "id": "c291a998",
   "metadata": {},
   "outputs": [
    {
     "data": {
      "text/plain": [
       "False    19914\n",
       "True       230\n",
       "Name: response_letter_required, dtype: int64"
      ]
     },
     "execution_count": 37,
     "metadata": {},
     "output_type": "execute_result"
    }
   ],
   "source": [
    "df.response_letter_required.value_counts()"
   ]
  },
  {
   "cell_type": "code",
   "execution_count": 38,
   "id": "589d41ea",
   "metadata": {},
   "outputs": [],
   "source": [
    "df.response_letter_required = df.response_letter_required.map({False: 0, True: 1}) "
   ]
  },
  {
   "cell_type": "code",
   "execution_count": 39,
   "id": "ee6d16d5",
   "metadata": {},
   "outputs": [
    {
     "data": {
      "image/png": "[encoded data removed]",
      "text/plain": [
       "<Figure size 720x576 with 1 Axes>"
      ]
     },
     "metadata": {},
     "output_type": "display_data"
    }
   ],
   "source": [
    "from matplotlib.legend_handler import HandlerBase\n",
    "from matplotlib.text import Text\n",
    "from matplotlib.pyplot import figure\n",
    "\n",
    "class TextHandler(HandlerBase):\n",
    "    def create_artists(self, legend, tup ,xdescent, ydescent,\n",
    "                        width, height, fontsize,trans):\n",
    "        tx = Text(width/2.,height/2,tup[0], fontsize=fontsize,\n",
    "                  ha=\"center\", va=\"center\", color=tup[1], fontweight=\"bold\")\n",
    "        return [tx]\n",
    "\n",
    "\n",
    "df1 = df.response_letter_required.value_counts(normalize=True)\n",
    "df1 = df1.rename('percent').reset_index()\n",
    "\n",
    "g = sns.catplot(x='index', y='percent',kind='bar', data=df1, palette='muted')\n",
    "\n",
    "g.ax.set_xlabel('Необходимость сопроводительного письма', fontsize = 15)\n",
    "g.ax.set_ylabel('Относительная частота', fontsize = 15)\n",
    "\n",
    "for rect in g.ax.patches:\n",
    "    g.ax.text (rect.get_x() + rect.get_width()  / 2, rect.get_height() + 0.01, round(rect.get_height(), 3), horizontalalignment='center', fontsize = 11)\n",
    "\n",
    "handltext = ['0', '1']\n",
    "labels = [ \"False\", \"True\"]\n",
    "\n",
    "t = g.ax.get_xticklabels()\n",
    "labeldic = dict(zip(handltext, labels))\n",
    "labels = [labeldic[h.get_text()]  for h in t]\n",
    "handles = [(h.get_text(),c.get_fc()) for h,c in zip(t,g.ax.patches)]\n",
    "\n",
    "g.ax.legend(handles, labels, handler_map={tuple : TextHandler()}) \n",
    "g.fig.set_figwidth(10)\n",
    "g.fig.set_figheight(8)\n",
    "\n",
    "plt.show()"
   ]
  },
  {
   "cell_type": "markdown",
   "id": "d42ec626",
   "metadata": {},
   "source": [
    "## Тест"
   ]
  },
  {
   "cell_type": "markdown",
   "id": "b442825f",
   "metadata": {},
   "source": [
    "Лишь около 1% вакансий требуют прохождение тестового задания для отклика на вакансию, эта переменная очень не сбалансирована"
   ]
  },
  {
   "cell_type": "code",
   "execution_count": 40,
   "id": "2cf4ce2f",
   "metadata": {},
   "outputs": [
    {
     "data": {
      "text/plain": [
       "False    19983\n",
       "True       161\n",
       "Name: has_test, dtype: int64"
      ]
     },
     "execution_count": 40,
     "metadata": {},
     "output_type": "execute_result"
    }
   ],
   "source": [
    "df.has_test.value_counts()"
   ]
  },
  {
   "cell_type": "code",
   "execution_count": 41,
   "id": "07d34870",
   "metadata": {},
   "outputs": [],
   "source": [
    "df.has_test = df.has_test.map({False: 0, True: 1})"
   ]
  },
  {
   "cell_type": "code",
   "execution_count": 42,
   "id": "7e1efc6d",
   "metadata": {},
   "outputs": [
    {
     "data": {
      "image/png": "[encoded data removed]",
      "text/plain": [
       "<Figure size 720x576 with 1 Axes>"
      ]
     },
     "metadata": {},
     "output_type": "display_data"
    }
   ],
   "source": [
    "from matplotlib.legend_handler import HandlerBase\n",
    "from matplotlib.text import Text\n",
    "\n",
    "class TextHandler(HandlerBase):\n",
    "    def create_artists(self, legend, tup ,xdescent, ydescent,\n",
    "                        width, height, fontsize,trans):\n",
    "        tx = Text(width/2.,height/2,tup[0], fontsize=fontsize,\n",
    "                  ha=\"center\", va=\"center\", color=tup[1], fontweight=\"bold\")\n",
    "        return [tx]\n",
    "\n",
    "\n",
    "df1 = df.has_test.value_counts(normalize=True)\n",
    "df1 = df1.rename('percent').reset_index()\n",
    "\n",
    "g = sns.catplot(x='index', y='percent',kind='bar', data=df1, palette='muted')\n",
    "\n",
    "g.ax.set_xlabel('Необходимость прохождения тестового задания', fontsize = 15)\n",
    "g.ax.set_ylabel('Относительная частота', fontsize = 15)\n",
    "\n",
    "for rect in g.ax.patches:\n",
    "    g.ax.text (rect.get_x() + rect.get_width()  / 2, rect.get_height() + 0.01, round(rect.get_height(), 3), horizontalalignment='center', fontsize = 11)\n",
    "\n",
    "handltext = ['0', '1']\n",
    "labels = [ \"False\", \"True\"]\n",
    "\n",
    "t = g.ax.get_xticklabels()\n",
    "labeldic = dict(zip(handltext, labels))\n",
    "labels = [labeldic[h.get_text()]  for h in t]\n",
    "handles = [(h.get_text(),c.get_fc()) for h,c in zip(t,g.ax.patches)]\n",
    "\n",
    "g.ax.legend(handles, labels, handler_map={tuple : TextHandler()})\n",
    "g.fig.set_figwidth(10)\n",
    "g.fig.set_figheight(8)\n",
    "\n",
    "plt.show()"
   ]
  },
  {
   "cell_type": "markdown",
   "id": "af3cb904",
   "metadata": {},
   "source": [
    "## Опыт работы"
   ]
  },
  {
   "cell_type": "markdown",
   "id": "11d7a056",
   "metadata": {},
   "source": [
    "Требования к опыту работы несбалансированы"
   ]
  },
  {
   "cell_type": "code",
   "execution_count": 43,
   "id": "f339ec0d",
   "metadata": {},
   "outputs": [
    {
     "data": {
      "image/png": "[encoded data removed]",
      "text/plain": [
       "<Figure size 720x576 with 1 Axes>"
      ]
     },
     "metadata": {},
     "output_type": "display_data"
    }
   ],
   "source": [
    "from matplotlib.legend_handler import HandlerBase\n",
    "from matplotlib.text import Text\n",
    "\n",
    "class TextHandler(HandlerBase):\n",
    "    def create_artists(self, legend, tup ,xdescent, ydescent,\n",
    "                        width, height, fontsize,trans):\n",
    "        tx = Text(width/2.,height/2,tup[0], fontsize=fontsize,\n",
    "                  ha=\"center\", va=\"center\", color=tup[1], fontweight=\"bold\")\n",
    "        return [tx]\n",
    "\n",
    "le = preprocessing.LabelEncoder()\n",
    "encoded = pd.Series(le.fit_transform(df.experience))\n",
    "    \n",
    "df1 = encoded.value_counts(normalize=True)\n",
    "df1 = df1.rename('percent').reset_index()\n",
    "\n",
    "g = sns.catplot(x='index', y='percent',kind='bar', data=df1, palette='muted')\n",
    "\n",
    "g.ax.set_xlabel('Опыт работы', fontsize = 15)\n",
    "g.ax.set_ylabel('Относительная частота', fontsize = 15)\n",
    "\n",
    "for rect in g.ax.patches:\n",
    "    g.ax.text (rect.get_x() + rect.get_width()  / 2, rect.get_height() + 0.01, round(rect.get_height(), 3), horizontalalignment='center', fontsize = 11)\n",
    "\n",
    "handltext = le.transform(le.classes_).astype(str)\n",
    "labels = le.classes_\n",
    "\n",
    "t = g.ax.get_xticklabels()\n",
    "labeldic = dict(zip(handltext, labels))\n",
    "labels = [labeldic[h.get_text()]  for h in t]\n",
    "handles = [(h.get_text(),c.get_fc()) for h,c in zip(t,g.ax.patches)]\n",
    "\n",
    "g.ax.legend(handles, labels, handler_map={tuple : TextHandler()})\n",
    "g.fig.set_figwidth(10)\n",
    "g.fig.set_figheight(8)\n",
    "\n",
    "plt.show()"
   ]
  },
  {
   "cell_type": "markdown",
   "id": "a62219ae",
   "metadata": {},
   "source": [
    "## Навыки"
   ]
  },
  {
   "cell_type": "code",
   "execution_count": 44,
   "id": "db29c781",
   "metadata": {},
   "outputs": [],
   "source": [
    "skills = df.iloc[:, 10:].sum(axis = 0)"
   ]
  },
  {
   "cell_type": "code",
   "execution_count": 45,
   "id": "2574ed0e",
   "metadata": {},
   "outputs": [],
   "source": [
    "sums_1c = skills[skills.index.str.contains('1С')].sum()\n",
    "skills = skills.drop(skills[skills.index.str.contains('1С')].index)\n",
    "skills.loc['1С'] = sums_1c\n",
    "\n",
    "skills = skills / skills.values.sum()\n",
    "skills = skills.sort_values(ascending=False)"
   ]
  },
  {
   "cell_type": "code",
   "execution_count": 46,
   "id": "3c92d011",
   "metadata": {},
   "outputs": [],
   "source": [
    "skills_df = pd.DataFrame({'ind': range(skills.shape[0]), 'skills': skills.index, 'percent': skills.values})"
   ]
  },
  {
   "cell_type": "code",
   "execution_count": 47,
   "id": "583159b4",
   "metadata": {
    "scrolled": true
   },
   "outputs": [
    {
     "data": {
      "text/html": [
       "<div>\n",
       "<style scoped>\n",
       "    .dataframe tbody tr th:only-of-type {\n",
       "        vertical-align: middle;\n",
       "    }\n",
       "\n",
       "    .dataframe tbody tr th {\n",
       "        vertical-align: top;\n",
       "    }\n",
       "\n",
       "    .dataframe thead th {\n",
       "        text-align: right;\n",
       "    }\n",
       "</style>\n",
       "<table border=\"1\" class=\"dataframe\">\n",
       "  <thead>\n",
       "    <tr style=\"text-align: right;\">\n",
       "      <th></th>\n",
       "      <th>ind</th>\n",
       "      <th>skills</th>\n",
       "      <th>percent</th>\n",
       "    </tr>\n",
       "  </thead>\n",
       "  <tbody>\n",
       "    <tr>\n",
       "      <th>0</th>\n",
       "      <td>0</td>\n",
       "      <td>1С</td>\n",
       "      <td>0.087936</td>\n",
       "    </tr>\n",
       "    <tr>\n",
       "      <th>1</th>\n",
       "      <td>1</td>\n",
       "      <td>Работа в команде</td>\n",
       "      <td>0.081486</td>\n",
       "    </tr>\n",
       "    <tr>\n",
       "      <th>2</th>\n",
       "      <td>2</td>\n",
       "      <td>Пользователь ПК</td>\n",
       "      <td>0.066545</td>\n",
       "    </tr>\n",
       "    <tr>\n",
       "      <th>3</th>\n",
       "      <td>3</td>\n",
       "      <td>Грамотная речь</td>\n",
       "      <td>0.042663</td>\n",
       "    </tr>\n",
       "    <tr>\n",
       "      <th>4</th>\n",
       "      <td>4</td>\n",
       "      <td>Техническое обслуживание</td>\n",
       "      <td>0.031262</td>\n",
       "    </tr>\n",
       "    <tr>\n",
       "      <th>5</th>\n",
       "      <td>5</td>\n",
       "      <td>Linux</td>\n",
       "      <td>0.026492</td>\n",
       "    </tr>\n",
       "    <tr>\n",
       "      <th>6</th>\n",
       "      <td>6</td>\n",
       "      <td>Работа в условиях многозадачности</td>\n",
       "      <td>0.026132</td>\n",
       "    </tr>\n",
       "    <tr>\n",
       "      <th>7</th>\n",
       "      <td>7</td>\n",
       "      <td>SQL</td>\n",
       "      <td>0.023222</td>\n",
       "    </tr>\n",
       "    <tr>\n",
       "      <th>8</th>\n",
       "      <td>8</td>\n",
       "      <td>Работа с большим объемом информации</td>\n",
       "      <td>0.023072</td>\n",
       "    </tr>\n",
       "    <tr>\n",
       "      <th>9</th>\n",
       "      <td>9</td>\n",
       "      <td>Adobe Photoshop</td>\n",
       "      <td>0.022922</td>\n",
       "    </tr>\n",
       "    <tr>\n",
       "      <th>10</th>\n",
       "      <td>10</td>\n",
       "      <td>Настройка ПК</td>\n",
       "      <td>0.022562</td>\n",
       "    </tr>\n",
       "    <tr>\n",
       "      <th>11</th>\n",
       "      <td>11</td>\n",
       "      <td>Грамотность</td>\n",
       "      <td>0.021512</td>\n",
       "    </tr>\n",
       "    <tr>\n",
       "      <th>12</th>\n",
       "      <td>12</td>\n",
       "      <td>Управление проектами</td>\n",
       "      <td>0.021512</td>\n",
       "    </tr>\n",
       "    <tr>\n",
       "      <th>13</th>\n",
       "      <td>13</td>\n",
       "      <td>Git</td>\n",
       "      <td>0.021482</td>\n",
       "    </tr>\n",
       "    <tr>\n",
       "      <th>14</th>\n",
       "      <td>14</td>\n",
       "      <td>Умение работать в команде</td>\n",
       "      <td>0.020821</td>\n",
       "    </tr>\n",
       "    <tr>\n",
       "      <th>15</th>\n",
       "      <td>15</td>\n",
       "      <td>Настройка сетевых подключений</td>\n",
       "      <td>0.019621</td>\n",
       "    </tr>\n",
       "    <tr>\n",
       "      <th>16</th>\n",
       "      <td>16</td>\n",
       "      <td>Организаторские навыки</td>\n",
       "      <td>0.019141</td>\n",
       "    </tr>\n",
       "    <tr>\n",
       "      <th>17</th>\n",
       "      <td>17</td>\n",
       "      <td>Английский язык</td>\n",
       "      <td>0.018691</td>\n",
       "    </tr>\n",
       "    <tr>\n",
       "      <th>18</th>\n",
       "      <td>18</td>\n",
       "      <td>Деловое общение</td>\n",
       "      <td>0.018511</td>\n",
       "    </tr>\n",
       "    <tr>\n",
       "      <th>19</th>\n",
       "      <td>19</td>\n",
       "      <td>Настройка ПО</td>\n",
       "      <td>0.017911</td>\n",
       "    </tr>\n",
       "    <tr>\n",
       "      <th>20</th>\n",
       "      <td>20</td>\n",
       "      <td>Деловая переписка</td>\n",
       "      <td>0.016711</td>\n",
       "    </tr>\n",
       "    <tr>\n",
       "      <th>21</th>\n",
       "      <td>21</td>\n",
       "      <td>Ремонтные работы</td>\n",
       "      <td>0.015841</td>\n",
       "    </tr>\n",
       "    <tr>\n",
       "      <th>22</th>\n",
       "      <td>22</td>\n",
       "      <td>Аналитическое мышление</td>\n",
       "      <td>0.014971</td>\n",
       "    </tr>\n",
       "    <tr>\n",
       "      <th>23</th>\n",
       "      <td>23</td>\n",
       "      <td>JavaScript</td>\n",
       "      <td>0.014941</td>\n",
       "    </tr>\n",
       "    <tr>\n",
       "      <th>24</th>\n",
       "      <td>24</td>\n",
       "      <td>Ведение переговоров</td>\n",
       "      <td>0.014911</td>\n",
       "    </tr>\n",
       "    <tr>\n",
       "      <th>25</th>\n",
       "      <td>25</td>\n",
       "      <td>Windows 7</td>\n",
       "      <td>0.014191</td>\n",
       "    </tr>\n",
       "    <tr>\n",
       "      <th>26</th>\n",
       "      <td>26</td>\n",
       "      <td>MS PowerPoint</td>\n",
       "      <td>0.014131</td>\n",
       "    </tr>\n",
       "    <tr>\n",
       "      <th>27</th>\n",
       "      <td>27</td>\n",
       "      <td>Информационные технологии</td>\n",
       "      <td>0.013531</td>\n",
       "    </tr>\n",
       "    <tr>\n",
       "      <th>28</th>\n",
       "      <td>28</td>\n",
       "      <td>Ремонт ПК</td>\n",
       "      <td>0.013411</td>\n",
       "    </tr>\n",
       "    <tr>\n",
       "      <th>29</th>\n",
       "      <td>29</td>\n",
       "      <td>Техническая поддержка</td>\n",
       "      <td>0.013291</td>\n",
       "    </tr>\n",
       "    <tr>\n",
       "      <th>30</th>\n",
       "      <td>30</td>\n",
       "      <td>HTML</td>\n",
       "      <td>0.013261</td>\n",
       "    </tr>\n",
       "    <tr>\n",
       "      <th>31</th>\n",
       "      <td>31</td>\n",
       "      <td>Точность и внимательность к деталям</td>\n",
       "      <td>0.012901</td>\n",
       "    </tr>\n",
       "    <tr>\n",
       "      <th>32</th>\n",
       "      <td>32</td>\n",
       "      <td>PHP</td>\n",
       "      <td>0.012781</td>\n",
       "    </tr>\n",
       "    <tr>\n",
       "      <th>33</th>\n",
       "      <td>33</td>\n",
       "      <td>Администрирование сетевого оборудования</td>\n",
       "      <td>0.012751</td>\n",
       "    </tr>\n",
       "    <tr>\n",
       "      <th>34</th>\n",
       "      <td>34</td>\n",
       "      <td>MySQL</td>\n",
       "      <td>0.012271</td>\n",
       "    </tr>\n",
       "    <tr>\n",
       "      <th>35</th>\n",
       "      <td>35</td>\n",
       "      <td>Adobe Illustrator</td>\n",
       "      <td>0.012091</td>\n",
       "    </tr>\n",
       "    <tr>\n",
       "      <th>36</th>\n",
       "      <td>36</td>\n",
       "      <td>CorelDRAW</td>\n",
       "      <td>0.012091</td>\n",
       "    </tr>\n",
       "    <tr>\n",
       "      <th>37</th>\n",
       "      <td>37</td>\n",
       "      <td>Чтение чертежей</td>\n",
       "      <td>0.011851</td>\n",
       "    </tr>\n",
       "    <tr>\n",
       "      <th>38</th>\n",
       "      <td>38</td>\n",
       "      <td>Python</td>\n",
       "      <td>0.011611</td>\n",
       "    </tr>\n",
       "    <tr>\n",
       "      <th>39</th>\n",
       "      <td>39</td>\n",
       "      <td>Поиск информации в интернет</td>\n",
       "      <td>0.011551</td>\n",
       "    </tr>\n",
       "    <tr>\n",
       "      <th>40</th>\n",
       "      <td>40</td>\n",
       "      <td>Креативность</td>\n",
       "      <td>0.011551</td>\n",
       "    </tr>\n",
       "    <tr>\n",
       "      <th>41</th>\n",
       "      <td>41</td>\n",
       "      <td>TCP/IP</td>\n",
       "      <td>0.011401</td>\n",
       "    </tr>\n",
       "    <tr>\n",
       "      <th>42</th>\n",
       "      <td>42</td>\n",
       "      <td>Монтаж оборудования</td>\n",
       "      <td>0.011221</td>\n",
       "    </tr>\n",
       "    <tr>\n",
       "      <th>43</th>\n",
       "      <td>43</td>\n",
       "      <td>Станки ЧПУ</td>\n",
       "      <td>0.011191</td>\n",
       "    </tr>\n",
       "    <tr>\n",
       "      <th>44</th>\n",
       "      <td>44</td>\n",
       "      <td>CSS</td>\n",
       "      <td>0.010651</td>\n",
       "    </tr>\n",
       "    <tr>\n",
       "      <th>45</th>\n",
       "      <td>45</td>\n",
       "      <td>ООП</td>\n",
       "      <td>0.010531</td>\n",
       "    </tr>\n",
       "    <tr>\n",
       "      <th>46</th>\n",
       "      <td>46</td>\n",
       "      <td>Деловая коммуникация</td>\n",
       "      <td>0.010411</td>\n",
       "    </tr>\n",
       "    <tr>\n",
       "      <th>47</th>\n",
       "      <td>47</td>\n",
       "      <td>Информационная безопасность</td>\n",
       "      <td>0.010291</td>\n",
       "    </tr>\n",
       "    <tr>\n",
       "      <th>48</th>\n",
       "      <td>48</td>\n",
       "      <td>PostgreSQL</td>\n",
       "      <td>0.010171</td>\n",
       "    </tr>\n",
       "  </tbody>\n",
       "</table>\n",
       "</div>"
      ],
      "text/plain": [
       "    ind                                   skills   percent\n",
       "0     0                                       1С  0.087936\n",
       "1     1                         Работа в команде  0.081486\n",
       "2     2                          Пользователь ПК  0.066545\n",
       "3     3                           Грамотная речь  0.042663\n",
       "4     4                 Техническое обслуживание  0.031262\n",
       "5     5                                    Linux  0.026492\n",
       "6     6        Работа в условиях многозадачности  0.026132\n",
       "7     7                                      SQL  0.023222\n",
       "8     8      Работа с большим объемом информации  0.023072\n",
       "9     9                          Adobe Photoshop  0.022922\n",
       "10   10                             Настройка ПК  0.022562\n",
       "11   11                              Грамотность  0.021512\n",
       "12   12                     Управление проектами  0.021512\n",
       "13   13                                      Git  0.021482\n",
       "14   14                Умение работать в команде  0.020821\n",
       "15   15            Настройка сетевых подключений  0.019621\n",
       "16   16                   Организаторские навыки  0.019141\n",
       "17   17                          Английский язык  0.018691\n",
       "18   18                          Деловое общение  0.018511\n",
       "19   19                             Настройка ПО  0.017911\n",
       "20   20                        Деловая переписка  0.016711\n",
       "21   21                         Ремонтные работы  0.015841\n",
       "22   22                   Аналитическое мышление  0.014971\n",
       "23   23                               JavaScript  0.014941\n",
       "24   24                      Ведение переговоров  0.014911\n",
       "25   25                                Windows 7  0.014191\n",
       "26   26                            MS PowerPoint  0.014131\n",
       "27   27                Информационные технологии  0.013531\n",
       "28   28                                Ремонт ПК  0.013411\n",
       "29   29                    Техническая поддержка  0.013291\n",
       "30   30                                     HTML  0.013261\n",
       "31   31      Точность и внимательность к деталям  0.012901\n",
       "32   32                                      PHP  0.012781\n",
       "33   33  Администрирование сетевого оборудования  0.012751\n",
       "34   34                                    MySQL  0.012271\n",
       "35   35                        Adobe Illustrator  0.012091\n",
       "36   36                                CorelDRAW  0.012091\n",
       "37   37                          Чтение чертежей  0.011851\n",
       "38   38                                   Python  0.011611\n",
       "39   39              Поиск информации в интернет  0.011551\n",
       "40   40                             Креативность  0.011551\n",
       "41   41                                   TCP/IP  0.011401\n",
       "42   42                      Монтаж оборудования  0.011221\n",
       "43   43                               Станки ЧПУ  0.011191\n",
       "44   44                                      CSS  0.010651\n",
       "45   45                                      ООП  0.010531\n",
       "46   46                     Деловая коммуникация  0.010411\n",
       "47   47              Информационная безопасность  0.010291\n",
       "48   48                               PostgreSQL  0.010171"
      ]
     },
     "execution_count": 47,
     "metadata": {},
     "output_type": "execute_result"
    }
   ],
   "source": [
    "skills_df"
   ]
  },
  {
   "cell_type": "code",
   "execution_count": null,
   "id": "74bc2198",
   "metadata": {},
   "outputs": [],
   "source": []
  },
  {
   "cell_type": "code",
   "execution_count": 48,
   "id": "0858f3f3",
   "metadata": {},
   "outputs": [
    {
     "data": {
      "image/png": "[encoded data removed]",
      "text/plain": [
       "<Figure size 1440x1080 with 1 Axes>"
      ]
     },
     "metadata": {},
     "output_type": "display_data"
    }
   ],
   "source": [
    "from matplotlib.legend_handler import HandlerBase\n",
    "from matplotlib.text import Text\n",
    "\n",
    "class TextHandler(HandlerBase):\n",
    "    def create_artists(self, legend, tup ,xdescent, ydescent,\n",
    "                        width, height, fontsize,trans):\n",
    "        tx = Text(width/2.,height/2,tup[0], fontsize=fontsize,\n",
    "                  ha=\"center\", va=\"center\", color=tup[1], fontweight=\"bold\")\n",
    "        return [tx]\n",
    "\n",
    "g = sns.catplot(data = skills_df, x = 'ind', y = 'percent', kind='bar', palette='muted')\n",
    "\n",
    "g.ax.set_xlabel('Навык', fontsize = 15)\n",
    "g.ax.set_ylabel('Относительная частота', fontsize = 15)\n",
    "\n",
    "handltext = skills_df.ind.astype(str).values\n",
    "labels = skills_df.skills.values\n",
    "\n",
    "t = g.ax.get_xticklabels()\n",
    "labeldic = dict(zip(handltext, labels))\n",
    "labels = [labeldic[h.get_text()]  for h in t]\n",
    "handles = [(h.get_text(),c.get_fc()) for h,c in zip(t,g.ax.patches)]\n",
    "\n",
    "g.ax.legend(handles, labels, handler_map={tuple : TextHandler()})\n",
    "\n",
    "g.fig.set_figwidth(20)\n",
    "g.fig.set_figheight(15)\n",
    "\n",
    "plt.show()"
   ]
  },
  {
   "cell_type": "code",
   "execution_count": null,
   "id": "a0e9fb7b",
   "metadata": {},
   "outputs": [],
   "source": []
  },
  {
   "cell_type": "markdown",
   "id": "34b1288e",
   "metadata": {},
   "source": [
    "## Гипотезы"
   ]
  },
  {
   "cell_type": "code",
   "execution_count": 49,
   "id": "f04b001f",
   "metadata": {},
   "outputs": [
    {
     "ename": "AttributeError",
     "evalue": "'DataFrame' object has no attribute 'skills'",
     "output_type": "error",
     "traceback": [
      "Traceback \u001b[0;36m(most recent call last)\u001b[0m:\n",
      "  File \u001b[1;32m\"/tmp/ipykernel_11762/3911525048.py\"\u001b[0m, line \u001b[1;32m1\u001b[0m, in \u001b[1;35m<module>\u001b[0m\n    skills = [i.split('_') for i in df.skills.astype(str)]\n",
      "\u001b[0;36m  File \u001b[0;32m\"/home/ivan/anaconda3/lib/python3.9/site-packages/pandas/core/generic.py\"\u001b[0;36m, line \u001b[0;32m5575\u001b[0;36m, in \u001b[0;35m__getattr__\u001b[0;36m\u001b[0m\n\u001b[0;31m    return object.__getattribute__(self, name)\u001b[0m\n",
      "\u001b[0;31mAttributeError\u001b[0m\u001b[0;31m:\u001b[0m 'DataFrame' object has no attribute 'skills'\n"
     ]
    }
   ],
   "source": [
    "skills = [i.split('_') for i in df.skills.astype(str)]"
   ]
  },
  {
   "cell_type": "code",
   "execution_count": 50,
   "id": "7bf9a99d",
   "metadata": {},
   "outputs": [
    {
     "ename": "TypeError",
     "evalue": "'float' object is not iterable",
     "output_type": "error",
     "traceback": [
      "Traceback \u001b[0;36m(most recent call last)\u001b[0m:\n",
      "  File \u001b[1;32m\"/tmp/ipykernel_11762/3541614433.py\"\u001b[0m, line \u001b[1;32m1\u001b[0m, in \u001b[1;35m<module>\u001b[0m\n    skills = pd.Series([item for sublist in skills for item in sublist]).value_counts()\n",
      "\u001b[0;36m  File \u001b[0;32m\"/tmp/ipykernel_11762/3541614433.py\"\u001b[0;36m, line \u001b[0;32m1\u001b[0;36m, in \u001b[0;35m<listcomp>\u001b[0;36m\u001b[0m\n\u001b[0;31m    skills = pd.Series([item for sublist in skills for item in sublist]).value_counts()\u001b[0m\n",
      "\u001b[0;31mTypeError\u001b[0m\u001b[0;31m:\u001b[0m 'float' object is not iterable\n"
     ]
    }
   ],
   "source": [
    "skills = pd.Series([item for sublist in skills for item in sublist]).value_counts()"
   ]
  },
  {
   "cell_type": "code",
   "execution_count": 51,
   "id": "5e894bb1",
   "metadata": {},
   "outputs": [],
   "source": [
    "names = df.name.value_counts()"
   ]
  },
  {
   "cell_type": "code",
   "execution_count": 52,
   "id": "83a1bd92",
   "metadata": {},
   "outputs": [
    {
     "data": {
      "text/plain": [
       "1446"
      ]
     },
     "execution_count": 52,
     "metadata": {},
     "output_type": "execute_result"
    }
   ],
   "source": [
    "names[names.index.str.contains('тока', flags=re.IGNORECASE)].sum()"
   ]
  },
  {
   "cell_type": "code",
   "execution_count": 53,
   "id": "0d2946e7",
   "metadata": {},
   "outputs": [
    {
     "data": {
      "text/plain": [
       "719"
      ]
     },
     "execution_count": 53,
     "metadata": {},
     "output_type": "execute_result"
    }
   ],
   "source": [
    "names[names.index.str.contains('фрезе', flags=re.IGNORECASE)].sum()"
   ]
  },
  {
   "cell_type": "code",
   "execution_count": 54,
   "id": "986fb2ec",
   "metadata": {},
   "outputs": [
    {
     "ename": "AttributeError",
     "evalue": "'DataFrame' object has no attribute 'skills'",
     "output_type": "error",
     "traceback": [
      "Traceback \u001b[0;36m(most recent call last)\u001b[0m:\n",
      "  File \u001b[1;32m\"/tmp/ipykernel_11762/356936109.py\"\u001b[0m, line \u001b[1;32m1\u001b[0m, in \u001b[1;35m<module>\u001b[0m\n    df.skills = df.skills.astype(str)\n",
      "\u001b[0;36m  File \u001b[0;32m\"/home/ivan/anaconda3/lib/python3.9/site-packages/pandas/core/generic.py\"\u001b[0;36m, line \u001b[0;32m5575\u001b[0;36m, in \u001b[0;35m__getattr__\u001b[0;36m\u001b[0m\n\u001b[0;31m    return object.__getattribute__(self, name)\u001b[0m\n",
      "\u001b[0;31mAttributeError\u001b[0m\u001b[0;31m:\u001b[0m 'DataFrame' object has no attribute 'skills'\n"
     ]
    }
   ],
   "source": [
    "df.skills = df.skills.astype(str)\n",
    "df.name = df.name.astype(str)"
   ]
  },
  {
   "cell_type": "code",
   "execution_count": 55,
   "id": "0025de83",
   "metadata": {},
   "outputs": [
    {
     "ename": "AttributeError",
     "evalue": "'DataFrame' object has no attribute 'skills'",
     "output_type": "error",
     "traceback": [
      "Traceback \u001b[0;36m(most recent call last)\u001b[0m:\n",
      "  File \u001b[1;32m\"/tmp/ipykernel_11762/3087383018.py\"\u001b[0m, line \u001b[1;32m1\u001b[0m, in \u001b[1;35m<module>\u001b[0m\n    js_skills = df[df.skills.str.contains('Javascri', flags=re.IGNORECASE)]\n",
      "\u001b[0;36m  File \u001b[0;32m\"/home/ivan/anaconda3/lib/python3.9/site-packages/pandas/core/generic.py\"\u001b[0;36m, line \u001b[0;32m5575\u001b[0;36m, in \u001b[0;35m__getattr__\u001b[0;36m\u001b[0m\n\u001b[0;31m    return object.__getattribute__(self, name)\u001b[0m\n",
      "\u001b[0;31mAttributeError\u001b[0m\u001b[0;31m:\u001b[0m 'DataFrame' object has no attribute 'skills'\n"
     ]
    }
   ],
   "source": [
    "js_skills = df[df.skills.str.contains('Javascri', flags=re.IGNORECASE)]"
   ]
  },
  {
   "cell_type": "code",
   "execution_count": 56,
   "id": "27ba5112",
   "metadata": {},
   "outputs": [
    {
     "ename": "NameError",
     "evalue": "name 'js_skills' is not defined",
     "output_type": "error",
     "traceback": [
      "Traceback \u001b[0;36m(most recent call last)\u001b[0m:\n",
      "\u001b[0;36m  File \u001b[0;32m\"/tmp/ipykernel_11762/1836972409.py\"\u001b[0;36m, line \u001b[0;32m1\u001b[0;36m, in \u001b[0;35m<module>\u001b[0;36m\u001b[0m\n\u001b[0;31m    js_skills.shape\u001b[0m\n",
      "\u001b[0;31mNameError\u001b[0m\u001b[0;31m:\u001b[0m name 'js_skills' is not defined\n"
     ]
    }
   ],
   "source": [
    "js_skills.shape"
   ]
  },
  {
   "cell_type": "code",
   "execution_count": 57,
   "id": "05a88625",
   "metadata": {},
   "outputs": [],
   "source": [
    "import numpy as np"
   ]
  },
  {
   "cell_type": "code",
   "execution_count": 58,
   "id": "158ef139",
   "metadata": {},
   "outputs": [
    {
     "ename": "NameError",
     "evalue": "name 'js_skills' is not defined",
     "output_type": "error",
     "traceback": [
      "Traceback \u001b[0;36m(most recent call last)\u001b[0m:\n",
      "\u001b[0;36m  File \u001b[0;32m\"/tmp/ipykernel_11762/3147198672.py\"\u001b[0;36m, line \u001b[0;32m1\u001b[0;36m, in \u001b[0;35m<module>\u001b[0;36m\u001b[0m\n\u001b[0;31m    js_skills['salary_from'] = js_skills['salary_from'].fillna(0)\u001b[0m\n",
      "\u001b[0;31mNameError\u001b[0m\u001b[0;31m:\u001b[0m name 'js_skills' is not defined\n"
     ]
    }
   ],
   "source": [
    "js_skills['salary_from'] = js_skills['salary_from'].fillna(0)\n",
    "js_skills['salary_to'] = js_skills['salary_to'].fillna(0)\n",
    "js_skills['salary'] = js_skills.loc[:,'salary_from'] + js_skills.loc[:,'salary_to']\n",
    "js_skills.loc[(js_skills.salary_from != 0) & (js_skills.salary_to != 0), 'salary'] = js_skills.salary / 2\n",
    "\n",
    "js_skills.groupby(\"experience\").agg({\"salary\": [np.mean, 'count']}).round(0)"
   ]
  },
  {
   "cell_type": "code",
   "execution_count": 59,
   "id": "0bb50870",
   "metadata": {},
   "outputs": [
    {
     "ename": "NameError",
     "evalue": "name 'js_skills' is not defined",
     "output_type": "error",
     "traceback": [
      "Traceback \u001b[0;36m(most recent call last)\u001b[0m:\n",
      "\u001b[0;36m  File \u001b[0;32m\"/tmp/ipykernel_11762/1836972409.py\"\u001b[0;36m, line \u001b[0;32m1\u001b[0;36m, in \u001b[0;35m<module>\u001b[0;36m\u001b[0m\n\u001b[0;31m    js_skills.shape\u001b[0m\n",
      "\u001b[0;31mNameError\u001b[0m\u001b[0;31m:\u001b[0m name 'js_skills' is not defined\n"
     ]
    }
   ],
   "source": [
    "js_skills.shape"
   ]
  },
  {
   "cell_type": "code",
   "execution_count": 60,
   "id": "c5e4d557",
   "metadata": {},
   "outputs": [
    {
     "ename": "AttributeError",
     "evalue": "'DataFrame' object has no attribute 'skills'",
     "output_type": "error",
     "traceback": [
      "Traceback \u001b[0;36m(most recent call last)\u001b[0m:\n",
      "  File \u001b[1;32m\"/tmp/ipykernel_11762/1606586451.py\"\u001b[0m, line \u001b[1;32m1\u001b[0m, in \u001b[1;35m<module>\u001b[0m\n    ones_skills = df[df.skills.str.contains('1с', flags=re.IGNORECASE)]\n",
      "\u001b[0;36m  File \u001b[0;32m\"/home/ivan/anaconda3/lib/python3.9/site-packages/pandas/core/generic.py\"\u001b[0;36m, line \u001b[0;32m5575\u001b[0;36m, in \u001b[0;35m__getattr__\u001b[0;36m\u001b[0m\n\u001b[0;31m    return object.__getattribute__(self, name)\u001b[0m\n",
      "\u001b[0;31mAttributeError\u001b[0m\u001b[0;31m:\u001b[0m 'DataFrame' object has no attribute 'skills'\n"
     ]
    }
   ],
   "source": [
    "ones_skills = df[df.skills.str.contains('1с', flags=re.IGNORECASE)]"
   ]
  },
  {
   "cell_type": "code",
   "execution_count": 61,
   "id": "cff17519",
   "metadata": {
    "scrolled": true
   },
   "outputs": [
    {
     "ename": "NameError",
     "evalue": "name 'ones_skills' is not defined",
     "output_type": "error",
     "traceback": [
      "Traceback \u001b[0;36m(most recent call last)\u001b[0m:\n",
      "\u001b[0;36m  File \u001b[0;32m\"/tmp/ipykernel_11762/2071773351.py\"\u001b[0;36m, line \u001b[0;32m1\u001b[0;36m, in \u001b[0;35m<module>\u001b[0;36m\u001b[0m\n\u001b[0;31m    ones_skills.shape\u001b[0m\n",
      "\u001b[0;31mNameError\u001b[0m\u001b[0;31m:\u001b[0m name 'ones_skills' is not defined\n"
     ]
    }
   ],
   "source": [
    "ones_skills.shape"
   ]
  },
  {
   "cell_type": "code",
   "execution_count": null,
   "id": "0a840a01",
   "metadata": {},
   "outputs": [],
   "source": []
  },
  {
   "cell_type": "code",
   "execution_count": 62,
   "id": "21f57fe3",
   "metadata": {},
   "outputs": [
    {
     "ename": "AttributeError",
     "evalue": "'DataFrame' object has no attribute 'skills'",
     "output_type": "error",
     "traceback": [
      "Traceback \u001b[0;36m(most recent call last)\u001b[0m:\n",
      "  File \u001b[1;32m\"/tmp/ipykernel_11762/1822410242.py\"\u001b[0m, line \u001b[1;32m1\u001b[0m, in \u001b[1;35m<module>\u001b[0m\n    df[df.skills.str.contains('английс', flags=re.IGNORECASE)]['salary'].mean()\n",
      "\u001b[0;36m  File \u001b[0;32m\"/home/ivan/anaconda3/lib/python3.9/site-packages/pandas/core/generic.py\"\u001b[0;36m, line \u001b[0;32m5575\u001b[0;36m, in \u001b[0;35m__getattr__\u001b[0;36m\u001b[0m\n\u001b[0;31m    return object.__getattribute__(self, name)\u001b[0m\n",
      "\u001b[0;31mAttributeError\u001b[0m\u001b[0;31m:\u001b[0m 'DataFrame' object has no attribute 'skills'\n"
     ]
    }
   ],
   "source": [
    "df[df.skills.str.contains('английс', flags=re.IGNORECASE)]['salary'].mean()"
   ]
  },
  {
   "cell_type": "code",
   "execution_count": 63,
   "id": "80e8d8de",
   "metadata": {},
   "outputs": [
    {
     "ename": "AttributeError",
     "evalue": "'DataFrame' object has no attribute 'skills'",
     "output_type": "error",
     "traceback": [
      "Traceback \u001b[0;36m(most recent call last)\u001b[0m:\n",
      "  File \u001b[1;32m\"/tmp/ipykernel_11762/4248736403.py\"\u001b[0m, line \u001b[1;32m1\u001b[0m, in \u001b[1;35m<module>\u001b[0m\n    df[~df.skills.str.contains('английс', flags=re.IGNORECASE)]['salary'].mean()\n",
      "\u001b[0;36m  File \u001b[0;32m\"/home/ivan/anaconda3/lib/python3.9/site-packages/pandas/core/generic.py\"\u001b[0;36m, line \u001b[0;32m5575\u001b[0;36m, in \u001b[0;35m__getattr__\u001b[0;36m\u001b[0m\n\u001b[0;31m    return object.__getattribute__(self, name)\u001b[0m\n",
      "\u001b[0;31mAttributeError\u001b[0m\u001b[0;31m:\u001b[0m 'DataFrame' object has no attribute 'skills'\n"
     ]
    }
   ],
   "source": [
    "df[~df.skills.str.contains('английс', flags=re.IGNORECASE)]['salary'].mean()"
   ]
  },
  {
   "cell_type": "code",
   "execution_count": null,
   "id": "e0b56638",
   "metadata": {},
   "outputs": [],
   "source": []
  },
  {
   "cell_type": "code",
   "execution_count": 64,
   "id": "7d187c3a",
   "metadata": {},
   "outputs": [],
   "source": [
    "tokar = df[df.name.str.contains('токар', flags=re.IGNORECASE)]"
   ]
  },
  {
   "cell_type": "code",
   "execution_count": 65,
   "id": "acd5a133",
   "metadata": {},
   "outputs": [
    {
     "data": {
      "text/html": [
       "<div>\n",
       "<style scoped>\n",
       "    .dataframe tbody tr th:only-of-type {\n",
       "        vertical-align: middle;\n",
       "    }\n",
       "\n",
       "    .dataframe tbody tr th {\n",
       "        vertical-align: top;\n",
       "    }\n",
       "\n",
       "    .dataframe thead tr th {\n",
       "        text-align: left;\n",
       "    }\n",
       "\n",
       "    .dataframe thead tr:last-of-type th {\n",
       "        text-align: right;\n",
       "    }\n",
       "</style>\n",
       "<table border=\"1\" class=\"dataframe\">\n",
       "  <thead>\n",
       "    <tr>\n",
       "      <th></th>\n",
       "      <th colspan=\"2\" halign=\"left\">salary</th>\n",
       "    </tr>\n",
       "    <tr>\n",
       "      <th></th>\n",
       "      <th>mean</th>\n",
       "      <th>count</th>\n",
       "    </tr>\n",
       "    <tr>\n",
       "      <th>experience</th>\n",
       "      <th></th>\n",
       "      <th></th>\n",
       "    </tr>\n",
       "  </thead>\n",
       "  <tbody>\n",
       "    <tr>\n",
       "      <th>Более 6 лет</th>\n",
       "      <td>68004.0</td>\n",
       "      <td>37</td>\n",
       "    </tr>\n",
       "    <tr>\n",
       "      <th>Нет опыта</th>\n",
       "      <td>44637.0</td>\n",
       "      <td>103</td>\n",
       "    </tr>\n",
       "    <tr>\n",
       "      <th>От 1 года до 3 лет</th>\n",
       "      <td>53672.0</td>\n",
       "      <td>864</td>\n",
       "    </tr>\n",
       "    <tr>\n",
       "      <th>От 3 до 6 лет</th>\n",
       "      <td>56804.0</td>\n",
       "      <td>442</td>\n",
       "    </tr>\n",
       "  </tbody>\n",
       "</table>\n",
       "</div>"
      ],
      "text/plain": [
       "                     salary      \n",
       "                       mean count\n",
       "experience                       \n",
       "Более 6 лет         68004.0    37\n",
       "Нет опыта           44637.0   103\n",
       "От 1 года до 3 лет  53672.0   864\n",
       "От 3 до 6 лет       56804.0   442"
      ]
     },
     "execution_count": 65,
     "metadata": {},
     "output_type": "execute_result"
    }
   ],
   "source": [
    "tokar.groupby(\"experience\").agg({\"salary\": [np.mean, 'count']}).round(0)"
   ]
  },
  {
   "cell_type": "code",
   "execution_count": 66,
   "id": "efa3161f",
   "metadata": {},
   "outputs": [],
   "source": [
    "freze = df[df.name.str.contains('механи', flags=re.IGNORECASE)]"
   ]
  },
  {
   "cell_type": "code",
   "execution_count": 67,
   "id": "1106ec0d",
   "metadata": {},
   "outputs": [
    {
     "data": {
      "text/html": [
       "<div>\n",
       "<style scoped>\n",
       "    .dataframe tbody tr th:only-of-type {\n",
       "        vertical-align: middle;\n",
       "    }\n",
       "\n",
       "    .dataframe tbody tr th {\n",
       "        vertical-align: top;\n",
       "    }\n",
       "\n",
       "    .dataframe thead tr th {\n",
       "        text-align: left;\n",
       "    }\n",
       "\n",
       "    .dataframe thead tr:last-of-type th {\n",
       "        text-align: right;\n",
       "    }\n",
       "</style>\n",
       "<table border=\"1\" class=\"dataframe\">\n",
       "  <thead>\n",
       "    <tr>\n",
       "      <th></th>\n",
       "      <th colspan=\"2\" halign=\"left\">salary</th>\n",
       "    </tr>\n",
       "    <tr>\n",
       "      <th></th>\n",
       "      <th>mean</th>\n",
       "      <th>count</th>\n",
       "    </tr>\n",
       "    <tr>\n",
       "      <th>experience</th>\n",
       "      <th></th>\n",
       "      <th></th>\n",
       "    </tr>\n",
       "  </thead>\n",
       "  <tbody>\n",
       "    <tr>\n",
       "      <th>Более 6 лет</th>\n",
       "      <td>60343.0</td>\n",
       "      <td>25</td>\n",
       "    </tr>\n",
       "    <tr>\n",
       "      <th>Нет опыта</th>\n",
       "      <td>46230.0</td>\n",
       "      <td>102</td>\n",
       "    </tr>\n",
       "    <tr>\n",
       "      <th>От 1 года до 3 лет</th>\n",
       "      <td>52849.0</td>\n",
       "      <td>767</td>\n",
       "    </tr>\n",
       "    <tr>\n",
       "      <th>От 3 до 6 лет</th>\n",
       "      <td>64466.0</td>\n",
       "      <td>508</td>\n",
       "    </tr>\n",
       "  </tbody>\n",
       "</table>\n",
       "</div>"
      ],
      "text/plain": [
       "                     salary      \n",
       "                       mean count\n",
       "experience                       \n",
       "Более 6 лет         60343.0    25\n",
       "Нет опыта           46230.0   102\n",
       "От 1 года до 3 лет  52849.0   767\n",
       "От 3 до 6 лет       64466.0   508"
      ]
     },
     "execution_count": 67,
     "metadata": {},
     "output_type": "execute_result"
    }
   ],
   "source": [
    "freze.groupby(\"experience\").agg({\"salary\": [np.mean, 'count']}).round(0)"
   ]
  },
  {
   "cell_type": "markdown",
   "id": "e7acc619",
   "metadata": {},
   "source": [
    "## Анализ статистической связи"
   ]
  },
  {
   "cell_type": "markdown",
   "id": "89894a1d",
   "metadata": {},
   "source": [
    "Посмотрим на диагональную матрицу корреляции:"
   ]
  },
  {
   "cell_type": "code",
   "execution_count": 68,
   "id": "8a7169a9",
   "metadata": {},
   "outputs": [
    {
     "data": {
      "text/plain": [
       "<AxesSubplot:>"
      ]
     },
     "execution_count": 68,
     "metadata": {},
     "output_type": "execute_result"
    },
    {
     "data": {
      "image/png": "[encoded data removed]",
      "text/plain": [
       "<Figure size 432x288 with 2 Axes>"
      ]
     },
     "metadata": {},
     "output_type": "display_data"
    }
   ],
   "source": [
    "corr_mat = df.corr()\n",
    "sns.heatmap(corr_mat)"
   ]
  },
  {
   "cell_type": "code",
   "execution_count": 75,
   "id": "93e75575",
   "metadata": {},
   "outputs": [
    {
     "data": {
      "text/plain": [
       "<AxesSubplot:>"
      ]
     },
     "execution_count": 75,
     "metadata": {},
     "output_type": "execute_result"
    },
    {
     "data": {
      "image/png": "[encoded data removed]",
      "text/plain": [
       "<Figure size 432x288 with 1 Axes>"
      ]
     },
     "metadata": {},
     "output_type": "display_data"
    }
   ],
   "source": [
    "df.boxplot(column=['premium','salary'])"
   ]
  },
  {
   "cell_type": "code",
   "execution_count": 79,
   "id": "970bb912",
   "metadata": {},
   "outputs": [
    {
     "data": {
      "text/html": [
       "<div>\n",
       "<style scoped>\n",
       "    .dataframe tbody tr th:only-of-type {\n",
       "        vertical-align: middle;\n",
       "    }\n",
       "\n",
       "    .dataframe tbody tr th {\n",
       "        vertical-align: top;\n",
       "    }\n",
       "\n",
       "    .dataframe thead th {\n",
       "        text-align: right;\n",
       "    }\n",
       "</style>\n",
       "<table border=\"1\" class=\"dataframe\">\n",
       "  <thead>\n",
       "    <tr style=\"text-align: right;\">\n",
       "      <th></th>\n",
       "      <th>premium</th>\n",
       "      <th>name</th>\n",
       "      <th>response_letter_required</th>\n",
       "      <th>latitude</th>\n",
       "      <th>longtitude</th>\n",
       "      <th>experience</th>\n",
       "      <th>has_test</th>\n",
       "      <th>currency</th>\n",
       "      <th>salary</th>\n",
       "      <th>Region</th>\n",
       "      <th>Работа в команде</th>\n",
       "      <th>Пользователь ПК</th>\n",
       "      <th>Грамотная речь</th>\n",
       "      <th>Техническое обслуживание</th>\n",
       "      <th>1С программирование</th>\n",
       "      <th>Linux</th>\n",
       "      <th>1С: Предприятие 8</th>\n",
       "      <th>Работа в условиях многозадачности</th>\n",
       "      <th>SQL</th>\n",
       "      <th>Работа с большим объемом информации</th>\n",
       "      <th>Adobe Photoshop</th>\n",
       "      <th>Настройка ПК</th>\n",
       "      <th>Грамотность</th>\n",
       "      <th>Управление проектами</th>\n",
       "      <th>Git</th>\n",
       "      <th>Умение работать в команде</th>\n",
       "      <th>Настройка сетевых подключений</th>\n",
       "      <th>Организаторские навыки</th>\n",
       "      <th>Английский язык</th>\n",
       "      <th>Деловое общение</th>\n",
       "      <th>Настройка ПО</th>\n",
       "      <th>Деловая переписка</th>\n",
       "      <th>Ремонтные работы</th>\n",
       "      <th>Аналитическое мышление</th>\n",
       "      <th>JavaScript</th>\n",
       "      <th>Ведение переговоров</th>\n",
       "      <th>Windows 7</th>\n",
       "      <th>MS PowerPoint</th>\n",
       "      <th>Информационные технологии</th>\n",
       "      <th>Ремонт ПК</th>\n",
       "      <th>Техническая поддержка</th>\n",
       "      <th>HTML</th>\n",
       "      <th>Точность и внимательность к деталям</th>\n",
       "      <th>PHP</th>\n",
       "      <th>Администрирование сетевого оборудования</th>\n",
       "      <th>MySQL</th>\n",
       "      <th>1С: Документооборот</th>\n",
       "      <th>Adobe Illustrator</th>\n",
       "      <th>CorelDRAW</th>\n",
       "      <th>Чтение чертежей</th>\n",
       "      <th>Python</th>\n",
       "      <th>Креативность</th>\n",
       "      <th>Поиск информации в интернет</th>\n",
       "      <th>TCP/IP</th>\n",
       "      <th>Монтаж оборудования</th>\n",
       "      <th>Станки ЧПУ</th>\n",
       "      <th>1С: Управление Торговлей</th>\n",
       "      <th>1С: Зарплата и управление персоналом</th>\n",
       "      <th>CSS</th>\n",
       "      <th>ООП</th>\n",
       "      <th>Деловая коммуникация</th>\n",
       "      <th>Информационная безопасность</th>\n",
       "      <th>PostgreSQL</th>\n",
       "    </tr>\n",
       "  </thead>\n",
       "  <tbody>\n",
       "    <tr>\n",
       "      <th>0</th>\n",
       "      <td>False</td>\n",
       "      <td>Консультант входящей линии \"Сети гипермаркетов...</td>\n",
       "      <td>0</td>\n",
       "      <td>56.840557</td>\n",
       "      <td>53.202489</td>\n",
       "      <td>Нет опыта</td>\n",
       "      <td>0</td>\n",
       "      <td>RUR</td>\n",
       "      <td>32000.0</td>\n",
       "      <td>Волго-Камский</td>\n",
       "      <td>0</td>\n",
       "      <td>0</td>\n",
       "      <td>1</td>\n",
       "      <td>0</td>\n",
       "      <td>0</td>\n",
       "      <td>0</td>\n",
       "      <td>0</td>\n",
       "      <td>0</td>\n",
       "      <td>0</td>\n",
       "      <td>0</td>\n",
       "      <td>0</td>\n",
       "      <td>0</td>\n",
       "      <td>0</td>\n",
       "      <td>0</td>\n",
       "      <td>0</td>\n",
       "      <td>0</td>\n",
       "      <td>0</td>\n",
       "      <td>0</td>\n",
       "      <td>0</td>\n",
       "      <td>1</td>\n",
       "      <td>0</td>\n",
       "      <td>1</td>\n",
       "      <td>0</td>\n",
       "      <td>0</td>\n",
       "      <td>0</td>\n",
       "      <td>0</td>\n",
       "      <td>0</td>\n",
       "      <td>0</td>\n",
       "      <td>0</td>\n",
       "      <td>0</td>\n",
       "      <td>0</td>\n",
       "      <td>0</td>\n",
       "      <td>0</td>\n",
       "      <td>0</td>\n",
       "      <td>0</td>\n",
       "      <td>0</td>\n",
       "      <td>0</td>\n",
       "      <td>0</td>\n",
       "      <td>0</td>\n",
       "      <td>0</td>\n",
       "      <td>0</td>\n",
       "      <td>0</td>\n",
       "      <td>0</td>\n",
       "      <td>0</td>\n",
       "      <td>0</td>\n",
       "      <td>0</td>\n",
       "      <td>0</td>\n",
       "      <td>0</td>\n",
       "      <td>0</td>\n",
       "      <td>0</td>\n",
       "      <td>0</td>\n",
       "      <td>0</td>\n",
       "      <td>0</td>\n",
       "    </tr>\n",
       "    <tr>\n",
       "      <th>1</th>\n",
       "      <td>False</td>\n",
       "      <td>Аналитик</td>\n",
       "      <td>0</td>\n",
       "      <td>56.325759</td>\n",
       "      <td>44.015742</td>\n",
       "      <td>От 1 года до 3 лет</td>\n",
       "      <td>0</td>\n",
       "      <td>RUR</td>\n",
       "      <td>34800.0</td>\n",
       "      <td>Волго-Камский</td>\n",
       "      <td>1</td>\n",
       "      <td>0</td>\n",
       "      <td>0</td>\n",
       "      <td>0</td>\n",
       "      <td>0</td>\n",
       "      <td>0</td>\n",
       "      <td>0</td>\n",
       "      <td>0</td>\n",
       "      <td>0</td>\n",
       "      <td>1</td>\n",
       "      <td>0</td>\n",
       "      <td>0</td>\n",
       "      <td>0</td>\n",
       "      <td>0</td>\n",
       "      <td>0</td>\n",
       "      <td>0</td>\n",
       "      <td>0</td>\n",
       "      <td>0</td>\n",
       "      <td>0</td>\n",
       "      <td>0</td>\n",
       "      <td>0</td>\n",
       "      <td>0</td>\n",
       "      <td>0</td>\n",
       "      <td>1</td>\n",
       "      <td>0</td>\n",
       "      <td>0</td>\n",
       "      <td>0</td>\n",
       "      <td>1</td>\n",
       "      <td>0</td>\n",
       "      <td>0</td>\n",
       "      <td>0</td>\n",
       "      <td>0</td>\n",
       "      <td>0</td>\n",
       "      <td>0</td>\n",
       "      <td>0</td>\n",
       "      <td>0</td>\n",
       "      <td>0</td>\n",
       "      <td>0</td>\n",
       "      <td>0</td>\n",
       "      <td>0</td>\n",
       "      <td>0</td>\n",
       "      <td>0</td>\n",
       "      <td>0</td>\n",
       "      <td>0</td>\n",
       "      <td>0</td>\n",
       "      <td>0</td>\n",
       "      <td>0</td>\n",
       "      <td>0</td>\n",
       "      <td>0</td>\n",
       "      <td>0</td>\n",
       "      <td>0</td>\n",
       "      <td>0</td>\n",
       "      <td>0</td>\n",
       "    </tr>\n",
       "    <tr>\n",
       "      <th>2</th>\n",
       "      <td>False</td>\n",
       "      <td>Системный администратор</td>\n",
       "      <td>0</td>\n",
       "      <td>47.269060</td>\n",
       "      <td>39.759832</td>\n",
       "      <td>От 1 года до 3 лет</td>\n",
       "      <td>0</td>\n",
       "      <td>RUR</td>\n",
       "      <td>37410.0</td>\n",
       "      <td>Южный</td>\n",
       "      <td>0</td>\n",
       "      <td>0</td>\n",
       "      <td>0</td>\n",
       "      <td>0</td>\n",
       "      <td>0</td>\n",
       "      <td>1</td>\n",
       "      <td>1</td>\n",
       "      <td>0</td>\n",
       "      <td>0</td>\n",
       "      <td>0</td>\n",
       "      <td>0</td>\n",
       "      <td>0</td>\n",
       "      <td>0</td>\n",
       "      <td>0</td>\n",
       "      <td>0</td>\n",
       "      <td>0</td>\n",
       "      <td>0</td>\n",
       "      <td>0</td>\n",
       "      <td>0</td>\n",
       "      <td>0</td>\n",
       "      <td>1</td>\n",
       "      <td>0</td>\n",
       "      <td>0</td>\n",
       "      <td>0</td>\n",
       "      <td>0</td>\n",
       "      <td>0</td>\n",
       "      <td>0</td>\n",
       "      <td>0</td>\n",
       "      <td>0</td>\n",
       "      <td>1</td>\n",
       "      <td>0</td>\n",
       "      <td>0</td>\n",
       "      <td>0</td>\n",
       "      <td>0</td>\n",
       "      <td>1</td>\n",
       "      <td>0</td>\n",
       "      <td>0</td>\n",
       "      <td>0</td>\n",
       "      <td>0</td>\n",
       "      <td>0</td>\n",
       "      <td>0</td>\n",
       "      <td>0</td>\n",
       "      <td>0</td>\n",
       "      <td>0</td>\n",
       "      <td>1</td>\n",
       "      <td>0</td>\n",
       "      <td>0</td>\n",
       "      <td>0</td>\n",
       "      <td>0</td>\n",
       "      <td>0</td>\n",
       "      <td>0</td>\n",
       "      <td>0</td>\n",
       "      <td>0</td>\n",
       "    </tr>\n",
       "    <tr>\n",
       "      <th>3</th>\n",
       "      <td>False</td>\n",
       "      <td>Инженер - программист 1С</td>\n",
       "      <td>0</td>\n",
       "      <td>55.071494</td>\n",
       "      <td>73.296086</td>\n",
       "      <td>От 1 года до 3 лет</td>\n",
       "      <td>0</td>\n",
       "      <td>RUR</td>\n",
       "      <td>60900.0</td>\n",
       "      <td>Южно-Сибирский</td>\n",
       "      <td>0</td>\n",
       "      <td>0</td>\n",
       "      <td>0</td>\n",
       "      <td>0</td>\n",
       "      <td>0</td>\n",
       "      <td>0</td>\n",
       "      <td>0</td>\n",
       "      <td>0</td>\n",
       "      <td>0</td>\n",
       "      <td>0</td>\n",
       "      <td>0</td>\n",
       "      <td>0</td>\n",
       "      <td>0</td>\n",
       "      <td>0</td>\n",
       "      <td>0</td>\n",
       "      <td>0</td>\n",
       "      <td>0</td>\n",
       "      <td>0</td>\n",
       "      <td>0</td>\n",
       "      <td>0</td>\n",
       "      <td>0</td>\n",
       "      <td>0</td>\n",
       "      <td>0</td>\n",
       "      <td>0</td>\n",
       "      <td>0</td>\n",
       "      <td>0</td>\n",
       "      <td>0</td>\n",
       "      <td>0</td>\n",
       "      <td>0</td>\n",
       "      <td>0</td>\n",
       "      <td>0</td>\n",
       "      <td>0</td>\n",
       "      <td>0</td>\n",
       "      <td>0</td>\n",
       "      <td>0</td>\n",
       "      <td>0</td>\n",
       "      <td>0</td>\n",
       "      <td>0</td>\n",
       "      <td>0</td>\n",
       "      <td>0</td>\n",
       "      <td>0</td>\n",
       "      <td>0</td>\n",
       "      <td>0</td>\n",
       "      <td>0</td>\n",
       "      <td>0</td>\n",
       "      <td>0</td>\n",
       "      <td>0</td>\n",
       "      <td>0</td>\n",
       "      <td>0</td>\n",
       "      <td>0</td>\n",
       "      <td>0</td>\n",
       "      <td>0</td>\n",
       "      <td>0</td>\n",
       "    </tr>\n",
       "    <tr>\n",
       "      <th>4</th>\n",
       "      <td>False</td>\n",
       "      <td>Сервисный инженер по обслуживанию систем пожар...</td>\n",
       "      <td>0</td>\n",
       "      <td>57.562586</td>\n",
       "      <td>39.822900</td>\n",
       "      <td>От 1 года до 3 лет</td>\n",
       "      <td>0</td>\n",
       "      <td>RUR</td>\n",
       "      <td>80000.0</td>\n",
       "      <td>Центральный</td>\n",
       "      <td>0</td>\n",
       "      <td>0</td>\n",
       "      <td>0</td>\n",
       "      <td>1</td>\n",
       "      <td>0</td>\n",
       "      <td>0</td>\n",
       "      <td>0</td>\n",
       "      <td>0</td>\n",
       "      <td>0</td>\n",
       "      <td>0</td>\n",
       "      <td>0</td>\n",
       "      <td>0</td>\n",
       "      <td>0</td>\n",
       "      <td>0</td>\n",
       "      <td>0</td>\n",
       "      <td>0</td>\n",
       "      <td>0</td>\n",
       "      <td>0</td>\n",
       "      <td>0</td>\n",
       "      <td>0</td>\n",
       "      <td>0</td>\n",
       "      <td>0</td>\n",
       "      <td>0</td>\n",
       "      <td>0</td>\n",
       "      <td>0</td>\n",
       "      <td>0</td>\n",
       "      <td>0</td>\n",
       "      <td>0</td>\n",
       "      <td>0</td>\n",
       "      <td>0</td>\n",
       "      <td>0</td>\n",
       "      <td>0</td>\n",
       "      <td>0</td>\n",
       "      <td>0</td>\n",
       "      <td>0</td>\n",
       "      <td>0</td>\n",
       "      <td>0</td>\n",
       "      <td>0</td>\n",
       "      <td>0</td>\n",
       "      <td>0</td>\n",
       "      <td>0</td>\n",
       "      <td>0</td>\n",
       "      <td>0</td>\n",
       "      <td>0</td>\n",
       "      <td>1</td>\n",
       "      <td>0</td>\n",
       "      <td>0</td>\n",
       "      <td>0</td>\n",
       "      <td>0</td>\n",
       "      <td>0</td>\n",
       "      <td>0</td>\n",
       "      <td>0</td>\n",
       "      <td>0</td>\n",
       "    </tr>\n",
       "    <tr>\n",
       "      <th>...</th>\n",
       "      <td>...</td>\n",
       "      <td>...</td>\n",
       "      <td>...</td>\n",
       "      <td>...</td>\n",
       "      <td>...</td>\n",
       "      <td>...</td>\n",
       "      <td>...</td>\n",
       "      <td>...</td>\n",
       "      <td>...</td>\n",
       "      <td>...</td>\n",
       "      <td>...</td>\n",
       "      <td>...</td>\n",
       "      <td>...</td>\n",
       "      <td>...</td>\n",
       "      <td>...</td>\n",
       "      <td>...</td>\n",
       "      <td>...</td>\n",
       "      <td>...</td>\n",
       "      <td>...</td>\n",
       "      <td>...</td>\n",
       "      <td>...</td>\n",
       "      <td>...</td>\n",
       "      <td>...</td>\n",
       "      <td>...</td>\n",
       "      <td>...</td>\n",
       "      <td>...</td>\n",
       "      <td>...</td>\n",
       "      <td>...</td>\n",
       "      <td>...</td>\n",
       "      <td>...</td>\n",
       "      <td>...</td>\n",
       "      <td>...</td>\n",
       "      <td>...</td>\n",
       "      <td>...</td>\n",
       "      <td>...</td>\n",
       "      <td>...</td>\n",
       "      <td>...</td>\n",
       "      <td>...</td>\n",
       "      <td>...</td>\n",
       "      <td>...</td>\n",
       "      <td>...</td>\n",
       "      <td>...</td>\n",
       "      <td>...</td>\n",
       "      <td>...</td>\n",
       "      <td>...</td>\n",
       "      <td>...</td>\n",
       "      <td>...</td>\n",
       "      <td>...</td>\n",
       "      <td>...</td>\n",
       "      <td>...</td>\n",
       "      <td>...</td>\n",
       "      <td>...</td>\n",
       "      <td>...</td>\n",
       "      <td>...</td>\n",
       "      <td>...</td>\n",
       "      <td>...</td>\n",
       "      <td>...</td>\n",
       "      <td>...</td>\n",
       "      <td>...</td>\n",
       "      <td>...</td>\n",
       "      <td>...</td>\n",
       "      <td>...</td>\n",
       "      <td>...</td>\n",
       "    </tr>\n",
       "    <tr>\n",
       "      <th>20139</th>\n",
       "      <td>False</td>\n",
       "      <td>Менеджер по продукту/Продукт менеджер</td>\n",
       "      <td>0</td>\n",
       "      <td>60.000488</td>\n",
       "      <td>30.335263</td>\n",
       "      <td>От 1 года до 3 лет</td>\n",
       "      <td>0</td>\n",
       "      <td>RUR</td>\n",
       "      <td>184875.0</td>\n",
       "      <td>Северно-Западный</td>\n",
       "      <td>1</td>\n",
       "      <td>1</td>\n",
       "      <td>0</td>\n",
       "      <td>0</td>\n",
       "      <td>0</td>\n",
       "      <td>0</td>\n",
       "      <td>0</td>\n",
       "      <td>0</td>\n",
       "      <td>0</td>\n",
       "      <td>1</td>\n",
       "      <td>0</td>\n",
       "      <td>0</td>\n",
       "      <td>0</td>\n",
       "      <td>0</td>\n",
       "      <td>0</td>\n",
       "      <td>0</td>\n",
       "      <td>0</td>\n",
       "      <td>0</td>\n",
       "      <td>1</td>\n",
       "      <td>0</td>\n",
       "      <td>0</td>\n",
       "      <td>0</td>\n",
       "      <td>0</td>\n",
       "      <td>0</td>\n",
       "      <td>0</td>\n",
       "      <td>0</td>\n",
       "      <td>0</td>\n",
       "      <td>1</td>\n",
       "      <td>0</td>\n",
       "      <td>0</td>\n",
       "      <td>0</td>\n",
       "      <td>0</td>\n",
       "      <td>0</td>\n",
       "      <td>0</td>\n",
       "      <td>0</td>\n",
       "      <td>0</td>\n",
       "      <td>0</td>\n",
       "      <td>0</td>\n",
       "      <td>0</td>\n",
       "      <td>0</td>\n",
       "      <td>0</td>\n",
       "      <td>0</td>\n",
       "      <td>0</td>\n",
       "      <td>0</td>\n",
       "      <td>0</td>\n",
       "      <td>0</td>\n",
       "      <td>0</td>\n",
       "      <td>0</td>\n",
       "      <td>0</td>\n",
       "      <td>0</td>\n",
       "      <td>0</td>\n",
       "      <td>0</td>\n",
       "      <td>0</td>\n",
       "    </tr>\n",
       "    <tr>\n",
       "      <th>20140</th>\n",
       "      <td>False</td>\n",
       "      <td>Менеджер - аналитик по маркетплейсам</td>\n",
       "      <td>0</td>\n",
       "      <td>57.792257</td>\n",
       "      <td>40.921953</td>\n",
       "      <td>От 1 года до 3 лет</td>\n",
       "      <td>0</td>\n",
       "      <td>RUR</td>\n",
       "      <td>40000.0</td>\n",
       "      <td>Центральный</td>\n",
       "      <td>0</td>\n",
       "      <td>0</td>\n",
       "      <td>0</td>\n",
       "      <td>0</td>\n",
       "      <td>0</td>\n",
       "      <td>0</td>\n",
       "      <td>0</td>\n",
       "      <td>0</td>\n",
       "      <td>0</td>\n",
       "      <td>0</td>\n",
       "      <td>0</td>\n",
       "      <td>0</td>\n",
       "      <td>0</td>\n",
       "      <td>0</td>\n",
       "      <td>0</td>\n",
       "      <td>0</td>\n",
       "      <td>0</td>\n",
       "      <td>0</td>\n",
       "      <td>0</td>\n",
       "      <td>0</td>\n",
       "      <td>0</td>\n",
       "      <td>0</td>\n",
       "      <td>0</td>\n",
       "      <td>0</td>\n",
       "      <td>0</td>\n",
       "      <td>0</td>\n",
       "      <td>0</td>\n",
       "      <td>0</td>\n",
       "      <td>0</td>\n",
       "      <td>0</td>\n",
       "      <td>0</td>\n",
       "      <td>0</td>\n",
       "      <td>0</td>\n",
       "      <td>0</td>\n",
       "      <td>0</td>\n",
       "      <td>0</td>\n",
       "      <td>0</td>\n",
       "      <td>0</td>\n",
       "      <td>0</td>\n",
       "      <td>0</td>\n",
       "      <td>0</td>\n",
       "      <td>0</td>\n",
       "      <td>0</td>\n",
       "      <td>0</td>\n",
       "      <td>0</td>\n",
       "      <td>0</td>\n",
       "      <td>0</td>\n",
       "      <td>0</td>\n",
       "      <td>0</td>\n",
       "      <td>0</td>\n",
       "      <td>0</td>\n",
       "      <td>0</td>\n",
       "      <td>0</td>\n",
       "    </tr>\n",
       "    <tr>\n",
       "      <th>20141</th>\n",
       "      <td>False</td>\n",
       "      <td>Главный специалист (системный администратор)</td>\n",
       "      <td>0</td>\n",
       "      <td>61.252481</td>\n",
       "      <td>73.419766</td>\n",
       "      <td>От 3 до 6 лет</td>\n",
       "      <td>0</td>\n",
       "      <td>RUR</td>\n",
       "      <td>51330.0</td>\n",
       "      <td>Уральско-Сибирский</td>\n",
       "      <td>0</td>\n",
       "      <td>0</td>\n",
       "      <td>0</td>\n",
       "      <td>0</td>\n",
       "      <td>0</td>\n",
       "      <td>0</td>\n",
       "      <td>0</td>\n",
       "      <td>0</td>\n",
       "      <td>0</td>\n",
       "      <td>0</td>\n",
       "      <td>0</td>\n",
       "      <td>0</td>\n",
       "      <td>0</td>\n",
       "      <td>0</td>\n",
       "      <td>0</td>\n",
       "      <td>0</td>\n",
       "      <td>0</td>\n",
       "      <td>0</td>\n",
       "      <td>0</td>\n",
       "      <td>0</td>\n",
       "      <td>0</td>\n",
       "      <td>0</td>\n",
       "      <td>0</td>\n",
       "      <td>0</td>\n",
       "      <td>0</td>\n",
       "      <td>0</td>\n",
       "      <td>0</td>\n",
       "      <td>0</td>\n",
       "      <td>1</td>\n",
       "      <td>0</td>\n",
       "      <td>0</td>\n",
       "      <td>0</td>\n",
       "      <td>0</td>\n",
       "      <td>0</td>\n",
       "      <td>0</td>\n",
       "      <td>0</td>\n",
       "      <td>0</td>\n",
       "      <td>0</td>\n",
       "      <td>0</td>\n",
       "      <td>0</td>\n",
       "      <td>0</td>\n",
       "      <td>0</td>\n",
       "      <td>0</td>\n",
       "      <td>0</td>\n",
       "      <td>0</td>\n",
       "      <td>0</td>\n",
       "      <td>0</td>\n",
       "      <td>0</td>\n",
       "      <td>0</td>\n",
       "      <td>0</td>\n",
       "      <td>0</td>\n",
       "      <td>1</td>\n",
       "      <td>0</td>\n",
       "    </tr>\n",
       "    <tr>\n",
       "      <th>20142</th>\n",
       "      <td>False</td>\n",
       "      <td>Токарь</td>\n",
       "      <td>0</td>\n",
       "      <td>54.536298</td>\n",
       "      <td>39.778209</td>\n",
       "      <td>От 1 года до 3 лет</td>\n",
       "      <td>0</td>\n",
       "      <td>RUR</td>\n",
       "      <td>39150.0</td>\n",
       "      <td>Центральный</td>\n",
       "      <td>0</td>\n",
       "      <td>0</td>\n",
       "      <td>0</td>\n",
       "      <td>0</td>\n",
       "      <td>0</td>\n",
       "      <td>0</td>\n",
       "      <td>0</td>\n",
       "      <td>0</td>\n",
       "      <td>0</td>\n",
       "      <td>0</td>\n",
       "      <td>0</td>\n",
       "      <td>0</td>\n",
       "      <td>0</td>\n",
       "      <td>0</td>\n",
       "      <td>0</td>\n",
       "      <td>0</td>\n",
       "      <td>0</td>\n",
       "      <td>0</td>\n",
       "      <td>0</td>\n",
       "      <td>0</td>\n",
       "      <td>0</td>\n",
       "      <td>0</td>\n",
       "      <td>0</td>\n",
       "      <td>0</td>\n",
       "      <td>0</td>\n",
       "      <td>0</td>\n",
       "      <td>0</td>\n",
       "      <td>0</td>\n",
       "      <td>0</td>\n",
       "      <td>0</td>\n",
       "      <td>0</td>\n",
       "      <td>0</td>\n",
       "      <td>0</td>\n",
       "      <td>0</td>\n",
       "      <td>0</td>\n",
       "      <td>0</td>\n",
       "      <td>0</td>\n",
       "      <td>0</td>\n",
       "      <td>0</td>\n",
       "      <td>0</td>\n",
       "      <td>0</td>\n",
       "      <td>0</td>\n",
       "      <td>0</td>\n",
       "      <td>0</td>\n",
       "      <td>0</td>\n",
       "      <td>0</td>\n",
       "      <td>0</td>\n",
       "      <td>0</td>\n",
       "      <td>0</td>\n",
       "      <td>0</td>\n",
       "      <td>0</td>\n",
       "      <td>0</td>\n",
       "      <td>0</td>\n",
       "    </tr>\n",
       "    <tr>\n",
       "      <th>20143</th>\n",
       "      <td>False</td>\n",
       "      <td>Junior-QA-Engineer/Специалист ручного тестиров...</td>\n",
       "      <td>0</td>\n",
       "      <td>55.181251</td>\n",
       "      <td>61.353029</td>\n",
       "      <td>Нет опыта</td>\n",
       "      <td>0</td>\n",
       "      <td>RUR</td>\n",
       "      <td>26100.0</td>\n",
       "      <td>Уральско-Сибирский</td>\n",
       "      <td>0</td>\n",
       "      <td>0</td>\n",
       "      <td>1</td>\n",
       "      <td>0</td>\n",
       "      <td>0</td>\n",
       "      <td>0</td>\n",
       "      <td>0</td>\n",
       "      <td>0</td>\n",
       "      <td>0</td>\n",
       "      <td>0</td>\n",
       "      <td>1</td>\n",
       "      <td>0</td>\n",
       "      <td>1</td>\n",
       "      <td>0</td>\n",
       "      <td>0</td>\n",
       "      <td>0</td>\n",
       "      <td>0</td>\n",
       "      <td>0</td>\n",
       "      <td>0</td>\n",
       "      <td>0</td>\n",
       "      <td>0</td>\n",
       "      <td>0</td>\n",
       "      <td>0</td>\n",
       "      <td>0</td>\n",
       "      <td>0</td>\n",
       "      <td>0</td>\n",
       "      <td>0</td>\n",
       "      <td>0</td>\n",
       "      <td>0</td>\n",
       "      <td>0</td>\n",
       "      <td>0</td>\n",
       "      <td>0</td>\n",
       "      <td>0</td>\n",
       "      <td>0</td>\n",
       "      <td>0</td>\n",
       "      <td>0</td>\n",
       "      <td>0</td>\n",
       "      <td>1</td>\n",
       "      <td>1</td>\n",
       "      <td>0</td>\n",
       "      <td>0</td>\n",
       "      <td>0</td>\n",
       "      <td>0</td>\n",
       "      <td>0</td>\n",
       "      <td>0</td>\n",
       "      <td>0</td>\n",
       "      <td>0</td>\n",
       "      <td>0</td>\n",
       "      <td>0</td>\n",
       "      <td>0</td>\n",
       "      <td>0</td>\n",
       "      <td>0</td>\n",
       "      <td>0</td>\n",
       "    </tr>\n",
       "  </tbody>\n",
       "</table>\n",
       "<p>20144 rows × 63 columns</p>\n",
       "</div>"
      ],
      "text/plain": [
       "       premium  ... PostgreSQL\n",
       "0        False  ...          0\n",
       "1        False  ...          0\n",
       "2        False  ...          0\n",
       "3        False  ...          0\n",
       "4        False  ...          0\n",
       "...        ...  ...        ...\n",
       "20139    False  ...          0\n",
       "20140    False  ...          0\n",
       "20141    False  ...          0\n",
       "20142    False  ...          0\n",
       "20143    False  ...          0\n",
       "\n",
       "[20144 rows x 63 columns]"
      ]
     },
     "execution_count": 79,
     "metadata": {},
     "output_type": "execute_result"
    }
   ],
   "source": [
    "df"
   ]
  },
  {
   "cell_type": "code",
   "execution_count": 93,
   "id": "7f0e0d39",
   "metadata": {},
   "outputs": [
    {
     "ename": "KeyError",
     "evalue": "\"['c'] not in index\"",
     "output_type": "error",
     "traceback": [
      "Traceback \u001b[0;36m(most recent call last)\u001b[0m:\n",
      "  File \u001b[1;32m\"/tmp/ipykernel_11762/2189683543.py\"\u001b[0m, line \u001b[1;32m2\u001b[0m, in \u001b[1;35m<module>\u001b[0m\n    df.boxplot(column=['c','salary'])\n",
      "  File \u001b[1;32m\"/home/ivan/anaconda3/lib/python3.9/site-packages/pandas/plotting/_core.py\"\u001b[0m, line \u001b[1;32m511\u001b[0m, in \u001b[1;35mboxplot_frame\u001b[0m\n    return plot_backend.boxplot_frame(\n",
      "  File \u001b[1;32m\"/home/ivan/anaconda3/lib/python3.9/site-packages/pandas/plotting/_matplotlib/boxplot.py\"\u001b[0m, line \u001b[1;32m425\u001b[0m, in \u001b[1;35mboxplot_frame\u001b[0m\n    ax = boxplot(\n",
      "  File \u001b[1;32m\"/home/ivan/anaconda3/lib/python3.9/site-packages/pandas/plotting/_matplotlib/boxplot.py\"\u001b[0m, line \u001b[1;32m402\u001b[0m, in \u001b[1;35mboxplot\u001b[0m\n    data = data[columns]\n",
      "  File \u001b[1;32m\"/home/ivan/anaconda3/lib/python3.9/site-packages/pandas/core/frame.py\"\u001b[0m, line \u001b[1;32m3511\u001b[0m, in \u001b[1;35m__getitem__\u001b[0m\n    indexer = self.columns._get_indexer_strict(key, \"columns\")[1]\n",
      "  File \u001b[1;32m\"/home/ivan/anaconda3/lib/python3.9/site-packages/pandas/core/indexes/base.py\"\u001b[0m, line \u001b[1;32m5796\u001b[0m, in \u001b[1;35m_get_indexer_strict\u001b[0m\n    self._raise_if_missing(keyarr, indexer, axis_name)\n",
      "\u001b[0;36m  File \u001b[0;32m\"/home/ivan/anaconda3/lib/python3.9/site-packages/pandas/core/indexes/base.py\"\u001b[0;36m, line \u001b[0;32m5859\u001b[0;36m, in \u001b[0;35m_raise_if_missing\u001b[0;36m\u001b[0m\n\u001b[0;31m    raise KeyError(f\"{not_found} not in index\")\u001b[0m\n",
      "\u001b[0;31mKeyError\u001b[0m\u001b[0;31m:\u001b[0m \"['c'] not in index\"\n"
     ]
    },
    {
     "data": {
      "image/png": "[encoded data removed]",
      "text/plain": [
       "<Figure size 432x288 with 1 Axes>"
      ]
     },
     "metadata": {},
     "output_type": "display_data"
    }
   ],
   "source": [
    "df_q = df[['response_letter_required','latitude','longtitude']\n",
    "for column in \n",
    "    df.boxplot(column=['c','salary'])"
   ]
  },
  {
   "cell_type": "code",
   "execution_count": null,
   "id": "3835991f",
   "metadata": {},
   "outputs": [],
   "source": []
  }
 ],
 "metadata": {
  "kernelspec": {
   "display_name": "Python 3 (Spyder)",
   "language": "python3",
   "name": "python3"
  },
  "language_info": {
   "codemirror_mode": {
    "name": "ipython",
    "version": 3
   },
   "file_extension": ".py",
   "mimetype": "text/x-python",
   "name": "python",
   "nbconvert_exporter": "python",
   "pygments_lexer": "ipython3",
   "version": "3.9.13"
  }
 },
 "nbformat": 4,
 "nbformat_minor": 5
}
